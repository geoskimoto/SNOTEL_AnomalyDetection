{
  "nbformat": 4,
  "nbformat_minor": 0,
  "metadata": {
    "colab": {
      "name": "errorFinder.ipynb",
      "provenance": [],
      "collapsed_sections": [
        "FEe5KAEsyjjE",
        "8LtLSpGTw1vg"
      ],
      "authorship_tag": "ABX9TyNWg7W3lQS2HUOiOHVTj2nK",
      "include_colab_link": true
    },
    "kernelspec": {
      "name": "python3",
      "display_name": "Python 3"
    },
    "language_info": {
      "name": "python"
    }
  },
  "cells": [
    {
      "cell_type": "markdown",
      "metadata": {
        "id": "view-in-github",
        "colab_type": "text"
      },
      "source": [
        "<a href=\"https://colab.research.google.com/github/geoskimoto/SNOTEL_ErrorAndOutlier_Tools/blob/main/errorFinder.ipynb\" target=\"_parent\"><img src=\"https://colab.research.google.com/assets/colab-badge.svg\" alt=\"Open In Colab\"/></a>"
      ]
    },
    {
      "cell_type": "markdown",
      "metadata": {
        "id": "FEe5KAEsyjjE"
      },
      "source": [
        "#Library Imports"
      ]
    },
    {
      "cell_type": "code",
      "metadata": {
        "id": "G6ElAXPeyo_W"
      },
      "source": [
        "from sklearn.linear_model import LassoCV, RidgeCV, HuberRegressor\n",
        "from sklearn.ensemble import GradientBoostingRegressor, AdaBoostRegressor, RandomForestRegressor\n",
        "from sklearn.model_selection import train_test_split\n",
        "from sklearn import svm\n",
        "from sklearn.metrics import mean_squared_error\n",
        "import numpy as np\n",
        "import pandas as pd\n",
        "import matplotlib.pyplot as plt\n",
        "import seaborn as sns\n",
        "import plotly.express as px\n",
        "import plotly.graph_objects as go\n",
        "from plotly.subplots import make_subplots\n",
        "import scipy.stats as stats\n",
        "from scipy.stats import zscore \n",
        "# import statsmodels.api as sm\n",
        "from functools import reduce\n",
        "\n",
        "import requests\n",
        "import xml.dom.minidom as minidom\n",
        "import xml.etree.ElementTree as ET\n",
        "import numpy as np\n",
        "import pandas as pd\n",
        "import datetime\n"
      ],
      "execution_count": null,
      "outputs": []
    },
    {
      "cell_type": "markdown",
      "metadata": {
        "id": "aLECmShtsekH"
      },
      "source": [
        "General format of \"Error Finder Object\":\n",
        "\n",
        "\n",
        "*   outlierDetection\n",
        "  *   tempOutliers\n",
        "\n",
        "*   logicTests\n",
        "  *   SWEoutpacePREC\n",
        "  *   Filters\n",
        "  \n",
        "\n",
        "\n",
        "\n"
      ]
    },
    {
      "cell_type": "markdown",
      "metadata": {
        "id": "8LtLSpGTw1vg"
      },
      "source": [
        "# Helper Functions"
      ]
    },
    {
      "cell_type": "code",
      "metadata": {
        "id": "ciJlz7I8l6EX"
      },
      "source": [
        "# Web Call to Access and Download Data of a Single Station from AWDB Web Service (SOAP API)\n",
        "\n",
        "def SOAP_Call(stationtriplets, elementCD, begindate, enddate):\n",
        "\n",
        "  # Create a dictionaries to store the data\n",
        "  headers = {'Content-type': 'text/soap'}\n",
        "  # current_dictionary = {}\n",
        "  \n",
        "  # Define Web Service URL\n",
        "  URL = \"https://wcc.sc.egov.usda.gov/awdbWebService/services?WSDL\"\n",
        "\n",
        "  # Define Parameters for SOAP Elements (getData:current and getCentralTendencyData:normals)\n",
        "  SOAP_current = '''\n",
        "  <?xml version=\"1.0\" encoding=\"UTF-8\"?>\n",
        "  <SOAP-ENV:Envelope xmlns:SOAP-ENV=\"http://schemas.xmlsoap.org/soap/envelope/\" xmlns:q0=\"http://www.wcc.nrcs.usda.gov/ns/awdbWebService\" xmlns:xsd=\"http://www.w3.org/2001/XMLSchema\" xmlns:xsi=\"http://www.w3.org/2001/XMLSchema-instance\">\n",
        "    <SOAP-ENV:Body>\n",
        "      <q0:getData>\n",
        "        <stationTriplets>STATIONTRIPLETS</stationTriplets>\n",
        "        <elementCd>ELEMENTCD</elementCd>   \n",
        "        <ordinal>1</ordinal>\n",
        "        <duration>DAILY</duration>\n",
        "        <getFlags>false</getFlags>\n",
        "        <beginDate>BEGINDATE</beginDate>\n",
        "        <endDate>ENDDATE</endDate>\n",
        "        <alwaysReturnDailyFeb29>false</alwaysReturnDailyFeb29>   \n",
        "      </q0:getData>\n",
        "    </SOAP-ENV:Body>\n",
        "  </SOAP-ENV:Envelope>\n",
        "\n",
        "  '''.strip()\n",
        "  #Read GetData documents - If <alwaysReturnDailyFeb29> is set to true, will set a null for every non leap year on the 29th,  \n",
        "  #which breaks this request when selecting date ranges that include Feb 29.\n",
        "  #Possible element codes: PREC, WTEQ (Water Equivalent/SWE)\n",
        "  \n",
        "\n",
        "  # Post SOAP Elements to AWDB Web Service and process results - getData\n",
        "  SOAP_current = SOAP_current.replace(\"ELEMENTCD\", elementCD)\n",
        "  SOAP_current = SOAP_current.replace(\"STATIONTRIPLETS\", stationtriplets)\n",
        "  SOAP_current = SOAP_current.replace(\"BEGINDATE\", begindate)\n",
        "  SOAP_current = SOAP_current.replace(\"ENDDATE\", enddate)\n",
        "\n",
        "  response_current = requests.post(URL, data=SOAP_current, headers=headers)\n",
        "  xmldoc = minidom.parseString(response_current.text)\n",
        "\n",
        "  val_length = len(xmldoc.getElementsByTagName('values'))\n",
        "  data = pd.DataFrame([xmldoc.getElementsByTagName('values')[i].firstChild.data for i in range(0,val_length)])\n",
        "\n",
        "  date = datetime.datetime.strptime(begindate, \"%m/%d/%Y\").date()  #https://docs.python.org/3/library/datetime.html#strftime-strptime-behavior; .date() after .strptime just tells it to make it a datetime object.  Def necessary.\n",
        "  # print(date)\n",
        "  Date = []                                                       \n",
        "  for i in range(0, val_length): \n",
        "    date += datetime.timedelta(days=1)\n",
        "    Date.append((date))\n",
        "\n",
        "  # {str(xmldoc.getElementsByTagName('stationTriplet')[0].firstChild.data):{Date[j]:xmldoc.getElementsByTagName('values')[j].firstChild.data} for j in range(3)}\n",
        "\n",
        "  data['Date'] = Date\n",
        "  data.columns = [f'{elementCD}','Date']\n",
        "  data.set_index('Date', inplace=True)\n",
        "  \n",
        "  data[f'{elementCD}'] = list(map(lambda x: float(x), data[f'{elementCD}']))\n",
        "  \n",
        "  return data"
      ],
      "execution_count": null,
      "outputs": []
    },
    {
      "cell_type": "code",
      "metadata": {
        "id": "_UA7mXJ0YTM1"
      },
      "source": [
        "# Function to Download Multiple Stations at a time from AWDB Web Service\n",
        "\n",
        "# stations = ['401:OR:SNTL', '471:ID:SNTL', '591:WA:SNTL']\n",
        "def getData(stations, parameter_of_interest, begindate, enddate):\n",
        "  # data = []\n",
        "  # data_singleDF\n",
        "  # for i in stations:\n",
        "  #   data.append(SOAP_Call(stationtriplets=i,elementCD=parameter_of_interest,begindate=begindate,enddate=enddate))\n",
        "\n",
        "  # data_singleDF =\n",
        " \n",
        "  data_singleDF = reduce(lambda left,right: pd.merge(left,right,left_index=True, right_index=True, how='outer'), [SOAP_Call(stationtriplets=j,elementCD=parameter_of_interest,begindate=begindate,enddate=enddate) for j in stations])\n",
        "  # data_singleDF.rename(columns='bla')\n",
        "  data_singleDF.columns = [f'{j}' for j in stations]\n",
        "\n",
        "  # index = np.array([data_singleDF.columns.values, data_singleDF.iloc[1].values])\n",
        "  # data_singleDF = pd.MultiIndex.from_arrays(index)\n",
        "  # data_singleDF = data_singleDF.iloc[1:]\n",
        "\n",
        "  # data_singleDF.xs('price', axis=1, level=1, drop_level=False)\n",
        "\n",
        "\n",
        "  return data_singleDF"
      ],
      "execution_count": null,
      "outputs": []
    },
    {
      "cell_type": "code",
      "metadata": {
        "id": "nSRUGVJlhWbr"
      },
      "source": [
        "def zScore_plot(df, max_StDev=2):\n",
        "  global zs, df_outliers\n",
        "  df2 = pd.DataFrame(df)\n",
        "  zs = zscore(df2, ddof=2, nan_policy='omit')\n",
        "  # zs = pd.DataFrame(zs)\n",
        "  df2.insert(loc=0, column='zscore', value=zs)\n",
        "  df_outliers = df2[(df2['zscore'] < -max_StDev) | (df2['zscore'] > max_StDev)]\n",
        "\n",
        "  fig = go.Figure()\n",
        "  fig.add_trace(go.Scatter(\n",
        "    x=df.index,\n",
        "    y=df,\n",
        "    mode='lines',\n",
        "    # name=station_of_interest,\n",
        "    # hovertext = ORWA_Sites2[station_of_interest][parameter_of_interest],   \n",
        "  ))\n",
        "  fig.add_trace(go.Scatter(\n",
        "    x=df_outliers.index,\n",
        "    y=df_outliers.iloc[:,1],\n",
        "    mode='markers',\n",
        "    # name=station_of_interest,\n",
        "    hovertext = df_outliers['zscore'],   \n",
        "  ))\n",
        "  fig.update_xaxes(\n",
        "      title_text= 'Date'\n",
        "  )\n",
        "  # fig.update_yaxes(title_text= parameter_of_interest)\n",
        "  fig.update_layout(\n",
        "    height=800,\n",
        "    width=1100,\n",
        "  )\n",
        "\n",
        "  fig.show()"
      ],
      "execution_count": null,
      "outputs": []
    },
    {
      "cell_type": "code",
      "metadata": {
        "id": "oqWNf826hWXO"
      },
      "source": [
        ""
      ],
      "execution_count": null,
      "outputs": []
    },
    {
      "cell_type": "markdown",
      "metadata": {
        "id": "VlHzqOFitmze"
      },
      "source": [
        "# Creating logicalTests and outlierDetection Classes"
      ]
    },
    {
      "cell_type": "code",
      "metadata": {
        "id": "6lwTY_oLtlYo"
      },
      "source": [
        "# class errorChecking():\n",
        "#   def __init__(self, stationtriplets, begindate, enddate):\n",
        "#     global df2   \n",
        "#     self.stations = stationtriplets\n",
        "#     self.begindate = begindate\n",
        "#     self.enddate = enddate\n",
        "#   \"\"\"\n",
        "#   \"\"\"\n",
        "class logicalTests():\n",
        "  def __init__(self, stationtriplets, begindate, enddate):\n",
        "    self.stations = stationtriplets\n",
        "    self.begindate = begindate\n",
        "    self.enddate = enddate\n",
        "    \n",
        "    global df, df2\n",
        "    WTEQ = getData(self.stations, 'WTEQ', self.begindate, self.enddate)\n",
        "    PREC = getData(self.stations, 'PREC', self.begindate, self.enddate)\n",
        "    SNWD = getData(self.stations, 'SNWD', self.begindate, self.enddate)\n",
        "\n",
        "    df = reduce(lambda left,right: pd.merge(left,right,left_index=True, right_index=True, how='outer'), [WTEQ, PREC, SNWD])\n",
        "    # df = pd.merge(WTEQ, PREC, left_index=True, right_index=True).reset_index()\n",
        "    df.reset_index(inplace=True)\n",
        "    df.columns = ['Date', 'WTEQ (in)', 'PREC (in)', 'SNWD (in)']\n",
        "\n",
        "    #Mask to select only data between Nov - Apr\n",
        "    winter_filter = ~pd.to_datetime(df['Date']).dt.month.between(5,10)\n",
        "    df2 = df.where(winter_filter).dropna()\n",
        "\n",
        "    #Add column specifying the water year (Oct 1 - Sep 30) of each record\n",
        "    df2.reset_index(inplace=True)  #Have to reset the index so the dates become just a regular datetime object to get .dt.year to work.\n",
        "    pd.to_datetime(df2['Date'])\n",
        "    df2['water_year'] = pd.to_datetime(df2['Date']).dt.year.where(pd.to_datetime(df2['Date']).dt.month < 10, pd.to_datetime(df2['Date']).dt.year + 1)\n",
        "    df2['water_year'] = list(map(lambda x: str(x), df2['water_year']))\n",
        "\n",
        "    self.df2 = df2\n",
        "    self.WTEQ = WTEQ\n",
        "    self.PREC = PREC\n",
        "\n",
        "  def plots(self):\n",
        "    fig = go.Figure()\n",
        "    fig.add_trace(go.Scatter(\n",
        "      x=df2['Date'],\n",
        "      y=df2['WTEQ (in)'],\n",
        "      mode='lines',\n",
        "      name='WTEQ (in)',\n",
        "      hovertext = df2['WTEQ (in)']   \n",
        "    ))\n",
        "    fig.add_trace(go.Scatter(\n",
        "      x=df2['Date'],\n",
        "      y=df2['PREC (in)'],\n",
        "      mode='lines',\n",
        "      name='PREC (in)',\n",
        "      hovertext = df2['PREC (in)'],   \n",
        "    ))\n",
        "    fig.add_trace(go.Scatter(\n",
        "      x=df2['Date'],\n",
        "      y=df2['SNWD (in)'],\n",
        "      mode='lines',\n",
        "      name='SNWD (in)',\n",
        "      hovertext = df2['SNWD (in)'],   \n",
        "    ))\n",
        "    fig.update_xaxes(title_text= 'Date')\n",
        "    # fig.update_yaxes(title_text= parameter_of_interest)\n",
        "    fig.update_layout(\n",
        "      height=800,\n",
        "      width=1100,\n",
        "    )\n",
        "    fig.show() \n",
        "  \n",
        "  def WTEQvsPREC(self):  \n",
        "    \"\"\"\n",
        "    Plots WTEQ vs PREC on a fixed scale line plot\n",
        "    \"\"\"\n",
        "    fig = go.Figure()\n",
        "\n",
        "    fig = px.line(self.df2, x=\"PREC (in)\", y=\"WTEQ (in)\", hover_name=self.df2['Date'], color='water_year')\n",
        "    fig.update_layout(\n",
        "        yaxis=dict(scaleanchor=\"x\", scaleratio=1),\n",
        "        height=800,\n",
        "        width=1100)\n",
        "\n",
        "    fig.show()\n",
        "\n",
        "  def SWEvsSNWD(self):  \n",
        "    \"\"\"\n",
        "    Plots SWE vs SNWD on a fixed scale line plot\n",
        "    \"\"\"\n",
        "    fig = go.Figure()\n",
        "\n",
        "    fig = px.line(self.df2, x=\"WTEQ (in)\", y=\"SNWD (in)\", hover_name=self.df2['Date'], color='water_year')\n",
        "    fig.update_layout(\n",
        "        yaxis=dict(scaleanchor=\"x\", scaleratio=1),\n",
        "        height=800,\n",
        "        width=1100)\n",
        "\n",
        "    fig.show()\n",
        "    \n",
        "  def WTEQvsPREC_table(self, max_daily_WTEQ, max_daily_PREC):\n",
        "\n",
        "  #Calculate Precip increment from accumulation:\n",
        "    self.df2['Precip Increment - Calculated (in)'] = self.df2['PREC (in)'].diff()\n",
        "    self.df2['WTEQ - Increment (in)'] = self.df2['WTEQ (in)'].diff()\n",
        "\n",
        "\n",
        "  #Filter to retrieve potentially erroneous data\n",
        "    df_errors = self.df2[(self.df2['Precip Increment - Calculated (in)'] <= max_daily_PREC) & (self.df2['WTEQ - Increment (in)'] >= max_daily_WTEQ)].sort_values('WTEQ - Increment (in)', ascending=False)\n",
        "    # df_errors.to_excel('./WTEQvsPrec/'+f'{station}' + '_WTEQvsPrecipErrors.xlsx')\n",
        "    df_errors.set_index('Date', inplace=True)\n",
        "    df_errors.drop('index', axis=1, inplace=True)\n",
        "\n",
        "    return df_errors\n",
        "\n",
        "#   # def calc_SWEvsPREC_slope():\n",
        "\n",
        "  def precipitationLessThanZero(self):\n",
        "    # PREC = getData(self.stations, 'PREC', self.begindate, self.enddate)\n",
        "    PrecipLessThanZero_Errors = self.PREC[self.PREC.iloc[:,0] < 0]\n",
        "    return PrecipLessThanZero_Errors"
      ],
      "execution_count": null,
      "outputs": []
    },
    {
      "cell_type": "code",
      "metadata": {
        "id": "7bk99GLEHqmd"
      },
      "source": [
        " class outlierDetection():\n",
        "    def __init__(self, stationtriplets, begindate, enddate):\n",
        "      self.stations = stationtriplets\n",
        "      self.begindate = begindate\n",
        "      self.enddate = enddate\n",
        "\n",
        "    def temp_boxplots(self, data_pt_type):\n",
        "      \"\"\"\n",
        "      options for data_pt_type include: 'all', 'outliers', or 'suspectedoutliers'\n",
        "      \"\"\"      \n",
        "      TAVG = getData(self.stations, 'TAVG', self.begindate, self.enddate)\n",
        "      TMAX = getData(self.stations, 'TMAX', self.begindate, self.enddate)\n",
        "      TMIN = getData(self.stations, 'TMIN', self.begindate, self.enddate)\n",
        "      TOBS = getData(self.stations, 'TOBS', self.begindate, self.enddate)\n",
        "\n",
        "      df_temp = reduce(lambda left,right: pd.merge(left,right,left_index=True, right_index=True, how='outer'), [TAVG, TMAX, TMIN, TOBS])\n",
        "      df_temp.columns = ['TAVG (degF)','TMAX (degF)','TMIN (degF)','TOBS (degF)']\n",
        "\n",
        "      fig = go.Figure()\n",
        "      for i in df_temp.columns:\n",
        "      #   WA = WA_Sites[WA_Sites[i] != 0].dropna()\n",
        "\n",
        "        fig.add_trace(go.Box(y = df_temp.loc[:,i], \n",
        "                name = i,\n",
        "                boxpoints=data_pt_type, \n",
        "                # hovertext = str(df_temp[i].index),\n",
        "                jitter=0.2,\n",
        "                whiskerwidth=0.5                \n",
        "      ))\n",
        "\n",
        "      fig.update_layout(\n",
        "              autosize=False,\n",
        "              width=1200,\n",
        "              height=500,\n",
        "              margin=dict(l=20, r=20, t=2, b=8),\n",
        "              paper_bgcolor=\"LightSteelBlue\",\n",
        "              title={\n",
        "              # 'text': f'{station}',\n",
        "              'y':0.98,\n",
        "              'x':0.45,\n",
        "              'xanchor': 'center',\n",
        "              'yanchor': 'top'\n",
        "      })\n",
        "      fig.show()\n",
        "\n",
        "    def zScore_plots(self):\n",
        "      global zs, df_outliers\n",
        "      for i in ['TAVG', 'TMIN', 'TMAX', 'TOBS']:\n",
        "        df = getData(stations, i, self.begindate, self.enddate)\n",
        "        zScore_plot(df.iloc[:,0])"
      ],
      "execution_count": null,
      "outputs": []
    },
    {
      "cell_type": "markdown",
      "metadata": {
        "id": "JSHb9QSvmS9u"
      },
      "source": [
        "## Test Runs"
      ]
    },
    {
      "cell_type": "code",
      "metadata": {
        "id": "Zl5zpeTtiC75"
      },
      "source": [
        "OR302 = outlierDetection(['302:OR:SNTL'], '04/01/2018', '04/01/2020')"
      ],
      "execution_count": null,
      "outputs": []
    },
    {
      "cell_type": "code",
      "metadata": {
        "colab": {
          "base_uri": "https://localhost:8080/",
          "height": 1000
        },
        "id": "Dipm4_c1iRxj",
        "outputId": "a2f370be-7ae2-400f-e0d9-5adccf73d338"
      },
      "source": [
        "OR302.zScore_plots()"
      ],
      "execution_count": null,
      "outputs": [
        {
          "output_type": "display_data",
          "data": {
            "text/html": [
              "<html>\n",
              "<head><meta charset=\"utf-8\" /></head>\n",
              "<body>\n",
              "    <div>\n",
              "            <script src=\"https://cdnjs.cloudflare.com/ajax/libs/mathjax/2.7.5/MathJax.js?config=TeX-AMS-MML_SVG\"></script><script type=\"text/javascript\">if (window.MathJax) {MathJax.Hub.Config({SVG: {font: \"STIX-Web\"}});}</script>\n",
              "                <script type=\"text/javascript\">window.PlotlyConfig = {MathJaxConfig: 'local'};</script>\n",
              "        <script src=\"https://cdn.plot.ly/plotly-latest.min.js\"></script>    \n",
              "            <div id=\"2a4bd5ee-3d22-447c-9ed0-79c5989579ad\" class=\"plotly-graph-div\" style=\"height:800px; width:1100px;\"></div>\n",
              "            <script type=\"text/javascript\">\n",
              "                \n",
              "                    window.PLOTLYENV=window.PLOTLYENV || {};\n",
              "                    \n",
              "                if (document.getElementById(\"2a4bd5ee-3d22-447c-9ed0-79c5989579ad\")) {\n",
              "                    Plotly.newPlot(\n",
              "                        '2a4bd5ee-3d22-447c-9ed0-79c5989579ad',\n",
              "                        [{\"mode\": \"lines\", \"type\": \"scatter\", \"x\": [\"2018-04-02\", \"2018-04-03\", \"2018-04-04\", \"2018-04-05\", \"2018-04-06\", \"2018-04-07\", \"2018-04-08\", \"2018-04-09\", \"2018-04-10\", \"2018-04-11\", \"2018-04-12\", \"2018-04-13\", \"2018-04-14\", \"2018-04-15\", \"2018-04-16\", \"2018-04-17\", \"2018-04-18\", \"2018-04-19\", \"2018-04-20\", \"2018-04-21\", \"2018-04-22\", \"2018-04-23\", \"2018-04-24\", \"2018-04-25\", \"2018-04-26\", \"2018-04-27\", \"2018-04-28\", \"2018-04-29\", \"2018-04-30\", \"2018-05-01\", \"2018-05-02\", \"2018-05-03\", \"2018-05-04\", \"2018-05-05\", \"2018-05-06\", \"2018-05-07\", \"2018-05-08\", \"2018-05-09\", \"2018-05-10\", \"2018-05-11\", \"2018-05-12\", \"2018-05-13\", \"2018-05-14\", \"2018-05-15\", \"2018-05-16\", \"2018-05-17\", \"2018-05-18\", \"2018-05-19\", \"2018-05-20\", \"2018-05-21\", \"2018-05-22\", \"2018-05-23\", \"2018-05-24\", \"2018-05-25\", \"2018-05-26\", \"2018-05-27\", \"2018-05-28\", \"2018-05-29\", \"2018-05-30\", \"2018-05-31\", \"2018-06-01\", \"2018-06-02\", \"2018-06-03\", \"2018-06-04\", \"2018-06-05\", \"2018-06-06\", \"2018-06-07\", \"2018-06-08\", \"2018-06-09\", \"2018-06-10\", \"2018-06-11\", \"2018-06-12\", \"2018-06-13\", \"2018-06-14\", \"2018-06-15\", \"2018-06-16\", \"2018-06-17\", \"2018-06-18\", \"2018-06-19\", \"2018-06-20\", \"2018-06-21\", \"2018-06-22\", \"2018-06-23\", \"2018-06-24\", \"2018-06-25\", \"2018-06-26\", \"2018-06-27\", \"2018-06-28\", \"2018-06-29\", \"2018-06-30\", \"2018-07-01\", \"2018-07-02\", \"2018-07-03\", \"2018-07-04\", \"2018-07-05\", \"2018-07-06\", \"2018-07-07\", \"2018-07-08\", \"2018-07-09\", \"2018-07-10\", \"2018-07-11\", \"2018-07-12\", \"2018-07-13\", \"2018-07-14\", \"2018-07-15\", \"2018-07-16\", \"2018-07-17\", \"2018-07-18\", \"2018-07-19\", \"2018-07-20\", \"2018-07-21\", \"2018-07-22\", \"2018-07-23\", \"2018-07-24\", \"2018-07-25\", \"2018-07-26\", \"2018-07-27\", \"2018-07-28\", \"2018-07-29\", \"2018-07-30\", \"2018-07-31\", \"2018-08-01\", \"2018-08-02\", \"2018-08-03\", \"2018-08-04\", \"2018-08-05\", \"2018-08-06\", \"2018-08-07\", \"2018-08-08\", \"2018-08-09\", \"2018-08-10\", \"2018-08-11\", \"2018-08-12\", \"2018-08-13\", \"2018-08-14\", \"2018-08-15\", \"2018-08-16\", \"2018-08-17\", \"2018-08-18\", \"2018-08-19\", \"2018-08-20\", \"2018-08-21\", \"2018-08-22\", \"2018-08-23\", \"2018-08-24\", \"2018-08-25\", \"2018-08-26\", \"2018-08-27\", \"2018-08-28\", \"2018-08-29\", \"2018-08-30\", \"2018-08-31\", \"2018-09-01\", \"2018-09-02\", \"2018-09-03\", \"2018-09-04\", \"2018-09-05\", \"2018-09-06\", \"2018-09-07\", \"2018-09-08\", \"2018-09-09\", \"2018-09-10\", \"2018-09-11\", \"2018-09-12\", \"2018-09-13\", \"2018-09-14\", \"2018-09-15\", \"2018-09-16\", \"2018-09-17\", \"2018-09-18\", \"2018-09-19\", \"2018-09-20\", \"2018-09-21\", \"2018-09-22\", \"2018-09-23\", \"2018-09-24\", \"2018-09-25\", \"2018-09-26\", \"2018-09-27\", \"2018-09-28\", \"2018-09-29\", \"2018-09-30\", \"2018-10-01\", \"2018-10-02\", \"2018-10-03\", \"2018-10-04\", \"2018-10-05\", \"2018-10-06\", \"2018-10-07\", \"2018-10-08\", \"2018-10-09\", \"2018-10-10\", \"2018-10-11\", \"2018-10-12\", \"2018-10-13\", \"2018-10-14\", \"2018-10-15\", \"2018-10-16\", \"2018-10-17\", \"2018-10-18\", \"2018-10-19\", \"2018-10-20\", \"2018-10-21\", \"2018-10-22\", \"2018-10-23\", \"2018-10-24\", \"2018-10-25\", \"2018-10-26\", \"2018-10-27\", \"2018-10-28\", \"2018-10-29\", \"2018-10-30\", \"2018-10-31\", \"2018-11-01\", \"2018-11-02\", \"2018-11-03\", \"2018-11-04\", \"2018-11-05\", \"2018-11-06\", \"2018-11-07\", \"2018-11-08\", \"2018-11-09\", \"2018-11-10\", \"2018-11-11\", \"2018-11-12\", \"2018-11-13\", \"2018-11-14\", \"2018-11-15\", \"2018-11-16\", \"2018-11-17\", \"2018-11-18\", \"2018-11-19\", \"2018-11-20\", \"2018-11-21\", \"2018-11-22\", \"2018-11-23\", \"2018-11-24\", \"2018-11-25\", \"2018-11-26\", \"2018-11-27\", \"2018-11-28\", \"2018-11-29\", \"2018-11-30\", \"2018-12-01\", \"2018-12-02\", \"2018-12-03\", \"2018-12-04\", \"2018-12-05\", \"2018-12-06\", \"2018-12-07\", \"2018-12-08\", \"2018-12-09\", \"2018-12-10\", \"2018-12-11\", \"2018-12-12\", \"2018-12-13\", \"2018-12-14\", \"2018-12-15\", \"2018-12-16\", \"2018-12-17\", \"2018-12-18\", \"2018-12-19\", \"2018-12-20\", \"2018-12-21\", \"2018-12-22\", \"2018-12-23\", \"2018-12-24\", \"2018-12-25\", \"2018-12-26\", \"2018-12-27\", \"2018-12-28\", \"2018-12-29\", \"2018-12-30\", \"2018-12-31\", \"2019-01-01\", \"2019-01-02\", \"2019-01-03\", \"2019-01-04\", \"2019-01-05\", \"2019-01-06\", \"2019-01-07\", \"2019-01-08\", \"2019-01-09\", \"2019-01-10\", \"2019-01-11\", \"2019-01-12\", \"2019-01-13\", \"2019-01-14\", \"2019-01-15\", \"2019-01-16\", \"2019-01-17\", \"2019-01-18\", \"2019-01-19\", \"2019-01-20\", \"2019-01-21\", \"2019-01-22\", \"2019-01-23\", \"2019-01-24\", \"2019-01-25\", \"2019-01-26\", \"2019-01-27\", \"2019-01-28\", \"2019-01-29\", \"2019-01-30\", \"2019-01-31\", \"2019-02-01\", \"2019-02-02\", \"2019-02-03\", \"2019-02-04\", \"2019-02-05\", \"2019-02-06\", \"2019-02-07\", \"2019-02-08\", \"2019-02-09\", \"2019-02-10\", \"2019-02-11\", \"2019-02-12\", \"2019-02-13\", \"2019-02-14\", \"2019-02-15\", \"2019-02-16\", \"2019-02-17\", \"2019-02-18\", \"2019-02-19\", \"2019-02-20\", \"2019-02-21\", \"2019-02-22\", \"2019-02-23\", \"2019-02-24\", \"2019-02-25\", \"2019-02-26\", \"2019-02-27\", \"2019-02-28\", \"2019-03-01\", \"2019-03-02\", \"2019-03-03\", \"2019-03-04\", \"2019-03-05\", \"2019-03-06\", \"2019-03-07\", \"2019-03-08\", \"2019-03-09\", \"2019-03-10\", \"2019-03-11\", \"2019-03-12\", \"2019-03-13\", \"2019-03-14\", \"2019-03-15\", \"2019-03-16\", \"2019-03-17\", \"2019-03-18\", \"2019-03-19\", \"2019-03-20\", \"2019-03-21\", \"2019-03-22\", \"2019-03-23\", \"2019-03-24\", \"2019-03-25\", \"2019-03-26\", \"2019-03-27\", \"2019-03-28\", \"2019-03-29\", \"2019-03-30\", \"2019-03-31\", \"2019-04-01\", \"2019-04-02\", \"2019-04-03\", \"2019-04-04\", \"2019-04-05\", \"2019-04-06\", \"2019-04-07\", \"2019-04-08\", \"2019-04-09\", \"2019-04-10\", \"2019-04-11\", \"2019-04-12\", \"2019-04-13\", \"2019-04-14\", \"2019-04-15\", \"2019-04-16\", \"2019-04-17\", \"2019-04-18\", \"2019-04-19\", \"2019-04-20\", \"2019-04-21\", \"2019-04-22\", \"2019-04-23\", \"2019-04-24\", \"2019-04-25\", \"2019-04-26\", \"2019-04-27\", \"2019-04-28\", \"2019-04-29\", \"2019-04-30\", \"2019-05-01\", \"2019-05-02\", \"2019-05-03\", \"2019-05-04\", \"2019-05-05\", \"2019-05-06\", \"2019-05-07\", \"2019-05-08\", \"2019-05-09\", \"2019-05-10\", \"2019-05-11\", \"2019-05-12\", \"2019-05-13\", \"2019-05-14\", \"2019-05-15\", \"2019-05-16\", \"2019-05-17\", \"2019-05-18\", \"2019-05-19\", \"2019-05-20\", \"2019-05-21\", \"2019-05-22\", \"2019-05-23\", \"2019-05-24\", \"2019-05-25\", \"2019-05-26\", \"2019-05-27\", \"2019-05-28\", \"2019-05-29\", \"2019-05-30\", \"2019-05-31\", \"2019-06-01\", \"2019-06-02\", \"2019-06-03\", \"2019-06-04\", \"2019-06-05\", \"2019-06-06\", \"2019-06-07\", \"2019-06-08\", \"2019-06-09\", \"2019-06-10\", \"2019-06-11\", \"2019-06-12\", \"2019-06-13\", \"2019-06-14\", \"2019-06-15\", \"2019-06-16\", \"2019-06-17\", \"2019-06-18\", \"2019-06-19\", \"2019-06-20\", \"2019-06-21\", \"2019-06-22\", \"2019-06-23\", \"2019-06-24\", \"2019-06-25\", \"2019-06-26\", \"2019-06-27\", \"2019-06-28\", \"2019-06-29\", \"2019-06-30\", \"2019-07-01\", \"2019-07-02\", \"2019-07-03\", \"2019-07-04\", \"2019-07-05\", \"2019-07-06\", \"2019-07-07\", \"2019-07-08\", \"2019-07-09\", \"2019-07-10\", \"2019-07-11\", \"2019-07-12\", \"2019-07-13\", \"2019-07-14\", \"2019-07-15\", \"2019-07-16\", \"2019-07-17\", \"2019-07-18\", \"2019-07-19\", \"2019-07-20\", \"2019-07-21\", \"2019-07-22\", \"2019-07-23\", \"2019-07-24\", \"2019-07-25\", \"2019-07-26\", \"2019-07-27\", \"2019-07-28\", \"2019-07-29\", \"2019-07-30\", \"2019-07-31\", \"2019-08-01\", \"2019-08-02\", \"2019-08-03\", \"2019-08-04\", \"2019-08-05\", \"2019-08-06\", \"2019-08-07\", \"2019-08-08\", \"2019-08-09\", \"2019-08-10\", \"2019-08-11\", \"2019-08-12\", \"2019-08-13\", \"2019-08-14\", \"2019-08-15\", \"2019-08-16\", \"2019-08-17\", \"2019-08-18\", \"2019-08-19\", \"2019-08-20\", \"2019-08-21\", \"2019-08-22\", \"2019-08-23\", \"2019-08-24\", \"2019-08-25\", \"2019-08-26\", \"2019-08-27\", \"2019-08-28\", \"2019-08-29\", \"2019-08-30\", \"2019-08-31\", \"2019-09-01\", \"2019-09-02\", \"2019-09-03\", \"2019-09-04\", \"2019-09-05\", \"2019-09-06\", \"2019-09-07\", \"2019-09-08\", \"2019-09-09\", \"2019-09-10\", \"2019-09-11\", \"2019-09-12\", \"2019-09-13\", \"2019-09-14\", \"2019-09-15\", \"2019-09-16\", \"2019-09-17\", \"2019-09-18\", \"2019-09-19\", \"2019-09-20\", \"2019-09-21\", \"2019-09-22\", \"2019-09-23\", \"2019-09-24\", \"2019-09-25\", \"2019-09-26\", \"2019-09-27\", \"2019-09-28\", \"2019-09-29\", \"2019-09-30\", \"2019-10-01\", \"2019-10-02\", \"2019-10-03\", \"2019-10-04\", \"2019-10-05\", \"2019-10-06\", \"2019-10-07\", \"2019-10-08\", \"2019-10-09\", \"2019-10-10\", \"2019-10-11\", \"2019-10-12\", \"2019-10-13\", \"2019-10-14\", \"2019-10-15\", \"2019-10-16\", \"2019-10-17\", \"2019-10-18\", \"2019-10-19\", \"2019-10-20\", \"2019-10-21\", \"2019-10-22\", \"2019-10-23\", \"2019-10-24\", \"2019-10-25\", \"2019-10-26\", \"2019-10-27\", \"2019-10-28\", \"2019-10-29\", \"2019-10-30\", \"2019-10-31\", \"2019-11-01\", \"2019-11-02\", \"2019-11-03\", \"2019-11-04\", \"2019-11-05\", \"2019-11-06\", \"2019-11-07\", \"2019-11-08\", \"2019-11-09\", \"2019-11-10\", \"2019-11-11\", \"2019-11-12\", \"2019-11-13\", \"2019-11-14\", \"2019-11-15\", \"2019-11-16\", \"2019-11-17\", \"2019-11-18\", \"2019-11-19\", \"2019-11-20\", \"2019-11-21\", \"2019-11-22\", \"2019-11-23\", \"2019-11-24\", \"2019-11-25\", \"2019-11-26\", \"2019-11-27\", \"2019-11-28\", \"2019-11-29\", \"2019-11-30\", \"2019-12-01\", \"2019-12-02\", \"2019-12-03\", \"2019-12-04\", \"2019-12-05\", \"2019-12-06\", \"2019-12-07\", \"2019-12-08\", \"2019-12-09\", \"2019-12-10\", \"2019-12-11\", \"2019-12-12\", \"2019-12-13\", \"2019-12-14\", \"2019-12-15\", \"2019-12-16\", \"2019-12-17\", \"2019-12-18\", \"2019-12-19\", \"2019-12-20\", \"2019-12-21\", \"2019-12-22\", \"2019-12-23\", \"2019-12-24\", \"2019-12-25\", \"2019-12-26\", \"2019-12-27\", \"2019-12-28\", \"2019-12-29\", \"2019-12-30\", \"2019-12-31\", \"2020-01-01\", \"2020-01-02\", \"2020-01-03\", \"2020-01-04\", \"2020-01-05\", \"2020-01-06\", \"2020-01-07\", \"2020-01-08\", \"2020-01-09\", \"2020-01-10\", \"2020-01-11\", \"2020-01-12\", \"2020-01-13\", \"2020-01-14\", \"2020-01-15\", \"2020-01-16\", \"2020-01-17\", \"2020-01-18\", \"2020-01-19\", \"2020-01-20\", \"2020-01-21\", \"2020-01-22\", \"2020-01-23\", \"2020-01-24\", \"2020-01-25\", \"2020-01-26\", \"2020-01-27\", \"2020-01-28\", \"2020-01-29\", \"2020-01-30\", \"2020-01-31\", \"2020-02-01\", \"2020-02-02\", \"2020-02-03\", \"2020-02-04\", \"2020-02-05\", \"2020-02-06\", \"2020-02-07\", \"2020-02-08\", \"2020-02-09\", \"2020-02-10\", \"2020-02-11\", \"2020-02-12\", \"2020-02-13\", \"2020-02-14\", \"2020-02-15\", \"2020-02-16\", \"2020-02-17\", \"2020-02-18\", \"2020-02-19\", \"2020-02-20\", \"2020-02-21\", \"2020-02-22\", \"2020-02-23\", \"2020-02-24\", \"2020-02-25\", \"2020-02-26\", \"2020-02-27\", \"2020-02-28\", \"2020-02-29\", \"2020-03-01\", \"2020-03-02\", \"2020-03-03\", \"2020-03-04\", \"2020-03-05\", \"2020-03-06\", \"2020-03-07\", \"2020-03-08\", \"2020-03-09\", \"2020-03-10\", \"2020-03-11\", \"2020-03-12\", \"2020-03-13\", \"2020-03-14\", \"2020-03-15\", \"2020-03-16\", \"2020-03-17\", \"2020-03-18\", \"2020-03-19\", \"2020-03-20\", \"2020-03-21\", \"2020-03-22\", \"2020-03-23\", \"2020-03-24\", \"2020-03-25\", \"2020-03-26\", \"2020-03-27\", \"2020-03-28\", \"2020-03-29\", \"2020-03-30\", \"2020-03-31\", \"2020-04-01\", \"2020-04-02\"], \"y\": [30.56, 16.16, 25.34, 33.44, 36.32, 37.94, 34.34, 28.94, 31.82, 38.3, 32.18, 23.9, 27.14, 33.44, 33.8, 25.34, 22.82, 27.5, 31.28, 32.9, 35.42, 28.76, 30.2, 38.66, 42.98, 44.24, 48.92, 36.14, 30.38, 30.02, 30.74, 35.42, 40.82, 45.5, 45.86, 43.16, 40.82, 46.58, 40.82, 32.9, 31.46, 36.32, 40.28, 43.16, 45.68, 41.54, 40.28, 39.2, 41.54, 41.9, 42.44, 44.96, 44.6, 44.78, 46.4, 41.36, 43.16, 44.78, 45.14, 41.72, 36.5, 37.04, 46.76, 53.06, 44.6, 44.78, 48.56, 47.84, 49.1, 37.76, 32.54, 35.78, 45.14, 50.36, 39.74, 40.46, 39.92, 40.28, 44.06, 45.14, 49.28, 47.12, 48.92, 43.52, 52.16, 50.0, 42.62, 52.34, 44.42, 42.44, 48.2, 50.18, 42.44, 39.02, 50.54, 62.06, 58.64, 53.6, 55.4, 60.26, 50.18, 48.74, 52.34, 57.92, 56.48, 56.84, 57.02, 59.54, 57.2, 54.68, 53.96, 50.72, 50.36, 57.74, 60.98, 58.28, 57.2, 57.02, 56.12, 56.66, 60.62, 64.22, 60.8, 55.4, 50.0, 46.04, 48.92, 53.42, 56.12, 62.78, 66.92, 68.54, 61.16, 48.38, 49.82, 52.34, 59.0, 57.74, 56.66, 53.06, 56.84, 50.72, 46.94, 49.82, 53.24, 47.66, 46.76, 41.72, 38.12, 41.9, 51.08, 48.56, 42.62, 44.06, 45.68, 48.38, 46.22, 57.74, 58.46, 55.04, 46.58, 46.76, 46.4, 37.58, 36.32, 36.32, 44.96, 47.12, 41.9, 42.44, 40.46, 37.04, 38.66, 50.18, 46.94, 35.6, 33.8, 36.32, 42.62, 46.58, 46.4, 47.48, 41.9, 46.58, 45.5, 39.02, 34.52, 31.28, 32.54, 30.38, 32.0, 32.72, 31.28, 30.02, 33.98, 28.4, 22.64, 32.0, 35.42, 38.66, 38.84, 41.0, 44.96, 45.32, 42.98, 41.54, 38.12, 39.92, 44.06, 41.72, 38.84, 29.48, 27.5, 35.6, 41.36, 36.5, 32.36, 33.44, 28.4, 25.52, 19.4, 16.16, 28.22, 19.76, 15.08, 25.34, 38.66, 38.48, 33.26, 31.64, 19.76, 25.7, 33.08, 39.38, 36.68, 30.02, 25.88, 19.04, 20.12, 34.7, 33.08, 28.22, 23.36, 22.82, 19.04, 18.5, 9.14, 9.86, 8.6, 11.12, 20.66, 21.38, 29.66, 24.98, 27.68, 19.04, 26.78, 31.28, 27.32, 33.08, 30.2, 29.84, 26.96, 33.08, 15.26, 17.78, 26.6, 23.72, 16.34, 17.78, 16.16, 16.52, 32.36, 19.94, 8.6, 17.6, 28.22, 32.9, 35.24, 31.46, 22.82, 14.0, 29.12, 31.64, 27.68, 30.02, 32.72, 29.66, 31.64, 26.78, 28.4, 28.76, 24.44, 32.0, 28.4, 16.34, 20.3, 28.58, 21.38, 26.42, 29.84, 33.98, 19.04, 20.3, 26.24, 34.7, 33.62, 32.9, 28.58, 23.72, 14.36, 3.2, 4.64, 14.54, 17.06, 13.28, 18.32, 19.58, 24.44, 29.66, 20.66, 17.6, 14.9, 10.4, 15.08, 16.16, 10.22, 10.4, 18.68, 22.28, 24.98, 16.34, 31.28, 18.32, 17.78, 8.96, 8.6, 19.4, 25.16, 30.38, 19.58, 9.86, 10.58, 12.92, 21.02, 22.82, 16.16, 17.06, 26.24, 27.32, 28.4, 29.12, 35.06, 36.86, 35.6, 35.06, 31.64, 29.3, 31.82, 30.38, 29.84, 26.42, 26.06, 25.7, 28.94, 32.9, 34.7, 35.96, 37.04, 34.16, 28.76, 36.14, 36.86, 29.66, 26.78, 28.76, 29.48, 30.56, 26.6, 27.68, 30.38, 34.16, 42.08, 46.58, 34.88, 32.9, 37.4, 43.16, 37.22, 37.76, 36.86, 31.28, 23.0, 23.54, 26.06, 28.22, 32.72, 38.48, 40.28, 41.54, 39.92, 39.2, 40.46, 37.22, 40.28, 45.86, 47.48, 48.02, 44.96, 39.74, 39.02, 34.7, 36.68, 37.58, 35.42, 33.98, 34.34, 37.04, 36.32, 37.94, 39.38, 38.84, 41.9, 42.8, 44.96, 43.7, 45.86, 48.02, 48.02, 44.78, 48.02, 36.68, 29.48, 32.9, 40.46, 47.66, 48.2, 52.34, 51.26, 48.92, 47.66, 50.0, 49.1, 47.48, 42.26, 32.72, 33.98, 42.26, 40.82, 41.9, 44.96, 46.04, 41.54, 42.44, 46.22, 48.38, 49.1, 45.32, 42.8, 45.32, 51.08, 55.22, 46.04, 45.5, 51.26, 57.74, 55.04, 58.28, 56.84, 53.06, 50.0, 46.94, 50.72, 50.72, 41.72, 44.6, 54.86, 62.06, 61.52, 49.46, 51.8, 59.18, 55.76, 53.42, 55.58, 56.84, 57.92, 58.1, 55.94, 55.4, 57.02, 58.82, 61.16, 56.84, 57.02, 54.32, 49.28, 44.96, 46.76, 52.16, 53.06, 49.82, 48.2, 47.66, 53.96, 55.94, 59.18, 57.2, 46.94, 50.0, 56.3, 48.2, 45.5, 50.36, 59.18, 56.66, 54.14, 57.74, 56.48, 54.32, 59.9, 56.12, 61.16, 50.72, 50.9, 43.52, 40.82, 38.84, 40.64, 44.78, 52.16, 54.32, 55.04, 45.32, 37.94, 37.22, 36.32, 37.04, 40.1, 44.24, 43.16, 47.66, 39.38, 44.96, 36.86, 28.22, 24.08, 24.98, 25.52, 27.14, 34.7, 30.56, 30.74, 35.96, 44.78, 35.24, 19.04, 19.4, 30.56, 35.96, 39.56, 33.08, 44.42, 48.2, 33.62, 30.74, 28.22, 26.96, 33.62, 39.74, 28.76, 36.14, 44.96, 23.0, 14.72, 17.78, 5.72, 18.14, 30.74, 25.52, 33.62, 34.16, 34.7, 38.3, 30.56, 36.32, 44.6, 43.34, 36.14, 33.08, 38.84, 31.1, 39.74, 39.02, 31.46, 41.72, 39.56, 31.28, 25.34, 26.06, 25.34, 33.26, 30.74, 19.22, 12.56, 19.04, 15.98, 11.48, 14.18, 24.62, 28.04, 28.76, 27.86, 28.22, 32.36, 30.92, 27.14, 18.32, 25.16, 29.84, 28.4, 20.48, 14.9, 12.74, 10.22, 24.8, 26.96, 30.02, 34.7, 35.24, 35.78, 24.8, 12.56, 8.96, 11.3, 15.62, 21.92, 28.04, 22.82, 32.0, 27.32, 24.44, 32.54, 22.28, 20.66, 26.24, 30.92, 21.92, 14.72, 16.52, 21.2, 18.5, 15.26, 12.56, 12.56, 22.64, 14.0, 22.82, 29.12, 31.82, 26.78, 26.24, 34.16, 29.66, 28.22, 29.48, 26.06, 27.86, 25.34, 26.24, 37.4, 36.68, 14.36, 8.6, 13.46, 28.76, 32.9, 32.9, 22.28, 19.22, 18.68, 25.52, 19.94, 28.22, 20.84, 24.44, 21.74, 13.1, 5.54, 13.64, 25.88, 28.58, 30.92, 26.96, 14.36, 19.94, 29.3, 29.3, 37.22, 22.82, 15.62, 28.76, 33.26, 30.74, 38.3, 40.46, 28.94, 22.28, 21.38, 24.98, 32.9, 19.58, 26.78, 24.44, 28.04, 27.14, 29.3, 26.42, 26.42, 26.96, 26.06, 28.94, 31.46, 22.64, 17.96, 17.42, 22.1, 29.3, 30.74, 29.12, 21.56, 15.98]}, {\"hovertext\": [2.0506611503686756, 2.2178848970483243, 2.1064023992618917, 2.4269145803978858, 2.552332390407623, -2.046320643282728, -2.08812657995264, -2.08812657995264, -2.5061859466517626, -2.39470344886533, -2.060255955506032, -2.08812657995264, 2.0506611503686756, 2.008855213698763, -2.3110915755255057, -2.060255955506032, -2.08812657995264, -2.32502688774881], \"mode\": \"markers\", \"type\": \"scatter\", \"x\": [\"2018-07-06\", \"2018-08-01\", \"2018-08-09\", \"2018-08-10\", \"2018-08-11\", \"2018-12-04\", \"2018-12-06\", \"2019-01-01\", \"2019-02-07\", \"2019-02-08\", \"2019-03-03\", \"2019-03-04\", \"2019-07-23\", \"2019-07-24\", \"2019-10-30\", \"2019-12-26\", \"2020-02-04\", \"2020-02-19\"], \"y\": [62.06, 64.22, 62.78, 66.92, 68.54, 9.14, 8.6, 8.6, 3.2, 4.64, 8.96, 8.6, 62.06, 61.52, 5.72, 8.96, 8.6, 5.54]}],\n",
              "                        {\"height\": 800, \"template\": {\"data\": {\"bar\": [{\"error_x\": {\"color\": \"#2a3f5f\"}, \"error_y\": {\"color\": \"#2a3f5f\"}, \"marker\": {\"line\": {\"color\": \"#E5ECF6\", \"width\": 0.5}}, \"type\": \"bar\"}], \"barpolar\": [{\"marker\": {\"line\": {\"color\": \"#E5ECF6\", \"width\": 0.5}}, \"type\": \"barpolar\"}], \"carpet\": [{\"aaxis\": {\"endlinecolor\": \"#2a3f5f\", \"gridcolor\": \"white\", \"linecolor\": \"white\", \"minorgridcolor\": \"white\", \"startlinecolor\": \"#2a3f5f\"}, \"baxis\": {\"endlinecolor\": \"#2a3f5f\", \"gridcolor\": \"white\", \"linecolor\": \"white\", \"minorgridcolor\": \"white\", \"startlinecolor\": \"#2a3f5f\"}, \"type\": \"carpet\"}], \"choropleth\": [{\"colorbar\": {\"outlinewidth\": 0, \"ticks\": \"\"}, \"type\": \"choropleth\"}], \"contour\": [{\"colorbar\": {\"outlinewidth\": 0, \"ticks\": \"\"}, \"colorscale\": [[0.0, \"#0d0887\"], [0.1111111111111111, \"#46039f\"], [0.2222222222222222, \"#7201a8\"], [0.3333333333333333, \"#9c179e\"], [0.4444444444444444, \"#bd3786\"], [0.5555555555555556, \"#d8576b\"], [0.6666666666666666, \"#ed7953\"], [0.7777777777777778, \"#fb9f3a\"], [0.8888888888888888, \"#fdca26\"], [1.0, \"#f0f921\"]], \"type\": \"contour\"}], \"contourcarpet\": [{\"colorbar\": {\"outlinewidth\": 0, \"ticks\": \"\"}, \"type\": \"contourcarpet\"}], \"heatmap\": [{\"colorbar\": {\"outlinewidth\": 0, \"ticks\": \"\"}, \"colorscale\": [[0.0, \"#0d0887\"], [0.1111111111111111, \"#46039f\"], [0.2222222222222222, \"#7201a8\"], [0.3333333333333333, \"#9c179e\"], [0.4444444444444444, \"#bd3786\"], [0.5555555555555556, \"#d8576b\"], [0.6666666666666666, \"#ed7953\"], [0.7777777777777778, \"#fb9f3a\"], [0.8888888888888888, \"#fdca26\"], [1.0, \"#f0f921\"]], \"type\": \"heatmap\"}], \"heatmapgl\": [{\"colorbar\": {\"outlinewidth\": 0, \"ticks\": \"\"}, \"colorscale\": [[0.0, \"#0d0887\"], [0.1111111111111111, \"#46039f\"], [0.2222222222222222, \"#7201a8\"], [0.3333333333333333, \"#9c179e\"], [0.4444444444444444, \"#bd3786\"], [0.5555555555555556, \"#d8576b\"], [0.6666666666666666, \"#ed7953\"], [0.7777777777777778, \"#fb9f3a\"], [0.8888888888888888, \"#fdca26\"], [1.0, \"#f0f921\"]], \"type\": \"heatmapgl\"}], \"histogram\": [{\"marker\": {\"colorbar\": {\"outlinewidth\": 0, \"ticks\": \"\"}}, \"type\": \"histogram\"}], \"histogram2d\": [{\"colorbar\": {\"outlinewidth\": 0, \"ticks\": \"\"}, \"colorscale\": [[0.0, \"#0d0887\"], [0.1111111111111111, \"#46039f\"], [0.2222222222222222, \"#7201a8\"], [0.3333333333333333, \"#9c179e\"], [0.4444444444444444, \"#bd3786\"], [0.5555555555555556, \"#d8576b\"], [0.6666666666666666, \"#ed7953\"], [0.7777777777777778, \"#fb9f3a\"], [0.8888888888888888, \"#fdca26\"], [1.0, \"#f0f921\"]], \"type\": \"histogram2d\"}], \"histogram2dcontour\": [{\"colorbar\": {\"outlinewidth\": 0, \"ticks\": \"\"}, \"colorscale\": [[0.0, \"#0d0887\"], [0.1111111111111111, \"#46039f\"], [0.2222222222222222, \"#7201a8\"], [0.3333333333333333, \"#9c179e\"], [0.4444444444444444, \"#bd3786\"], [0.5555555555555556, \"#d8576b\"], [0.6666666666666666, \"#ed7953\"], [0.7777777777777778, \"#fb9f3a\"], [0.8888888888888888, \"#fdca26\"], [1.0, \"#f0f921\"]], \"type\": \"histogram2dcontour\"}], \"mesh3d\": [{\"colorbar\": {\"outlinewidth\": 0, \"ticks\": \"\"}, \"type\": \"mesh3d\"}], \"parcoords\": [{\"line\": {\"colorbar\": {\"outlinewidth\": 0, \"ticks\": \"\"}}, \"type\": \"parcoords\"}], \"pie\": [{\"automargin\": true, \"type\": \"pie\"}], \"scatter\": [{\"marker\": {\"colorbar\": {\"outlinewidth\": 0, \"ticks\": \"\"}}, \"type\": \"scatter\"}], \"scatter3d\": [{\"line\": {\"colorbar\": {\"outlinewidth\": 0, \"ticks\": \"\"}}, \"marker\": {\"colorbar\": {\"outlinewidth\": 0, \"ticks\": \"\"}}, \"type\": \"scatter3d\"}], \"scattercarpet\": [{\"marker\": {\"colorbar\": {\"outlinewidth\": 0, \"ticks\": \"\"}}, \"type\": \"scattercarpet\"}], \"scattergeo\": [{\"marker\": {\"colorbar\": {\"outlinewidth\": 0, \"ticks\": \"\"}}, \"type\": \"scattergeo\"}], \"scattergl\": [{\"marker\": {\"colorbar\": {\"outlinewidth\": 0, \"ticks\": \"\"}}, \"type\": \"scattergl\"}], \"scattermapbox\": [{\"marker\": {\"colorbar\": {\"outlinewidth\": 0, \"ticks\": \"\"}}, \"type\": \"scattermapbox\"}], \"scatterpolar\": [{\"marker\": {\"colorbar\": {\"outlinewidth\": 0, \"ticks\": \"\"}}, \"type\": \"scatterpolar\"}], \"scatterpolargl\": [{\"marker\": {\"colorbar\": {\"outlinewidth\": 0, \"ticks\": \"\"}}, \"type\": \"scatterpolargl\"}], \"scatterternary\": [{\"marker\": {\"colorbar\": {\"outlinewidth\": 0, \"ticks\": \"\"}}, \"type\": \"scatterternary\"}], \"surface\": [{\"colorbar\": {\"outlinewidth\": 0, \"ticks\": \"\"}, \"colorscale\": [[0.0, \"#0d0887\"], [0.1111111111111111, \"#46039f\"], [0.2222222222222222, \"#7201a8\"], [0.3333333333333333, \"#9c179e\"], [0.4444444444444444, \"#bd3786\"], [0.5555555555555556, \"#d8576b\"], [0.6666666666666666, \"#ed7953\"], [0.7777777777777778, \"#fb9f3a\"], [0.8888888888888888, \"#fdca26\"], [1.0, \"#f0f921\"]], \"type\": \"surface\"}], \"table\": [{\"cells\": {\"fill\": {\"color\": \"#EBF0F8\"}, \"line\": {\"color\": \"white\"}}, \"header\": {\"fill\": {\"color\": \"#C8D4E3\"}, \"line\": {\"color\": \"white\"}}, \"type\": \"table\"}]}, \"layout\": {\"annotationdefaults\": {\"arrowcolor\": \"#2a3f5f\", \"arrowhead\": 0, \"arrowwidth\": 1}, \"coloraxis\": {\"colorbar\": {\"outlinewidth\": 0, \"ticks\": \"\"}}, \"colorscale\": {\"diverging\": [[0, \"#8e0152\"], [0.1, \"#c51b7d\"], [0.2, \"#de77ae\"], [0.3, \"#f1b6da\"], [0.4, \"#fde0ef\"], [0.5, \"#f7f7f7\"], [0.6, \"#e6f5d0\"], [0.7, \"#b8e186\"], [0.8, \"#7fbc41\"], [0.9, \"#4d9221\"], [1, \"#276419\"]], \"sequential\": [[0.0, \"#0d0887\"], [0.1111111111111111, \"#46039f\"], [0.2222222222222222, \"#7201a8\"], [0.3333333333333333, \"#9c179e\"], [0.4444444444444444, \"#bd3786\"], [0.5555555555555556, \"#d8576b\"], [0.6666666666666666, \"#ed7953\"], [0.7777777777777778, \"#fb9f3a\"], [0.8888888888888888, \"#fdca26\"], [1.0, \"#f0f921\"]], \"sequentialminus\": [[0.0, \"#0d0887\"], [0.1111111111111111, \"#46039f\"], [0.2222222222222222, \"#7201a8\"], [0.3333333333333333, \"#9c179e\"], [0.4444444444444444, \"#bd3786\"], [0.5555555555555556, \"#d8576b\"], [0.6666666666666666, \"#ed7953\"], [0.7777777777777778, \"#fb9f3a\"], [0.8888888888888888, \"#fdca26\"], [1.0, \"#f0f921\"]]}, \"colorway\": [\"#636efa\", \"#EF553B\", \"#00cc96\", \"#ab63fa\", \"#FFA15A\", \"#19d3f3\", \"#FF6692\", \"#B6E880\", \"#FF97FF\", \"#FECB52\"], \"font\": {\"color\": \"#2a3f5f\"}, \"geo\": {\"bgcolor\": \"white\", \"lakecolor\": \"white\", \"landcolor\": \"#E5ECF6\", \"showlakes\": true, \"showland\": true, \"subunitcolor\": \"white\"}, \"hoverlabel\": {\"align\": \"left\"}, \"hovermode\": \"closest\", \"mapbox\": {\"style\": \"light\"}, \"paper_bgcolor\": \"white\", \"plot_bgcolor\": \"#E5ECF6\", \"polar\": {\"angularaxis\": {\"gridcolor\": \"white\", \"linecolor\": \"white\", \"ticks\": \"\"}, \"bgcolor\": \"#E5ECF6\", \"radialaxis\": {\"gridcolor\": \"white\", \"linecolor\": \"white\", \"ticks\": \"\"}}, \"scene\": {\"xaxis\": {\"backgroundcolor\": \"#E5ECF6\", \"gridcolor\": \"white\", \"gridwidth\": 2, \"linecolor\": \"white\", \"showbackground\": true, \"ticks\": \"\", \"zerolinecolor\": \"white\"}, \"yaxis\": {\"backgroundcolor\": \"#E5ECF6\", \"gridcolor\": \"white\", \"gridwidth\": 2, \"linecolor\": \"white\", \"showbackground\": true, \"ticks\": \"\", \"zerolinecolor\": \"white\"}, \"zaxis\": {\"backgroundcolor\": \"#E5ECF6\", \"gridcolor\": \"white\", \"gridwidth\": 2, \"linecolor\": \"white\", \"showbackground\": true, \"ticks\": \"\", \"zerolinecolor\": \"white\"}}, \"shapedefaults\": {\"line\": {\"color\": \"#2a3f5f\"}}, \"ternary\": {\"aaxis\": {\"gridcolor\": \"white\", \"linecolor\": \"white\", \"ticks\": \"\"}, \"baxis\": {\"gridcolor\": \"white\", \"linecolor\": \"white\", \"ticks\": \"\"}, \"bgcolor\": \"#E5ECF6\", \"caxis\": {\"gridcolor\": \"white\", \"linecolor\": \"white\", \"ticks\": \"\"}}, \"title\": {\"x\": 0.05}, \"xaxis\": {\"automargin\": true, \"gridcolor\": \"white\", \"linecolor\": \"white\", \"ticks\": \"\", \"title\": {\"standoff\": 15}, \"zerolinecolor\": \"white\", \"zerolinewidth\": 2}, \"yaxis\": {\"automargin\": true, \"gridcolor\": \"white\", \"linecolor\": \"white\", \"ticks\": \"\", \"title\": {\"standoff\": 15}, \"zerolinecolor\": \"white\", \"zerolinewidth\": 2}}}, \"width\": 1100, \"xaxis\": {\"title\": {\"text\": \"Date\"}}},\n",
              "                        {\"responsive\": true}\n",
              "                    ).then(function(){\n",
              "                            \n",
              "var gd = document.getElementById('2a4bd5ee-3d22-447c-9ed0-79c5989579ad');\n",
              "var x = new MutationObserver(function (mutations, observer) {{\n",
              "        var display = window.getComputedStyle(gd).display;\n",
              "        if (!display || display === 'none') {{\n",
              "            console.log([gd, 'removed!']);\n",
              "            Plotly.purge(gd);\n",
              "            observer.disconnect();\n",
              "        }}\n",
              "}});\n",
              "\n",
              "// Listen for the removal of the full notebook cells\n",
              "var notebookContainer = gd.closest('#notebook-container');\n",
              "if (notebookContainer) {{\n",
              "    x.observe(notebookContainer, {childList: true});\n",
              "}}\n",
              "\n",
              "// Listen for the clearing of the current output cell\n",
              "var outputEl = gd.closest('.output');\n",
              "if (outputEl) {{\n",
              "    x.observe(outputEl, {childList: true});\n",
              "}}\n",
              "\n",
              "                        })\n",
              "                };\n",
              "                \n",
              "            </script>\n",
              "        </div>\n",
              "</body>\n",
              "</html>"
            ]
          },
          "metadata": {
            "tags": []
          }
        },
        {
          "output_type": "display_data",
          "data": {
            "text/html": [
              "<html>\n",
              "<head><meta charset=\"utf-8\" /></head>\n",
              "<body>\n",
              "    <div>\n",
              "            <script src=\"https://cdnjs.cloudflare.com/ajax/libs/mathjax/2.7.5/MathJax.js?config=TeX-AMS-MML_SVG\"></script><script type=\"text/javascript\">if (window.MathJax) {MathJax.Hub.Config({SVG: {font: \"STIX-Web\"}});}</script>\n",
              "                <script type=\"text/javascript\">window.PlotlyConfig = {MathJaxConfig: 'local'};</script>\n",
              "        <script src=\"https://cdn.plot.ly/plotly-latest.min.js\"></script>    \n",
              "            <div id=\"edb6f7da-9abf-4c5e-a796-a276ad151f5c\" class=\"plotly-graph-div\" style=\"height:800px; width:1100px;\"></div>\n",
              "            <script type=\"text/javascript\">\n",
              "                \n",
              "                    window.PLOTLYENV=window.PLOTLYENV || {};\n",
              "                    \n",
              "                if (document.getElementById(\"edb6f7da-9abf-4c5e-a796-a276ad151f5c\")) {\n",
              "                    Plotly.newPlot(\n",
              "                        'edb6f7da-9abf-4c5e-a796-a276ad151f5c',\n",
              "                        [{\"mode\": \"lines\", \"type\": \"scatter\", \"x\": [\"2018-04-02\", \"2018-04-03\", \"2018-04-04\", \"2018-04-05\", \"2018-04-06\", \"2018-04-07\", \"2018-04-08\", \"2018-04-09\", \"2018-04-10\", \"2018-04-11\", \"2018-04-12\", \"2018-04-13\", \"2018-04-14\", \"2018-04-15\", \"2018-04-16\", \"2018-04-17\", \"2018-04-18\", \"2018-04-19\", \"2018-04-20\", \"2018-04-21\", \"2018-04-22\", \"2018-04-23\", \"2018-04-24\", \"2018-04-25\", \"2018-04-26\", \"2018-04-27\", \"2018-04-28\", \"2018-04-29\", \"2018-04-30\", \"2018-05-01\", \"2018-05-02\", \"2018-05-03\", \"2018-05-04\", \"2018-05-05\", \"2018-05-06\", \"2018-05-07\", \"2018-05-08\", \"2018-05-09\", \"2018-05-10\", \"2018-05-11\", \"2018-05-12\", \"2018-05-13\", \"2018-05-14\", \"2018-05-15\", \"2018-05-16\", \"2018-05-17\", \"2018-05-18\", \"2018-05-19\", \"2018-05-20\", \"2018-05-21\", \"2018-05-22\", \"2018-05-23\", \"2018-05-24\", \"2018-05-25\", \"2018-05-26\", \"2018-05-27\", \"2018-05-28\", \"2018-05-29\", \"2018-05-30\", \"2018-05-31\", \"2018-06-01\", \"2018-06-02\", \"2018-06-03\", \"2018-06-04\", \"2018-06-05\", \"2018-06-06\", \"2018-06-07\", \"2018-06-08\", \"2018-06-09\", \"2018-06-10\", \"2018-06-11\", \"2018-06-12\", \"2018-06-13\", \"2018-06-14\", \"2018-06-15\", \"2018-06-16\", \"2018-06-17\", \"2018-06-18\", \"2018-06-19\", \"2018-06-20\", \"2018-06-21\", \"2018-06-22\", \"2018-06-23\", \"2018-06-24\", \"2018-06-25\", \"2018-06-26\", \"2018-06-27\", \"2018-06-28\", \"2018-06-29\", \"2018-06-30\", \"2018-07-01\", \"2018-07-02\", \"2018-07-03\", \"2018-07-04\", \"2018-07-05\", \"2018-07-06\", \"2018-07-07\", \"2018-07-08\", \"2018-07-09\", \"2018-07-10\", \"2018-07-11\", \"2018-07-12\", \"2018-07-13\", \"2018-07-14\", \"2018-07-15\", \"2018-07-16\", \"2018-07-17\", \"2018-07-18\", \"2018-07-19\", \"2018-07-20\", \"2018-07-21\", \"2018-07-22\", \"2018-07-23\", \"2018-07-24\", \"2018-07-25\", \"2018-07-26\", \"2018-07-27\", \"2018-07-28\", \"2018-07-29\", \"2018-07-30\", \"2018-07-31\", \"2018-08-01\", \"2018-08-02\", \"2018-08-03\", \"2018-08-04\", \"2018-08-05\", \"2018-08-06\", \"2018-08-07\", \"2018-08-08\", \"2018-08-09\", \"2018-08-10\", \"2018-08-11\", \"2018-08-12\", \"2018-08-13\", \"2018-08-14\", \"2018-08-15\", \"2018-08-16\", \"2018-08-17\", \"2018-08-18\", \"2018-08-19\", \"2018-08-20\", \"2018-08-21\", \"2018-08-22\", \"2018-08-23\", \"2018-08-24\", \"2018-08-25\", \"2018-08-26\", \"2018-08-27\", \"2018-08-28\", \"2018-08-29\", \"2018-08-30\", \"2018-08-31\", \"2018-09-01\", \"2018-09-02\", \"2018-09-03\", \"2018-09-04\", \"2018-09-05\", \"2018-09-06\", \"2018-09-07\", \"2018-09-08\", \"2018-09-09\", \"2018-09-10\", \"2018-09-11\", \"2018-09-12\", \"2018-09-13\", \"2018-09-14\", \"2018-09-15\", \"2018-09-16\", \"2018-09-17\", \"2018-09-18\", \"2018-09-19\", \"2018-09-20\", \"2018-09-21\", \"2018-09-22\", \"2018-09-23\", \"2018-09-24\", \"2018-09-25\", \"2018-09-26\", \"2018-09-27\", \"2018-09-28\", \"2018-09-29\", \"2018-09-30\", \"2018-10-01\", \"2018-10-02\", \"2018-10-03\", \"2018-10-04\", \"2018-10-05\", \"2018-10-06\", \"2018-10-07\", \"2018-10-08\", \"2018-10-09\", \"2018-10-10\", \"2018-10-11\", \"2018-10-12\", \"2018-10-13\", \"2018-10-14\", \"2018-10-15\", \"2018-10-16\", \"2018-10-17\", \"2018-10-18\", \"2018-10-19\", \"2018-10-20\", \"2018-10-21\", \"2018-10-22\", \"2018-10-23\", \"2018-10-24\", \"2018-10-25\", \"2018-10-26\", \"2018-10-27\", \"2018-10-28\", \"2018-10-29\", \"2018-10-30\", \"2018-10-31\", \"2018-11-01\", \"2018-11-02\", \"2018-11-03\", \"2018-11-04\", \"2018-11-05\", \"2018-11-06\", \"2018-11-07\", \"2018-11-08\", \"2018-11-09\", \"2018-11-10\", \"2018-11-11\", \"2018-11-12\", \"2018-11-13\", \"2018-11-14\", \"2018-11-15\", \"2018-11-16\", \"2018-11-17\", \"2018-11-18\", \"2018-11-19\", \"2018-11-20\", \"2018-11-21\", \"2018-11-22\", \"2018-11-23\", \"2018-11-24\", \"2018-11-25\", \"2018-11-26\", \"2018-11-27\", \"2018-11-28\", \"2018-11-29\", \"2018-11-30\", \"2018-12-01\", \"2018-12-02\", \"2018-12-03\", \"2018-12-04\", \"2018-12-05\", \"2018-12-06\", \"2018-12-07\", \"2018-12-08\", \"2018-12-09\", \"2018-12-10\", \"2018-12-11\", \"2018-12-12\", \"2018-12-13\", \"2018-12-14\", \"2018-12-15\", \"2018-12-16\", \"2018-12-17\", \"2018-12-18\", \"2018-12-19\", \"2018-12-20\", \"2018-12-21\", \"2018-12-22\", \"2018-12-23\", \"2018-12-24\", \"2018-12-25\", \"2018-12-26\", \"2018-12-27\", \"2018-12-28\", \"2018-12-29\", \"2018-12-30\", \"2018-12-31\", \"2019-01-01\", \"2019-01-02\", \"2019-01-03\", \"2019-01-04\", \"2019-01-05\", \"2019-01-06\", \"2019-01-07\", \"2019-01-08\", \"2019-01-09\", \"2019-01-10\", \"2019-01-11\", \"2019-01-12\", \"2019-01-13\", \"2019-01-14\", \"2019-01-15\", \"2019-01-16\", \"2019-01-17\", \"2019-01-18\", \"2019-01-19\", \"2019-01-20\", \"2019-01-21\", \"2019-01-22\", \"2019-01-23\", \"2019-01-24\", \"2019-01-25\", \"2019-01-26\", \"2019-01-27\", \"2019-01-28\", \"2019-01-29\", \"2019-01-30\", \"2019-01-31\", \"2019-02-01\", \"2019-02-02\", \"2019-02-03\", \"2019-02-04\", \"2019-02-05\", \"2019-02-06\", \"2019-02-07\", \"2019-02-08\", \"2019-02-09\", \"2019-02-10\", \"2019-02-11\", \"2019-02-12\", \"2019-02-13\", \"2019-02-14\", \"2019-02-15\", \"2019-02-16\", \"2019-02-17\", \"2019-02-18\", \"2019-02-19\", \"2019-02-20\", \"2019-02-21\", \"2019-02-22\", \"2019-02-23\", \"2019-02-24\", \"2019-02-25\", \"2019-02-26\", \"2019-02-27\", \"2019-02-28\", \"2019-03-01\", \"2019-03-02\", \"2019-03-03\", \"2019-03-04\", \"2019-03-05\", \"2019-03-06\", \"2019-03-07\", \"2019-03-08\", \"2019-03-09\", \"2019-03-10\", \"2019-03-11\", \"2019-03-12\", \"2019-03-13\", \"2019-03-14\", \"2019-03-15\", \"2019-03-16\", \"2019-03-17\", \"2019-03-18\", \"2019-03-19\", \"2019-03-20\", \"2019-03-21\", \"2019-03-22\", \"2019-03-23\", \"2019-03-24\", \"2019-03-25\", \"2019-03-26\", \"2019-03-27\", \"2019-03-28\", \"2019-03-29\", \"2019-03-30\", \"2019-03-31\", \"2019-04-01\", \"2019-04-02\", \"2019-04-03\", \"2019-04-04\", \"2019-04-05\", \"2019-04-06\", \"2019-04-07\", \"2019-04-08\", \"2019-04-09\", \"2019-04-10\", \"2019-04-11\", \"2019-04-12\", \"2019-04-13\", \"2019-04-14\", \"2019-04-15\", \"2019-04-16\", \"2019-04-17\", \"2019-04-18\", \"2019-04-19\", \"2019-04-20\", \"2019-04-21\", \"2019-04-22\", \"2019-04-23\", \"2019-04-24\", \"2019-04-25\", \"2019-04-26\", \"2019-04-27\", \"2019-04-28\", \"2019-04-29\", \"2019-04-30\", \"2019-05-01\", \"2019-05-02\", \"2019-05-03\", \"2019-05-04\", \"2019-05-05\", \"2019-05-06\", \"2019-05-07\", \"2019-05-08\", \"2019-05-09\", \"2019-05-10\", \"2019-05-11\", \"2019-05-12\", \"2019-05-13\", \"2019-05-14\", \"2019-05-15\", \"2019-05-16\", \"2019-05-17\", \"2019-05-18\", \"2019-05-19\", \"2019-05-20\", \"2019-05-21\", \"2019-05-22\", \"2019-05-23\", \"2019-05-24\", \"2019-05-25\", \"2019-05-26\", \"2019-05-27\", \"2019-05-28\", \"2019-05-29\", \"2019-05-30\", \"2019-05-31\", \"2019-06-01\", \"2019-06-02\", \"2019-06-03\", \"2019-06-04\", \"2019-06-05\", \"2019-06-06\", \"2019-06-07\", \"2019-06-08\", \"2019-06-09\", \"2019-06-10\", \"2019-06-11\", \"2019-06-12\", \"2019-06-13\", \"2019-06-14\", \"2019-06-15\", \"2019-06-16\", \"2019-06-17\", \"2019-06-18\", \"2019-06-19\", \"2019-06-20\", \"2019-06-21\", \"2019-06-22\", \"2019-06-23\", \"2019-06-24\", \"2019-06-25\", \"2019-06-26\", \"2019-06-27\", \"2019-06-28\", \"2019-06-29\", \"2019-06-30\", \"2019-07-01\", \"2019-07-02\", \"2019-07-03\", \"2019-07-04\", \"2019-07-05\", \"2019-07-06\", \"2019-07-07\", \"2019-07-08\", \"2019-07-09\", \"2019-07-10\", \"2019-07-11\", \"2019-07-12\", \"2019-07-13\", \"2019-07-14\", \"2019-07-15\", \"2019-07-16\", \"2019-07-17\", \"2019-07-18\", \"2019-07-19\", \"2019-07-20\", \"2019-07-21\", \"2019-07-22\", \"2019-07-23\", \"2019-07-24\", \"2019-07-25\", \"2019-07-26\", \"2019-07-27\", \"2019-07-28\", \"2019-07-29\", \"2019-07-30\", \"2019-07-31\", \"2019-08-01\", \"2019-08-02\", \"2019-08-03\", \"2019-08-04\", \"2019-08-05\", \"2019-08-06\", \"2019-08-07\", \"2019-08-08\", \"2019-08-09\", \"2019-08-10\", \"2019-08-11\", \"2019-08-12\", \"2019-08-13\", \"2019-08-14\", \"2019-08-15\", \"2019-08-16\", \"2019-08-17\", \"2019-08-18\", \"2019-08-19\", \"2019-08-20\", \"2019-08-21\", \"2019-08-22\", \"2019-08-23\", \"2019-08-24\", \"2019-08-25\", \"2019-08-26\", \"2019-08-27\", \"2019-08-28\", \"2019-08-29\", \"2019-08-30\", \"2019-08-31\", \"2019-09-01\", \"2019-09-02\", \"2019-09-03\", \"2019-09-04\", \"2019-09-05\", \"2019-09-06\", \"2019-09-07\", \"2019-09-08\", \"2019-09-09\", \"2019-09-10\", \"2019-09-11\", \"2019-09-12\", \"2019-09-13\", \"2019-09-14\", \"2019-09-15\", \"2019-09-16\", \"2019-09-17\", \"2019-09-18\", \"2019-09-19\", \"2019-09-20\", \"2019-09-21\", \"2019-09-22\", \"2019-09-23\", \"2019-09-24\", \"2019-09-25\", \"2019-09-26\", \"2019-09-27\", \"2019-09-28\", \"2019-09-29\", \"2019-09-30\", \"2019-10-01\", \"2019-10-02\", \"2019-10-03\", \"2019-10-04\", \"2019-10-05\", \"2019-10-06\", \"2019-10-07\", \"2019-10-08\", \"2019-10-09\", \"2019-10-10\", \"2019-10-11\", \"2019-10-12\", \"2019-10-13\", \"2019-10-14\", \"2019-10-15\", \"2019-10-16\", \"2019-10-17\", \"2019-10-18\", \"2019-10-19\", \"2019-10-20\", \"2019-10-21\", \"2019-10-22\", \"2019-10-23\", \"2019-10-24\", \"2019-10-25\", \"2019-10-26\", \"2019-10-27\", \"2019-10-28\", \"2019-10-29\", \"2019-10-30\", \"2019-10-31\", \"2019-11-01\", \"2019-11-02\", \"2019-11-03\", \"2019-11-04\", \"2019-11-05\", \"2019-11-06\", \"2019-11-07\", \"2019-11-08\", \"2019-11-09\", \"2019-11-10\", \"2019-11-11\", \"2019-11-12\", \"2019-11-13\", \"2019-11-14\", \"2019-11-15\", \"2019-11-16\", \"2019-11-17\", \"2019-11-18\", \"2019-11-19\", \"2019-11-20\", \"2019-11-21\", \"2019-11-22\", \"2019-11-23\", \"2019-11-24\", \"2019-11-25\", \"2019-11-26\", \"2019-11-27\", \"2019-11-28\", \"2019-11-29\", \"2019-11-30\", \"2019-12-01\", \"2019-12-02\", \"2019-12-03\", \"2019-12-04\", \"2019-12-05\", \"2019-12-06\", \"2019-12-07\", \"2019-12-08\", \"2019-12-09\", \"2019-12-10\", \"2019-12-11\", \"2019-12-12\", \"2019-12-13\", \"2019-12-14\", \"2019-12-15\", \"2019-12-16\", \"2019-12-17\", \"2019-12-18\", \"2019-12-19\", \"2019-12-20\", \"2019-12-21\", \"2019-12-22\", \"2019-12-23\", \"2019-12-24\", \"2019-12-25\", \"2019-12-26\", \"2019-12-27\", \"2019-12-28\", \"2019-12-29\", \"2019-12-30\", \"2019-12-31\", \"2020-01-01\", \"2020-01-02\", \"2020-01-03\", \"2020-01-04\", \"2020-01-05\", \"2020-01-06\", \"2020-01-07\", \"2020-01-08\", \"2020-01-09\", \"2020-01-10\", \"2020-01-11\", \"2020-01-12\", \"2020-01-13\", \"2020-01-14\", \"2020-01-15\", \"2020-01-16\", \"2020-01-17\", \"2020-01-18\", \"2020-01-19\", \"2020-01-20\", \"2020-01-21\", \"2020-01-22\", \"2020-01-23\", \"2020-01-24\", \"2020-01-25\", \"2020-01-26\", \"2020-01-27\", \"2020-01-28\", \"2020-01-29\", \"2020-01-30\", \"2020-01-31\", \"2020-02-01\", \"2020-02-02\", \"2020-02-03\", \"2020-02-04\", \"2020-02-05\", \"2020-02-06\", \"2020-02-07\", \"2020-02-08\", \"2020-02-09\", \"2020-02-10\", \"2020-02-11\", \"2020-02-12\", \"2020-02-13\", \"2020-02-14\", \"2020-02-15\", \"2020-02-16\", \"2020-02-17\", \"2020-02-18\", \"2020-02-19\", \"2020-02-20\", \"2020-02-21\", \"2020-02-22\", \"2020-02-23\", \"2020-02-24\", \"2020-02-25\", \"2020-02-26\", \"2020-02-27\", \"2020-02-28\", \"2020-02-29\", \"2020-03-01\", \"2020-03-02\", \"2020-03-03\", \"2020-03-04\", \"2020-03-05\", \"2020-03-06\", \"2020-03-07\", \"2020-03-08\", \"2020-03-09\", \"2020-03-10\", \"2020-03-11\", \"2020-03-12\", \"2020-03-13\", \"2020-03-14\", \"2020-03-15\", \"2020-03-16\", \"2020-03-17\", \"2020-03-18\", \"2020-03-19\", \"2020-03-20\", \"2020-03-21\", \"2020-03-22\", \"2020-03-23\", \"2020-03-24\", \"2020-03-25\", \"2020-03-26\", \"2020-03-27\", \"2020-03-28\", \"2020-03-29\", \"2020-03-30\", \"2020-03-31\", \"2020-04-01\", \"2020-04-02\"], \"y\": [22.82, 8.78, 10.76, 27.68, 32.0, 32.0, 28.94, 26.24, 19.94, 32.36, 27.86, 19.4, 11.66, 29.3, 30.74, 18.68, 13.28, 12.38, 22.1, 19.58, 22.82, 17.6, 18.86, 22.82, 31.28, 31.28, 38.12, 28.4, 27.86, 23.9, 22.46, 28.76, 27.68, 36.68, 36.5, 34.34, 33.26, 31.28, 31.1, 29.3, 28.58, 31.28, 31.46, 31.28, 35.06, 36.32, 34.52, 32.36, 31.28, 35.24, 37.04, 34.7, 37.4, 37.4, 36.5, 34.7, 35.78, 35.06, 32.54, 35.78, 32.18, 27.32, 32.36, 42.44, 33.26, 32.54, 34.88, 38.3, 35.96, 29.66, 27.14, 30.2, 28.76, 38.3, 32.72, 31.28, 35.06, 35.6, 41.9, 40.28, 39.02, 41.36, 39.02, 35.06, 37.94, 33.98, 30.92, 38.3, 38.3, 34.16, 35.24, 43.88, 31.64, 30.92, 33.44, 49.82, 52.88, 43.16, 40.46, 46.4, 39.74, 37.04, 39.2, 42.26, 45.14, 42.8, 47.66, 45.32, 44.96, 40.64, 41.36, 38.12, 35.42, 43.34, 48.56, 45.32, 44.96, 43.7, 44.6, 44.6, 46.58, 53.96, 47.48, 43.34, 39.2, 35.42, 37.58, 41.9, 43.16, 49.1, 53.78, 56.3, 44.06, 39.02, 37.4, 38.48, 46.58, 51.26, 45.5, 42.98, 44.42, 39.92, 37.4, 40.1, 41.0, 36.14, 35.24, 38.66, 32.18, 31.28, 38.66, 39.2, 35.24, 33.44, 34.34, 39.2, 35.06, 42.44, 46.58, 44.24, 37.22, 37.04, 34.34, 29.66, 29.12, 30.74, 30.74, 37.4, 30.74, 30.92, 31.46, 29.48, 27.86, 36.86, 39.38, 27.32, 25.16, 27.32, 31.28, 37.94, 35.06, 39.74, 34.34, 42.44, 38.3, 26.06, 28.58, 23.72, 29.84, 24.98, 23.54, 31.1, 29.66, 23.9, 23.9, 17.78, 13.46, 22.1, 27.5, 32.18, 30.74, 32.36, 37.4, 37.04, 34.7, 35.96, 32.36, 28.94, 40.1, 36.32, 28.76, 26.6, 22.46, 25.7, 34.88, 28.94, 27.32, 27.5, 24.62, 18.5, 11.3, 9.14, 13.82, 9.32, 7.52, 11.12, 27.86, 32.0, 24.44, 25.52, 12.56, 16.52, 24.08, 30.56, 33.08, 25.7, 22.28, 9.68, 11.48, 24.08, 29.66, 24.8, 16.16, 17.6, 11.66, 11.12, 1.4, 1.58, 2.48, 2.3, 12.2, 15.44, 17.6, 14.36, 15.62, 10.76, 17.6, 24.44, 22.1, 29.12, 27.5, 26.96, 21.74, 21.92, 6.62, 2.48, 23.54, 15.98, 2.66, 3.2, 12.92, 4.1, 26.6, 12.56, -3.28, -3.1, 19.22, 26.78, 30.02, 25.16, 19.04, 6.44, 10.22, 30.02, 16.52, 16.52, 24.8, 20.48, 26.6, 24.8, 26.06, 25.7, 17.78, 27.5, 19.22, 9.14, 4.28, 24.26, 13.46, 17.78, 22.82, 22.82, 8.06, 10.76, 16.88, 23.54, 29.66, 31.1, 23.36, 18.86, 5.18, -9.04, -9.4, 9.14, 14.36, 6.26, 11.66, 17.78, 20.84, 21.92, 9.5, 7.52, 7.52, 7.34, 3.74, 12.38, -4.0, -4.9, 16.34, 17.96, 18.14, 5.18, 28.94, 4.46, 7.34, -1.48, -3.28, 10.58, 21.02, 26.6, 3.02, -1.66, -1.48, 1.4, 5.18, 14.9, 3.2, -0.58, 18.68, 16.88, 19.4, 16.34, 22.82, 29.12, 25.7, 26.6, 30.2, 18.32, 20.12, 21.2, 21.02, 18.68, 17.06, 12.74, 19.94, 24.8, 30.38, 31.1, 32.9, 24.44, 17.06, 33.44, 32.54, 25.34, 22.64, 26.06, 25.34, 19.94, 21.92, 19.22, 27.68, 29.66, 29.12, 37.76, 30.74, 27.86, 24.44, 37.4, 26.96, 21.74, 28.94, 19.22, 14.36, 11.12, 16.16, 14.0, 26.24, 27.86, 28.4, 31.46, 32.54, 31.64, 33.08, 29.84, 27.14, 33.62, 35.24, 37.22, 36.14, 32.9, 34.52, 32.72, 31.46, 33.98, 33.98, 32.0, 32.9, 29.84, 32.18, 33.98, 33.08, 32.54, 37.04, 37.94, 35.42, 35.96, 35.96, 36.5, 37.22, 32.72, 35.42, 29.84, 24.26, 25.88, 25.7, 37.4, 36.68, 38.66, 41.18, 38.48, 35.96, 37.04, 38.84, 37.22, 30.38, 29.48, 29.3, 29.3, 32.36, 31.64, 33.62, 35.78, 32.18, 32.0, 33.44, 36.5, 39.2, 37.22, 35.06, 35.06, 37.4, 41.9, 37.22, 35.42, 33.26, 45.68, 42.8, 46.22, 47.84, 43.7, 42.44, 39.2, 39.02, 39.02, 31.28, 31.1, 36.14, 50.36, 49.82, 38.66, 36.32, 46.58, 47.3, 42.8, 45.32, 46.58, 45.86, 44.78, 45.32, 42.44, 45.5, 47.12, 50.36, 47.48, 50.18, 44.06, 42.44, 38.12, 35.96, 41.0, 43.88, 41.0, 38.12, 38.66, 40.1, 45.68, 46.76, 46.94, 39.74, 37.22, 46.4, 36.5, 34.52, 36.14, 45.5, 50.72, 45.86, 46.58, 45.5, 43.16, 48.02, 44.06, 50.36, 42.8, 40.46, 36.5, 37.4, 32.9, 34.7, 32.36, 45.86, 43.7, 41.18, 34.7, 32.72, 33.98, 34.34, 34.34, 32.54, 36.32, 34.7, 36.68, 31.1, 34.7, 28.94, 25.7, 18.32, 18.5, 21.02, 15.26, 31.28, 26.24, 22.1, 20.12, 32.36, 21.56, 10.94, 7.34, 19.76, 28.22, 30.92, 27.5, 31.28, 43.16, 30.38, 28.04, 25.16, 21.02, 28.04, 30.74, 21.38, 21.38, 29.48, 18.86, 7.88, 7.16, -5.98, 4.28, 21.02, 17.06, 24.8, 28.04, 26.78, 29.84, 25.34, 26.24, 33.98, 35.78, 25.34, 18.86, 30.2, 24.98, 26.06, 31.46, 24.62, 33.44, 30.38, 25.7, 17.96, 17.78, 20.3, 22.1, 17.24, 15.26, 3.02, 14.18, 5.9, 5.72, 2.84, 19.04, 22.82, 24.08, 19.4, 18.5, 30.56, 28.76, 18.32, 11.3, 15.98, 27.5, 23.54, 8.6, 7.7, 0.14, -1.84, 13.82, 19.4, 25.88, 32.36, 33.98, 32.72, 11.3, 5.54, 3.02, 3.38, 4.1, 17.24, 25.16, 16.34, 26.42, 21.74, 20.12, 28.58, 11.84, 15.98, 19.22, 27.86, 17.6, 9.68, 1.76, 17.06, 12.56, 12.56, -0.94, -1.84, 17.6, 1.58, 17.6, 20.12, 29.12, 19.04, 21.2, 31.64, 18.86, 18.68, 17.78, 22.46, 18.86, 12.38, 10.04, 34.7, 24.8, 9.14, -4.18, 2.48, 21.02, 31.1, 28.94, 18.5, 13.28, 12.56, 11.84, 12.56, 14.18, 16.7, 18.86, 15.26, -1.12, -2.56, -1.3, 14.54, 18.14, 23.0, 17.78, 6.08, 4.1, 16.34, 15.98, 25.7, 13.28, 6.62, 12.02, 26.42, 22.64, 32.36, 38.48, 11.66, 8.78, 10.76, 8.42, 20.84, 8.96, 12.92, 22.64, 21.74, 17.6, 19.76, 15.26, 14.18, 17.78, 15.98, 13.28, 23.72, 13.82, 7.34, 8.6, 13.64, 21.02, 27.86, 24.26, 10.22, 6.26]}, {\"hovertext\": [2.088291909123073, 2.1743908714878337, 2.1600410444270404, 2.360938623278149, -2.015758630263871, -2.0014088032030775, -2.388854133844502, -2.3745043067837086, -2.848048599789894, -2.8767482539114813, -2.446253442087676, -2.5180025773916435, -2.2453558632365667, -2.388854133844502, -2.2597056902973605, -2.2453558632365667, -2.015758630263871, -2.173606727932599, -2.6041015397564045, -2.116207419689425, -2.274055517358154, -2.2023063820541866, -2.274055517358154, -2.0014088032030775, -2.4606032691484696, -2.21665620911498, -2.3314548256013277, -2.2310060361757733], \"mode\": \"markers\", \"type\": \"scatter\", \"x\": [\"2018-07-07\", \"2018-08-01\", \"2018-08-10\", \"2018-08-11\", \"2018-12-04\", \"2018-12-05\", \"2019-01-01\", \"2019-01-02\", \"2019-02-07\", \"2019-02-08\", \"2019-02-22\", \"2019-02-23\", \"2019-03-03\", \"2019-03-04\", \"2019-03-09\", \"2019-03-10\", \"2019-03-11\", \"2019-03-15\", \"2019-10-30\", \"2019-12-16\", \"2019-12-17\", \"2020-01-15\", \"2020-01-16\", \"2020-01-18\", \"2020-02-04\", \"2020-02-18\", \"2020-02-19\", \"2020-02-20\"], \"y\": [52.88, 53.96, 53.78, 56.3, 1.4, 1.58, -3.28, -3.1, -9.04, -9.4, -4.0, -4.9, -1.48, -3.28, -1.66, -1.48, 1.4, -0.58, -5.98, 0.14, -1.84, -0.94, -1.84, 1.58, -4.18, -1.12, -2.56, -1.3]}],\n",
              "                        {\"height\": 800, \"template\": {\"data\": {\"bar\": [{\"error_x\": {\"color\": \"#2a3f5f\"}, \"error_y\": {\"color\": \"#2a3f5f\"}, \"marker\": {\"line\": {\"color\": \"#E5ECF6\", \"width\": 0.5}}, \"type\": \"bar\"}], \"barpolar\": [{\"marker\": {\"line\": {\"color\": \"#E5ECF6\", \"width\": 0.5}}, \"type\": \"barpolar\"}], \"carpet\": [{\"aaxis\": {\"endlinecolor\": \"#2a3f5f\", \"gridcolor\": \"white\", \"linecolor\": \"white\", \"minorgridcolor\": \"white\", \"startlinecolor\": \"#2a3f5f\"}, \"baxis\": {\"endlinecolor\": \"#2a3f5f\", \"gridcolor\": \"white\", \"linecolor\": \"white\", \"minorgridcolor\": \"white\", \"startlinecolor\": \"#2a3f5f\"}, \"type\": \"carpet\"}], \"choropleth\": [{\"colorbar\": {\"outlinewidth\": 0, \"ticks\": \"\"}, \"type\": \"choropleth\"}], \"contour\": [{\"colorbar\": {\"outlinewidth\": 0, \"ticks\": \"\"}, \"colorscale\": [[0.0, \"#0d0887\"], [0.1111111111111111, \"#46039f\"], [0.2222222222222222, \"#7201a8\"], [0.3333333333333333, \"#9c179e\"], [0.4444444444444444, \"#bd3786\"], [0.5555555555555556, \"#d8576b\"], [0.6666666666666666, \"#ed7953\"], [0.7777777777777778, \"#fb9f3a\"], [0.8888888888888888, \"#fdca26\"], [1.0, \"#f0f921\"]], \"type\": \"contour\"}], \"contourcarpet\": [{\"colorbar\": {\"outlinewidth\": 0, \"ticks\": \"\"}, \"type\": \"contourcarpet\"}], \"heatmap\": [{\"colorbar\": {\"outlinewidth\": 0, \"ticks\": \"\"}, \"colorscale\": [[0.0, \"#0d0887\"], [0.1111111111111111, \"#46039f\"], [0.2222222222222222, \"#7201a8\"], [0.3333333333333333, \"#9c179e\"], [0.4444444444444444, \"#bd3786\"], [0.5555555555555556, \"#d8576b\"], [0.6666666666666666, \"#ed7953\"], [0.7777777777777778, \"#fb9f3a\"], [0.8888888888888888, \"#fdca26\"], [1.0, \"#f0f921\"]], \"type\": \"heatmap\"}], \"heatmapgl\": [{\"colorbar\": {\"outlinewidth\": 0, \"ticks\": \"\"}, \"colorscale\": [[0.0, \"#0d0887\"], [0.1111111111111111, \"#46039f\"], [0.2222222222222222, \"#7201a8\"], [0.3333333333333333, \"#9c179e\"], [0.4444444444444444, \"#bd3786\"], [0.5555555555555556, \"#d8576b\"], [0.6666666666666666, \"#ed7953\"], [0.7777777777777778, \"#fb9f3a\"], [0.8888888888888888, \"#fdca26\"], [1.0, \"#f0f921\"]], \"type\": \"heatmapgl\"}], \"histogram\": [{\"marker\": {\"colorbar\": {\"outlinewidth\": 0, \"ticks\": \"\"}}, \"type\": \"histogram\"}], \"histogram2d\": [{\"colorbar\": {\"outlinewidth\": 0, \"ticks\": \"\"}, \"colorscale\": [[0.0, \"#0d0887\"], [0.1111111111111111, \"#46039f\"], [0.2222222222222222, \"#7201a8\"], [0.3333333333333333, \"#9c179e\"], [0.4444444444444444, \"#bd3786\"], [0.5555555555555556, \"#d8576b\"], [0.6666666666666666, \"#ed7953\"], [0.7777777777777778, \"#fb9f3a\"], [0.8888888888888888, \"#fdca26\"], [1.0, \"#f0f921\"]], \"type\": \"histogram2d\"}], \"histogram2dcontour\": [{\"colorbar\": {\"outlinewidth\": 0, \"ticks\": \"\"}, \"colorscale\": [[0.0, \"#0d0887\"], [0.1111111111111111, \"#46039f\"], [0.2222222222222222, \"#7201a8\"], [0.3333333333333333, \"#9c179e\"], [0.4444444444444444, \"#bd3786\"], [0.5555555555555556, \"#d8576b\"], [0.6666666666666666, \"#ed7953\"], [0.7777777777777778, \"#fb9f3a\"], [0.8888888888888888, \"#fdca26\"], [1.0, \"#f0f921\"]], \"type\": \"histogram2dcontour\"}], \"mesh3d\": [{\"colorbar\": {\"outlinewidth\": 0, \"ticks\": \"\"}, \"type\": \"mesh3d\"}], \"parcoords\": [{\"line\": {\"colorbar\": {\"outlinewidth\": 0, \"ticks\": \"\"}}, \"type\": \"parcoords\"}], \"pie\": [{\"automargin\": true, \"type\": \"pie\"}], \"scatter\": [{\"marker\": {\"colorbar\": {\"outlinewidth\": 0, \"ticks\": \"\"}}, \"type\": \"scatter\"}], \"scatter3d\": [{\"line\": {\"colorbar\": {\"outlinewidth\": 0, \"ticks\": \"\"}}, \"marker\": {\"colorbar\": {\"outlinewidth\": 0, \"ticks\": \"\"}}, \"type\": \"scatter3d\"}], \"scattercarpet\": [{\"marker\": {\"colorbar\": {\"outlinewidth\": 0, \"ticks\": \"\"}}, \"type\": \"scattercarpet\"}], \"scattergeo\": [{\"marker\": {\"colorbar\": {\"outlinewidth\": 0, \"ticks\": \"\"}}, \"type\": \"scattergeo\"}], \"scattergl\": [{\"marker\": {\"colorbar\": {\"outlinewidth\": 0, \"ticks\": \"\"}}, \"type\": \"scattergl\"}], \"scattermapbox\": [{\"marker\": {\"colorbar\": {\"outlinewidth\": 0, \"ticks\": \"\"}}, \"type\": \"scattermapbox\"}], \"scatterpolar\": [{\"marker\": {\"colorbar\": {\"outlinewidth\": 0, \"ticks\": \"\"}}, \"type\": \"scatterpolar\"}], \"scatterpolargl\": [{\"marker\": {\"colorbar\": {\"outlinewidth\": 0, \"ticks\": \"\"}}, \"type\": \"scatterpolargl\"}], \"scatterternary\": [{\"marker\": {\"colorbar\": {\"outlinewidth\": 0, \"ticks\": \"\"}}, \"type\": \"scatterternary\"}], \"surface\": [{\"colorbar\": {\"outlinewidth\": 0, \"ticks\": \"\"}, \"colorscale\": [[0.0, \"#0d0887\"], [0.1111111111111111, \"#46039f\"], [0.2222222222222222, \"#7201a8\"], [0.3333333333333333, \"#9c179e\"], [0.4444444444444444, \"#bd3786\"], [0.5555555555555556, \"#d8576b\"], [0.6666666666666666, \"#ed7953\"], [0.7777777777777778, \"#fb9f3a\"], [0.8888888888888888, \"#fdca26\"], [1.0, \"#f0f921\"]], \"type\": \"surface\"}], \"table\": [{\"cells\": {\"fill\": {\"color\": \"#EBF0F8\"}, \"line\": {\"color\": \"white\"}}, \"header\": {\"fill\": {\"color\": \"#C8D4E3\"}, \"line\": {\"color\": \"white\"}}, \"type\": \"table\"}]}, \"layout\": {\"annotationdefaults\": {\"arrowcolor\": \"#2a3f5f\", \"arrowhead\": 0, \"arrowwidth\": 1}, \"coloraxis\": {\"colorbar\": {\"outlinewidth\": 0, \"ticks\": \"\"}}, \"colorscale\": {\"diverging\": [[0, \"#8e0152\"], [0.1, \"#c51b7d\"], [0.2, \"#de77ae\"], [0.3, \"#f1b6da\"], [0.4, \"#fde0ef\"], [0.5, \"#f7f7f7\"], [0.6, \"#e6f5d0\"], [0.7, \"#b8e186\"], [0.8, \"#7fbc41\"], [0.9, \"#4d9221\"], [1, \"#276419\"]], \"sequential\": [[0.0, \"#0d0887\"], [0.1111111111111111, \"#46039f\"], [0.2222222222222222, \"#7201a8\"], [0.3333333333333333, \"#9c179e\"], [0.4444444444444444, \"#bd3786\"], [0.5555555555555556, \"#d8576b\"], [0.6666666666666666, \"#ed7953\"], [0.7777777777777778, \"#fb9f3a\"], [0.8888888888888888, \"#fdca26\"], [1.0, \"#f0f921\"]], \"sequentialminus\": [[0.0, \"#0d0887\"], [0.1111111111111111, \"#46039f\"], [0.2222222222222222, \"#7201a8\"], [0.3333333333333333, \"#9c179e\"], [0.4444444444444444, \"#bd3786\"], [0.5555555555555556, \"#d8576b\"], [0.6666666666666666, \"#ed7953\"], [0.7777777777777778, \"#fb9f3a\"], [0.8888888888888888, \"#fdca26\"], [1.0, \"#f0f921\"]]}, \"colorway\": [\"#636efa\", \"#EF553B\", \"#00cc96\", \"#ab63fa\", \"#FFA15A\", \"#19d3f3\", \"#FF6692\", \"#B6E880\", \"#FF97FF\", \"#FECB52\"], \"font\": {\"color\": \"#2a3f5f\"}, \"geo\": {\"bgcolor\": \"white\", \"lakecolor\": \"white\", \"landcolor\": \"#E5ECF6\", \"showlakes\": true, \"showland\": true, \"subunitcolor\": \"white\"}, \"hoverlabel\": {\"align\": \"left\"}, \"hovermode\": \"closest\", \"mapbox\": {\"style\": \"light\"}, \"paper_bgcolor\": \"white\", \"plot_bgcolor\": \"#E5ECF6\", \"polar\": {\"angularaxis\": {\"gridcolor\": \"white\", \"linecolor\": \"white\", \"ticks\": \"\"}, \"bgcolor\": \"#E5ECF6\", \"radialaxis\": {\"gridcolor\": \"white\", \"linecolor\": \"white\", \"ticks\": \"\"}}, \"scene\": {\"xaxis\": {\"backgroundcolor\": \"#E5ECF6\", \"gridcolor\": \"white\", \"gridwidth\": 2, \"linecolor\": \"white\", \"showbackground\": true, \"ticks\": \"\", \"zerolinecolor\": \"white\"}, \"yaxis\": {\"backgroundcolor\": \"#E5ECF6\", \"gridcolor\": \"white\", \"gridwidth\": 2, \"linecolor\": \"white\", \"showbackground\": true, \"ticks\": \"\", \"zerolinecolor\": \"white\"}, \"zaxis\": {\"backgroundcolor\": \"#E5ECF6\", \"gridcolor\": \"white\", \"gridwidth\": 2, \"linecolor\": \"white\", \"showbackground\": true, \"ticks\": \"\", \"zerolinecolor\": \"white\"}}, \"shapedefaults\": {\"line\": {\"color\": \"#2a3f5f\"}}, \"ternary\": {\"aaxis\": {\"gridcolor\": \"white\", \"linecolor\": \"white\", \"ticks\": \"\"}, \"baxis\": {\"gridcolor\": \"white\", \"linecolor\": \"white\", \"ticks\": \"\"}, \"bgcolor\": \"#E5ECF6\", \"caxis\": {\"gridcolor\": \"white\", \"linecolor\": \"white\", \"ticks\": \"\"}}, \"title\": {\"x\": 0.05}, \"xaxis\": {\"automargin\": true, \"gridcolor\": \"white\", \"linecolor\": \"white\", \"ticks\": \"\", \"title\": {\"standoff\": 15}, \"zerolinecolor\": \"white\", \"zerolinewidth\": 2}, \"yaxis\": {\"automargin\": true, \"gridcolor\": \"white\", \"linecolor\": \"white\", \"ticks\": \"\", \"title\": {\"standoff\": 15}, \"zerolinecolor\": \"white\", \"zerolinewidth\": 2}}}, \"width\": 1100, \"xaxis\": {\"title\": {\"text\": \"Date\"}}},\n",
              "                        {\"responsive\": true}\n",
              "                    ).then(function(){\n",
              "                            \n",
              "var gd = document.getElementById('edb6f7da-9abf-4c5e-a796-a276ad151f5c');\n",
              "var x = new MutationObserver(function (mutations, observer) {{\n",
              "        var display = window.getComputedStyle(gd).display;\n",
              "        if (!display || display === 'none') {{\n",
              "            console.log([gd, 'removed!']);\n",
              "            Plotly.purge(gd);\n",
              "            observer.disconnect();\n",
              "        }}\n",
              "}});\n",
              "\n",
              "// Listen for the removal of the full notebook cells\n",
              "var notebookContainer = gd.closest('#notebook-container');\n",
              "if (notebookContainer) {{\n",
              "    x.observe(notebookContainer, {childList: true});\n",
              "}}\n",
              "\n",
              "// Listen for the clearing of the current output cell\n",
              "var outputEl = gd.closest('.output');\n",
              "if (outputEl) {{\n",
              "    x.observe(outputEl, {childList: true});\n",
              "}}\n",
              "\n",
              "                        })\n",
              "                };\n",
              "                \n",
              "            </script>\n",
              "        </div>\n",
              "</body>\n",
              "</html>"
            ]
          },
          "metadata": {
            "tags": []
          }
        },
        {
          "output_type": "display_data",
          "data": {
            "text/html": [
              "<html>\n",
              "<head><meta charset=\"utf-8\" /></head>\n",
              "<body>\n",
              "    <div>\n",
              "            <script src=\"https://cdnjs.cloudflare.com/ajax/libs/mathjax/2.7.5/MathJax.js?config=TeX-AMS-MML_SVG\"></script><script type=\"text/javascript\">if (window.MathJax) {MathJax.Hub.Config({SVG: {font: \"STIX-Web\"}});}</script>\n",
              "                <script type=\"text/javascript\">window.PlotlyConfig = {MathJaxConfig: 'local'};</script>\n",
              "        <script src=\"https://cdn.plot.ly/plotly-latest.min.js\"></script>    \n",
              "            <div id=\"14fbdb47-dcbb-4252-a168-2bf7e6a89969\" class=\"plotly-graph-div\" style=\"height:800px; width:1100px;\"></div>\n",
              "            <script type=\"text/javascript\">\n",
              "                \n",
              "                    window.PLOTLYENV=window.PLOTLYENV || {};\n",
              "                    \n",
              "                if (document.getElementById(\"14fbdb47-dcbb-4252-a168-2bf7e6a89969\")) {\n",
              "                    Plotly.newPlot(\n",
              "                        '14fbdb47-dcbb-4252-a168-2bf7e6a89969',\n",
              "                        [{\"mode\": \"lines\", \"type\": \"scatter\", \"x\": [\"2018-04-02\", \"2018-04-03\", \"2018-04-04\", \"2018-04-05\", \"2018-04-06\", \"2018-04-07\", \"2018-04-08\", \"2018-04-09\", \"2018-04-10\", \"2018-04-11\", \"2018-04-12\", \"2018-04-13\", \"2018-04-14\", \"2018-04-15\", \"2018-04-16\", \"2018-04-17\", \"2018-04-18\", \"2018-04-19\", \"2018-04-20\", \"2018-04-21\", \"2018-04-22\", \"2018-04-23\", \"2018-04-24\", \"2018-04-25\", \"2018-04-26\", \"2018-04-27\", \"2018-04-28\", \"2018-04-29\", \"2018-04-30\", \"2018-05-01\", \"2018-05-02\", \"2018-05-03\", \"2018-05-04\", \"2018-05-05\", \"2018-05-06\", \"2018-05-07\", \"2018-05-08\", \"2018-05-09\", \"2018-05-10\", \"2018-05-11\", \"2018-05-12\", \"2018-05-13\", \"2018-05-14\", \"2018-05-15\", \"2018-05-16\", \"2018-05-17\", \"2018-05-18\", \"2018-05-19\", \"2018-05-20\", \"2018-05-21\", \"2018-05-22\", \"2018-05-23\", \"2018-05-24\", \"2018-05-25\", \"2018-05-26\", \"2018-05-27\", \"2018-05-28\", \"2018-05-29\", \"2018-05-30\", \"2018-05-31\", \"2018-06-01\", \"2018-06-02\", \"2018-06-03\", \"2018-06-04\", \"2018-06-05\", \"2018-06-06\", \"2018-06-07\", \"2018-06-08\", \"2018-06-09\", \"2018-06-10\", \"2018-06-11\", \"2018-06-12\", \"2018-06-13\", \"2018-06-14\", \"2018-06-15\", \"2018-06-16\", \"2018-06-17\", \"2018-06-18\", \"2018-06-19\", \"2018-06-20\", \"2018-06-21\", \"2018-06-22\", \"2018-06-23\", \"2018-06-24\", \"2018-06-25\", \"2018-06-26\", \"2018-06-27\", \"2018-06-28\", \"2018-06-29\", \"2018-06-30\", \"2018-07-01\", \"2018-07-02\", \"2018-07-03\", \"2018-07-04\", \"2018-07-05\", \"2018-07-06\", \"2018-07-07\", \"2018-07-08\", \"2018-07-09\", \"2018-07-10\", \"2018-07-11\", \"2018-07-12\", \"2018-07-13\", \"2018-07-14\", \"2018-07-15\", \"2018-07-16\", \"2018-07-17\", \"2018-07-18\", \"2018-07-19\", \"2018-07-20\", \"2018-07-21\", \"2018-07-22\", \"2018-07-23\", \"2018-07-24\", \"2018-07-25\", \"2018-07-26\", \"2018-07-27\", \"2018-07-28\", \"2018-07-29\", \"2018-07-30\", \"2018-07-31\", \"2018-08-01\", \"2018-08-02\", \"2018-08-03\", \"2018-08-04\", \"2018-08-05\", \"2018-08-06\", \"2018-08-07\", \"2018-08-08\", \"2018-08-09\", \"2018-08-10\", \"2018-08-11\", \"2018-08-12\", \"2018-08-13\", \"2018-08-14\", \"2018-08-15\", \"2018-08-16\", \"2018-08-17\", \"2018-08-18\", \"2018-08-19\", \"2018-08-20\", \"2018-08-21\", \"2018-08-22\", \"2018-08-23\", \"2018-08-24\", \"2018-08-25\", \"2018-08-26\", \"2018-08-27\", \"2018-08-28\", \"2018-08-29\", \"2018-08-30\", \"2018-08-31\", \"2018-09-01\", \"2018-09-02\", \"2018-09-03\", \"2018-09-04\", \"2018-09-05\", \"2018-09-06\", \"2018-09-07\", \"2018-09-08\", \"2018-09-09\", \"2018-09-10\", \"2018-09-11\", \"2018-09-12\", \"2018-09-13\", \"2018-09-14\", \"2018-09-15\", \"2018-09-16\", \"2018-09-17\", \"2018-09-18\", \"2018-09-19\", \"2018-09-20\", \"2018-09-21\", \"2018-09-22\", \"2018-09-23\", \"2018-09-24\", \"2018-09-25\", \"2018-09-26\", \"2018-09-27\", \"2018-09-28\", \"2018-09-29\", \"2018-09-30\", \"2018-10-01\", \"2018-10-02\", \"2018-10-03\", \"2018-10-04\", \"2018-10-05\", \"2018-10-06\", \"2018-10-07\", \"2018-10-08\", \"2018-10-09\", \"2018-10-10\", \"2018-10-11\", \"2018-10-12\", \"2018-10-13\", \"2018-10-14\", \"2018-10-15\", \"2018-10-16\", \"2018-10-17\", \"2018-10-18\", \"2018-10-19\", \"2018-10-20\", \"2018-10-21\", \"2018-10-22\", \"2018-10-23\", \"2018-10-24\", \"2018-10-25\", \"2018-10-26\", \"2018-10-27\", \"2018-10-28\", \"2018-10-29\", \"2018-10-30\", \"2018-10-31\", \"2018-11-01\", \"2018-11-02\", \"2018-11-03\", \"2018-11-04\", \"2018-11-05\", \"2018-11-06\", \"2018-11-07\", \"2018-11-08\", \"2018-11-09\", \"2018-11-10\", \"2018-11-11\", \"2018-11-12\", \"2018-11-13\", \"2018-11-14\", \"2018-11-15\", \"2018-11-16\", \"2018-11-17\", \"2018-11-18\", \"2018-11-19\", \"2018-11-20\", \"2018-11-21\", \"2018-11-22\", \"2018-11-23\", \"2018-11-24\", \"2018-11-25\", \"2018-11-26\", \"2018-11-27\", \"2018-11-28\", \"2018-11-29\", \"2018-11-30\", \"2018-12-01\", \"2018-12-02\", \"2018-12-03\", \"2018-12-04\", \"2018-12-05\", \"2018-12-06\", \"2018-12-07\", \"2018-12-08\", \"2018-12-09\", \"2018-12-10\", \"2018-12-11\", \"2018-12-12\", \"2018-12-13\", \"2018-12-14\", \"2018-12-15\", \"2018-12-16\", \"2018-12-17\", \"2018-12-18\", \"2018-12-19\", \"2018-12-20\", \"2018-12-21\", \"2018-12-22\", \"2018-12-23\", \"2018-12-24\", \"2018-12-25\", \"2018-12-26\", \"2018-12-27\", \"2018-12-28\", \"2018-12-29\", \"2018-12-30\", \"2018-12-31\", \"2019-01-01\", \"2019-01-02\", \"2019-01-03\", \"2019-01-04\", \"2019-01-05\", \"2019-01-06\", \"2019-01-07\", \"2019-01-08\", \"2019-01-09\", \"2019-01-10\", \"2019-01-11\", \"2019-01-12\", \"2019-01-13\", \"2019-01-14\", \"2019-01-15\", \"2019-01-16\", \"2019-01-17\", \"2019-01-18\", \"2019-01-19\", \"2019-01-20\", \"2019-01-21\", \"2019-01-22\", \"2019-01-23\", \"2019-01-24\", \"2019-01-25\", \"2019-01-26\", \"2019-01-27\", \"2019-01-28\", \"2019-01-29\", \"2019-01-30\", \"2019-01-31\", \"2019-02-01\", \"2019-02-02\", \"2019-02-03\", \"2019-02-04\", \"2019-02-05\", \"2019-02-06\", \"2019-02-07\", \"2019-02-08\", \"2019-02-09\", \"2019-02-10\", \"2019-02-11\", \"2019-02-12\", \"2019-02-13\", \"2019-02-14\", \"2019-02-15\", \"2019-02-16\", \"2019-02-17\", \"2019-02-18\", \"2019-02-19\", \"2019-02-20\", \"2019-02-21\", \"2019-02-22\", \"2019-02-23\", \"2019-02-24\", \"2019-02-25\", \"2019-02-26\", \"2019-02-27\", \"2019-02-28\", \"2019-03-01\", \"2019-03-02\", \"2019-03-03\", \"2019-03-04\", \"2019-03-05\", \"2019-03-06\", \"2019-03-07\", \"2019-03-08\", \"2019-03-09\", \"2019-03-10\", \"2019-03-11\", \"2019-03-12\", \"2019-03-13\", \"2019-03-14\", \"2019-03-15\", \"2019-03-16\", \"2019-03-17\", \"2019-03-18\", \"2019-03-19\", \"2019-03-20\", \"2019-03-21\", \"2019-03-22\", \"2019-03-23\", \"2019-03-24\", \"2019-03-25\", \"2019-03-26\", \"2019-03-27\", \"2019-03-28\", \"2019-03-29\", \"2019-03-30\", \"2019-03-31\", \"2019-04-01\", \"2019-04-02\", \"2019-04-03\", \"2019-04-04\", \"2019-04-05\", \"2019-04-06\", \"2019-04-07\", \"2019-04-08\", \"2019-04-09\", \"2019-04-10\", \"2019-04-11\", \"2019-04-12\", \"2019-04-13\", \"2019-04-14\", \"2019-04-15\", \"2019-04-16\", \"2019-04-17\", \"2019-04-18\", \"2019-04-19\", \"2019-04-20\", \"2019-04-21\", \"2019-04-22\", \"2019-04-23\", \"2019-04-24\", \"2019-04-25\", \"2019-04-26\", \"2019-04-27\", \"2019-04-28\", \"2019-04-29\", \"2019-04-30\", \"2019-05-01\", \"2019-05-02\", \"2019-05-03\", \"2019-05-04\", \"2019-05-05\", \"2019-05-06\", \"2019-05-07\", \"2019-05-08\", \"2019-05-09\", \"2019-05-10\", \"2019-05-11\", \"2019-05-12\", \"2019-05-13\", \"2019-05-14\", \"2019-05-15\", \"2019-05-16\", \"2019-05-17\", \"2019-05-18\", \"2019-05-19\", \"2019-05-20\", \"2019-05-21\", \"2019-05-22\", \"2019-05-23\", \"2019-05-24\", \"2019-05-25\", \"2019-05-26\", \"2019-05-27\", \"2019-05-28\", \"2019-05-29\", \"2019-05-30\", \"2019-05-31\", \"2019-06-01\", \"2019-06-02\", \"2019-06-03\", \"2019-06-04\", \"2019-06-05\", \"2019-06-06\", \"2019-06-07\", \"2019-06-08\", \"2019-06-09\", \"2019-06-10\", \"2019-06-11\", \"2019-06-12\", \"2019-06-13\", \"2019-06-14\", \"2019-06-15\", \"2019-06-16\", \"2019-06-17\", \"2019-06-18\", \"2019-06-19\", \"2019-06-20\", \"2019-06-21\", \"2019-06-22\", \"2019-06-23\", \"2019-06-24\", \"2019-06-25\", \"2019-06-26\", \"2019-06-27\", \"2019-06-28\", \"2019-06-29\", \"2019-06-30\", \"2019-07-01\", \"2019-07-02\", \"2019-07-03\", \"2019-07-04\", \"2019-07-05\", \"2019-07-06\", \"2019-07-07\", \"2019-07-08\", \"2019-07-09\", \"2019-07-10\", \"2019-07-11\", \"2019-07-12\", \"2019-07-13\", \"2019-07-14\", \"2019-07-15\", \"2019-07-16\", \"2019-07-17\", \"2019-07-18\", \"2019-07-19\", \"2019-07-20\", \"2019-07-21\", \"2019-07-22\", \"2019-07-23\", \"2019-07-24\", \"2019-07-25\", \"2019-07-26\", \"2019-07-27\", \"2019-07-28\", \"2019-07-29\", \"2019-07-30\", \"2019-07-31\", \"2019-08-01\", \"2019-08-02\", \"2019-08-03\", \"2019-08-04\", \"2019-08-05\", \"2019-08-06\", \"2019-08-07\", \"2019-08-08\", \"2019-08-09\", \"2019-08-10\", \"2019-08-11\", \"2019-08-12\", \"2019-08-13\", \"2019-08-14\", \"2019-08-15\", \"2019-08-16\", \"2019-08-17\", \"2019-08-18\", \"2019-08-19\", \"2019-08-20\", \"2019-08-21\", \"2019-08-22\", \"2019-08-23\", \"2019-08-24\", \"2019-08-25\", \"2019-08-26\", \"2019-08-27\", \"2019-08-28\", \"2019-08-29\", \"2019-08-30\", \"2019-08-31\", \"2019-09-01\", \"2019-09-02\", \"2019-09-03\", \"2019-09-04\", \"2019-09-05\", \"2019-09-06\", \"2019-09-07\", \"2019-09-08\", \"2019-09-09\", \"2019-09-10\", \"2019-09-11\", \"2019-09-12\", \"2019-09-13\", \"2019-09-14\", \"2019-09-15\", \"2019-09-16\", \"2019-09-17\", \"2019-09-18\", \"2019-09-19\", \"2019-09-20\", \"2019-09-21\", \"2019-09-22\", \"2019-09-23\", \"2019-09-24\", \"2019-09-25\", \"2019-09-26\", \"2019-09-27\", \"2019-09-28\", \"2019-09-29\", \"2019-09-30\", \"2019-10-01\", \"2019-10-02\", \"2019-10-03\", \"2019-10-04\", \"2019-10-05\", \"2019-10-06\", \"2019-10-07\", \"2019-10-08\", \"2019-10-09\", \"2019-10-10\", \"2019-10-11\", \"2019-10-12\", \"2019-10-13\", \"2019-10-14\", \"2019-10-15\", \"2019-10-16\", \"2019-10-17\", \"2019-10-18\", \"2019-10-19\", \"2019-10-20\", \"2019-10-21\", \"2019-10-22\", \"2019-10-23\", \"2019-10-24\", \"2019-10-25\", \"2019-10-26\", \"2019-10-27\", \"2019-10-28\", \"2019-10-29\", \"2019-10-30\", \"2019-10-31\", \"2019-11-01\", \"2019-11-02\", \"2019-11-03\", \"2019-11-04\", \"2019-11-05\", \"2019-11-06\", \"2019-11-07\", \"2019-11-08\", \"2019-11-09\", \"2019-11-10\", \"2019-11-11\", \"2019-11-12\", \"2019-11-13\", \"2019-11-14\", \"2019-11-15\", \"2019-11-16\", \"2019-11-17\", \"2019-11-18\", \"2019-11-19\", \"2019-11-20\", \"2019-11-21\", \"2019-11-22\", \"2019-11-23\", \"2019-11-24\", \"2019-11-25\", \"2019-11-26\", \"2019-11-27\", \"2019-11-28\", \"2019-11-29\", \"2019-11-30\", \"2019-12-01\", \"2019-12-02\", \"2019-12-03\", \"2019-12-04\", \"2019-12-05\", \"2019-12-06\", \"2019-12-07\", \"2019-12-08\", \"2019-12-09\", \"2019-12-10\", \"2019-12-11\", \"2019-12-12\", \"2019-12-13\", \"2019-12-14\", \"2019-12-15\", \"2019-12-16\", \"2019-12-17\", \"2019-12-18\", \"2019-12-19\", \"2019-12-20\", \"2019-12-21\", \"2019-12-22\", \"2019-12-23\", \"2019-12-24\", \"2019-12-25\", \"2019-12-26\", \"2019-12-27\", \"2019-12-28\", \"2019-12-29\", \"2019-12-30\", \"2019-12-31\", \"2020-01-01\", \"2020-01-02\", \"2020-01-03\", \"2020-01-04\", \"2020-01-05\", \"2020-01-06\", \"2020-01-07\", \"2020-01-08\", \"2020-01-09\", \"2020-01-10\", \"2020-01-11\", \"2020-01-12\", \"2020-01-13\", \"2020-01-14\", \"2020-01-15\", \"2020-01-16\", \"2020-01-17\", \"2020-01-18\", \"2020-01-19\", \"2020-01-20\", \"2020-01-21\", \"2020-01-22\", \"2020-01-23\", \"2020-01-24\", \"2020-01-25\", \"2020-01-26\", \"2020-01-27\", \"2020-01-28\", \"2020-01-29\", \"2020-01-30\", \"2020-01-31\", \"2020-02-01\", \"2020-02-02\", \"2020-02-03\", \"2020-02-04\", \"2020-02-05\", \"2020-02-06\", \"2020-02-07\", \"2020-02-08\", \"2020-02-09\", \"2020-02-10\", \"2020-02-11\", \"2020-02-12\", \"2020-02-13\", \"2020-02-14\", \"2020-02-15\", \"2020-02-16\", \"2020-02-17\", \"2020-02-18\", \"2020-02-19\", \"2020-02-20\", \"2020-02-21\", \"2020-02-22\", \"2020-02-23\", \"2020-02-24\", \"2020-02-25\", \"2020-02-26\", \"2020-02-27\", \"2020-02-28\", \"2020-02-29\", \"2020-03-01\", \"2020-03-02\", \"2020-03-03\", \"2020-03-04\", \"2020-03-05\", \"2020-03-06\", \"2020-03-07\", \"2020-03-08\", \"2020-03-09\", \"2020-03-10\", \"2020-03-11\", \"2020-03-12\", \"2020-03-13\", \"2020-03-14\", \"2020-03-15\", \"2020-03-16\", \"2020-03-17\", \"2020-03-18\", \"2020-03-19\", \"2020-03-20\", \"2020-03-21\", \"2020-03-22\", \"2020-03-23\", \"2020-03-24\", \"2020-03-25\", \"2020-03-26\", \"2020-03-27\", \"2020-03-28\", \"2020-03-29\", \"2020-03-30\", \"2020-03-31\", \"2020-04-01\", \"2020-04-02\"], \"y\": [37.94, 25.88, 34.52, 39.92, 42.62, 46.58, 38.84, 33.44, 43.52, 44.6, 37.04, 31.82, 35.6, 39.56, 37.04, 32.9, 31.64, 38.48, 42.26, 46.76, 43.7, 40.1, 41.36, 50.54, 57.02, 60.44, 62.06, 42.62, 33.62, 37.22, 37.04, 44.6, 55.4, 57.38, 57.38, 57.2, 50.36, 60.26, 52.34, 38.66, 33.98, 43.52, 54.14, 57.92, 59.9, 49.82, 44.96, 44.96, 54.32, 49.46, 50.18, 56.84, 56.12, 57.74, 57.92, 46.4, 51.98, 57.02, 60.26, 52.88, 41.9, 48.38, 59.36, 64.22, 55.58, 57.56, 61.88, 60.98, 60.44, 46.76, 39.38, 45.14, 59.36, 62.6, 47.84, 49.46, 51.08, 44.42, 47.12, 50.18, 62.24, 55.22, 61.16, 50.9, 63.5, 57.38, 54.14, 66.74, 50.18, 48.56, 59.54, 59.0, 53.78, 50.0, 65.12, 74.48, 64.4, 67.28, 72.5, 77.18, 60.44, 61.88, 66.92, 73.76, 69.98, 70.16, 69.8, 75.74, 70.34, 69.44, 67.46, 64.94, 65.66, 72.86, 75.92, 73.76, 72.86, 71.78, 69.26, 70.16, 74.84, 76.64, 74.66, 69.26, 61.88, 62.24, 60.08, 67.46, 70.88, 78.8, 83.84, 83.84, 75.56, 60.08, 64.4, 66.92, 72.86, 70.52, 67.46, 65.12, 71.06, 58.46, 57.92, 61.88, 68.72, 58.46, 59.54, 46.58, 41.54, 55.4, 64.22, 58.64, 52.16, 58.1, 60.26, 61.34, 59.72, 71.6, 72.14, 69.08, 56.12, 59.72, 55.94, 43.16, 47.12, 47.12, 55.94, 57.2, 52.52, 57.74, 50.9, 48.2, 51.98, 59.72, 54.86, 44.24, 46.22, 49.46, 56.48, 59.9, 61.52, 58.64, 46.76, 53.06, 47.84, 52.52, 41.9, 36.86, 35.6, 34.88, 38.12, 35.42, 35.6, 39.02, 46.04, 33.44, 33.98, 45.14, 48.92, 51.62, 54.5, 55.04, 60.08, 56.48, 55.58, 50.72, 46.04, 48.02, 46.94, 48.74, 48.74, 33.08, 33.26, 41.0, 44.96, 44.06, 39.56, 39.02, 34.34, 29.66, 26.6, 28.58, 41.9, 25.34, 25.16, 39.74, 48.74, 43.7, 46.94, 37.4, 31.46, 39.74, 47.3, 50.54, 39.56, 36.14, 28.94, 24.44, 31.64, 41.36, 37.94, 32.0, 30.92, 27.14, 23.18, 21.02, 20.48, 23.0, 21.74, 26.78, 31.82, 31.64, 35.6, 30.56, 33.8, 26.42, 32.18, 36.32, 32.9, 35.78, 33.98, 33.26, 34.88, 39.2, 21.92, 29.3, 28.4, 28.22, 22.28, 26.96, 19.4, 26.42, 36.32, 29.12, 14.18, 27.5, 35.42, 37.94, 38.12, 36.14, 25.7, 19.04, 34.88, 34.16, 34.88, 41.54, 44.24, 44.6, 41.54, 28.76, 34.52, 31.1, 28.94, 35.78, 33.44, 19.4, 28.94, 31.46, 30.74, 32.54, 39.38, 41.72, 33.98, 35.6, 40.46, 44.96, 38.84, 34.16, 31.64, 26.96, 21.92, 8.78, 19.58, 19.58, 20.12, 20.12, 22.1, 21.02, 28.22, 31.82, 26.6, 25.16, 20.48, 14.0, 22.82, 22.28, 18.5, 23.72, 21.02, 25.88, 29.48, 29.3, 35.24, 30.02, 27.68, 21.02, 19.58, 27.32, 28.4, 32.9, 31.1, 20.48, 22.82, 31.82, 33.8, 29.66, 23.9, 32.9, 37.22, 41.72, 41.18, 44.6, 47.48, 44.42, 48.38, 45.32, 33.98, 34.88, 39.2, 35.42, 34.52, 35.24, 32.54, 37.04, 39.2, 39.56, 40.64, 43.16, 40.1, 40.82, 34.52, 39.56, 41.18, 35.06, 32.9, 34.52, 35.96, 39.74, 30.74, 36.32, 34.7, 42.44, 54.32, 56.84, 38.48, 40.28, 49.46, 52.7, 44.06, 51.98, 43.34, 42.44, 32.36, 35.06, 34.34, 40.28, 41.36, 50.36, 55.04, 53.06, 49.64, 50.9, 48.2, 46.58, 53.78, 60.44, 60.98, 58.64, 55.4, 46.04, 42.62, 36.5, 46.04, 42.98, 38.48, 38.12, 36.86, 46.22, 40.82, 44.24, 48.2, 44.24, 49.46, 49.28, 57.02, 58.46, 60.08, 63.68, 60.08, 58.28, 61.16, 41.9, 36.14, 42.44, 52.16, 61.7, 61.88, 69.08, 63.86, 60.98, 62.24, 63.14, 60.8, 59.54, 52.7, 36.32, 37.4, 53.06, 47.84, 55.76, 56.84, 58.28, 51.26, 56.84, 61.16, 60.98, 60.8, 57.38, 51.8, 58.28, 66.2, 66.2, 58.28, 58.82, 64.04, 68.18, 70.88, 73.76, 68.54, 64.58, 63.5, 56.84, 61.34, 61.16, 54.32, 59.36, 69.98, 75.92, 71.78, 59.36, 66.74, 73.22, 66.2, 65.84, 68.0, 71.42, 73.94, 73.76, 66.2, 68.36, 69.98, 71.78, 75.2, 72.68, 67.82, 68.18, 57.2, 53.06, 59.0, 63.68, 64.76, 61.52, 59.9, 57.02, 68.36, 69.44, 75.74, 73.94, 54.5, 63.32, 69.62, 56.12, 59.36, 66.02, 75.56, 64.22, 66.74, 72.14, 71.96, 68.0, 74.12, 70.34, 75.56, 63.14, 64.58, 50.18, 47.84, 46.94, 47.84, 59.9, 60.98, 64.76, 63.5, 53.42, 44.96, 41.36, 40.64, 42.26, 48.02, 55.04, 52.88, 55.22, 50.36, 53.96, 48.2, 30.74, 28.22, 31.1, 29.66, 38.84, 39.38, 33.62, 37.58, 48.56, 53.6, 45.14, 23.54, 32.18, 45.86, 49.28, 50.0, 40.46, 53.96, 53.24, 46.76, 34.52, 31.64, 31.46, 38.66, 46.58, 35.24, 50.0, 51.98, 29.48, 20.66, 28.04, 17.24, 31.1, 42.98, 35.96, 49.46, 42.8, 45.14, 51.98, 41.36, 49.28, 55.04, 51.8, 42.98, 45.68, 46.94, 39.56, 51.8, 45.86, 38.48, 46.58, 47.66, 42.44, 28.04, 37.58, 36.5, 46.58, 38.3, 22.1, 16.52, 21.38, 25.16, 16.34, 23.18, 29.3, 34.7, 37.76, 37.22, 38.12, 36.32, 33.62, 30.74, 28.94, 33.44, 33.62, 31.46, 25.34, 23.72, 21.2, 24.44, 32.18, 34.7, 34.16, 38.3, 36.86, 39.38, 33.08, 22.64, 22.46, 23.36, 22.28, 28.58, 30.74, 27.86, 36.68, 33.62, 29.66, 36.86, 33.98, 25.34, 30.92, 34.34, 28.04, 17.96, 24.44, 24.98, 21.92, 18.32, 18.5, 20.12, 24.98, 17.96, 27.14, 37.94, 35.24, 30.56, 33.08, 39.02, 33.8, 33.8, 35.06, 31.28, 31.1, 34.7, 37.94, 41.18, 42.8, 24.98, 15.08, 21.2, 33.8, 34.16, 36.32, 31.1, 25.34, 24.44, 37.22, 27.32, 41.18, 26.24, 30.56, 26.6, 19.4, 20.66, 30.38, 37.04, 39.74, 40.82, 36.68, 22.46, 35.78, 37.94, 41.54, 43.16, 34.34, 23.18, 39.02, 39.74, 36.14, 43.52, 43.34, 40.46, 30.56, 29.48, 37.94, 41.54, 30.2, 35.78, 27.68, 34.16, 39.38, 41.54, 37.04, 39.56, 38.3, 40.46, 42.26, 37.76, 30.56, 26.6, 28.04, 29.3, 38.66, 35.78, 32.54, 27.86, 26.42]}, {\"hovertext\": [2.143384154400323, 2.0479741919650802, 2.059900437269486, 2.1076054184871067, 2.25072036213997, 2.5846552306633184, 2.5846552306633184, 2.036047946660675, -2.030801702141525, -2.388589061273683, -2.04272794744593, 2.059900437269486, 2.012195456051865, 2.0479741919650802, 2.036047946660675, 2.036047946660675], \"mode\": \"markers\", \"type\": \"scatter\", \"x\": [\"2018-07-10\", \"2018-07-18\", \"2018-07-25\", \"2018-08-01\", \"2018-08-09\", \"2018-08-10\", \"2018-08-11\", \"2018-08-12\", \"2019-01-01\", \"2019-02-07\", \"2019-02-19\", \"2019-07-23\", \"2019-08-07\", \"2019-08-21\", \"2019-08-29\", \"2019-09-06\"], \"y\": [77.18, 75.74, 75.92, 76.64, 78.8, 83.84, 83.84, 75.56, 14.18, 8.78, 14.0, 75.92, 75.2, 75.74, 75.56, 75.56]}],\n",
              "                        {\"height\": 800, \"template\": {\"data\": {\"bar\": [{\"error_x\": {\"color\": \"#2a3f5f\"}, \"error_y\": {\"color\": \"#2a3f5f\"}, \"marker\": {\"line\": {\"color\": \"#E5ECF6\", \"width\": 0.5}}, \"type\": \"bar\"}], \"barpolar\": [{\"marker\": {\"line\": {\"color\": \"#E5ECF6\", \"width\": 0.5}}, \"type\": \"barpolar\"}], \"carpet\": [{\"aaxis\": {\"endlinecolor\": \"#2a3f5f\", \"gridcolor\": \"white\", \"linecolor\": \"white\", \"minorgridcolor\": \"white\", \"startlinecolor\": \"#2a3f5f\"}, \"baxis\": {\"endlinecolor\": \"#2a3f5f\", \"gridcolor\": \"white\", \"linecolor\": \"white\", \"minorgridcolor\": \"white\", \"startlinecolor\": \"#2a3f5f\"}, \"type\": \"carpet\"}], \"choropleth\": [{\"colorbar\": {\"outlinewidth\": 0, \"ticks\": \"\"}, \"type\": \"choropleth\"}], \"contour\": [{\"colorbar\": {\"outlinewidth\": 0, \"ticks\": \"\"}, \"colorscale\": [[0.0, \"#0d0887\"], [0.1111111111111111, \"#46039f\"], [0.2222222222222222, \"#7201a8\"], [0.3333333333333333, \"#9c179e\"], [0.4444444444444444, \"#bd3786\"], [0.5555555555555556, \"#d8576b\"], [0.6666666666666666, \"#ed7953\"], [0.7777777777777778, \"#fb9f3a\"], [0.8888888888888888, \"#fdca26\"], [1.0, \"#f0f921\"]], \"type\": \"contour\"}], \"contourcarpet\": [{\"colorbar\": {\"outlinewidth\": 0, \"ticks\": \"\"}, \"type\": \"contourcarpet\"}], \"heatmap\": [{\"colorbar\": {\"outlinewidth\": 0, \"ticks\": \"\"}, \"colorscale\": [[0.0, \"#0d0887\"], [0.1111111111111111, \"#46039f\"], [0.2222222222222222, \"#7201a8\"], [0.3333333333333333, \"#9c179e\"], [0.4444444444444444, \"#bd3786\"], [0.5555555555555556, \"#d8576b\"], [0.6666666666666666, \"#ed7953\"], [0.7777777777777778, \"#fb9f3a\"], [0.8888888888888888, \"#fdca26\"], [1.0, \"#f0f921\"]], \"type\": \"heatmap\"}], \"heatmapgl\": [{\"colorbar\": {\"outlinewidth\": 0, \"ticks\": \"\"}, \"colorscale\": [[0.0, \"#0d0887\"], [0.1111111111111111, \"#46039f\"], [0.2222222222222222, \"#7201a8\"], [0.3333333333333333, \"#9c179e\"], [0.4444444444444444, \"#bd3786\"], [0.5555555555555556, \"#d8576b\"], [0.6666666666666666, \"#ed7953\"], [0.7777777777777778, \"#fb9f3a\"], [0.8888888888888888, \"#fdca26\"], [1.0, \"#f0f921\"]], \"type\": \"heatmapgl\"}], \"histogram\": [{\"marker\": {\"colorbar\": {\"outlinewidth\": 0, \"ticks\": \"\"}}, \"type\": \"histogram\"}], \"histogram2d\": [{\"colorbar\": {\"outlinewidth\": 0, \"ticks\": \"\"}, \"colorscale\": [[0.0, \"#0d0887\"], [0.1111111111111111, \"#46039f\"], [0.2222222222222222, \"#7201a8\"], [0.3333333333333333, \"#9c179e\"], [0.4444444444444444, \"#bd3786\"], [0.5555555555555556, \"#d8576b\"], [0.6666666666666666, \"#ed7953\"], [0.7777777777777778, \"#fb9f3a\"], [0.8888888888888888, \"#fdca26\"], [1.0, \"#f0f921\"]], \"type\": \"histogram2d\"}], \"histogram2dcontour\": [{\"colorbar\": {\"outlinewidth\": 0, \"ticks\": \"\"}, \"colorscale\": [[0.0, \"#0d0887\"], [0.1111111111111111, \"#46039f\"], [0.2222222222222222, \"#7201a8\"], [0.3333333333333333, \"#9c179e\"], [0.4444444444444444, \"#bd3786\"], [0.5555555555555556, \"#d8576b\"], [0.6666666666666666, \"#ed7953\"], [0.7777777777777778, \"#fb9f3a\"], [0.8888888888888888, \"#fdca26\"], [1.0, \"#f0f921\"]], \"type\": \"histogram2dcontour\"}], \"mesh3d\": [{\"colorbar\": {\"outlinewidth\": 0, \"ticks\": \"\"}, \"type\": \"mesh3d\"}], \"parcoords\": [{\"line\": {\"colorbar\": {\"outlinewidth\": 0, \"ticks\": \"\"}}, \"type\": \"parcoords\"}], \"pie\": [{\"automargin\": true, \"type\": \"pie\"}], \"scatter\": [{\"marker\": {\"colorbar\": {\"outlinewidth\": 0, \"ticks\": \"\"}}, \"type\": \"scatter\"}], \"scatter3d\": [{\"line\": {\"colorbar\": {\"outlinewidth\": 0, \"ticks\": \"\"}}, \"marker\": {\"colorbar\": {\"outlinewidth\": 0, \"ticks\": \"\"}}, \"type\": \"scatter3d\"}], \"scattercarpet\": [{\"marker\": {\"colorbar\": {\"outlinewidth\": 0, \"ticks\": \"\"}}, \"type\": \"scattercarpet\"}], \"scattergeo\": [{\"marker\": {\"colorbar\": {\"outlinewidth\": 0, \"ticks\": \"\"}}, \"type\": \"scattergeo\"}], \"scattergl\": [{\"marker\": {\"colorbar\": {\"outlinewidth\": 0, \"ticks\": \"\"}}, \"type\": \"scattergl\"}], \"scattermapbox\": [{\"marker\": {\"colorbar\": {\"outlinewidth\": 0, \"ticks\": \"\"}}, \"type\": \"scattermapbox\"}], \"scatterpolar\": [{\"marker\": {\"colorbar\": {\"outlinewidth\": 0, \"ticks\": \"\"}}, \"type\": \"scatterpolar\"}], \"scatterpolargl\": [{\"marker\": {\"colorbar\": {\"outlinewidth\": 0, \"ticks\": \"\"}}, \"type\": \"scatterpolargl\"}], \"scatterternary\": [{\"marker\": {\"colorbar\": {\"outlinewidth\": 0, \"ticks\": \"\"}}, \"type\": \"scatterternary\"}], \"surface\": [{\"colorbar\": {\"outlinewidth\": 0, \"ticks\": \"\"}, \"colorscale\": [[0.0, \"#0d0887\"], [0.1111111111111111, \"#46039f\"], [0.2222222222222222, \"#7201a8\"], [0.3333333333333333, \"#9c179e\"], [0.4444444444444444, \"#bd3786\"], [0.5555555555555556, \"#d8576b\"], [0.6666666666666666, \"#ed7953\"], [0.7777777777777778, \"#fb9f3a\"], [0.8888888888888888, \"#fdca26\"], [1.0, \"#f0f921\"]], \"type\": \"surface\"}], \"table\": [{\"cells\": {\"fill\": {\"color\": \"#EBF0F8\"}, \"line\": {\"color\": \"white\"}}, \"header\": {\"fill\": {\"color\": \"#C8D4E3\"}, \"line\": {\"color\": \"white\"}}, \"type\": \"table\"}]}, \"layout\": {\"annotationdefaults\": {\"arrowcolor\": \"#2a3f5f\", \"arrowhead\": 0, \"arrowwidth\": 1}, \"coloraxis\": {\"colorbar\": {\"outlinewidth\": 0, \"ticks\": \"\"}}, \"colorscale\": {\"diverging\": [[0, \"#8e0152\"], [0.1, \"#c51b7d\"], [0.2, \"#de77ae\"], [0.3, \"#f1b6da\"], [0.4, \"#fde0ef\"], [0.5, \"#f7f7f7\"], [0.6, \"#e6f5d0\"], [0.7, \"#b8e186\"], [0.8, \"#7fbc41\"], [0.9, \"#4d9221\"], [1, \"#276419\"]], \"sequential\": [[0.0, \"#0d0887\"], [0.1111111111111111, \"#46039f\"], [0.2222222222222222, \"#7201a8\"], [0.3333333333333333, \"#9c179e\"], [0.4444444444444444, \"#bd3786\"], [0.5555555555555556, \"#d8576b\"], [0.6666666666666666, \"#ed7953\"], [0.7777777777777778, \"#fb9f3a\"], [0.8888888888888888, \"#fdca26\"], [1.0, \"#f0f921\"]], \"sequentialminus\": [[0.0, \"#0d0887\"], [0.1111111111111111, \"#46039f\"], [0.2222222222222222, \"#7201a8\"], [0.3333333333333333, \"#9c179e\"], [0.4444444444444444, \"#bd3786\"], [0.5555555555555556, \"#d8576b\"], [0.6666666666666666, \"#ed7953\"], [0.7777777777777778, \"#fb9f3a\"], [0.8888888888888888, \"#fdca26\"], [1.0, \"#f0f921\"]]}, \"colorway\": [\"#636efa\", \"#EF553B\", \"#00cc96\", \"#ab63fa\", \"#FFA15A\", \"#19d3f3\", \"#FF6692\", \"#B6E880\", \"#FF97FF\", \"#FECB52\"], \"font\": {\"color\": \"#2a3f5f\"}, \"geo\": {\"bgcolor\": \"white\", \"lakecolor\": \"white\", \"landcolor\": \"#E5ECF6\", \"showlakes\": true, \"showland\": true, \"subunitcolor\": \"white\"}, \"hoverlabel\": {\"align\": \"left\"}, \"hovermode\": \"closest\", \"mapbox\": {\"style\": \"light\"}, \"paper_bgcolor\": \"white\", \"plot_bgcolor\": \"#E5ECF6\", \"polar\": {\"angularaxis\": {\"gridcolor\": \"white\", \"linecolor\": \"white\", \"ticks\": \"\"}, \"bgcolor\": \"#E5ECF6\", \"radialaxis\": {\"gridcolor\": \"white\", \"linecolor\": \"white\", \"ticks\": \"\"}}, \"scene\": {\"xaxis\": {\"backgroundcolor\": \"#E5ECF6\", \"gridcolor\": \"white\", \"gridwidth\": 2, \"linecolor\": \"white\", \"showbackground\": true, \"ticks\": \"\", \"zerolinecolor\": \"white\"}, \"yaxis\": {\"backgroundcolor\": \"#E5ECF6\", \"gridcolor\": \"white\", \"gridwidth\": 2, \"linecolor\": \"white\", \"showbackground\": true, \"ticks\": \"\", \"zerolinecolor\": \"white\"}, \"zaxis\": {\"backgroundcolor\": \"#E5ECF6\", \"gridcolor\": \"white\", \"gridwidth\": 2, \"linecolor\": \"white\", \"showbackground\": true, \"ticks\": \"\", \"zerolinecolor\": \"white\"}}, \"shapedefaults\": {\"line\": {\"color\": \"#2a3f5f\"}}, \"ternary\": {\"aaxis\": {\"gridcolor\": \"white\", \"linecolor\": \"white\", \"ticks\": \"\"}, \"baxis\": {\"gridcolor\": \"white\", \"linecolor\": \"white\", \"ticks\": \"\"}, \"bgcolor\": \"#E5ECF6\", \"caxis\": {\"gridcolor\": \"white\", \"linecolor\": \"white\", \"ticks\": \"\"}}, \"title\": {\"x\": 0.05}, \"xaxis\": {\"automargin\": true, \"gridcolor\": \"white\", \"linecolor\": \"white\", \"ticks\": \"\", \"title\": {\"standoff\": 15}, \"zerolinecolor\": \"white\", \"zerolinewidth\": 2}, \"yaxis\": {\"automargin\": true, \"gridcolor\": \"white\", \"linecolor\": \"white\", \"ticks\": \"\", \"title\": {\"standoff\": 15}, \"zerolinecolor\": \"white\", \"zerolinewidth\": 2}}}, \"width\": 1100, \"xaxis\": {\"title\": {\"text\": \"Date\"}}},\n",
              "                        {\"responsive\": true}\n",
              "                    ).then(function(){\n",
              "                            \n",
              "var gd = document.getElementById('14fbdb47-dcbb-4252-a168-2bf7e6a89969');\n",
              "var x = new MutationObserver(function (mutations, observer) {{\n",
              "        var display = window.getComputedStyle(gd).display;\n",
              "        if (!display || display === 'none') {{\n",
              "            console.log([gd, 'removed!']);\n",
              "            Plotly.purge(gd);\n",
              "            observer.disconnect();\n",
              "        }}\n",
              "}});\n",
              "\n",
              "// Listen for the removal of the full notebook cells\n",
              "var notebookContainer = gd.closest('#notebook-container');\n",
              "if (notebookContainer) {{\n",
              "    x.observe(notebookContainer, {childList: true});\n",
              "}}\n",
              "\n",
              "// Listen for the clearing of the current output cell\n",
              "var outputEl = gd.closest('.output');\n",
              "if (outputEl) {{\n",
              "    x.observe(outputEl, {childList: true});\n",
              "}}\n",
              "\n",
              "                        })\n",
              "                };\n",
              "                \n",
              "            </script>\n",
              "        </div>\n",
              "</body>\n",
              "</html>"
            ]
          },
          "metadata": {
            "tags": []
          }
        },
        {
          "output_type": "display_data",
          "data": {
            "text/html": [
              "<html>\n",
              "<head><meta charset=\"utf-8\" /></head>\n",
              "<body>\n",
              "    <div>\n",
              "            <script src=\"https://cdnjs.cloudflare.com/ajax/libs/mathjax/2.7.5/MathJax.js?config=TeX-AMS-MML_SVG\"></script><script type=\"text/javascript\">if (window.MathJax) {MathJax.Hub.Config({SVG: {font: \"STIX-Web\"}});}</script>\n",
              "                <script type=\"text/javascript\">window.PlotlyConfig = {MathJaxConfig: 'local'};</script>\n",
              "        <script src=\"https://cdn.plot.ly/plotly-latest.min.js\"></script>    \n",
              "            <div id=\"f11f80c0-6b26-454d-b3f1-dd9558bc9c5f\" class=\"plotly-graph-div\" style=\"height:800px; width:1100px;\"></div>\n",
              "            <script type=\"text/javascript\">\n",
              "                \n",
              "                    window.PLOTLYENV=window.PLOTLYENV || {};\n",
              "                    \n",
              "                if (document.getElementById(\"f11f80c0-6b26-454d-b3f1-dd9558bc9c5f\")) {\n",
              "                    Plotly.newPlot(\n",
              "                        'f11f80c0-6b26-454d-b3f1-dd9558bc9c5f',\n",
              "                        [{\"mode\": \"lines\", \"type\": \"scatter\", \"x\": [\"2018-04-02\", \"2018-04-03\", \"2018-04-04\", \"2018-04-05\", \"2018-04-06\", \"2018-04-07\", \"2018-04-08\", \"2018-04-09\", \"2018-04-10\", \"2018-04-11\", \"2018-04-12\", \"2018-04-13\", \"2018-04-14\", \"2018-04-15\", \"2018-04-16\", \"2018-04-17\", \"2018-04-18\", \"2018-04-19\", \"2018-04-20\", \"2018-04-21\", \"2018-04-22\", \"2018-04-23\", \"2018-04-24\", \"2018-04-25\", \"2018-04-26\", \"2018-04-27\", \"2018-04-28\", \"2018-04-29\", \"2018-04-30\", \"2018-05-01\", \"2018-05-02\", \"2018-05-03\", \"2018-05-04\", \"2018-05-05\", \"2018-05-06\", \"2018-05-07\", \"2018-05-08\", \"2018-05-09\", \"2018-05-10\", \"2018-05-11\", \"2018-05-12\", \"2018-05-13\", \"2018-05-14\", \"2018-05-15\", \"2018-05-16\", \"2018-05-17\", \"2018-05-18\", \"2018-05-19\", \"2018-05-20\", \"2018-05-21\", \"2018-05-22\", \"2018-05-23\", \"2018-05-24\", \"2018-05-25\", \"2018-05-26\", \"2018-05-27\", \"2018-05-28\", \"2018-05-29\", \"2018-05-30\", \"2018-05-31\", \"2018-06-01\", \"2018-06-02\", \"2018-06-03\", \"2018-06-04\", \"2018-06-05\", \"2018-06-06\", \"2018-06-07\", \"2018-06-08\", \"2018-06-09\", \"2018-06-10\", \"2018-06-11\", \"2018-06-12\", \"2018-06-13\", \"2018-06-14\", \"2018-06-15\", \"2018-06-16\", \"2018-06-17\", \"2018-06-18\", \"2018-06-19\", \"2018-06-20\", \"2018-06-21\", \"2018-06-22\", \"2018-06-23\", \"2018-06-24\", \"2018-06-25\", \"2018-06-26\", \"2018-06-27\", \"2018-06-28\", \"2018-06-29\", \"2018-06-30\", \"2018-07-01\", \"2018-07-02\", \"2018-07-03\", \"2018-07-04\", \"2018-07-05\", \"2018-07-06\", \"2018-07-07\", \"2018-07-08\", \"2018-07-09\", \"2018-07-10\", \"2018-07-11\", \"2018-07-12\", \"2018-07-13\", \"2018-07-14\", \"2018-07-15\", \"2018-07-16\", \"2018-07-17\", \"2018-07-18\", \"2018-07-19\", \"2018-07-20\", \"2018-07-21\", \"2018-07-22\", \"2018-07-23\", \"2018-07-24\", \"2018-07-25\", \"2018-07-26\", \"2018-07-27\", \"2018-07-28\", \"2018-07-29\", \"2018-07-30\", \"2018-07-31\", \"2018-08-01\", \"2018-08-02\", \"2018-08-03\", \"2018-08-04\", \"2018-08-05\", \"2018-08-06\", \"2018-08-07\", \"2018-08-08\", \"2018-08-09\", \"2018-08-10\", \"2018-08-11\", \"2018-08-12\", \"2018-08-13\", \"2018-08-14\", \"2018-08-15\", \"2018-08-16\", \"2018-08-17\", \"2018-08-18\", \"2018-08-19\", \"2018-08-20\", \"2018-08-21\", \"2018-08-22\", \"2018-08-23\", \"2018-08-24\", \"2018-08-25\", \"2018-08-26\", \"2018-08-27\", \"2018-08-28\", \"2018-08-29\", \"2018-08-30\", \"2018-08-31\", \"2018-09-01\", \"2018-09-02\", \"2018-09-03\", \"2018-09-04\", \"2018-09-05\", \"2018-09-06\", \"2018-09-07\", \"2018-09-08\", \"2018-09-09\", \"2018-09-10\", \"2018-09-11\", \"2018-09-12\", \"2018-09-13\", \"2018-09-14\", \"2018-09-15\", \"2018-09-16\", \"2018-09-17\", \"2018-09-18\", \"2018-09-19\", \"2018-09-20\", \"2018-09-21\", \"2018-09-22\", \"2018-09-23\", \"2018-09-24\", \"2018-09-25\", \"2018-09-26\", \"2018-09-27\", \"2018-09-28\", \"2018-09-29\", \"2018-09-30\", \"2018-10-01\", \"2018-10-02\", \"2018-10-03\", \"2018-10-04\", \"2018-10-05\", \"2018-10-06\", \"2018-10-07\", \"2018-10-08\", \"2018-10-09\", \"2018-10-10\", \"2018-10-11\", \"2018-10-12\", \"2018-10-13\", \"2018-10-14\", \"2018-10-15\", \"2018-10-16\", \"2018-10-17\", \"2018-10-18\", \"2018-10-19\", \"2018-10-20\", \"2018-10-21\", \"2018-10-22\", \"2018-10-23\", \"2018-10-24\", \"2018-10-25\", \"2018-10-26\", \"2018-10-27\", \"2018-10-28\", \"2018-10-29\", \"2018-10-30\", \"2018-10-31\", \"2018-11-01\", \"2018-11-02\", \"2018-11-03\", \"2018-11-04\", \"2018-11-05\", \"2018-11-06\", \"2018-11-07\", \"2018-11-08\", \"2018-11-09\", \"2018-11-10\", \"2018-11-11\", \"2018-11-12\", \"2018-11-13\", \"2018-11-14\", \"2018-11-15\", \"2018-11-16\", \"2018-11-17\", \"2018-11-18\", \"2018-11-19\", \"2018-11-20\", \"2018-11-21\", \"2018-11-22\", \"2018-11-23\", \"2018-11-24\", \"2018-11-25\", \"2018-11-26\", \"2018-11-27\", \"2018-11-28\", \"2018-11-29\", \"2018-11-30\", \"2018-12-01\", \"2018-12-02\", \"2018-12-03\", \"2018-12-04\", \"2018-12-05\", \"2018-12-06\", \"2018-12-07\", \"2018-12-08\", \"2018-12-09\", \"2018-12-10\", \"2018-12-11\", \"2018-12-12\", \"2018-12-13\", \"2018-12-14\", \"2018-12-15\", \"2018-12-16\", \"2018-12-17\", \"2018-12-18\", \"2018-12-19\", \"2018-12-20\", \"2018-12-21\", \"2018-12-22\", \"2018-12-23\", \"2018-12-24\", \"2018-12-25\", \"2018-12-26\", \"2018-12-27\", \"2018-12-28\", \"2018-12-29\", \"2018-12-30\", \"2018-12-31\", \"2019-01-01\", \"2019-01-02\", \"2019-01-03\", \"2019-01-04\", \"2019-01-05\", \"2019-01-06\", \"2019-01-07\", \"2019-01-08\", \"2019-01-09\", \"2019-01-10\", \"2019-01-11\", \"2019-01-12\", \"2019-01-13\", \"2019-01-14\", \"2019-01-15\", \"2019-01-16\", \"2019-01-17\", \"2019-01-18\", \"2019-01-19\", \"2019-01-20\", \"2019-01-21\", \"2019-01-22\", \"2019-01-23\", \"2019-01-24\", \"2019-01-25\", \"2019-01-26\", \"2019-01-27\", \"2019-01-28\", \"2019-01-29\", \"2019-01-30\", \"2019-01-31\", \"2019-02-01\", \"2019-02-02\", \"2019-02-03\", \"2019-02-04\", \"2019-02-05\", \"2019-02-06\", \"2019-02-07\", \"2019-02-08\", \"2019-02-09\", \"2019-02-10\", \"2019-02-11\", \"2019-02-12\", \"2019-02-13\", \"2019-02-14\", \"2019-02-15\", \"2019-02-16\", \"2019-02-17\", \"2019-02-18\", \"2019-02-19\", \"2019-02-20\", \"2019-02-21\", \"2019-02-22\", \"2019-02-23\", \"2019-02-24\", \"2019-02-25\", \"2019-02-26\", \"2019-02-27\", \"2019-02-28\", \"2019-03-01\", \"2019-03-02\", \"2019-03-03\", \"2019-03-04\", \"2019-03-05\", \"2019-03-06\", \"2019-03-07\", \"2019-03-08\", \"2019-03-09\", \"2019-03-10\", \"2019-03-11\", \"2019-03-12\", \"2019-03-13\", \"2019-03-14\", \"2019-03-15\", \"2019-03-16\", \"2019-03-17\", \"2019-03-18\", \"2019-03-19\", \"2019-03-20\", \"2019-03-21\", \"2019-03-22\", \"2019-03-23\", \"2019-03-24\", \"2019-03-25\", \"2019-03-26\", \"2019-03-27\", \"2019-03-28\", \"2019-03-29\", \"2019-03-30\", \"2019-03-31\", \"2019-04-01\", \"2019-04-02\", \"2019-04-03\", \"2019-04-04\", \"2019-04-05\", \"2019-04-06\", \"2019-04-07\", \"2019-04-08\", \"2019-04-09\", \"2019-04-10\", \"2019-04-11\", \"2019-04-12\", \"2019-04-13\", \"2019-04-14\", \"2019-04-15\", \"2019-04-16\", \"2019-04-17\", \"2019-04-18\", \"2019-04-19\", \"2019-04-20\", \"2019-04-21\", \"2019-04-22\", \"2019-04-23\", \"2019-04-24\", \"2019-04-25\", \"2019-04-26\", \"2019-04-27\", \"2019-04-28\", \"2019-04-29\", \"2019-04-30\", \"2019-05-01\", \"2019-05-02\", \"2019-05-03\", \"2019-05-04\", \"2019-05-05\", \"2019-05-06\", \"2019-05-07\", \"2019-05-08\", \"2019-05-09\", \"2019-05-10\", \"2019-05-11\", \"2019-05-12\", \"2019-05-13\", \"2019-05-14\", \"2019-05-15\", \"2019-05-16\", \"2019-05-17\", \"2019-05-18\", \"2019-05-19\", \"2019-05-20\", \"2019-05-21\", \"2019-05-22\", \"2019-05-23\", \"2019-05-24\", \"2019-05-25\", \"2019-05-26\", \"2019-05-27\", \"2019-05-28\", \"2019-05-29\", \"2019-05-30\", \"2019-05-31\", \"2019-06-01\", \"2019-06-02\", \"2019-06-03\", \"2019-06-04\", \"2019-06-05\", \"2019-06-06\", \"2019-06-07\", \"2019-06-08\", \"2019-06-09\", \"2019-06-10\", \"2019-06-11\", \"2019-06-12\", \"2019-06-13\", \"2019-06-14\", \"2019-06-15\", \"2019-06-16\", \"2019-06-17\", \"2019-06-18\", \"2019-06-19\", \"2019-06-20\", \"2019-06-21\", \"2019-06-22\", \"2019-06-23\", \"2019-06-24\", \"2019-06-25\", \"2019-06-26\", \"2019-06-27\", \"2019-06-28\", \"2019-06-29\", \"2019-06-30\", \"2019-07-01\", \"2019-07-02\", \"2019-07-03\", \"2019-07-04\", \"2019-07-05\", \"2019-07-06\", \"2019-07-07\", \"2019-07-08\", \"2019-07-09\", \"2019-07-10\", \"2019-07-11\", \"2019-07-12\", \"2019-07-13\", \"2019-07-14\", \"2019-07-15\", \"2019-07-16\", \"2019-07-17\", \"2019-07-18\", \"2019-07-19\", \"2019-07-20\", \"2019-07-21\", \"2019-07-22\", \"2019-07-23\", \"2019-07-24\", \"2019-07-25\", \"2019-07-26\", \"2019-07-27\", \"2019-07-28\", \"2019-07-29\", \"2019-07-30\", \"2019-07-31\", \"2019-08-01\", \"2019-08-02\", \"2019-08-03\", \"2019-08-04\", \"2019-08-05\", \"2019-08-06\", \"2019-08-07\", \"2019-08-08\", \"2019-08-09\", \"2019-08-10\", \"2019-08-11\", \"2019-08-12\", \"2019-08-13\", \"2019-08-14\", \"2019-08-15\", \"2019-08-16\", \"2019-08-17\", \"2019-08-18\", \"2019-08-19\", \"2019-08-20\", \"2019-08-21\", \"2019-08-22\", \"2019-08-23\", \"2019-08-24\", \"2019-08-25\", \"2019-08-26\", \"2019-08-27\", \"2019-08-28\", \"2019-08-29\", \"2019-08-30\", \"2019-08-31\", \"2019-09-01\", \"2019-09-02\", \"2019-09-03\", \"2019-09-04\", \"2019-09-05\", \"2019-09-06\", \"2019-09-07\", \"2019-09-08\", \"2019-09-09\", \"2019-09-10\", \"2019-09-11\", \"2019-09-12\", \"2019-09-13\", \"2019-09-14\", \"2019-09-15\", \"2019-09-16\", \"2019-09-17\", \"2019-09-18\", \"2019-09-19\", \"2019-09-20\", \"2019-09-21\", \"2019-09-22\", \"2019-09-23\", \"2019-09-24\", \"2019-09-25\", \"2019-09-26\", \"2019-09-27\", \"2019-09-28\", \"2019-09-29\", \"2019-09-30\", \"2019-10-01\", \"2019-10-02\", \"2019-10-03\", \"2019-10-04\", \"2019-10-05\", \"2019-10-06\", \"2019-10-07\", \"2019-10-08\", \"2019-10-09\", \"2019-10-10\", \"2019-10-11\", \"2019-10-12\", \"2019-10-13\", \"2019-10-14\", \"2019-10-15\", \"2019-10-16\", \"2019-10-17\", \"2019-10-18\", \"2019-10-19\", \"2019-10-20\", \"2019-10-21\", \"2019-10-22\", \"2019-10-23\", \"2019-10-24\", \"2019-10-25\", \"2019-10-26\", \"2019-10-27\", \"2019-10-28\", \"2019-10-29\", \"2019-10-30\", \"2019-10-31\", \"2019-11-01\", \"2019-11-02\", \"2019-11-03\", \"2019-11-04\", \"2019-11-05\", \"2019-11-06\", \"2019-11-07\", \"2019-11-08\", \"2019-11-09\", \"2019-11-10\", \"2019-11-11\", \"2019-11-12\", \"2019-11-13\", \"2019-11-14\", \"2019-11-15\", \"2019-11-16\", \"2019-11-17\", \"2019-11-18\", \"2019-11-19\", \"2019-11-20\", \"2019-11-21\", \"2019-11-22\", \"2019-11-23\", \"2019-11-24\", \"2019-11-25\", \"2019-11-26\", \"2019-11-27\", \"2019-11-28\", \"2019-11-29\", \"2019-11-30\", \"2019-12-01\", \"2019-12-02\", \"2019-12-03\", \"2019-12-04\", \"2019-12-05\", \"2019-12-06\", \"2019-12-07\", \"2019-12-08\", \"2019-12-09\", \"2019-12-10\", \"2019-12-11\", \"2019-12-12\", \"2019-12-13\", \"2019-12-14\", \"2019-12-15\", \"2019-12-16\", \"2019-12-17\", \"2019-12-18\", \"2019-12-19\", \"2019-12-20\", \"2019-12-21\", \"2019-12-22\", \"2019-12-23\", \"2019-12-24\", \"2019-12-25\", \"2019-12-26\", \"2019-12-27\", \"2019-12-28\", \"2019-12-29\", \"2019-12-30\", \"2019-12-31\", \"2020-01-01\", \"2020-01-02\", \"2020-01-03\", \"2020-01-04\", \"2020-01-05\", \"2020-01-06\", \"2020-01-07\", \"2020-01-08\", \"2020-01-09\", \"2020-01-10\", \"2020-01-11\", \"2020-01-12\", \"2020-01-13\", \"2020-01-14\", \"2020-01-15\", \"2020-01-16\", \"2020-01-17\", \"2020-01-18\", \"2020-01-19\", \"2020-01-20\", \"2020-01-21\", \"2020-01-22\", \"2020-01-23\", \"2020-01-24\", \"2020-01-25\", \"2020-01-26\", \"2020-01-27\", \"2020-01-28\", \"2020-01-29\", \"2020-01-30\", \"2020-01-31\", \"2020-02-01\", \"2020-02-02\", \"2020-02-03\", \"2020-02-04\", \"2020-02-05\", \"2020-02-06\", \"2020-02-07\", \"2020-02-08\", \"2020-02-09\", \"2020-02-10\", \"2020-02-11\", \"2020-02-12\", \"2020-02-13\", \"2020-02-14\", \"2020-02-15\", \"2020-02-16\", \"2020-02-17\", \"2020-02-18\", \"2020-02-19\", \"2020-02-20\", \"2020-02-21\", \"2020-02-22\", \"2020-02-23\", \"2020-02-24\", \"2020-02-25\", \"2020-02-26\", \"2020-02-27\", \"2020-02-28\", \"2020-02-29\", \"2020-03-01\", \"2020-03-02\", \"2020-03-03\", \"2020-03-04\", \"2020-03-05\", \"2020-03-06\", \"2020-03-07\", \"2020-03-08\", \"2020-03-09\", \"2020-03-10\", \"2020-03-11\", \"2020-03-12\", \"2020-03-13\", \"2020-03-14\", \"2020-03-15\", \"2020-03-16\", \"2020-03-17\", \"2020-03-18\", \"2020-03-19\", \"2020-03-20\", \"2020-03-21\", \"2020-03-22\", \"2020-03-23\", \"2020-03-24\", \"2020-03-25\", \"2020-03-26\", \"2020-03-27\", \"2020-03-28\", \"2020-03-29\", \"2020-03-30\", \"2020-03-31\", \"2020-04-01\", \"2020-04-02\"], \"y\": [23.36, 25.88, 15.26, 28.76, 33.08, 33.98, 37.58, 29.12, 26.24, 42.26, 32.54, 31.64, 19.4, 32.18, 33.08, 32.72, 19.22, 13.64, 26.06, 24.44, 32.9, 22.82, 25.34, 27.5, 41.0, 32.18, 41.0, 38.12, 30.02, 28.04, 29.12, 30.74, 30.02, 38.3, 36.68, 40.1, 34.34, 33.8, 42.26, 31.1, 29.66, 33.44, 33.44, 33.44, 36.68, 37.58, 36.86, 38.12, 32.54, 36.32, 38.84, 37.4, 38.84, 37.94, 37.76, 40.28, 40.1, 36.5, 35.06, 38.12, 38.12, 32.54, 36.68, 44.06, 44.96, 33.44, 36.86, 42.44, 38.3, 42.08, 30.02, 31.64, 30.56, 47.66, 38.48, 32.72, 35.78, 36.5, 42.08, 42.98, 40.46, 44.42, 43.16, 39.02, 41.0, 55.76, 33.98, 41.0, 41.9, 39.38, 40.82, 46.76, 45.86, 31.64, 34.7, 50.0, 58.46, 53.42, 43.16, 48.92, 48.2, 39.74, 41.72, 46.58, 50.0, 45.14, 50.0, 47.84, 50.18, 44.96, 51.26, 41.54, 38.12, 44.78, 51.44, 48.92, 46.94, 46.4, 48.38, 47.48, 47.48, 55.76, 54.5, 48.38, 43.52, 39.38, 40.46, 42.44, 44.96, 50.0, 55.76, 58.64, 56.3, 44.06, 40.82, 41.36, 48.02, 52.34, 53.24, 45.5, 46.22, 49.1, 39.92, 42.08, 43.88, 46.4, 36.14, 42.62, 39.2, 32.36, 40.46, 43.52, 39.2, 35.24, 36.68, 40.46, 39.2, 43.52, 57.56, 46.58, 53.6, 37.4, 45.32, 34.34, 29.66, 31.28, 30.74, 48.2, 41.0, 31.1, 35.24, 31.46, 30.02, 38.66, 54.14, 39.38, 27.32, 30.02, 32.0, 39.74, 38.3, 50.54, 39.74, 42.8, 46.4, 39.2, 41.18, 28.58, 34.88, 30.02, 24.98, 35.06, 31.1, 29.66, 23.9, 33.26, 17.78, 23.0, 28.94, 32.9, 32.9, 33.8, 37.94, 44.96, 37.04, 38.84, 35.96, 34.52, 44.78, 40.82, 48.38, 28.76, 27.68, 25.88, 36.14, 41.36, 28.94, 38.66, 27.5, 26.96, 18.5, 11.48, 14.36, 25.34, 9.32, 11.12, 29.12, 41.18, 32.0, 36.86, 25.52, 17.78, 24.08, 34.16, 39.38, 34.52, 25.88, 22.28, 14.72, 24.26, 37.04, 29.84, 25.34, 19.76, 22.28, 19.22, 11.66, 1.76, 11.12, 4.1, 16.7, 21.92, 18.14, 26.06, 15.98, 26.42, 17.78, 31.82, 24.8, 31.64, 31.64, 28.58, 26.96, 34.52, 21.92, 6.62, 24.62, 27.14, 19.94, 3.74, 18.86, 13.46, 26.42, 28.94, 12.56, -3.1, 20.3, 33.62, 37.04, 33.26, 25.34, 19.04, 10.04, 33.08, 32.9, 17.42, 28.4, 26.42, 28.76, 28.58, 26.24, 30.56, 26.42, 28.4, 27.86, 19.22, 9.14, 27.86, 24.44, 17.78, 23.36, 30.56, 22.82, 15.8, 18.14, 24.08, 35.24, 33.8, 31.1, 26.6, 21.74, 8.24, -8.32, 10.94, 14.54, 20.12, 11.66, 20.84, 21.02, 23.36, 26.6, 11.3, 7.7, 12.92, 7.52, 15.62, 12.38, -3.82, 17.96, 18.86, 20.12, 19.4, 29.12, 29.66, 13.1, 7.7, -1.3, 16.34, 21.74, 28.04, 30.92, 3.2, -0.4, 2.66, 7.88, 29.48, 15.08, 3.92, 23.9, 19.04, 21.38, 20.12, 23.18, 32.0, 29.66, 31.64, 32.36, 30.38, 19.76, 32.9, 21.2, 25.88, 18.68, 20.3, 21.38, 25.34, 31.28, 31.28, 34.16, 33.98, 24.44, 33.98, 36.5, 32.54, 25.34, 26.6, 26.06, 27.86, 30.74, 22.28, 29.12, 31.64, 29.84, 43.52, 37.76, 30.92, 28.76, 41.54, 41.36, 26.96, 41.18, 28.94, 19.4, 14.54, 23.9, 16.16, 27.68, 28.94, 33.08, 35.96, 36.86, 33.26, 35.42, 34.7, 29.84, 34.52, 38.84, 40.46, 38.48, 37.76, 39.92, 34.52, 33.08, 36.32, 34.34, 33.98, 34.16, 32.9, 35.42, 34.52, 36.5, 33.26, 40.28, 37.76, 39.2, 38.84, 37.76, 38.48, 40.1, 37.22, 36.68, 39.74, 29.84, 25.7, 29.66, 39.02, 37.58, 39.38, 45.68, 41.18, 38.48, 39.02, 41.18, 40.1, 38.3, 30.38, 32.0, 31.82, 44.24, 32.54, 34.52, 43.16, 42.62, 32.36, 34.7, 39.2, 40.64, 42.98, 37.22, 39.92, 39.2, 46.76, 41.9, 37.22, 37.4, 55.76, 45.68, 47.84, 49.1, 48.38, 43.7, 45.32, 40.1, 50.54, 39.02, 34.16, 37.04, 56.48, 50.54, 51.26, 38.66, 47.12, 50.9, 54.5, 47.84, 46.76, 46.58, 46.4, 52.34, 45.5, 47.66, 57.2, 51.26, 52.16, 52.16, 52.7, 44.06, 46.94, 38.12, 42.08, 44.78, 45.68, 41.18, 42.26, 45.5, 46.4, 47.3, 50.36, 46.94, 39.74, 54.32, 51.26, 36.5, 39.2, 46.58, 54.68, 51.08, 47.66, 48.92, 46.58, 49.46, 48.02, 52.88, 50.36, 42.8, 47.12, 38.12, 38.66, 37.58, 34.7, 49.1, 45.86, 57.92, 41.54, 34.7, 37.4, 35.24, 34.7, 36.32, 36.5, 41.36, 45.68, 36.68, 39.56, 35.6, 30.38, 25.7, 19.22, 21.74, 21.02, 34.7, 32.0, 26.24, 22.28, 42.44, 44.24, 21.56, 10.94, 19.94, 29.66, 31.1, 38.66, 31.64, 45.5, 46.76, 31.1, 30.92, 25.16, 29.84, 37.4, 31.46, 21.56, 41.18, 29.48, 18.86, 10.22, 7.16, 4.82, 27.68, 21.02, 24.98, 31.28, 28.04, 35.96, 31.28, 26.42, 34.7, 44.06, 38.84, 25.34, 39.2, 30.38, 26.24, 45.5, 31.46, 36.32, 35.24, 41.36, 25.7, 18.32, 21.92, 23.36, 37.58, 17.96, 15.26, 14.36, 20.12, 6.08, 7.34, 19.58, 28.58, 24.62, 25.16, 19.94, 36.14, 32.18, 29.12, 18.68, 16.16, 27.86, 30.38, 23.72, 12.74, 12.56, 0.32, 19.04, 31.46, 26.24, 33.98, 36.5, 35.6, 32.9, 11.48, 6.08, 5.54, 5.54, 17.96, 28.4, 25.16, 26.78, 32.9, 24.44, 29.3, 33.62, 17.42, 19.58, 29.66, 27.86, 17.96, 9.68, 22.46, 17.78, 12.56, 18.32, -0.94, 20.12, 17.6, 17.6, 21.02, 33.98, 29.66, 22.46, 32.18, 32.0, 19.04, 32.18, 24.26, 30.74, 19.4, 28.22, 37.04, 39.56, 24.8, 9.32, 10.58, 21.02, 33.62, 32.72, 31.28, 18.5, 16.16, 12.56, 23.36, 14.18, 25.88, 20.3, 26.24, 16.88, -0.76, -0.94, 14.9, 30.38, 23.9, 28.76, 17.96, 6.8, 31.64, 16.52, 32.18, 34.7, 15.44, 17.06, 32.18, 33.08, 32.0, 40.64, 40.28, 11.66, 23.0, 12.02, 33.44, 20.84, 13.64, 26.6, 25.34, 23.72, 19.94, 28.58, 18.32, 21.74, 17.96, 16.34, 34.7, 23.9, 16.16, 11.84, 14.72, 22.28, 29.66, 29.66, 24.26, 10.76]}, {\"hovertext\": [2.002199854447212, 2.226523382557153, 2.002199854447212, 2.002199854447212, 2.2414782844311487, 2.0470645600692, 2.151748873187173, -2.4842707077515978, -2.2898569833896496, -2.080488357153705, -2.3197667871376417, -2.888053058349491, -3.321745212695376, -2.005713847783725, -2.947872665845475, -2.7385040396095306, -2.3646314927596297, -2.6637295302395505, -2.409496198381618, -2.3048118852636454, 2.002199854447212, 2.0620194619431964, 2.1218390694391807, 2.181658676935165, -2.035623651531717, -2.2300373758936654, -2.1253530627756936, -2.020668749657721, -2.6039099227435663, -2.1253530627756936, -2.1702177683976815, -2.1702177683976815, -2.7085942358615385, -2.693639333987542, -2.7085942358615385, -2.065533455279709], \"mode\": \"markers\", \"type\": \"scatter\", \"x\": [\"2018-06-26\", \"2018-07-07\", \"2018-08-01\", \"2018-08-10\", \"2018-08-11\", \"2018-08-12\", \"2018-09-07\", \"2018-12-05\", \"2018-12-07\", \"2018-12-23\", \"2018-12-27\", \"2019-01-02\", \"2019-02-08\", \"2019-02-20\", \"2019-02-23\", \"2019-03-04\", \"2019-03-09\", \"2019-03-10\", \"2019-03-11\", \"2019-03-15\", \"2019-07-11\", \"2019-07-23\", \"2019-08-06\", \"2019-09-16\", \"2019-10-30\", \"2019-10-31\", \"2019-11-30\", \"2019-12-01\", \"2019-12-17\", \"2019-12-26\", \"2019-12-27\", \"2019-12-28\", \"2020-01-16\", \"2020-02-19\", \"2020-02-20\", \"2020-02-26\"], \"y\": [55.76, 58.46, 55.76, 55.76, 58.64, 56.3, 57.56, 1.76, 4.1, 6.62, 3.74, -3.1, -8.32, 7.52, -3.82, -1.3, 3.2, -0.4, 2.66, 3.92, 55.76, 56.48, 57.2, 57.92, 7.16, 4.82, 6.08, 7.34, 0.32, 6.08, 5.54, 5.54, -0.94, -0.76, -0.94, 6.8]}],\n",
              "                        {\"height\": 800, \"template\": {\"data\": {\"bar\": [{\"error_x\": {\"color\": \"#2a3f5f\"}, \"error_y\": {\"color\": \"#2a3f5f\"}, \"marker\": {\"line\": {\"color\": \"#E5ECF6\", \"width\": 0.5}}, \"type\": \"bar\"}], \"barpolar\": [{\"marker\": {\"line\": {\"color\": \"#E5ECF6\", \"width\": 0.5}}, \"type\": \"barpolar\"}], \"carpet\": [{\"aaxis\": {\"endlinecolor\": \"#2a3f5f\", \"gridcolor\": \"white\", \"linecolor\": \"white\", \"minorgridcolor\": \"white\", \"startlinecolor\": \"#2a3f5f\"}, \"baxis\": {\"endlinecolor\": \"#2a3f5f\", \"gridcolor\": \"white\", \"linecolor\": \"white\", \"minorgridcolor\": \"white\", \"startlinecolor\": \"#2a3f5f\"}, \"type\": \"carpet\"}], \"choropleth\": [{\"colorbar\": {\"outlinewidth\": 0, \"ticks\": \"\"}, \"type\": \"choropleth\"}], \"contour\": [{\"colorbar\": {\"outlinewidth\": 0, \"ticks\": \"\"}, \"colorscale\": [[0.0, \"#0d0887\"], [0.1111111111111111, \"#46039f\"], [0.2222222222222222, \"#7201a8\"], [0.3333333333333333, \"#9c179e\"], [0.4444444444444444, \"#bd3786\"], [0.5555555555555556, \"#d8576b\"], [0.6666666666666666, \"#ed7953\"], [0.7777777777777778, \"#fb9f3a\"], [0.8888888888888888, \"#fdca26\"], [1.0, \"#f0f921\"]], \"type\": \"contour\"}], \"contourcarpet\": [{\"colorbar\": {\"outlinewidth\": 0, \"ticks\": \"\"}, \"type\": \"contourcarpet\"}], \"heatmap\": [{\"colorbar\": {\"outlinewidth\": 0, \"ticks\": \"\"}, \"colorscale\": [[0.0, \"#0d0887\"], [0.1111111111111111, \"#46039f\"], [0.2222222222222222, \"#7201a8\"], [0.3333333333333333, \"#9c179e\"], [0.4444444444444444, \"#bd3786\"], [0.5555555555555556, \"#d8576b\"], [0.6666666666666666, \"#ed7953\"], [0.7777777777777778, \"#fb9f3a\"], [0.8888888888888888, \"#fdca26\"], [1.0, \"#f0f921\"]], \"type\": \"heatmap\"}], \"heatmapgl\": [{\"colorbar\": {\"outlinewidth\": 0, \"ticks\": \"\"}, \"colorscale\": [[0.0, \"#0d0887\"], [0.1111111111111111, \"#46039f\"], [0.2222222222222222, \"#7201a8\"], [0.3333333333333333, \"#9c179e\"], [0.4444444444444444, \"#bd3786\"], [0.5555555555555556, \"#d8576b\"], [0.6666666666666666, \"#ed7953\"], [0.7777777777777778, \"#fb9f3a\"], [0.8888888888888888, \"#fdca26\"], [1.0, \"#f0f921\"]], \"type\": \"heatmapgl\"}], \"histogram\": [{\"marker\": {\"colorbar\": {\"outlinewidth\": 0, \"ticks\": \"\"}}, \"type\": \"histogram\"}], \"histogram2d\": [{\"colorbar\": {\"outlinewidth\": 0, \"ticks\": \"\"}, \"colorscale\": [[0.0, \"#0d0887\"], [0.1111111111111111, \"#46039f\"], [0.2222222222222222, \"#7201a8\"], [0.3333333333333333, \"#9c179e\"], [0.4444444444444444, \"#bd3786\"], [0.5555555555555556, \"#d8576b\"], [0.6666666666666666, \"#ed7953\"], [0.7777777777777778, \"#fb9f3a\"], [0.8888888888888888, \"#fdca26\"], [1.0, \"#f0f921\"]], \"type\": \"histogram2d\"}], \"histogram2dcontour\": [{\"colorbar\": {\"outlinewidth\": 0, \"ticks\": \"\"}, \"colorscale\": [[0.0, \"#0d0887\"], [0.1111111111111111, \"#46039f\"], [0.2222222222222222, \"#7201a8\"], [0.3333333333333333, \"#9c179e\"], [0.4444444444444444, \"#bd3786\"], [0.5555555555555556, \"#d8576b\"], [0.6666666666666666, \"#ed7953\"], [0.7777777777777778, \"#fb9f3a\"], [0.8888888888888888, \"#fdca26\"], [1.0, \"#f0f921\"]], \"type\": \"histogram2dcontour\"}], \"mesh3d\": [{\"colorbar\": {\"outlinewidth\": 0, \"ticks\": \"\"}, \"type\": \"mesh3d\"}], \"parcoords\": [{\"line\": {\"colorbar\": {\"outlinewidth\": 0, \"ticks\": \"\"}}, \"type\": \"parcoords\"}], \"pie\": [{\"automargin\": true, \"type\": \"pie\"}], \"scatter\": [{\"marker\": {\"colorbar\": {\"outlinewidth\": 0, \"ticks\": \"\"}}, \"type\": \"scatter\"}], \"scatter3d\": [{\"line\": {\"colorbar\": {\"outlinewidth\": 0, \"ticks\": \"\"}}, \"marker\": {\"colorbar\": {\"outlinewidth\": 0, \"ticks\": \"\"}}, \"type\": \"scatter3d\"}], \"scattercarpet\": [{\"marker\": {\"colorbar\": {\"outlinewidth\": 0, \"ticks\": \"\"}}, \"type\": \"scattercarpet\"}], \"scattergeo\": [{\"marker\": {\"colorbar\": {\"outlinewidth\": 0, \"ticks\": \"\"}}, \"type\": \"scattergeo\"}], \"scattergl\": [{\"marker\": {\"colorbar\": {\"outlinewidth\": 0, \"ticks\": \"\"}}, \"type\": \"scattergl\"}], \"scattermapbox\": [{\"marker\": {\"colorbar\": {\"outlinewidth\": 0, \"ticks\": \"\"}}, \"type\": \"scattermapbox\"}], \"scatterpolar\": [{\"marker\": {\"colorbar\": {\"outlinewidth\": 0, \"ticks\": \"\"}}, \"type\": \"scatterpolar\"}], \"scatterpolargl\": [{\"marker\": {\"colorbar\": {\"outlinewidth\": 0, \"ticks\": \"\"}}, \"type\": \"scatterpolargl\"}], \"scatterternary\": [{\"marker\": {\"colorbar\": {\"outlinewidth\": 0, \"ticks\": \"\"}}, \"type\": \"scatterternary\"}], \"surface\": [{\"colorbar\": {\"outlinewidth\": 0, \"ticks\": \"\"}, \"colorscale\": [[0.0, \"#0d0887\"], [0.1111111111111111, \"#46039f\"], [0.2222222222222222, \"#7201a8\"], [0.3333333333333333, \"#9c179e\"], [0.4444444444444444, \"#bd3786\"], [0.5555555555555556, \"#d8576b\"], [0.6666666666666666, \"#ed7953\"], [0.7777777777777778, \"#fb9f3a\"], [0.8888888888888888, \"#fdca26\"], [1.0, \"#f0f921\"]], \"type\": \"surface\"}], \"table\": [{\"cells\": {\"fill\": {\"color\": \"#EBF0F8\"}, \"line\": {\"color\": \"white\"}}, \"header\": {\"fill\": {\"color\": \"#C8D4E3\"}, \"line\": {\"color\": \"white\"}}, \"type\": \"table\"}]}, \"layout\": {\"annotationdefaults\": {\"arrowcolor\": \"#2a3f5f\", \"arrowhead\": 0, \"arrowwidth\": 1}, \"coloraxis\": {\"colorbar\": {\"outlinewidth\": 0, \"ticks\": \"\"}}, \"colorscale\": {\"diverging\": [[0, \"#8e0152\"], [0.1, \"#c51b7d\"], [0.2, \"#de77ae\"], [0.3, \"#f1b6da\"], [0.4, \"#fde0ef\"], [0.5, \"#f7f7f7\"], [0.6, \"#e6f5d0\"], [0.7, \"#b8e186\"], [0.8, \"#7fbc41\"], [0.9, \"#4d9221\"], [1, \"#276419\"]], \"sequential\": [[0.0, \"#0d0887\"], [0.1111111111111111, \"#46039f\"], [0.2222222222222222, \"#7201a8\"], [0.3333333333333333, \"#9c179e\"], [0.4444444444444444, \"#bd3786\"], [0.5555555555555556, \"#d8576b\"], [0.6666666666666666, \"#ed7953\"], [0.7777777777777778, \"#fb9f3a\"], [0.8888888888888888, \"#fdca26\"], [1.0, \"#f0f921\"]], \"sequentialminus\": [[0.0, \"#0d0887\"], [0.1111111111111111, \"#46039f\"], [0.2222222222222222, \"#7201a8\"], [0.3333333333333333, \"#9c179e\"], [0.4444444444444444, \"#bd3786\"], [0.5555555555555556, \"#d8576b\"], [0.6666666666666666, \"#ed7953\"], [0.7777777777777778, \"#fb9f3a\"], [0.8888888888888888, \"#fdca26\"], [1.0, \"#f0f921\"]]}, \"colorway\": [\"#636efa\", \"#EF553B\", \"#00cc96\", \"#ab63fa\", \"#FFA15A\", \"#19d3f3\", \"#FF6692\", \"#B6E880\", \"#FF97FF\", \"#FECB52\"], \"font\": {\"color\": \"#2a3f5f\"}, \"geo\": {\"bgcolor\": \"white\", \"lakecolor\": \"white\", \"landcolor\": \"#E5ECF6\", \"showlakes\": true, \"showland\": true, \"subunitcolor\": \"white\"}, \"hoverlabel\": {\"align\": \"left\"}, \"hovermode\": \"closest\", \"mapbox\": {\"style\": \"light\"}, \"paper_bgcolor\": \"white\", \"plot_bgcolor\": \"#E5ECF6\", \"polar\": {\"angularaxis\": {\"gridcolor\": \"white\", \"linecolor\": \"white\", \"ticks\": \"\"}, \"bgcolor\": \"#E5ECF6\", \"radialaxis\": {\"gridcolor\": \"white\", \"linecolor\": \"white\", \"ticks\": \"\"}}, \"scene\": {\"xaxis\": {\"backgroundcolor\": \"#E5ECF6\", \"gridcolor\": \"white\", \"gridwidth\": 2, \"linecolor\": \"white\", \"showbackground\": true, \"ticks\": \"\", \"zerolinecolor\": \"white\"}, \"yaxis\": {\"backgroundcolor\": \"#E5ECF6\", \"gridcolor\": \"white\", \"gridwidth\": 2, \"linecolor\": \"white\", \"showbackground\": true, \"ticks\": \"\", \"zerolinecolor\": \"white\"}, \"zaxis\": {\"backgroundcolor\": \"#E5ECF6\", \"gridcolor\": \"white\", \"gridwidth\": 2, \"linecolor\": \"white\", \"showbackground\": true, \"ticks\": \"\", \"zerolinecolor\": \"white\"}}, \"shapedefaults\": {\"line\": {\"color\": \"#2a3f5f\"}}, \"ternary\": {\"aaxis\": {\"gridcolor\": \"white\", \"linecolor\": \"white\", \"ticks\": \"\"}, \"baxis\": {\"gridcolor\": \"white\", \"linecolor\": \"white\", \"ticks\": \"\"}, \"bgcolor\": \"#E5ECF6\", \"caxis\": {\"gridcolor\": \"white\", \"linecolor\": \"white\", \"ticks\": \"\"}}, \"title\": {\"x\": 0.05}, \"xaxis\": {\"automargin\": true, \"gridcolor\": \"white\", \"linecolor\": \"white\", \"ticks\": \"\", \"title\": {\"standoff\": 15}, \"zerolinecolor\": \"white\", \"zerolinewidth\": 2}, \"yaxis\": {\"automargin\": true, \"gridcolor\": \"white\", \"linecolor\": \"white\", \"ticks\": \"\", \"title\": {\"standoff\": 15}, \"zerolinecolor\": \"white\", \"zerolinewidth\": 2}}}, \"width\": 1100, \"xaxis\": {\"title\": {\"text\": \"Date\"}}},\n",
              "                        {\"responsive\": true}\n",
              "                    ).then(function(){\n",
              "                            \n",
              "var gd = document.getElementById('f11f80c0-6b26-454d-b3f1-dd9558bc9c5f');\n",
              "var x = new MutationObserver(function (mutations, observer) {{\n",
              "        var display = window.getComputedStyle(gd).display;\n",
              "        if (!display || display === 'none') {{\n",
              "            console.log([gd, 'removed!']);\n",
              "            Plotly.purge(gd);\n",
              "            observer.disconnect();\n",
              "        }}\n",
              "}});\n",
              "\n",
              "// Listen for the removal of the full notebook cells\n",
              "var notebookContainer = gd.closest('#notebook-container');\n",
              "if (notebookContainer) {{\n",
              "    x.observe(notebookContainer, {childList: true});\n",
              "}}\n",
              "\n",
              "// Listen for the clearing of the current output cell\n",
              "var outputEl = gd.closest('.output');\n",
              "if (outputEl) {{\n",
              "    x.observe(outputEl, {childList: true});\n",
              "}}\n",
              "\n",
              "                        })\n",
              "                };\n",
              "                \n",
              "            </script>\n",
              "        </div>\n",
              "</body>\n",
              "</html>"
            ]
          },
          "metadata": {
            "tags": []
          }
        }
      ]
    },
    {
      "cell_type": "code",
      "metadata": {
        "id": "XxXdwzieiRo9"
      },
      "source": [
        ""
      ],
      "execution_count": null,
      "outputs": []
    },
    {
      "cell_type": "code",
      "metadata": {
        "colab": {
          "base_uri": "https://localhost:8080/",
          "height": 1000
        },
        "id": "BEyOEbFiZkq8",
        "outputId": "f046a1a5-a0b8-41db-960f-99177b73c476"
      },
      "source": [
        "stations = ['302:OR:SNTL']\n",
        "begindate  = '04/01/2018'\n",
        "enddate  = '04/01/2020'\n",
        "\n",
        "for i in ['TAVG', 'TMIN']:\n",
        "  df = getData(stations, i, begindate, enddate)\n",
        "  zScore_plot(df.iloc[:,0], max_StDev=2)"
      ],
      "execution_count": null,
      "outputs": [
        {
          "output_type": "display_data",
          "data": {
            "text/html": [
              "<html>\n",
              "<head><meta charset=\"utf-8\" /></head>\n",
              "<body>\n",
              "    <div>\n",
              "            <script src=\"https://cdnjs.cloudflare.com/ajax/libs/mathjax/2.7.5/MathJax.js?config=TeX-AMS-MML_SVG\"></script><script type=\"text/javascript\">if (window.MathJax) {MathJax.Hub.Config({SVG: {font: \"STIX-Web\"}});}</script>\n",
              "                <script type=\"text/javascript\">window.PlotlyConfig = {MathJaxConfig: 'local'};</script>\n",
              "        <script src=\"https://cdn.plot.ly/plotly-latest.min.js\"></script>    \n",
              "            <div id=\"d24cce02-3ced-4d99-b81d-3c0715628b8a\" class=\"plotly-graph-div\" style=\"height:800px; width:1100px;\"></div>\n",
              "            <script type=\"text/javascript\">\n",
              "                \n",
              "                    window.PLOTLYENV=window.PLOTLYENV || {};\n",
              "                    \n",
              "                if (document.getElementById(\"d24cce02-3ced-4d99-b81d-3c0715628b8a\")) {\n",
              "                    Plotly.newPlot(\n",
              "                        'd24cce02-3ced-4d99-b81d-3c0715628b8a',\n",
              "                        [{\"mode\": \"lines\", \"type\": \"scatter\", \"x\": [\"2018-04-02\", \"2018-04-03\", \"2018-04-04\", \"2018-04-05\", \"2018-04-06\", \"2018-04-07\", \"2018-04-08\", \"2018-04-09\", \"2018-04-10\", \"2018-04-11\", \"2018-04-12\", \"2018-04-13\", \"2018-04-14\", \"2018-04-15\", \"2018-04-16\", \"2018-04-17\", \"2018-04-18\", \"2018-04-19\", \"2018-04-20\", \"2018-04-21\", \"2018-04-22\", \"2018-04-23\", \"2018-04-24\", \"2018-04-25\", \"2018-04-26\", \"2018-04-27\", \"2018-04-28\", \"2018-04-29\", \"2018-04-30\", \"2018-05-01\", \"2018-05-02\", \"2018-05-03\", \"2018-05-04\", \"2018-05-05\", \"2018-05-06\", \"2018-05-07\", \"2018-05-08\", \"2018-05-09\", \"2018-05-10\", \"2018-05-11\", \"2018-05-12\", \"2018-05-13\", \"2018-05-14\", \"2018-05-15\", \"2018-05-16\", \"2018-05-17\", \"2018-05-18\", \"2018-05-19\", \"2018-05-20\", \"2018-05-21\", \"2018-05-22\", \"2018-05-23\", \"2018-05-24\", \"2018-05-25\", \"2018-05-26\", \"2018-05-27\", \"2018-05-28\", \"2018-05-29\", \"2018-05-30\", \"2018-05-31\", \"2018-06-01\", \"2018-06-02\", \"2018-06-03\", \"2018-06-04\", \"2018-06-05\", \"2018-06-06\", \"2018-06-07\", \"2018-06-08\", \"2018-06-09\", \"2018-06-10\", \"2018-06-11\", \"2018-06-12\", \"2018-06-13\", \"2018-06-14\", \"2018-06-15\", \"2018-06-16\", \"2018-06-17\", \"2018-06-18\", \"2018-06-19\", \"2018-06-20\", \"2018-06-21\", \"2018-06-22\", \"2018-06-23\", \"2018-06-24\", \"2018-06-25\", \"2018-06-26\", \"2018-06-27\", \"2018-06-28\", \"2018-06-29\", \"2018-06-30\", \"2018-07-01\", \"2018-07-02\", \"2018-07-03\", \"2018-07-04\", \"2018-07-05\", \"2018-07-06\", \"2018-07-07\", \"2018-07-08\", \"2018-07-09\", \"2018-07-10\", \"2018-07-11\", \"2018-07-12\", \"2018-07-13\", \"2018-07-14\", \"2018-07-15\", \"2018-07-16\", \"2018-07-17\", \"2018-07-18\", \"2018-07-19\", \"2018-07-20\", \"2018-07-21\", \"2018-07-22\", \"2018-07-23\", \"2018-07-24\", \"2018-07-25\", \"2018-07-26\", \"2018-07-27\", \"2018-07-28\", \"2018-07-29\", \"2018-07-30\", \"2018-07-31\", \"2018-08-01\", \"2018-08-02\", \"2018-08-03\", \"2018-08-04\", \"2018-08-05\", \"2018-08-06\", \"2018-08-07\", \"2018-08-08\", \"2018-08-09\", \"2018-08-10\", \"2018-08-11\", \"2018-08-12\", \"2018-08-13\", \"2018-08-14\", \"2018-08-15\", \"2018-08-16\", \"2018-08-17\", \"2018-08-18\", \"2018-08-19\", \"2018-08-20\", \"2018-08-21\", \"2018-08-22\", \"2018-08-23\", \"2018-08-24\", \"2018-08-25\", \"2018-08-26\", \"2018-08-27\", \"2018-08-28\", \"2018-08-29\", \"2018-08-30\", \"2018-08-31\", \"2018-09-01\", \"2018-09-02\", \"2018-09-03\", \"2018-09-04\", \"2018-09-05\", \"2018-09-06\", \"2018-09-07\", \"2018-09-08\", \"2018-09-09\", \"2018-09-10\", \"2018-09-11\", \"2018-09-12\", \"2018-09-13\", \"2018-09-14\", \"2018-09-15\", \"2018-09-16\", \"2018-09-17\", \"2018-09-18\", \"2018-09-19\", \"2018-09-20\", \"2018-09-21\", \"2018-09-22\", \"2018-09-23\", \"2018-09-24\", \"2018-09-25\", \"2018-09-26\", \"2018-09-27\", \"2018-09-28\", \"2018-09-29\", \"2018-09-30\", \"2018-10-01\", \"2018-10-02\", \"2018-10-03\", \"2018-10-04\", \"2018-10-05\", \"2018-10-06\", \"2018-10-07\", \"2018-10-08\", \"2018-10-09\", \"2018-10-10\", \"2018-10-11\", \"2018-10-12\", \"2018-10-13\", \"2018-10-14\", \"2018-10-15\", \"2018-10-16\", \"2018-10-17\", \"2018-10-18\", \"2018-10-19\", \"2018-10-20\", \"2018-10-21\", \"2018-10-22\", \"2018-10-23\", \"2018-10-24\", \"2018-10-25\", \"2018-10-26\", \"2018-10-27\", \"2018-10-28\", \"2018-10-29\", \"2018-10-30\", \"2018-10-31\", \"2018-11-01\", \"2018-11-02\", \"2018-11-03\", \"2018-11-04\", \"2018-11-05\", \"2018-11-06\", \"2018-11-07\", \"2018-11-08\", \"2018-11-09\", \"2018-11-10\", \"2018-11-11\", \"2018-11-12\", \"2018-11-13\", \"2018-11-14\", \"2018-11-15\", \"2018-11-16\", \"2018-11-17\", \"2018-11-18\", \"2018-11-19\", \"2018-11-20\", \"2018-11-21\", \"2018-11-22\", \"2018-11-23\", \"2018-11-24\", \"2018-11-25\", \"2018-11-26\", \"2018-11-27\", \"2018-11-28\", \"2018-11-29\", \"2018-11-30\", \"2018-12-01\", \"2018-12-02\", \"2018-12-03\", \"2018-12-04\", \"2018-12-05\", \"2018-12-06\", \"2018-12-07\", \"2018-12-08\", \"2018-12-09\", \"2018-12-10\", \"2018-12-11\", \"2018-12-12\", \"2018-12-13\", \"2018-12-14\", \"2018-12-15\", \"2018-12-16\", \"2018-12-17\", \"2018-12-18\", \"2018-12-19\", \"2018-12-20\", \"2018-12-21\", \"2018-12-22\", \"2018-12-23\", \"2018-12-24\", \"2018-12-25\", \"2018-12-26\", \"2018-12-27\", \"2018-12-28\", \"2018-12-29\", \"2018-12-30\", \"2018-12-31\", \"2019-01-01\", \"2019-01-02\", \"2019-01-03\", \"2019-01-04\", \"2019-01-05\", \"2019-01-06\", \"2019-01-07\", \"2019-01-08\", \"2019-01-09\", \"2019-01-10\", \"2019-01-11\", \"2019-01-12\", \"2019-01-13\", \"2019-01-14\", \"2019-01-15\", \"2019-01-16\", \"2019-01-17\", \"2019-01-18\", \"2019-01-19\", \"2019-01-20\", \"2019-01-21\", \"2019-01-22\", \"2019-01-23\", \"2019-01-24\", \"2019-01-25\", \"2019-01-26\", \"2019-01-27\", \"2019-01-28\", \"2019-01-29\", \"2019-01-30\", \"2019-01-31\", \"2019-02-01\", \"2019-02-02\", \"2019-02-03\", \"2019-02-04\", \"2019-02-05\", \"2019-02-06\", \"2019-02-07\", \"2019-02-08\", \"2019-02-09\", \"2019-02-10\", \"2019-02-11\", \"2019-02-12\", \"2019-02-13\", \"2019-02-14\", \"2019-02-15\", \"2019-02-16\", \"2019-02-17\", \"2019-02-18\", \"2019-02-19\", \"2019-02-20\", \"2019-02-21\", \"2019-02-22\", \"2019-02-23\", \"2019-02-24\", \"2019-02-25\", \"2019-02-26\", \"2019-02-27\", \"2019-02-28\", \"2019-03-01\", \"2019-03-02\", \"2019-03-03\", \"2019-03-04\", \"2019-03-05\", \"2019-03-06\", \"2019-03-07\", \"2019-03-08\", \"2019-03-09\", \"2019-03-10\", \"2019-03-11\", \"2019-03-12\", \"2019-03-13\", \"2019-03-14\", \"2019-03-15\", \"2019-03-16\", \"2019-03-17\", \"2019-03-18\", \"2019-03-19\", \"2019-03-20\", \"2019-03-21\", \"2019-03-22\", \"2019-03-23\", \"2019-03-24\", \"2019-03-25\", \"2019-03-26\", \"2019-03-27\", \"2019-03-28\", \"2019-03-29\", \"2019-03-30\", \"2019-03-31\", \"2019-04-01\", \"2019-04-02\", \"2019-04-03\", \"2019-04-04\", \"2019-04-05\", \"2019-04-06\", \"2019-04-07\", \"2019-04-08\", \"2019-04-09\", \"2019-04-10\", \"2019-04-11\", \"2019-04-12\", \"2019-04-13\", \"2019-04-14\", \"2019-04-15\", \"2019-04-16\", \"2019-04-17\", \"2019-04-18\", \"2019-04-19\", \"2019-04-20\", \"2019-04-21\", \"2019-04-22\", \"2019-04-23\", \"2019-04-24\", \"2019-04-25\", \"2019-04-26\", \"2019-04-27\", \"2019-04-28\", \"2019-04-29\", \"2019-04-30\", \"2019-05-01\", \"2019-05-02\", \"2019-05-03\", \"2019-05-04\", \"2019-05-05\", \"2019-05-06\", \"2019-05-07\", \"2019-05-08\", \"2019-05-09\", \"2019-05-10\", \"2019-05-11\", \"2019-05-12\", \"2019-05-13\", \"2019-05-14\", \"2019-05-15\", \"2019-05-16\", \"2019-05-17\", \"2019-05-18\", \"2019-05-19\", \"2019-05-20\", \"2019-05-21\", \"2019-05-22\", \"2019-05-23\", \"2019-05-24\", \"2019-05-25\", \"2019-05-26\", \"2019-05-27\", \"2019-05-28\", \"2019-05-29\", \"2019-05-30\", \"2019-05-31\", \"2019-06-01\", \"2019-06-02\", \"2019-06-03\", \"2019-06-04\", \"2019-06-05\", \"2019-06-06\", \"2019-06-07\", \"2019-06-08\", \"2019-06-09\", \"2019-06-10\", \"2019-06-11\", \"2019-06-12\", \"2019-06-13\", \"2019-06-14\", \"2019-06-15\", \"2019-06-16\", \"2019-06-17\", \"2019-06-18\", \"2019-06-19\", \"2019-06-20\", \"2019-06-21\", \"2019-06-22\", \"2019-06-23\", \"2019-06-24\", \"2019-06-25\", \"2019-06-26\", \"2019-06-27\", \"2019-06-28\", \"2019-06-29\", \"2019-06-30\", \"2019-07-01\", \"2019-07-02\", \"2019-07-03\", \"2019-07-04\", \"2019-07-05\", \"2019-07-06\", \"2019-07-07\", \"2019-07-08\", \"2019-07-09\", \"2019-07-10\", \"2019-07-11\", \"2019-07-12\", \"2019-07-13\", \"2019-07-14\", \"2019-07-15\", \"2019-07-16\", \"2019-07-17\", \"2019-07-18\", \"2019-07-19\", \"2019-07-20\", \"2019-07-21\", \"2019-07-22\", \"2019-07-23\", \"2019-07-24\", \"2019-07-25\", \"2019-07-26\", \"2019-07-27\", \"2019-07-28\", \"2019-07-29\", \"2019-07-30\", \"2019-07-31\", \"2019-08-01\", \"2019-08-02\", \"2019-08-03\", \"2019-08-04\", \"2019-08-05\", \"2019-08-06\", \"2019-08-07\", \"2019-08-08\", \"2019-08-09\", \"2019-08-10\", \"2019-08-11\", \"2019-08-12\", \"2019-08-13\", \"2019-08-14\", \"2019-08-15\", \"2019-08-16\", \"2019-08-17\", \"2019-08-18\", \"2019-08-19\", \"2019-08-20\", \"2019-08-21\", \"2019-08-22\", \"2019-08-23\", \"2019-08-24\", \"2019-08-25\", \"2019-08-26\", \"2019-08-27\", \"2019-08-28\", \"2019-08-29\", \"2019-08-30\", \"2019-08-31\", \"2019-09-01\", \"2019-09-02\", \"2019-09-03\", \"2019-09-04\", \"2019-09-05\", \"2019-09-06\", \"2019-09-07\", \"2019-09-08\", \"2019-09-09\", \"2019-09-10\", \"2019-09-11\", \"2019-09-12\", \"2019-09-13\", \"2019-09-14\", \"2019-09-15\", \"2019-09-16\", \"2019-09-17\", \"2019-09-18\", \"2019-09-19\", \"2019-09-20\", \"2019-09-21\", \"2019-09-22\", \"2019-09-23\", \"2019-09-24\", \"2019-09-25\", \"2019-09-26\", \"2019-09-27\", \"2019-09-28\", \"2019-09-29\", \"2019-09-30\", \"2019-10-01\", \"2019-10-02\", \"2019-10-03\", \"2019-10-04\", \"2019-10-05\", \"2019-10-06\", \"2019-10-07\", \"2019-10-08\", \"2019-10-09\", \"2019-10-10\", \"2019-10-11\", \"2019-10-12\", \"2019-10-13\", \"2019-10-14\", \"2019-10-15\", \"2019-10-16\", \"2019-10-17\", \"2019-10-18\", \"2019-10-19\", \"2019-10-20\", \"2019-10-21\", \"2019-10-22\", \"2019-10-23\", \"2019-10-24\", \"2019-10-25\", \"2019-10-26\", \"2019-10-27\", \"2019-10-28\", \"2019-10-29\", \"2019-10-30\", \"2019-10-31\", \"2019-11-01\", \"2019-11-02\", \"2019-11-03\", \"2019-11-04\", \"2019-11-05\", \"2019-11-06\", \"2019-11-07\", \"2019-11-08\", \"2019-11-09\", \"2019-11-10\", \"2019-11-11\", \"2019-11-12\", \"2019-11-13\", \"2019-11-14\", \"2019-11-15\", \"2019-11-16\", \"2019-11-17\", \"2019-11-18\", \"2019-11-19\", \"2019-11-20\", \"2019-11-21\", \"2019-11-22\", \"2019-11-23\", \"2019-11-24\", \"2019-11-25\", \"2019-11-26\", \"2019-11-27\", \"2019-11-28\", \"2019-11-29\", \"2019-11-30\", \"2019-12-01\", \"2019-12-02\", \"2019-12-03\", \"2019-12-04\", \"2019-12-05\", \"2019-12-06\", \"2019-12-07\", \"2019-12-08\", \"2019-12-09\", \"2019-12-10\", \"2019-12-11\", \"2019-12-12\", \"2019-12-13\", \"2019-12-14\", \"2019-12-15\", \"2019-12-16\", \"2019-12-17\", \"2019-12-18\", \"2019-12-19\", \"2019-12-20\", \"2019-12-21\", \"2019-12-22\", \"2019-12-23\", \"2019-12-24\", \"2019-12-25\", \"2019-12-26\", \"2019-12-27\", \"2019-12-28\", \"2019-12-29\", \"2019-12-30\", \"2019-12-31\", \"2020-01-01\", \"2020-01-02\", \"2020-01-03\", \"2020-01-04\", \"2020-01-05\", \"2020-01-06\", \"2020-01-07\", \"2020-01-08\", \"2020-01-09\", \"2020-01-10\", \"2020-01-11\", \"2020-01-12\", \"2020-01-13\", \"2020-01-14\", \"2020-01-15\", \"2020-01-16\", \"2020-01-17\", \"2020-01-18\", \"2020-01-19\", \"2020-01-20\", \"2020-01-21\", \"2020-01-22\", \"2020-01-23\", \"2020-01-24\", \"2020-01-25\", \"2020-01-26\", \"2020-01-27\", \"2020-01-28\", \"2020-01-29\", \"2020-01-30\", \"2020-01-31\", \"2020-02-01\", \"2020-02-02\", \"2020-02-03\", \"2020-02-04\", \"2020-02-05\", \"2020-02-06\", \"2020-02-07\", \"2020-02-08\", \"2020-02-09\", \"2020-02-10\", \"2020-02-11\", \"2020-02-12\", \"2020-02-13\", \"2020-02-14\", \"2020-02-15\", \"2020-02-16\", \"2020-02-17\", \"2020-02-18\", \"2020-02-19\", \"2020-02-20\", \"2020-02-21\", \"2020-02-22\", \"2020-02-23\", \"2020-02-24\", \"2020-02-25\", \"2020-02-26\", \"2020-02-27\", \"2020-02-28\", \"2020-02-29\", \"2020-03-01\", \"2020-03-02\", \"2020-03-03\", \"2020-03-04\", \"2020-03-05\", \"2020-03-06\", \"2020-03-07\", \"2020-03-08\", \"2020-03-09\", \"2020-03-10\", \"2020-03-11\", \"2020-03-12\", \"2020-03-13\", \"2020-03-14\", \"2020-03-15\", \"2020-03-16\", \"2020-03-17\", \"2020-03-18\", \"2020-03-19\", \"2020-03-20\", \"2020-03-21\", \"2020-03-22\", \"2020-03-23\", \"2020-03-24\", \"2020-03-25\", \"2020-03-26\", \"2020-03-27\", \"2020-03-28\", \"2020-03-29\", \"2020-03-30\", \"2020-03-31\", \"2020-04-01\", \"2020-04-02\"], \"y\": [30.56, 16.16, 25.34, 33.44, 36.32, 37.94, 34.34, 28.94, 31.82, 38.3, 32.18, 23.9, 27.14, 33.44, 33.8, 25.34, 22.82, 27.5, 31.28, 32.9, 35.42, 28.76, 30.2, 38.66, 42.98, 44.24, 48.92, 36.14, 30.38, 30.02, 30.74, 35.42, 40.82, 45.5, 45.86, 43.16, 40.82, 46.58, 40.82, 32.9, 31.46, 36.32, 40.28, 43.16, 45.68, 41.54, 40.28, 39.2, 41.54, 41.9, 42.44, 44.96, 44.6, 44.78, 46.4, 41.36, 43.16, 44.78, 45.14, 41.72, 36.5, 37.04, 46.76, 53.06, 44.6, 44.78, 48.56, 47.84, 49.1, 37.76, 32.54, 35.78, 45.14, 50.36, 39.74, 40.46, 39.92, 40.28, 44.06, 45.14, 49.28, 47.12, 48.92, 43.52, 52.16, 50.0, 42.62, 52.34, 44.42, 42.44, 48.2, 50.18, 42.44, 39.02, 50.54, 62.06, 58.64, 53.6, 55.4, 60.26, 50.18, 48.74, 52.34, 57.92, 56.48, 56.84, 57.02, 59.54, 57.2, 54.68, 53.96, 50.72, 50.36, 57.74, 60.98, 58.28, 57.2, 57.02, 56.12, 56.66, 60.62, 64.22, 60.8, 55.4, 50.0, 46.04, 48.92, 53.42, 56.12, 62.78, 66.92, 68.54, 61.16, 48.38, 49.82, 52.34, 59.0, 57.74, 56.66, 53.06, 56.84, 50.72, 46.94, 49.82, 53.24, 47.66, 46.76, 41.72, 38.12, 41.9, 51.08, 48.56, 42.62, 44.06, 45.68, 48.38, 46.22, 57.74, 58.46, 55.04, 46.58, 46.76, 46.4, 37.58, 36.32, 36.32, 44.96, 47.12, 41.9, 42.44, 40.46, 37.04, 38.66, 50.18, 46.94, 35.6, 33.8, 36.32, 42.62, 46.58, 46.4, 47.48, 41.9, 46.58, 45.5, 39.02, 34.52, 31.28, 32.54, 30.38, 32.0, 32.72, 31.28, 30.02, 33.98, 28.4, 22.64, 32.0, 35.42, 38.66, 38.84, 41.0, 44.96, 45.32, 42.98, 41.54, 38.12, 39.92, 44.06, 41.72, 38.84, 29.48, 27.5, 35.6, 41.36, 36.5, 32.36, 33.44, 28.4, 25.52, 19.4, 16.16, 28.22, 19.76, 15.08, 25.34, 38.66, 38.48, 33.26, 31.64, 19.76, 25.7, 33.08, 39.38, 36.68, 30.02, 25.88, 19.04, 20.12, 34.7, 33.08, 28.22, 23.36, 22.82, 19.04, 18.5, 9.14, 9.86, 8.6, 11.12, 20.66, 21.38, 29.66, 24.98, 27.68, 19.04, 26.78, 31.28, 27.32, 33.08, 30.2, 29.84, 26.96, 33.08, 15.26, 17.78, 26.6, 23.72, 16.34, 17.78, 16.16, 16.52, 32.36, 19.94, 8.6, 17.6, 28.22, 32.9, 35.24, 31.46, 22.82, 14.0, 29.12, 31.64, 27.68, 30.02, 32.72, 29.66, 31.64, 26.78, 28.4, 28.76, 24.44, 32.0, 28.4, 16.34, 20.3, 28.58, 21.38, 26.42, 29.84, 33.98, 19.04, 20.3, 26.24, 34.7, 33.62, 32.9, 28.58, 23.72, 14.36, 3.2, 4.64, 14.54, 17.06, 13.28, 18.32, 19.58, 24.44, 29.66, 20.66, 17.6, 14.9, 10.4, 15.08, 16.16, 10.22, 10.4, 18.68, 22.28, 24.98, 16.34, 31.28, 18.32, 17.78, 8.96, 8.6, 19.4, 25.16, 30.38, 19.58, 9.86, 10.58, 12.92, 21.02, 22.82, 16.16, 17.06, 26.24, 27.32, 28.4, 29.12, 35.06, 36.86, 35.6, 35.06, 31.64, 29.3, 31.82, 30.38, 29.84, 26.42, 26.06, 25.7, 28.94, 32.9, 34.7, 35.96, 37.04, 34.16, 28.76, 36.14, 36.86, 29.66, 26.78, 28.76, 29.48, 30.56, 26.6, 27.68, 30.38, 34.16, 42.08, 46.58, 34.88, 32.9, 37.4, 43.16, 37.22, 37.76, 36.86, 31.28, 23.0, 23.54, 26.06, 28.22, 32.72, 38.48, 40.28, 41.54, 39.92, 39.2, 40.46, 37.22, 40.28, 45.86, 47.48, 48.02, 44.96, 39.74, 39.02, 34.7, 36.68, 37.58, 35.42, 33.98, 34.34, 37.04, 36.32, 37.94, 39.38, 38.84, 41.9, 42.8, 44.96, 43.7, 45.86, 48.02, 48.02, 44.78, 48.02, 36.68, 29.48, 32.9, 40.46, 47.66, 48.2, 52.34, 51.26, 48.92, 47.66, 50.0, 49.1, 47.48, 42.26, 32.72, 33.98, 42.26, 40.82, 41.9, 44.96, 46.04, 41.54, 42.44, 46.22, 48.38, 49.1, 45.32, 42.8, 45.32, 51.08, 55.22, 46.04, 45.5, 51.26, 57.74, 55.04, 58.28, 56.84, 53.06, 50.0, 46.94, 50.72, 50.72, 41.72, 44.6, 54.86, 62.06, 61.52, 49.46, 51.8, 59.18, 55.76, 53.42, 55.58, 56.84, 57.92, 58.1, 55.94, 55.4, 57.02, 58.82, 61.16, 56.84, 57.02, 54.32, 49.28, 44.96, 46.76, 52.16, 53.06, 49.82, 48.2, 47.66, 53.96, 55.94, 59.18, 57.2, 46.94, 50.0, 56.3, 48.2, 45.5, 50.36, 59.18, 56.66, 54.14, 57.74, 56.48, 54.32, 59.9, 56.12, 61.16, 50.72, 50.9, 43.52, 40.82, 38.84, 40.64, 44.78, 52.16, 54.32, 55.04, 45.32, 37.94, 37.22, 36.32, 37.04, 40.1, 44.24, 43.16, 47.66, 39.38, 44.96, 36.86, 28.22, 24.08, 24.98, 25.52, 27.14, 34.7, 30.56, 30.74, 35.96, 44.78, 35.24, 19.04, 19.4, 30.56, 35.96, 39.56, 33.08, 44.42, 48.2, 33.62, 30.74, 28.22, 26.96, 33.62, 39.74, 28.76, 36.14, 44.96, 23.0, 14.72, 17.78, 5.72, 18.14, 30.74, 25.52, 33.62, 34.16, 34.7, 38.3, 30.56, 36.32, 44.6, 43.34, 36.14, 33.08, 38.84, 31.1, 39.74, 39.02, 31.46, 41.72, 39.56, 31.28, 25.34, 26.06, 25.34, 33.26, 30.74, 19.22, 12.56, 19.04, 15.98, 11.48, 14.18, 24.62, 28.04, 28.76, 27.86, 28.22, 32.36, 30.92, 27.14, 18.32, 25.16, 29.84, 28.4, 20.48, 14.9, 12.74, 10.22, 24.8, 26.96, 30.02, 34.7, 35.24, 35.78, 24.8, 12.56, 8.96, 11.3, 15.62, 21.92, 28.04, 22.82, 32.0, 27.32, 24.44, 32.54, 22.28, 20.66, 26.24, 30.92, 21.92, 14.72, 16.52, 21.2, 18.5, 15.26, 12.56, 12.56, 22.64, 14.0, 22.82, 29.12, 31.82, 26.78, 26.24, 34.16, 29.66, 28.22, 29.48, 26.06, 27.86, 25.34, 26.24, 37.4, 36.68, 14.36, 8.6, 13.46, 28.76, 32.9, 32.9, 22.28, 19.22, 18.68, 25.52, 19.94, 28.22, 20.84, 24.44, 21.74, 13.1, 5.54, 13.64, 25.88, 28.58, 30.92, 26.96, 14.36, 19.94, 29.3, 29.3, 37.22, 22.82, 15.62, 28.76, 33.26, 30.74, 38.3, 40.46, 28.94, 22.28, 21.38, 24.98, 32.9, 19.58, 26.78, 24.44, 28.04, 27.14, 29.3, 26.42, 26.42, 26.96, 26.06, 28.94, 31.46, 22.64, 17.96, 17.42, 22.1, 29.3, 30.74, 29.12, 21.56, 15.98]}, {\"hovertext\": [2.0506611503686756, 2.2178848970483243, 2.1064023992618917, 2.4269145803978858, 2.552332390407623, -2.046320643282728, -2.08812657995264, -2.08812657995264, -2.5061859466517626, -2.39470344886533, -2.060255955506032, -2.08812657995264, 2.0506611503686756, 2.008855213698763, -2.3110915755255057, -2.060255955506032, -2.08812657995264, -2.32502688774881], \"mode\": \"markers\", \"type\": \"scatter\", \"x\": [\"2018-07-06\", \"2018-08-01\", \"2018-08-09\", \"2018-08-10\", \"2018-08-11\", \"2018-12-04\", \"2018-12-06\", \"2019-01-01\", \"2019-02-07\", \"2019-02-08\", \"2019-03-03\", \"2019-03-04\", \"2019-07-23\", \"2019-07-24\", \"2019-10-30\", \"2019-12-26\", \"2020-02-04\", \"2020-02-19\"], \"y\": [62.06, 64.22, 62.78, 66.92, 68.54, 9.14, 8.6, 8.6, 3.2, 4.64, 8.96, 8.6, 62.06, 61.52, 5.72, 8.96, 8.6, 5.54]}],\n",
              "                        {\"height\": 800, \"template\": {\"data\": {\"bar\": [{\"error_x\": {\"color\": \"#2a3f5f\"}, \"error_y\": {\"color\": \"#2a3f5f\"}, \"marker\": {\"line\": {\"color\": \"#E5ECF6\", \"width\": 0.5}}, \"type\": \"bar\"}], \"barpolar\": [{\"marker\": {\"line\": {\"color\": \"#E5ECF6\", \"width\": 0.5}}, \"type\": \"barpolar\"}], \"carpet\": [{\"aaxis\": {\"endlinecolor\": \"#2a3f5f\", \"gridcolor\": \"white\", \"linecolor\": \"white\", \"minorgridcolor\": \"white\", \"startlinecolor\": \"#2a3f5f\"}, \"baxis\": {\"endlinecolor\": \"#2a3f5f\", \"gridcolor\": \"white\", \"linecolor\": \"white\", \"minorgridcolor\": \"white\", \"startlinecolor\": \"#2a3f5f\"}, \"type\": \"carpet\"}], \"choropleth\": [{\"colorbar\": {\"outlinewidth\": 0, \"ticks\": \"\"}, \"type\": \"choropleth\"}], \"contour\": [{\"colorbar\": {\"outlinewidth\": 0, \"ticks\": \"\"}, \"colorscale\": [[0.0, \"#0d0887\"], [0.1111111111111111, \"#46039f\"], [0.2222222222222222, \"#7201a8\"], [0.3333333333333333, \"#9c179e\"], [0.4444444444444444, \"#bd3786\"], [0.5555555555555556, \"#d8576b\"], [0.6666666666666666, \"#ed7953\"], [0.7777777777777778, \"#fb9f3a\"], [0.8888888888888888, \"#fdca26\"], [1.0, \"#f0f921\"]], \"type\": \"contour\"}], \"contourcarpet\": [{\"colorbar\": {\"outlinewidth\": 0, \"ticks\": \"\"}, \"type\": \"contourcarpet\"}], \"heatmap\": [{\"colorbar\": {\"outlinewidth\": 0, \"ticks\": \"\"}, \"colorscale\": [[0.0, \"#0d0887\"], [0.1111111111111111, \"#46039f\"], [0.2222222222222222, \"#7201a8\"], [0.3333333333333333, \"#9c179e\"], [0.4444444444444444, \"#bd3786\"], [0.5555555555555556, \"#d8576b\"], [0.6666666666666666, \"#ed7953\"], [0.7777777777777778, \"#fb9f3a\"], [0.8888888888888888, \"#fdca26\"], [1.0, \"#f0f921\"]], \"type\": \"heatmap\"}], \"heatmapgl\": [{\"colorbar\": {\"outlinewidth\": 0, \"ticks\": \"\"}, \"colorscale\": [[0.0, \"#0d0887\"], [0.1111111111111111, \"#46039f\"], [0.2222222222222222, \"#7201a8\"], [0.3333333333333333, \"#9c179e\"], [0.4444444444444444, \"#bd3786\"], [0.5555555555555556, \"#d8576b\"], [0.6666666666666666, \"#ed7953\"], [0.7777777777777778, \"#fb9f3a\"], [0.8888888888888888, \"#fdca26\"], [1.0, \"#f0f921\"]], \"type\": \"heatmapgl\"}], \"histogram\": [{\"marker\": {\"colorbar\": {\"outlinewidth\": 0, \"ticks\": \"\"}}, \"type\": \"histogram\"}], \"histogram2d\": [{\"colorbar\": {\"outlinewidth\": 0, \"ticks\": \"\"}, \"colorscale\": [[0.0, \"#0d0887\"], [0.1111111111111111, \"#46039f\"], [0.2222222222222222, \"#7201a8\"], [0.3333333333333333, \"#9c179e\"], [0.4444444444444444, \"#bd3786\"], [0.5555555555555556, \"#d8576b\"], [0.6666666666666666, \"#ed7953\"], [0.7777777777777778, \"#fb9f3a\"], [0.8888888888888888, \"#fdca26\"], [1.0, \"#f0f921\"]], \"type\": \"histogram2d\"}], \"histogram2dcontour\": [{\"colorbar\": {\"outlinewidth\": 0, \"ticks\": \"\"}, \"colorscale\": [[0.0, \"#0d0887\"], [0.1111111111111111, \"#46039f\"], [0.2222222222222222, \"#7201a8\"], [0.3333333333333333, \"#9c179e\"], [0.4444444444444444, \"#bd3786\"], [0.5555555555555556, \"#d8576b\"], [0.6666666666666666, \"#ed7953\"], [0.7777777777777778, \"#fb9f3a\"], [0.8888888888888888, \"#fdca26\"], [1.0, \"#f0f921\"]], \"type\": \"histogram2dcontour\"}], \"mesh3d\": [{\"colorbar\": {\"outlinewidth\": 0, \"ticks\": \"\"}, \"type\": \"mesh3d\"}], \"parcoords\": [{\"line\": {\"colorbar\": {\"outlinewidth\": 0, \"ticks\": \"\"}}, \"type\": \"parcoords\"}], \"pie\": [{\"automargin\": true, \"type\": \"pie\"}], \"scatter\": [{\"marker\": {\"colorbar\": {\"outlinewidth\": 0, \"ticks\": \"\"}}, \"type\": \"scatter\"}], \"scatter3d\": [{\"line\": {\"colorbar\": {\"outlinewidth\": 0, \"ticks\": \"\"}}, \"marker\": {\"colorbar\": {\"outlinewidth\": 0, \"ticks\": \"\"}}, \"type\": \"scatter3d\"}], \"scattercarpet\": [{\"marker\": {\"colorbar\": {\"outlinewidth\": 0, \"ticks\": \"\"}}, \"type\": \"scattercarpet\"}], \"scattergeo\": [{\"marker\": {\"colorbar\": {\"outlinewidth\": 0, \"ticks\": \"\"}}, \"type\": \"scattergeo\"}], \"scattergl\": [{\"marker\": {\"colorbar\": {\"outlinewidth\": 0, \"ticks\": \"\"}}, \"type\": \"scattergl\"}], \"scattermapbox\": [{\"marker\": {\"colorbar\": {\"outlinewidth\": 0, \"ticks\": \"\"}}, \"type\": \"scattermapbox\"}], \"scatterpolar\": [{\"marker\": {\"colorbar\": {\"outlinewidth\": 0, \"ticks\": \"\"}}, \"type\": \"scatterpolar\"}], \"scatterpolargl\": [{\"marker\": {\"colorbar\": {\"outlinewidth\": 0, \"ticks\": \"\"}}, \"type\": \"scatterpolargl\"}], \"scatterternary\": [{\"marker\": {\"colorbar\": {\"outlinewidth\": 0, \"ticks\": \"\"}}, \"type\": \"scatterternary\"}], \"surface\": [{\"colorbar\": {\"outlinewidth\": 0, \"ticks\": \"\"}, \"colorscale\": [[0.0, \"#0d0887\"], [0.1111111111111111, \"#46039f\"], [0.2222222222222222, \"#7201a8\"], [0.3333333333333333, \"#9c179e\"], [0.4444444444444444, \"#bd3786\"], [0.5555555555555556, \"#d8576b\"], [0.6666666666666666, \"#ed7953\"], [0.7777777777777778, \"#fb9f3a\"], [0.8888888888888888, \"#fdca26\"], [1.0, \"#f0f921\"]], \"type\": \"surface\"}], \"table\": [{\"cells\": {\"fill\": {\"color\": \"#EBF0F8\"}, \"line\": {\"color\": \"white\"}}, \"header\": {\"fill\": {\"color\": \"#C8D4E3\"}, \"line\": {\"color\": \"white\"}}, \"type\": \"table\"}]}, \"layout\": {\"annotationdefaults\": {\"arrowcolor\": \"#2a3f5f\", \"arrowhead\": 0, \"arrowwidth\": 1}, \"coloraxis\": {\"colorbar\": {\"outlinewidth\": 0, \"ticks\": \"\"}}, \"colorscale\": {\"diverging\": [[0, \"#8e0152\"], [0.1, \"#c51b7d\"], [0.2, \"#de77ae\"], [0.3, \"#f1b6da\"], [0.4, \"#fde0ef\"], [0.5, \"#f7f7f7\"], [0.6, \"#e6f5d0\"], [0.7, \"#b8e186\"], [0.8, \"#7fbc41\"], [0.9, \"#4d9221\"], [1, \"#276419\"]], \"sequential\": [[0.0, \"#0d0887\"], [0.1111111111111111, \"#46039f\"], [0.2222222222222222, \"#7201a8\"], [0.3333333333333333, \"#9c179e\"], [0.4444444444444444, \"#bd3786\"], [0.5555555555555556, \"#d8576b\"], [0.6666666666666666, \"#ed7953\"], [0.7777777777777778, \"#fb9f3a\"], [0.8888888888888888, \"#fdca26\"], [1.0, \"#f0f921\"]], \"sequentialminus\": [[0.0, \"#0d0887\"], [0.1111111111111111, \"#46039f\"], [0.2222222222222222, \"#7201a8\"], [0.3333333333333333, \"#9c179e\"], [0.4444444444444444, \"#bd3786\"], [0.5555555555555556, \"#d8576b\"], [0.6666666666666666, \"#ed7953\"], [0.7777777777777778, \"#fb9f3a\"], [0.8888888888888888, \"#fdca26\"], [1.0, \"#f0f921\"]]}, \"colorway\": [\"#636efa\", \"#EF553B\", \"#00cc96\", \"#ab63fa\", \"#FFA15A\", \"#19d3f3\", \"#FF6692\", \"#B6E880\", \"#FF97FF\", \"#FECB52\"], \"font\": {\"color\": \"#2a3f5f\"}, \"geo\": {\"bgcolor\": \"white\", \"lakecolor\": \"white\", \"landcolor\": \"#E5ECF6\", \"showlakes\": true, \"showland\": true, \"subunitcolor\": \"white\"}, \"hoverlabel\": {\"align\": \"left\"}, \"hovermode\": \"closest\", \"mapbox\": {\"style\": \"light\"}, \"paper_bgcolor\": \"white\", \"plot_bgcolor\": \"#E5ECF6\", \"polar\": {\"angularaxis\": {\"gridcolor\": \"white\", \"linecolor\": \"white\", \"ticks\": \"\"}, \"bgcolor\": \"#E5ECF6\", \"radialaxis\": {\"gridcolor\": \"white\", \"linecolor\": \"white\", \"ticks\": \"\"}}, \"scene\": {\"xaxis\": {\"backgroundcolor\": \"#E5ECF6\", \"gridcolor\": \"white\", \"gridwidth\": 2, \"linecolor\": \"white\", \"showbackground\": true, \"ticks\": \"\", \"zerolinecolor\": \"white\"}, \"yaxis\": {\"backgroundcolor\": \"#E5ECF6\", \"gridcolor\": \"white\", \"gridwidth\": 2, \"linecolor\": \"white\", \"showbackground\": true, \"ticks\": \"\", \"zerolinecolor\": \"white\"}, \"zaxis\": {\"backgroundcolor\": \"#E5ECF6\", \"gridcolor\": \"white\", \"gridwidth\": 2, \"linecolor\": \"white\", \"showbackground\": true, \"ticks\": \"\", \"zerolinecolor\": \"white\"}}, \"shapedefaults\": {\"line\": {\"color\": \"#2a3f5f\"}}, \"ternary\": {\"aaxis\": {\"gridcolor\": \"white\", \"linecolor\": \"white\", \"ticks\": \"\"}, \"baxis\": {\"gridcolor\": \"white\", \"linecolor\": \"white\", \"ticks\": \"\"}, \"bgcolor\": \"#E5ECF6\", \"caxis\": {\"gridcolor\": \"white\", \"linecolor\": \"white\", \"ticks\": \"\"}}, \"title\": {\"x\": 0.05}, \"xaxis\": {\"automargin\": true, \"gridcolor\": \"white\", \"linecolor\": \"white\", \"ticks\": \"\", \"title\": {\"standoff\": 15}, \"zerolinecolor\": \"white\", \"zerolinewidth\": 2}, \"yaxis\": {\"automargin\": true, \"gridcolor\": \"white\", \"linecolor\": \"white\", \"ticks\": \"\", \"title\": {\"standoff\": 15}, \"zerolinecolor\": \"white\", \"zerolinewidth\": 2}}}, \"width\": 1100, \"xaxis\": {\"title\": {\"text\": \"Date\"}}},\n",
              "                        {\"responsive\": true}\n",
              "                    ).then(function(){\n",
              "                            \n",
              "var gd = document.getElementById('d24cce02-3ced-4d99-b81d-3c0715628b8a');\n",
              "var x = new MutationObserver(function (mutations, observer) {{\n",
              "        var display = window.getComputedStyle(gd).display;\n",
              "        if (!display || display === 'none') {{\n",
              "            console.log([gd, 'removed!']);\n",
              "            Plotly.purge(gd);\n",
              "            observer.disconnect();\n",
              "        }}\n",
              "}});\n",
              "\n",
              "// Listen for the removal of the full notebook cells\n",
              "var notebookContainer = gd.closest('#notebook-container');\n",
              "if (notebookContainer) {{\n",
              "    x.observe(notebookContainer, {childList: true});\n",
              "}}\n",
              "\n",
              "// Listen for the clearing of the current output cell\n",
              "var outputEl = gd.closest('.output');\n",
              "if (outputEl) {{\n",
              "    x.observe(outputEl, {childList: true});\n",
              "}}\n",
              "\n",
              "                        })\n",
              "                };\n",
              "                \n",
              "            </script>\n",
              "        </div>\n",
              "</body>\n",
              "</html>"
            ]
          },
          "metadata": {
            "tags": []
          }
        },
        {
          "output_type": "display_data",
          "data": {
            "text/html": [
              "<html>\n",
              "<head><meta charset=\"utf-8\" /></head>\n",
              "<body>\n",
              "    <div>\n",
              "            <script src=\"https://cdnjs.cloudflare.com/ajax/libs/mathjax/2.7.5/MathJax.js?config=TeX-AMS-MML_SVG\"></script><script type=\"text/javascript\">if (window.MathJax) {MathJax.Hub.Config({SVG: {font: \"STIX-Web\"}});}</script>\n",
              "                <script type=\"text/javascript\">window.PlotlyConfig = {MathJaxConfig: 'local'};</script>\n",
              "        <script src=\"https://cdn.plot.ly/plotly-latest.min.js\"></script>    \n",
              "            <div id=\"0a98a52d-4df5-4a6f-82eb-fd64cba9fad6\" class=\"plotly-graph-div\" style=\"height:800px; width:1100px;\"></div>\n",
              "            <script type=\"text/javascript\">\n",
              "                \n",
              "                    window.PLOTLYENV=window.PLOTLYENV || {};\n",
              "                    \n",
              "                if (document.getElementById(\"0a98a52d-4df5-4a6f-82eb-fd64cba9fad6\")) {\n",
              "                    Plotly.newPlot(\n",
              "                        '0a98a52d-4df5-4a6f-82eb-fd64cba9fad6',\n",
              "                        [{\"mode\": \"lines\", \"type\": \"scatter\", \"x\": [\"2018-04-02\", \"2018-04-03\", \"2018-04-04\", \"2018-04-05\", \"2018-04-06\", \"2018-04-07\", \"2018-04-08\", \"2018-04-09\", \"2018-04-10\", \"2018-04-11\", \"2018-04-12\", \"2018-04-13\", \"2018-04-14\", \"2018-04-15\", \"2018-04-16\", \"2018-04-17\", \"2018-04-18\", \"2018-04-19\", \"2018-04-20\", \"2018-04-21\", \"2018-04-22\", \"2018-04-23\", \"2018-04-24\", \"2018-04-25\", \"2018-04-26\", \"2018-04-27\", \"2018-04-28\", \"2018-04-29\", \"2018-04-30\", \"2018-05-01\", \"2018-05-02\", \"2018-05-03\", \"2018-05-04\", \"2018-05-05\", \"2018-05-06\", \"2018-05-07\", \"2018-05-08\", \"2018-05-09\", \"2018-05-10\", \"2018-05-11\", \"2018-05-12\", \"2018-05-13\", \"2018-05-14\", \"2018-05-15\", \"2018-05-16\", \"2018-05-17\", \"2018-05-18\", \"2018-05-19\", \"2018-05-20\", \"2018-05-21\", \"2018-05-22\", \"2018-05-23\", \"2018-05-24\", \"2018-05-25\", \"2018-05-26\", \"2018-05-27\", \"2018-05-28\", \"2018-05-29\", \"2018-05-30\", \"2018-05-31\", \"2018-06-01\", \"2018-06-02\", \"2018-06-03\", \"2018-06-04\", \"2018-06-05\", \"2018-06-06\", \"2018-06-07\", \"2018-06-08\", \"2018-06-09\", \"2018-06-10\", \"2018-06-11\", \"2018-06-12\", \"2018-06-13\", \"2018-06-14\", \"2018-06-15\", \"2018-06-16\", \"2018-06-17\", \"2018-06-18\", \"2018-06-19\", \"2018-06-20\", \"2018-06-21\", \"2018-06-22\", \"2018-06-23\", \"2018-06-24\", \"2018-06-25\", \"2018-06-26\", \"2018-06-27\", \"2018-06-28\", \"2018-06-29\", \"2018-06-30\", \"2018-07-01\", \"2018-07-02\", \"2018-07-03\", \"2018-07-04\", \"2018-07-05\", \"2018-07-06\", \"2018-07-07\", \"2018-07-08\", \"2018-07-09\", \"2018-07-10\", \"2018-07-11\", \"2018-07-12\", \"2018-07-13\", \"2018-07-14\", \"2018-07-15\", \"2018-07-16\", \"2018-07-17\", \"2018-07-18\", \"2018-07-19\", \"2018-07-20\", \"2018-07-21\", \"2018-07-22\", \"2018-07-23\", \"2018-07-24\", \"2018-07-25\", \"2018-07-26\", \"2018-07-27\", \"2018-07-28\", \"2018-07-29\", \"2018-07-30\", \"2018-07-31\", \"2018-08-01\", \"2018-08-02\", \"2018-08-03\", \"2018-08-04\", \"2018-08-05\", \"2018-08-06\", \"2018-08-07\", \"2018-08-08\", \"2018-08-09\", \"2018-08-10\", \"2018-08-11\", \"2018-08-12\", \"2018-08-13\", \"2018-08-14\", \"2018-08-15\", \"2018-08-16\", \"2018-08-17\", \"2018-08-18\", \"2018-08-19\", \"2018-08-20\", \"2018-08-21\", \"2018-08-22\", \"2018-08-23\", \"2018-08-24\", \"2018-08-25\", \"2018-08-26\", \"2018-08-27\", \"2018-08-28\", \"2018-08-29\", \"2018-08-30\", \"2018-08-31\", \"2018-09-01\", \"2018-09-02\", \"2018-09-03\", \"2018-09-04\", \"2018-09-05\", \"2018-09-06\", \"2018-09-07\", \"2018-09-08\", \"2018-09-09\", \"2018-09-10\", \"2018-09-11\", \"2018-09-12\", \"2018-09-13\", \"2018-09-14\", \"2018-09-15\", \"2018-09-16\", \"2018-09-17\", \"2018-09-18\", \"2018-09-19\", \"2018-09-20\", \"2018-09-21\", \"2018-09-22\", \"2018-09-23\", \"2018-09-24\", \"2018-09-25\", \"2018-09-26\", \"2018-09-27\", \"2018-09-28\", \"2018-09-29\", \"2018-09-30\", \"2018-10-01\", \"2018-10-02\", \"2018-10-03\", \"2018-10-04\", \"2018-10-05\", \"2018-10-06\", \"2018-10-07\", \"2018-10-08\", \"2018-10-09\", \"2018-10-10\", \"2018-10-11\", \"2018-10-12\", \"2018-10-13\", \"2018-10-14\", \"2018-10-15\", \"2018-10-16\", \"2018-10-17\", \"2018-10-18\", \"2018-10-19\", \"2018-10-20\", \"2018-10-21\", \"2018-10-22\", \"2018-10-23\", \"2018-10-24\", \"2018-10-25\", \"2018-10-26\", \"2018-10-27\", \"2018-10-28\", \"2018-10-29\", \"2018-10-30\", \"2018-10-31\", \"2018-11-01\", \"2018-11-02\", \"2018-11-03\", \"2018-11-04\", \"2018-11-05\", \"2018-11-06\", \"2018-11-07\", \"2018-11-08\", \"2018-11-09\", \"2018-11-10\", \"2018-11-11\", \"2018-11-12\", \"2018-11-13\", \"2018-11-14\", \"2018-11-15\", \"2018-11-16\", \"2018-11-17\", \"2018-11-18\", \"2018-11-19\", \"2018-11-20\", \"2018-11-21\", \"2018-11-22\", \"2018-11-23\", \"2018-11-24\", \"2018-11-25\", \"2018-11-26\", \"2018-11-27\", \"2018-11-28\", \"2018-11-29\", \"2018-11-30\", \"2018-12-01\", \"2018-12-02\", \"2018-12-03\", \"2018-12-04\", \"2018-12-05\", \"2018-12-06\", \"2018-12-07\", \"2018-12-08\", \"2018-12-09\", \"2018-12-10\", \"2018-12-11\", \"2018-12-12\", \"2018-12-13\", \"2018-12-14\", \"2018-12-15\", \"2018-12-16\", \"2018-12-17\", \"2018-12-18\", \"2018-12-19\", \"2018-12-20\", \"2018-12-21\", \"2018-12-22\", \"2018-12-23\", \"2018-12-24\", \"2018-12-25\", \"2018-12-26\", \"2018-12-27\", \"2018-12-28\", \"2018-12-29\", \"2018-12-30\", \"2018-12-31\", \"2019-01-01\", \"2019-01-02\", \"2019-01-03\", \"2019-01-04\", \"2019-01-05\", \"2019-01-06\", \"2019-01-07\", \"2019-01-08\", \"2019-01-09\", \"2019-01-10\", \"2019-01-11\", \"2019-01-12\", \"2019-01-13\", \"2019-01-14\", \"2019-01-15\", \"2019-01-16\", \"2019-01-17\", \"2019-01-18\", \"2019-01-19\", \"2019-01-20\", \"2019-01-21\", \"2019-01-22\", \"2019-01-23\", \"2019-01-24\", \"2019-01-25\", \"2019-01-26\", \"2019-01-27\", \"2019-01-28\", \"2019-01-29\", \"2019-01-30\", \"2019-01-31\", \"2019-02-01\", \"2019-02-02\", \"2019-02-03\", \"2019-02-04\", \"2019-02-05\", \"2019-02-06\", \"2019-02-07\", \"2019-02-08\", \"2019-02-09\", \"2019-02-10\", \"2019-02-11\", \"2019-02-12\", \"2019-02-13\", \"2019-02-14\", \"2019-02-15\", \"2019-02-16\", \"2019-02-17\", \"2019-02-18\", \"2019-02-19\", \"2019-02-20\", \"2019-02-21\", \"2019-02-22\", \"2019-02-23\", \"2019-02-24\", \"2019-02-25\", \"2019-02-26\", \"2019-02-27\", \"2019-02-28\", \"2019-03-01\", \"2019-03-02\", \"2019-03-03\", \"2019-03-04\", \"2019-03-05\", \"2019-03-06\", \"2019-03-07\", \"2019-03-08\", \"2019-03-09\", \"2019-03-10\", \"2019-03-11\", \"2019-03-12\", \"2019-03-13\", \"2019-03-14\", \"2019-03-15\", \"2019-03-16\", \"2019-03-17\", \"2019-03-18\", \"2019-03-19\", \"2019-03-20\", \"2019-03-21\", \"2019-03-22\", \"2019-03-23\", \"2019-03-24\", \"2019-03-25\", \"2019-03-26\", \"2019-03-27\", \"2019-03-28\", \"2019-03-29\", \"2019-03-30\", \"2019-03-31\", \"2019-04-01\", \"2019-04-02\", \"2019-04-03\", \"2019-04-04\", \"2019-04-05\", \"2019-04-06\", \"2019-04-07\", \"2019-04-08\", \"2019-04-09\", \"2019-04-10\", \"2019-04-11\", \"2019-04-12\", \"2019-04-13\", \"2019-04-14\", \"2019-04-15\", \"2019-04-16\", \"2019-04-17\", \"2019-04-18\", \"2019-04-19\", \"2019-04-20\", \"2019-04-21\", \"2019-04-22\", \"2019-04-23\", \"2019-04-24\", \"2019-04-25\", \"2019-04-26\", \"2019-04-27\", \"2019-04-28\", \"2019-04-29\", \"2019-04-30\", \"2019-05-01\", \"2019-05-02\", \"2019-05-03\", \"2019-05-04\", \"2019-05-05\", \"2019-05-06\", \"2019-05-07\", \"2019-05-08\", \"2019-05-09\", \"2019-05-10\", \"2019-05-11\", \"2019-05-12\", \"2019-05-13\", \"2019-05-14\", \"2019-05-15\", \"2019-05-16\", \"2019-05-17\", \"2019-05-18\", \"2019-05-19\", \"2019-05-20\", \"2019-05-21\", \"2019-05-22\", \"2019-05-23\", \"2019-05-24\", \"2019-05-25\", \"2019-05-26\", \"2019-05-27\", \"2019-05-28\", \"2019-05-29\", \"2019-05-30\", \"2019-05-31\", \"2019-06-01\", \"2019-06-02\", \"2019-06-03\", \"2019-06-04\", \"2019-06-05\", \"2019-06-06\", \"2019-06-07\", \"2019-06-08\", \"2019-06-09\", \"2019-06-10\", \"2019-06-11\", \"2019-06-12\", \"2019-06-13\", \"2019-06-14\", \"2019-06-15\", \"2019-06-16\", \"2019-06-17\", \"2019-06-18\", \"2019-06-19\", \"2019-06-20\", \"2019-06-21\", \"2019-06-22\", \"2019-06-23\", \"2019-06-24\", \"2019-06-25\", \"2019-06-26\", \"2019-06-27\", \"2019-06-28\", \"2019-06-29\", \"2019-06-30\", \"2019-07-01\", \"2019-07-02\", \"2019-07-03\", \"2019-07-04\", \"2019-07-05\", \"2019-07-06\", \"2019-07-07\", \"2019-07-08\", \"2019-07-09\", \"2019-07-10\", \"2019-07-11\", \"2019-07-12\", \"2019-07-13\", \"2019-07-14\", \"2019-07-15\", \"2019-07-16\", \"2019-07-17\", \"2019-07-18\", \"2019-07-19\", \"2019-07-20\", \"2019-07-21\", \"2019-07-22\", \"2019-07-23\", \"2019-07-24\", \"2019-07-25\", \"2019-07-26\", \"2019-07-27\", \"2019-07-28\", \"2019-07-29\", \"2019-07-30\", \"2019-07-31\", \"2019-08-01\", \"2019-08-02\", \"2019-08-03\", \"2019-08-04\", \"2019-08-05\", \"2019-08-06\", \"2019-08-07\", \"2019-08-08\", \"2019-08-09\", \"2019-08-10\", \"2019-08-11\", \"2019-08-12\", \"2019-08-13\", \"2019-08-14\", \"2019-08-15\", \"2019-08-16\", \"2019-08-17\", \"2019-08-18\", \"2019-08-19\", \"2019-08-20\", \"2019-08-21\", \"2019-08-22\", \"2019-08-23\", \"2019-08-24\", \"2019-08-25\", \"2019-08-26\", \"2019-08-27\", \"2019-08-28\", \"2019-08-29\", \"2019-08-30\", \"2019-08-31\", \"2019-09-01\", \"2019-09-02\", \"2019-09-03\", \"2019-09-04\", \"2019-09-05\", \"2019-09-06\", \"2019-09-07\", \"2019-09-08\", \"2019-09-09\", \"2019-09-10\", \"2019-09-11\", \"2019-09-12\", \"2019-09-13\", \"2019-09-14\", \"2019-09-15\", \"2019-09-16\", \"2019-09-17\", \"2019-09-18\", \"2019-09-19\", \"2019-09-20\", \"2019-09-21\", \"2019-09-22\", \"2019-09-23\", \"2019-09-24\", \"2019-09-25\", \"2019-09-26\", \"2019-09-27\", \"2019-09-28\", \"2019-09-29\", \"2019-09-30\", \"2019-10-01\", \"2019-10-02\", \"2019-10-03\", \"2019-10-04\", \"2019-10-05\", \"2019-10-06\", \"2019-10-07\", \"2019-10-08\", \"2019-10-09\", \"2019-10-10\", \"2019-10-11\", \"2019-10-12\", \"2019-10-13\", \"2019-10-14\", \"2019-10-15\", \"2019-10-16\", \"2019-10-17\", \"2019-10-18\", \"2019-10-19\", \"2019-10-20\", \"2019-10-21\", \"2019-10-22\", \"2019-10-23\", \"2019-10-24\", \"2019-10-25\", \"2019-10-26\", \"2019-10-27\", \"2019-10-28\", \"2019-10-29\", \"2019-10-30\", \"2019-10-31\", \"2019-11-01\", \"2019-11-02\", \"2019-11-03\", \"2019-11-04\", \"2019-11-05\", \"2019-11-06\", \"2019-11-07\", \"2019-11-08\", \"2019-11-09\", \"2019-11-10\", \"2019-11-11\", \"2019-11-12\", \"2019-11-13\", \"2019-11-14\", \"2019-11-15\", \"2019-11-16\", \"2019-11-17\", \"2019-11-18\", \"2019-11-19\", \"2019-11-20\", \"2019-11-21\", \"2019-11-22\", \"2019-11-23\", \"2019-11-24\", \"2019-11-25\", \"2019-11-26\", \"2019-11-27\", \"2019-11-28\", \"2019-11-29\", \"2019-11-30\", \"2019-12-01\", \"2019-12-02\", \"2019-12-03\", \"2019-12-04\", \"2019-12-05\", \"2019-12-06\", \"2019-12-07\", \"2019-12-08\", \"2019-12-09\", \"2019-12-10\", \"2019-12-11\", \"2019-12-12\", \"2019-12-13\", \"2019-12-14\", \"2019-12-15\", \"2019-12-16\", \"2019-12-17\", \"2019-12-18\", \"2019-12-19\", \"2019-12-20\", \"2019-12-21\", \"2019-12-22\", \"2019-12-23\", \"2019-12-24\", \"2019-12-25\", \"2019-12-26\", \"2019-12-27\", \"2019-12-28\", \"2019-12-29\", \"2019-12-30\", \"2019-12-31\", \"2020-01-01\", \"2020-01-02\", \"2020-01-03\", \"2020-01-04\", \"2020-01-05\", \"2020-01-06\", \"2020-01-07\", \"2020-01-08\", \"2020-01-09\", \"2020-01-10\", \"2020-01-11\", \"2020-01-12\", \"2020-01-13\", \"2020-01-14\", \"2020-01-15\", \"2020-01-16\", \"2020-01-17\", \"2020-01-18\", \"2020-01-19\", \"2020-01-20\", \"2020-01-21\", \"2020-01-22\", \"2020-01-23\", \"2020-01-24\", \"2020-01-25\", \"2020-01-26\", \"2020-01-27\", \"2020-01-28\", \"2020-01-29\", \"2020-01-30\", \"2020-01-31\", \"2020-02-01\", \"2020-02-02\", \"2020-02-03\", \"2020-02-04\", \"2020-02-05\", \"2020-02-06\", \"2020-02-07\", \"2020-02-08\", \"2020-02-09\", \"2020-02-10\", \"2020-02-11\", \"2020-02-12\", \"2020-02-13\", \"2020-02-14\", \"2020-02-15\", \"2020-02-16\", \"2020-02-17\", \"2020-02-18\", \"2020-02-19\", \"2020-02-20\", \"2020-02-21\", \"2020-02-22\", \"2020-02-23\", \"2020-02-24\", \"2020-02-25\", \"2020-02-26\", \"2020-02-27\", \"2020-02-28\", \"2020-02-29\", \"2020-03-01\", \"2020-03-02\", \"2020-03-03\", \"2020-03-04\", \"2020-03-05\", \"2020-03-06\", \"2020-03-07\", \"2020-03-08\", \"2020-03-09\", \"2020-03-10\", \"2020-03-11\", \"2020-03-12\", \"2020-03-13\", \"2020-03-14\", \"2020-03-15\", \"2020-03-16\", \"2020-03-17\", \"2020-03-18\", \"2020-03-19\", \"2020-03-20\", \"2020-03-21\", \"2020-03-22\", \"2020-03-23\", \"2020-03-24\", \"2020-03-25\", \"2020-03-26\", \"2020-03-27\", \"2020-03-28\", \"2020-03-29\", \"2020-03-30\", \"2020-03-31\", \"2020-04-01\", \"2020-04-02\"], \"y\": [22.82, 8.78, 10.76, 27.68, 32.0, 32.0, 28.94, 26.24, 19.94, 32.36, 27.86, 19.4, 11.66, 29.3, 30.74, 18.68, 13.28, 12.38, 22.1, 19.58, 22.82, 17.6, 18.86, 22.82, 31.28, 31.28, 38.12, 28.4, 27.86, 23.9, 22.46, 28.76, 27.68, 36.68, 36.5, 34.34, 33.26, 31.28, 31.1, 29.3, 28.58, 31.28, 31.46, 31.28, 35.06, 36.32, 34.52, 32.36, 31.28, 35.24, 37.04, 34.7, 37.4, 37.4, 36.5, 34.7, 35.78, 35.06, 32.54, 35.78, 32.18, 27.32, 32.36, 42.44, 33.26, 32.54, 34.88, 38.3, 35.96, 29.66, 27.14, 30.2, 28.76, 38.3, 32.72, 31.28, 35.06, 35.6, 41.9, 40.28, 39.02, 41.36, 39.02, 35.06, 37.94, 33.98, 30.92, 38.3, 38.3, 34.16, 35.24, 43.88, 31.64, 30.92, 33.44, 49.82, 52.88, 43.16, 40.46, 46.4, 39.74, 37.04, 39.2, 42.26, 45.14, 42.8, 47.66, 45.32, 44.96, 40.64, 41.36, 38.12, 35.42, 43.34, 48.56, 45.32, 44.96, 43.7, 44.6, 44.6, 46.58, 53.96, 47.48, 43.34, 39.2, 35.42, 37.58, 41.9, 43.16, 49.1, 53.78, 56.3, 44.06, 39.02, 37.4, 38.48, 46.58, 51.26, 45.5, 42.98, 44.42, 39.92, 37.4, 40.1, 41.0, 36.14, 35.24, 38.66, 32.18, 31.28, 38.66, 39.2, 35.24, 33.44, 34.34, 39.2, 35.06, 42.44, 46.58, 44.24, 37.22, 37.04, 34.34, 29.66, 29.12, 30.74, 30.74, 37.4, 30.74, 30.92, 31.46, 29.48, 27.86, 36.86, 39.38, 27.32, 25.16, 27.32, 31.28, 37.94, 35.06, 39.74, 34.34, 42.44, 38.3, 26.06, 28.58, 23.72, 29.84, 24.98, 23.54, 31.1, 29.66, 23.9, 23.9, 17.78, 13.46, 22.1, 27.5, 32.18, 30.74, 32.36, 37.4, 37.04, 34.7, 35.96, 32.36, 28.94, 40.1, 36.32, 28.76, 26.6, 22.46, 25.7, 34.88, 28.94, 27.32, 27.5, 24.62, 18.5, 11.3, 9.14, 13.82, 9.32, 7.52, 11.12, 27.86, 32.0, 24.44, 25.52, 12.56, 16.52, 24.08, 30.56, 33.08, 25.7, 22.28, 9.68, 11.48, 24.08, 29.66, 24.8, 16.16, 17.6, 11.66, 11.12, 1.4, 1.58, 2.48, 2.3, 12.2, 15.44, 17.6, 14.36, 15.62, 10.76, 17.6, 24.44, 22.1, 29.12, 27.5, 26.96, 21.74, 21.92, 6.62, 2.48, 23.54, 15.98, 2.66, 3.2, 12.92, 4.1, 26.6, 12.56, -3.28, -3.1, 19.22, 26.78, 30.02, 25.16, 19.04, 6.44, 10.22, 30.02, 16.52, 16.52, 24.8, 20.48, 26.6, 24.8, 26.06, 25.7, 17.78, 27.5, 19.22, 9.14, 4.28, 24.26, 13.46, 17.78, 22.82, 22.82, 8.06, 10.76, 16.88, 23.54, 29.66, 31.1, 23.36, 18.86, 5.18, -9.04, -9.4, 9.14, 14.36, 6.26, 11.66, 17.78, 20.84, 21.92, 9.5, 7.52, 7.52, 7.34, 3.74, 12.38, -4.0, -4.9, 16.34, 17.96, 18.14, 5.18, 28.94, 4.46, 7.34, -1.48, -3.28, 10.58, 21.02, 26.6, 3.02, -1.66, -1.48, 1.4, 5.18, 14.9, 3.2, -0.58, 18.68, 16.88, 19.4, 16.34, 22.82, 29.12, 25.7, 26.6, 30.2, 18.32, 20.12, 21.2, 21.02, 18.68, 17.06, 12.74, 19.94, 24.8, 30.38, 31.1, 32.9, 24.44, 17.06, 33.44, 32.54, 25.34, 22.64, 26.06, 25.34, 19.94, 21.92, 19.22, 27.68, 29.66, 29.12, 37.76, 30.74, 27.86, 24.44, 37.4, 26.96, 21.74, 28.94, 19.22, 14.36, 11.12, 16.16, 14.0, 26.24, 27.86, 28.4, 31.46, 32.54, 31.64, 33.08, 29.84, 27.14, 33.62, 35.24, 37.22, 36.14, 32.9, 34.52, 32.72, 31.46, 33.98, 33.98, 32.0, 32.9, 29.84, 32.18, 33.98, 33.08, 32.54, 37.04, 37.94, 35.42, 35.96, 35.96, 36.5, 37.22, 32.72, 35.42, 29.84, 24.26, 25.88, 25.7, 37.4, 36.68, 38.66, 41.18, 38.48, 35.96, 37.04, 38.84, 37.22, 30.38, 29.48, 29.3, 29.3, 32.36, 31.64, 33.62, 35.78, 32.18, 32.0, 33.44, 36.5, 39.2, 37.22, 35.06, 35.06, 37.4, 41.9, 37.22, 35.42, 33.26, 45.68, 42.8, 46.22, 47.84, 43.7, 42.44, 39.2, 39.02, 39.02, 31.28, 31.1, 36.14, 50.36, 49.82, 38.66, 36.32, 46.58, 47.3, 42.8, 45.32, 46.58, 45.86, 44.78, 45.32, 42.44, 45.5, 47.12, 50.36, 47.48, 50.18, 44.06, 42.44, 38.12, 35.96, 41.0, 43.88, 41.0, 38.12, 38.66, 40.1, 45.68, 46.76, 46.94, 39.74, 37.22, 46.4, 36.5, 34.52, 36.14, 45.5, 50.72, 45.86, 46.58, 45.5, 43.16, 48.02, 44.06, 50.36, 42.8, 40.46, 36.5, 37.4, 32.9, 34.7, 32.36, 45.86, 43.7, 41.18, 34.7, 32.72, 33.98, 34.34, 34.34, 32.54, 36.32, 34.7, 36.68, 31.1, 34.7, 28.94, 25.7, 18.32, 18.5, 21.02, 15.26, 31.28, 26.24, 22.1, 20.12, 32.36, 21.56, 10.94, 7.34, 19.76, 28.22, 30.92, 27.5, 31.28, 43.16, 30.38, 28.04, 25.16, 21.02, 28.04, 30.74, 21.38, 21.38, 29.48, 18.86, 7.88, 7.16, -5.98, 4.28, 21.02, 17.06, 24.8, 28.04, 26.78, 29.84, 25.34, 26.24, 33.98, 35.78, 25.34, 18.86, 30.2, 24.98, 26.06, 31.46, 24.62, 33.44, 30.38, 25.7, 17.96, 17.78, 20.3, 22.1, 17.24, 15.26, 3.02, 14.18, 5.9, 5.72, 2.84, 19.04, 22.82, 24.08, 19.4, 18.5, 30.56, 28.76, 18.32, 11.3, 15.98, 27.5, 23.54, 8.6, 7.7, 0.14, -1.84, 13.82, 19.4, 25.88, 32.36, 33.98, 32.72, 11.3, 5.54, 3.02, 3.38, 4.1, 17.24, 25.16, 16.34, 26.42, 21.74, 20.12, 28.58, 11.84, 15.98, 19.22, 27.86, 17.6, 9.68, 1.76, 17.06, 12.56, 12.56, -0.94, -1.84, 17.6, 1.58, 17.6, 20.12, 29.12, 19.04, 21.2, 31.64, 18.86, 18.68, 17.78, 22.46, 18.86, 12.38, 10.04, 34.7, 24.8, 9.14, -4.18, 2.48, 21.02, 31.1, 28.94, 18.5, 13.28, 12.56, 11.84, 12.56, 14.18, 16.7, 18.86, 15.26, -1.12, -2.56, -1.3, 14.54, 18.14, 23.0, 17.78, 6.08, 4.1, 16.34, 15.98, 25.7, 13.28, 6.62, 12.02, 26.42, 22.64, 32.36, 38.48, 11.66, 8.78, 10.76, 8.42, 20.84, 8.96, 12.92, 22.64, 21.74, 17.6, 19.76, 15.26, 14.18, 17.78, 15.98, 13.28, 23.72, 13.82, 7.34, 8.6, 13.64, 21.02, 27.86, 24.26, 10.22, 6.26]}, {\"hovertext\": [2.088291909123073, 2.1743908714878337, 2.1600410444270404, 2.360938623278149, -2.015758630263871, -2.0014088032030775, -2.388854133844502, -2.3745043067837086, -2.848048599789894, -2.8767482539114813, -2.446253442087676, -2.5180025773916435, -2.2453558632365667, -2.388854133844502, -2.2597056902973605, -2.2453558632365667, -2.015758630263871, -2.173606727932599, -2.6041015397564045, -2.116207419689425, -2.274055517358154, -2.2023063820541866, -2.274055517358154, -2.0014088032030775, -2.4606032691484696, -2.21665620911498, -2.3314548256013277, -2.2310060361757733], \"mode\": \"markers\", \"type\": \"scatter\", \"x\": [\"2018-07-07\", \"2018-08-01\", \"2018-08-10\", \"2018-08-11\", \"2018-12-04\", \"2018-12-05\", \"2019-01-01\", \"2019-01-02\", \"2019-02-07\", \"2019-02-08\", \"2019-02-22\", \"2019-02-23\", \"2019-03-03\", \"2019-03-04\", \"2019-03-09\", \"2019-03-10\", \"2019-03-11\", \"2019-03-15\", \"2019-10-30\", \"2019-12-16\", \"2019-12-17\", \"2020-01-15\", \"2020-01-16\", \"2020-01-18\", \"2020-02-04\", \"2020-02-18\", \"2020-02-19\", \"2020-02-20\"], \"y\": [52.88, 53.96, 53.78, 56.3, 1.4, 1.58, -3.28, -3.1, -9.04, -9.4, -4.0, -4.9, -1.48, -3.28, -1.66, -1.48, 1.4, -0.58, -5.98, 0.14, -1.84, -0.94, -1.84, 1.58, -4.18, -1.12, -2.56, -1.3]}],\n",
              "                        {\"height\": 800, \"template\": {\"data\": {\"bar\": [{\"error_x\": {\"color\": \"#2a3f5f\"}, \"error_y\": {\"color\": \"#2a3f5f\"}, \"marker\": {\"line\": {\"color\": \"#E5ECF6\", \"width\": 0.5}}, \"type\": \"bar\"}], \"barpolar\": [{\"marker\": {\"line\": {\"color\": \"#E5ECF6\", \"width\": 0.5}}, \"type\": \"barpolar\"}], \"carpet\": [{\"aaxis\": {\"endlinecolor\": \"#2a3f5f\", \"gridcolor\": \"white\", \"linecolor\": \"white\", \"minorgridcolor\": \"white\", \"startlinecolor\": \"#2a3f5f\"}, \"baxis\": {\"endlinecolor\": \"#2a3f5f\", \"gridcolor\": \"white\", \"linecolor\": \"white\", \"minorgridcolor\": \"white\", \"startlinecolor\": \"#2a3f5f\"}, \"type\": \"carpet\"}], \"choropleth\": [{\"colorbar\": {\"outlinewidth\": 0, \"ticks\": \"\"}, \"type\": \"choropleth\"}], \"contour\": [{\"colorbar\": {\"outlinewidth\": 0, \"ticks\": \"\"}, \"colorscale\": [[0.0, \"#0d0887\"], [0.1111111111111111, \"#46039f\"], [0.2222222222222222, \"#7201a8\"], [0.3333333333333333, \"#9c179e\"], [0.4444444444444444, \"#bd3786\"], [0.5555555555555556, \"#d8576b\"], [0.6666666666666666, \"#ed7953\"], [0.7777777777777778, \"#fb9f3a\"], [0.8888888888888888, \"#fdca26\"], [1.0, \"#f0f921\"]], \"type\": \"contour\"}], \"contourcarpet\": [{\"colorbar\": {\"outlinewidth\": 0, \"ticks\": \"\"}, \"type\": \"contourcarpet\"}], \"heatmap\": [{\"colorbar\": {\"outlinewidth\": 0, \"ticks\": \"\"}, \"colorscale\": [[0.0, \"#0d0887\"], [0.1111111111111111, \"#46039f\"], [0.2222222222222222, \"#7201a8\"], [0.3333333333333333, \"#9c179e\"], [0.4444444444444444, \"#bd3786\"], [0.5555555555555556, \"#d8576b\"], [0.6666666666666666, \"#ed7953\"], [0.7777777777777778, \"#fb9f3a\"], [0.8888888888888888, \"#fdca26\"], [1.0, \"#f0f921\"]], \"type\": \"heatmap\"}], \"heatmapgl\": [{\"colorbar\": {\"outlinewidth\": 0, \"ticks\": \"\"}, \"colorscale\": [[0.0, \"#0d0887\"], [0.1111111111111111, \"#46039f\"], [0.2222222222222222, \"#7201a8\"], [0.3333333333333333, \"#9c179e\"], [0.4444444444444444, \"#bd3786\"], [0.5555555555555556, \"#d8576b\"], [0.6666666666666666, \"#ed7953\"], [0.7777777777777778, \"#fb9f3a\"], [0.8888888888888888, \"#fdca26\"], [1.0, \"#f0f921\"]], \"type\": \"heatmapgl\"}], \"histogram\": [{\"marker\": {\"colorbar\": {\"outlinewidth\": 0, \"ticks\": \"\"}}, \"type\": \"histogram\"}], \"histogram2d\": [{\"colorbar\": {\"outlinewidth\": 0, \"ticks\": \"\"}, \"colorscale\": [[0.0, \"#0d0887\"], [0.1111111111111111, \"#46039f\"], [0.2222222222222222, \"#7201a8\"], [0.3333333333333333, \"#9c179e\"], [0.4444444444444444, \"#bd3786\"], [0.5555555555555556, \"#d8576b\"], [0.6666666666666666, \"#ed7953\"], [0.7777777777777778, \"#fb9f3a\"], [0.8888888888888888, \"#fdca26\"], [1.0, \"#f0f921\"]], \"type\": \"histogram2d\"}], \"histogram2dcontour\": [{\"colorbar\": {\"outlinewidth\": 0, \"ticks\": \"\"}, \"colorscale\": [[0.0, \"#0d0887\"], [0.1111111111111111, \"#46039f\"], [0.2222222222222222, \"#7201a8\"], [0.3333333333333333, \"#9c179e\"], [0.4444444444444444, \"#bd3786\"], [0.5555555555555556, \"#d8576b\"], [0.6666666666666666, \"#ed7953\"], [0.7777777777777778, \"#fb9f3a\"], [0.8888888888888888, \"#fdca26\"], [1.0, \"#f0f921\"]], \"type\": \"histogram2dcontour\"}], \"mesh3d\": [{\"colorbar\": {\"outlinewidth\": 0, \"ticks\": \"\"}, \"type\": \"mesh3d\"}], \"parcoords\": [{\"line\": {\"colorbar\": {\"outlinewidth\": 0, \"ticks\": \"\"}}, \"type\": \"parcoords\"}], \"pie\": [{\"automargin\": true, \"type\": \"pie\"}], \"scatter\": [{\"marker\": {\"colorbar\": {\"outlinewidth\": 0, \"ticks\": \"\"}}, \"type\": \"scatter\"}], \"scatter3d\": [{\"line\": {\"colorbar\": {\"outlinewidth\": 0, \"ticks\": \"\"}}, \"marker\": {\"colorbar\": {\"outlinewidth\": 0, \"ticks\": \"\"}}, \"type\": \"scatter3d\"}], \"scattercarpet\": [{\"marker\": {\"colorbar\": {\"outlinewidth\": 0, \"ticks\": \"\"}}, \"type\": \"scattercarpet\"}], \"scattergeo\": [{\"marker\": {\"colorbar\": {\"outlinewidth\": 0, \"ticks\": \"\"}}, \"type\": \"scattergeo\"}], \"scattergl\": [{\"marker\": {\"colorbar\": {\"outlinewidth\": 0, \"ticks\": \"\"}}, \"type\": \"scattergl\"}], \"scattermapbox\": [{\"marker\": {\"colorbar\": {\"outlinewidth\": 0, \"ticks\": \"\"}}, \"type\": \"scattermapbox\"}], \"scatterpolar\": [{\"marker\": {\"colorbar\": {\"outlinewidth\": 0, \"ticks\": \"\"}}, \"type\": \"scatterpolar\"}], \"scatterpolargl\": [{\"marker\": {\"colorbar\": {\"outlinewidth\": 0, \"ticks\": \"\"}}, \"type\": \"scatterpolargl\"}], \"scatterternary\": [{\"marker\": {\"colorbar\": {\"outlinewidth\": 0, \"ticks\": \"\"}}, \"type\": \"scatterternary\"}], \"surface\": [{\"colorbar\": {\"outlinewidth\": 0, \"ticks\": \"\"}, \"colorscale\": [[0.0, \"#0d0887\"], [0.1111111111111111, \"#46039f\"], [0.2222222222222222, \"#7201a8\"], [0.3333333333333333, \"#9c179e\"], [0.4444444444444444, \"#bd3786\"], [0.5555555555555556, \"#d8576b\"], [0.6666666666666666, \"#ed7953\"], [0.7777777777777778, \"#fb9f3a\"], [0.8888888888888888, \"#fdca26\"], [1.0, \"#f0f921\"]], \"type\": \"surface\"}], \"table\": [{\"cells\": {\"fill\": {\"color\": \"#EBF0F8\"}, \"line\": {\"color\": \"white\"}}, \"header\": {\"fill\": {\"color\": \"#C8D4E3\"}, \"line\": {\"color\": \"white\"}}, \"type\": \"table\"}]}, \"layout\": {\"annotationdefaults\": {\"arrowcolor\": \"#2a3f5f\", \"arrowhead\": 0, \"arrowwidth\": 1}, \"coloraxis\": {\"colorbar\": {\"outlinewidth\": 0, \"ticks\": \"\"}}, \"colorscale\": {\"diverging\": [[0, \"#8e0152\"], [0.1, \"#c51b7d\"], [0.2, \"#de77ae\"], [0.3, \"#f1b6da\"], [0.4, \"#fde0ef\"], [0.5, \"#f7f7f7\"], [0.6, \"#e6f5d0\"], [0.7, \"#b8e186\"], [0.8, \"#7fbc41\"], [0.9, \"#4d9221\"], [1, \"#276419\"]], \"sequential\": [[0.0, \"#0d0887\"], [0.1111111111111111, \"#46039f\"], [0.2222222222222222, \"#7201a8\"], [0.3333333333333333, \"#9c179e\"], [0.4444444444444444, \"#bd3786\"], [0.5555555555555556, \"#d8576b\"], [0.6666666666666666, \"#ed7953\"], [0.7777777777777778, \"#fb9f3a\"], [0.8888888888888888, \"#fdca26\"], [1.0, \"#f0f921\"]], \"sequentialminus\": [[0.0, \"#0d0887\"], [0.1111111111111111, \"#46039f\"], [0.2222222222222222, \"#7201a8\"], [0.3333333333333333, \"#9c179e\"], [0.4444444444444444, \"#bd3786\"], [0.5555555555555556, \"#d8576b\"], [0.6666666666666666, \"#ed7953\"], [0.7777777777777778, \"#fb9f3a\"], [0.8888888888888888, \"#fdca26\"], [1.0, \"#f0f921\"]]}, \"colorway\": [\"#636efa\", \"#EF553B\", \"#00cc96\", \"#ab63fa\", \"#FFA15A\", \"#19d3f3\", \"#FF6692\", \"#B6E880\", \"#FF97FF\", \"#FECB52\"], \"font\": {\"color\": \"#2a3f5f\"}, \"geo\": {\"bgcolor\": \"white\", \"lakecolor\": \"white\", \"landcolor\": \"#E5ECF6\", \"showlakes\": true, \"showland\": true, \"subunitcolor\": \"white\"}, \"hoverlabel\": {\"align\": \"left\"}, \"hovermode\": \"closest\", \"mapbox\": {\"style\": \"light\"}, \"paper_bgcolor\": \"white\", \"plot_bgcolor\": \"#E5ECF6\", \"polar\": {\"angularaxis\": {\"gridcolor\": \"white\", \"linecolor\": \"white\", \"ticks\": \"\"}, \"bgcolor\": \"#E5ECF6\", \"radialaxis\": {\"gridcolor\": \"white\", \"linecolor\": \"white\", \"ticks\": \"\"}}, \"scene\": {\"xaxis\": {\"backgroundcolor\": \"#E5ECF6\", \"gridcolor\": \"white\", \"gridwidth\": 2, \"linecolor\": \"white\", \"showbackground\": true, \"ticks\": \"\", \"zerolinecolor\": \"white\"}, \"yaxis\": {\"backgroundcolor\": \"#E5ECF6\", \"gridcolor\": \"white\", \"gridwidth\": 2, \"linecolor\": \"white\", \"showbackground\": true, \"ticks\": \"\", \"zerolinecolor\": \"white\"}, \"zaxis\": {\"backgroundcolor\": \"#E5ECF6\", \"gridcolor\": \"white\", \"gridwidth\": 2, \"linecolor\": \"white\", \"showbackground\": true, \"ticks\": \"\", \"zerolinecolor\": \"white\"}}, \"shapedefaults\": {\"line\": {\"color\": \"#2a3f5f\"}}, \"ternary\": {\"aaxis\": {\"gridcolor\": \"white\", \"linecolor\": \"white\", \"ticks\": \"\"}, \"baxis\": {\"gridcolor\": \"white\", \"linecolor\": \"white\", \"ticks\": \"\"}, \"bgcolor\": \"#E5ECF6\", \"caxis\": {\"gridcolor\": \"white\", \"linecolor\": \"white\", \"ticks\": \"\"}}, \"title\": {\"x\": 0.05}, \"xaxis\": {\"automargin\": true, \"gridcolor\": \"white\", \"linecolor\": \"white\", \"ticks\": \"\", \"title\": {\"standoff\": 15}, \"zerolinecolor\": \"white\", \"zerolinewidth\": 2}, \"yaxis\": {\"automargin\": true, \"gridcolor\": \"white\", \"linecolor\": \"white\", \"ticks\": \"\", \"title\": {\"standoff\": 15}, \"zerolinecolor\": \"white\", \"zerolinewidth\": 2}}}, \"width\": 1100, \"xaxis\": {\"title\": {\"text\": \"Date\"}}},\n",
              "                        {\"responsive\": true}\n",
              "                    ).then(function(){\n",
              "                            \n",
              "var gd = document.getElementById('0a98a52d-4df5-4a6f-82eb-fd64cba9fad6');\n",
              "var x = new MutationObserver(function (mutations, observer) {{\n",
              "        var display = window.getComputedStyle(gd).display;\n",
              "        if (!display || display === 'none') {{\n",
              "            console.log([gd, 'removed!']);\n",
              "            Plotly.purge(gd);\n",
              "            observer.disconnect();\n",
              "        }}\n",
              "}});\n",
              "\n",
              "// Listen for the removal of the full notebook cells\n",
              "var notebookContainer = gd.closest('#notebook-container');\n",
              "if (notebookContainer) {{\n",
              "    x.observe(notebookContainer, {childList: true});\n",
              "}}\n",
              "\n",
              "// Listen for the clearing of the current output cell\n",
              "var outputEl = gd.closest('.output');\n",
              "if (outputEl) {{\n",
              "    x.observe(outputEl, {childList: true});\n",
              "}}\n",
              "\n",
              "                        })\n",
              "                };\n",
              "                \n",
              "            </script>\n",
              "        </div>\n",
              "</body>\n",
              "</html>"
            ]
          },
          "metadata": {
            "tags": []
          }
        }
      ]
    },
    {
      "cell_type": "code",
      "metadata": {
        "id": "wIKuUGeSZSIv"
      },
      "source": [
        "\n",
        "\n"
      ],
      "execution_count": null,
      "outputs": []
    },
    {
      "cell_type": "code",
      "metadata": {
        "id": "KjoHZ3ugZxTd"
      },
      "source": [
        ""
      ],
      "execution_count": null,
      "outputs": []
    },
    {
      "cell_type": "code",
      "metadata": {
        "colab": {
          "base_uri": "https://localhost:8080/",
          "height": 435
        },
        "id": "Tj2Q5PxuZy7U",
        "outputId": "b6d1e4a5-ca86-4bd3-d6fd-48c21c5e0e9d"
      },
      "source": [
        "df"
      ],
      "execution_count": null,
      "outputs": [
        {
          "output_type": "execute_result",
          "data": {
            "text/html": [
              "<div>\n",
              "<style scoped>\n",
              "    .dataframe tbody tr th:only-of-type {\n",
              "        vertical-align: middle;\n",
              "    }\n",
              "\n",
              "    .dataframe tbody tr th {\n",
              "        vertical-align: top;\n",
              "    }\n",
              "\n",
              "    .dataframe thead th {\n",
              "        text-align: right;\n",
              "    }\n",
              "</style>\n",
              "<table border=\"1\" class=\"dataframe\">\n",
              "  <thead>\n",
              "    <tr style=\"text-align: right;\">\n",
              "      <th></th>\n",
              "      <th>zscore</th>\n",
              "      <th>302:OR:SNTL</th>\n",
              "    </tr>\n",
              "    <tr>\n",
              "      <th>Date</th>\n",
              "      <th></th>\n",
              "      <th></th>\n",
              "    </tr>\n",
              "  </thead>\n",
              "  <tbody>\n",
              "    <tr>\n",
              "      <th>2018-04-02</th>\n",
              "      <td>-0.388018</td>\n",
              "      <td>30.56</td>\n",
              "    </tr>\n",
              "    <tr>\n",
              "      <th>2018-04-03</th>\n",
              "      <td>-1.502843</td>\n",
              "      <td>16.16</td>\n",
              "    </tr>\n",
              "    <tr>\n",
              "      <th>2018-04-04</th>\n",
              "      <td>-0.792143</td>\n",
              "      <td>25.34</td>\n",
              "    </tr>\n",
              "    <tr>\n",
              "      <th>2018-04-05</th>\n",
              "      <td>-0.165053</td>\n",
              "      <td>33.44</td>\n",
              "    </tr>\n",
              "    <tr>\n",
              "      <th>2018-04-06</th>\n",
              "      <td>0.057912</td>\n",
              "      <td>36.32</td>\n",
              "    </tr>\n",
              "    <tr>\n",
              "      <th>...</th>\n",
              "      <td>...</td>\n",
              "      <td>...</td>\n",
              "    </tr>\n",
              "    <tr>\n",
              "      <th>2020-03-29</th>\n",
              "      <td>-0.485566</td>\n",
              "      <td>29.30</td>\n",
              "    </tr>\n",
              "    <tr>\n",
              "      <th>2020-03-30</th>\n",
              "      <td>-0.374083</td>\n",
              "      <td>30.74</td>\n",
              "    </tr>\n",
              "    <tr>\n",
              "      <th>2020-03-31</th>\n",
              "      <td>-0.499501</td>\n",
              "      <td>29.12</td>\n",
              "    </tr>\n",
              "    <tr>\n",
              "      <th>2020-04-01</th>\n",
              "      <td>-1.084784</td>\n",
              "      <td>21.56</td>\n",
              "    </tr>\n",
              "    <tr>\n",
              "      <th>2020-04-02</th>\n",
              "      <td>-1.516779</td>\n",
              "      <td>15.98</td>\n",
              "    </tr>\n",
              "  </tbody>\n",
              "</table>\n",
              "<p>732 rows × 2 columns</p>\n",
              "</div>"
            ],
            "text/plain": [
              "              zscore  302:OR:SNTL\n",
              "Date                             \n",
              "2018-04-02 -0.388018        30.56\n",
              "2018-04-03 -1.502843        16.16\n",
              "2018-04-04 -0.792143        25.34\n",
              "2018-04-05 -0.165053        33.44\n",
              "2018-04-06  0.057912        36.32\n",
              "...              ...          ...\n",
              "2020-03-29 -0.485566        29.30\n",
              "2020-03-30 -0.374083        30.74\n",
              "2020-03-31 -0.499501        29.12\n",
              "2020-04-01 -1.084784        21.56\n",
              "2020-04-02 -1.516779        15.98\n",
              "\n",
              "[732 rows x 2 columns]"
            ]
          },
          "metadata": {
            "tags": []
          },
          "execution_count": 99
        }
      ]
    },
    {
      "cell_type": "code",
      "metadata": {
        "id": "D_4yo8NSTxDD"
      },
      "source": [
        "stations = ['302:OR:SNTL']\n",
        "begindate  = '04/01/2018'\n",
        "enddate  = '04/01/2020'\n",
        "\n",
        "df = getData(stations, 'TAVG', begindate, enddate)\n",
        "# TMAX = getData(stations, 'TMAX', begindate, enddate)\n",
        "# TMIN = getData(stations, 'TMIN', begindate, enddate)\n",
        "# TOBS = getData(stations, 'TOBS', begindate, enddate)\n",
        "\n",
        "df_temp = reduce(lambda left,right: pd.merge(left,right,left_index=True, right_index=True, how='outer'), [TAVG, TMAX, TMIN, TOBS])\n",
        "# df_temp.columns = ['TAVG (degF)','TMAX (degF)','TMIN (degF)','TOBS (degF)']\n",
        "\n",
        "def zScore_plot(df_temp, degrees_of_freedom):\n",
        " \n",
        "  zs = zscore(df.iloc[:,0], ddof=2, nan_policy='omit')\n",
        "  df_outliers = zs[(zs['zscore'] < -3) | (zs['zscore'] > 3)].head(45)\n",
        "\n",
        "  fig = go.Figure()\n",
        "\n",
        "  fig.add_trace(go.Scatter(\n",
        "    x=ORWA_Sites2.index,\n",
        "    y=ORWA_Sites2[station_of_interest][parameter_of_interest],\n",
        "    mode='lines',\n",
        "    name=station_of_interest,\n",
        "    hovertext = ORWA_Sites2[station_of_interest][parameter_of_interest],   \n",
        "  ))\n",
        "\n",
        "  fig.add_trace(go.Scatter(\n",
        "    x=df_outliers.index,\n",
        "    y=df_outliers[station_of_interest][parameter_of_interest],\n",
        "    mode='markers',\n",
        "    name=station_of_interest,\n",
        "    hovertext = df_outliers.index,   \n",
        "  ))\n",
        "\n",
        "  fig.update_xaxes(title_text= 'Date')\n",
        "  fig.update_yaxes(title_text= parameter_of_interest)\n",
        "\n",
        "  fig.update_layout(\n",
        "    height=800,\n",
        "    width=1100,\n",
        "  )\n",
        "\n",
        "  fig.show()"
      ],
      "execution_count": null,
      "outputs": []
    },
    {
      "cell_type": "code",
      "metadata": {
        "id": "54MMO3JBTxAC"
      },
      "source": [
        ""
      ],
      "execution_count": null,
      "outputs": []
    },
    {
      "cell_type": "code",
      "metadata": {
        "id": "izkMRf8OTw9K"
      },
      "source": [
        ""
      ],
      "execution_count": null,
      "outputs": []
    },
    {
      "cell_type": "code",
      "metadata": {
        "id": "5ejI-Yl0Tw6q"
      },
      "source": [
        ""
      ],
      "execution_count": null,
      "outputs": []
    },
    {
      "cell_type": "code",
      "metadata": {
        "id": "u86aKde0Hqdm"
      },
      "source": [
        "asdf = outlierDetection(['302:OR:SNTL'],'01/01/2018', '04/01/2020')"
      ],
      "execution_count": null,
      "outputs": []
    },
    {
      "cell_type": "code",
      "metadata": {
        "colab": {
          "base_uri": "https://localhost:8080/",
          "height": 168
        },
        "id": "afeWiOUkLJYm",
        "outputId": "2e837df1-672d-4004-a4f1-110804429697"
      },
      "source": [
        "df_temp"
      ],
      "execution_count": null,
      "outputs": [
        {
          "output_type": "error",
          "ename": "NameError",
          "evalue": "ignored",
          "traceback": [
            "\u001b[0;31m---------------------------------------------------------------------------\u001b[0m",
            "\u001b[0;31mNameError\u001b[0m                                 Traceback (most recent call last)",
            "\u001b[0;32m<ipython-input-69-cd2be5b3bdf4>\u001b[0m in \u001b[0;36m<module>\u001b[0;34m()\u001b[0m\n\u001b[0;32m----> 1\u001b[0;31m \u001b[0mdf_temp\u001b[0m\u001b[0;34m\u001b[0m\u001b[0;34m\u001b[0m\u001b[0m\n\u001b[0m",
            "\u001b[0;31mNameError\u001b[0m: name 'df_temp' is not defined"
          ]
        }
      ]
    },
    {
      "cell_type": "code",
      "metadata": {
        "colab": {
          "base_uri": "https://localhost:8080/",
          "height": 517
        },
        "id": "bMfcptzT3LBx",
        "outputId": "e001740e-4602-47c9-f176-c9de2de83ee3"
      },
      "source": [
        "asdf.temp_boxplots('outliers')"
      ],
      "execution_count": null,
      "outputs": [
        {
          "output_type": "display_data",
          "data": {
            "text/html": [
              "<html>\n",
              "<head><meta charset=\"utf-8\" /></head>\n",
              "<body>\n",
              "    <div>\n",
              "            <script src=\"https://cdnjs.cloudflare.com/ajax/libs/mathjax/2.7.5/MathJax.js?config=TeX-AMS-MML_SVG\"></script><script type=\"text/javascript\">if (window.MathJax) {MathJax.Hub.Config({SVG: {font: \"STIX-Web\"}});}</script>\n",
              "                <script type=\"text/javascript\">window.PlotlyConfig = {MathJaxConfig: 'local'};</script>\n",
              "        <script src=\"https://cdn.plot.ly/plotly-latest.min.js\"></script>    \n",
              "            <div id=\"9ed83600-2c7f-4263-b083-0ebba8b45e3d\" class=\"plotly-graph-div\" style=\"height:500px; width:1200px;\"></div>\n",
              "            <script type=\"text/javascript\">\n",
              "                \n",
              "                    window.PLOTLYENV=window.PLOTLYENV || {};\n",
              "                    \n",
              "                if (document.getElementById(\"9ed83600-2c7f-4263-b083-0ebba8b45e3d\")) {\n",
              "                    Plotly.newPlot(\n",
              "                        '9ed83600-2c7f-4263-b083-0ebba8b45e3d',\n",
              "                        [{\"boxpoints\": \"outliers\", \"jitter\": 0.2, \"name\": \"TAVG (degF)\", \"type\": \"box\", \"whiskerwidth\": 0.5, \"y\": [25.34, 31.28, 35.96, 37.4, 36.68, 28.94, 34.16, 32.9, 32.54, 20.66, 28.58, 28.22, 32.54, 31.1, 35.96, 32.72, 35.96, 31.46, 20.48, 17.6, 18.5, 21.38, 23.36, 27.68, 20.12, 18.86, 25.52, 33.62, 38.66, 26.6, 19.4, 28.22, 35.42, 38.12, 36.5, 29.12, 27.86, 39.74, 38.84, 23.72, 16.16, 23.54, 11.66, 23.72, 23.18, 17.06, 21.56, 26.6, 13.1, -0.04, -0.58, 8.96, 5.72, 7.34, 15.98, 18.5, 9.14, 10.4, 19.4, 23.18, 19.4, 15.44, 14.18, 18.86, 21.92, 32.18, 31.82, 28.94, 26.78, 30.56, 32.18, 38.66, 29.48, 25.16, 23.54, 23.9, 21.38, 22.46, 25.52, 32.18, 32.72, 24.08, 21.56, 17.24, 19.04, 32.0, 28.76, 29.3, 36.14, 30.74, 30.56, 16.16, 25.34, 33.44, 36.32, 37.94, 34.34, 28.94, 31.82, 38.3, 32.18, 23.9, 27.14, 33.44, 33.8, 25.34, 22.82, 27.5, 31.28, 32.9, 35.42, 28.76, 30.2, 38.66, 42.98, 44.24, 48.92, 36.14, 30.38, 30.02, 30.74, 35.42, 40.82, 45.5, 45.86, 43.16, 40.82, 46.58, 40.82, 32.9, 31.46, 36.32, 40.28, 43.16, 45.68, 41.54, 40.28, 39.2, 41.54, 41.9, 42.44, 44.96, 44.6, 44.78, 46.4, 41.36, 43.16, 44.78, 45.14, 41.72, 36.5, 37.04, 46.76, 53.06, 44.6, 44.78, 48.56, 47.84, 49.1, 37.76, 32.54, 35.78, 45.14, 50.36, 39.74, 40.46, 39.92, 40.28, 44.06, 45.14, 49.28, 47.12, 48.92, 43.52, 52.16, 50.0, 42.62, 52.34, 44.42, 42.44, 48.2, 50.18, 42.44, 39.02, 50.54, 62.06, 58.64, 53.6, 55.4, 60.26, 50.18, 48.74, 52.34, 57.92, 56.48, 56.84, 57.02, 59.54, 57.2, 54.68, 53.96, 50.72, 50.36, 57.74, 60.98, 58.28, 57.2, 57.02, 56.12, 56.66, 60.62, 64.22, 60.8, 55.4, 50.0, 46.04, 48.92, 53.42, 56.12, 62.78, 66.92, 68.54, 61.16, 48.38, 49.82, 52.34, 59.0, 57.74, 56.66, 53.06, 56.84, 50.72, 46.94, 49.82, 53.24, 47.66, 46.76, 41.72, 38.12, 41.9, 51.08, 48.56, 42.62, 44.06, 45.68, 48.38, 46.22, 57.74, 58.46, 55.04, 46.58, 46.76, 46.4, 37.58, 36.32, 36.32, 44.96, 47.12, 41.9, 42.44, 40.46, 37.04, 38.66, 50.18, 46.94, 35.6, 33.8, 36.32, 42.62, 46.58, 46.4, 47.48, 41.9, 46.58, 45.5, 39.02, 34.52, 31.28, 32.54, 30.38, 32.0, 32.72, 31.28, 30.02, 33.98, 28.4, 22.64, 32.0, 35.42, 38.66, 38.84, 41.0, 44.96, 45.32, 42.98, 41.54, 38.12, 39.92, 44.06, 41.72, 38.84, 29.48, 27.5, 35.6, 41.36, 36.5, 32.36, 33.44, 28.4, 25.52, 19.4, 16.16, 28.22, 19.76, 15.08, 25.34, 38.66, 38.48, 33.26, 31.64, 19.76, 25.7, 33.08, 39.38, 36.68, 30.02, 25.88, 19.04, 20.12, 34.7, 33.08, 28.22, 23.36, 22.82, 19.04, 18.5, 9.14, 9.86, 8.6, 11.12, 20.66, 21.38, 29.66, 24.98, 27.68, 19.04, 26.78, 31.28, 27.32, 33.08, 30.2, 29.84, 26.96, 33.08, 15.26, 17.78, 26.6, 23.72, 16.34, 17.78, 16.16, 16.52, 32.36, 19.94, 8.6, 17.6, 28.22, 32.9, 35.24, 31.46, 22.82, 14.0, 29.12, 31.64, 27.68, 30.02, 32.72, 29.66, 31.64, 26.78, 28.4, 28.76, 24.44, 32.0, 28.4, 16.34, 20.3, 28.58, 21.38, 26.42, 29.84, 33.98, 19.04, 20.3, 26.24, 34.7, 33.62, 32.9, 28.58, 23.72, 14.36, 3.2, 4.64, 14.54, 17.06, 13.28, 18.32, 19.58, 24.44, 29.66, 20.66, 17.6, 14.9, 10.4, 15.08, 16.16, 10.22, 10.4, 18.68, 22.28, 24.98, 16.34, 31.28, 18.32, 17.78, 8.96, 8.6, 19.4, 25.16, 30.38, 19.58, 9.86, 10.58, 12.92, 21.02, 22.82, 16.16, 17.06, 26.24, 27.32, 28.4, 29.12, 35.06, 36.86, 35.6, 35.06, 31.64, 29.3, 31.82, 30.38, 29.84, 26.42, 26.06, 25.7, 28.94, 32.9, 34.7, 35.96, 37.04, 34.16, 28.76, 36.14, 36.86, 29.66, 26.78, 28.76, 29.48, 30.56, 26.6, 27.68, 30.38, 34.16, 42.08, 46.58, 34.88, 32.9, 37.4, 43.16, 37.22, 37.76, 36.86, 31.28, 23.0, 23.54, 26.06, 28.22, 32.72, 38.48, 40.28, 41.54, 39.92, 39.2, 40.46, 37.22, 40.28, 45.86, 47.48, 48.02, 44.96, 39.74, 39.02, 34.7, 36.68, 37.58, 35.42, 33.98, 34.34, 37.04, 36.32, 37.94, 39.38, 38.84, 41.9, 42.8, 44.96, 43.7, 45.86, 48.02, 48.02, 44.78, 48.02, 36.68, 29.48, 32.9, 40.46, 47.66, 48.2, 52.34, 51.26, 48.92, 47.66, 50.0, 49.1, 47.48, 42.26, 32.72, 33.98, 42.26, 40.82, 41.9, 44.96, 46.04, 41.54, 42.44, 46.22, 48.38, 49.1, 45.32, 42.8, 45.32, 51.08, 55.22, 46.04, 45.5, 51.26, 57.74, 55.04, 58.28, 56.84, 53.06, 50.0, 46.94, 50.72, 50.72, 41.72, 44.6, 54.86, 62.06, 61.52, 49.46, 51.8, 59.18, 55.76, 53.42, 55.58, 56.84, 57.92, 58.1, 55.94, 55.4, 57.02, 58.82, 61.16, 56.84, 57.02, 54.32, 49.28, 44.96, 46.76, 52.16, 53.06, 49.82, 48.2, 47.66, 53.96, 55.94, 59.18, 57.2, 46.94, 50.0, 56.3, 48.2, 45.5, 50.36, 59.18, 56.66, 54.14, 57.74, 56.48, 54.32, 59.9, 56.12, 61.16, 50.72, 50.9, 43.52, 40.82, 38.84, 40.64, 44.78, 52.16, 54.32, 55.04, 45.32, 37.94, 37.22, 36.32, 37.04, 40.1, 44.24, 43.16, 47.66, 39.38, 44.96, 36.86, 28.22, 24.08, 24.98, 25.52, 27.14, 34.7, 30.56, 30.74, 35.96, 44.78, 35.24, 19.04, 19.4, 30.56, 35.96, 39.56, 33.08, 44.42, 48.2, 33.62, 30.74, 28.22, 26.96, 33.62, 39.74, 28.76, 36.14, 44.96, 23.0, 14.72, 17.78, 5.72, 18.14, 30.74, 25.52, 33.62, 34.16, 34.7, 38.3, 30.56, 36.32, 44.6, 43.34, 36.14, 33.08, 38.84, 31.1, 39.74, 39.02, 31.46, 41.72, 39.56, 31.28, 25.34, 26.06, 25.34, 33.26, 30.74, 19.22, 12.56, 19.04, 15.98, 11.48, 14.18, 24.62, 28.04, 28.76, 27.86, 28.22, 32.36, 30.92, 27.14, 18.32, 25.16, 29.84, 28.4, 20.48, 14.9, 12.74, 10.22, 24.8, 26.96, 30.02, 34.7, 35.24, 35.78, 24.8, 12.56, 8.96, 11.3, 15.62, 21.92, 28.04, 22.82, 32.0, 27.32, 24.44, 32.54, 22.28, 20.66, 26.24, 30.92, 21.92, 14.72, 16.52, 21.2, 18.5, 15.26, 12.56, 12.56, 22.64, 14.0, 22.82, 29.12, 31.82, 26.78, 26.24, 34.16, 29.66, 28.22, 29.48, 26.06, 27.86, 25.34, 26.24, 37.4, 36.68, 14.36, 8.6, 13.46, 28.76, 32.9, 32.9, 22.28, 19.22, 18.68, 25.52, 19.94, 28.22, 20.84, 24.44, 21.74, 13.1, 5.54, 13.64, 25.88, 28.58, 30.92, 26.96, 14.36, 19.94, 29.3, 29.3, 37.22, 22.82, 15.62, 28.76, 33.26, 30.74, 38.3, 40.46, 28.94, 22.28, 21.38, 24.98, 32.9, 19.58, 26.78, 24.44, 28.04, 27.14, 29.3, 26.42, 26.42, 26.96, 26.06, 28.94, 31.46, 22.64, 17.96, 17.42, 22.1, 29.3, 30.74, 29.12, 21.56, 15.98]}, {\"boxpoints\": \"outliers\", \"jitter\": 0.2, \"name\": \"TMAX (degF)\", \"type\": \"box\", \"whiskerwidth\": 0.5, \"y\": [38.3, 42.98, 44.42, 45.32, 38.66, 35.24, 40.28, 38.84, 37.04, 25.16, 32.72, 32.9, 39.56, 41.54, 43.34, 37.76, 41.18, 38.12, 26.6, 25.34, 25.16, 24.62, 28.04, 29.66, 26.6, 21.02, 30.74, 38.12, 41.9, 37.4, 23.54, 35.06, 40.1, 43.52, 41.36, 33.8, 34.16, 46.22, 42.62, 32.9, 24.98, 28.94, 18.5, 39.38, 30.56, 22.28, 25.16, 31.82, 22.64, 7.88, 12.02, 18.5, 11.66, 19.76, 19.94, 21.92, 15.98, 22.46, 24.26, 26.24, 24.26, 22.28, 24.44, 24.98, 32.36, 40.28, 35.06, 36.32, 39.92, 37.4, 41.72, 44.78, 35.42, 32.54, 27.5, 28.94, 31.1, 29.66, 33.8, 35.96, 35.96, 27.14, 29.48, 28.58, 31.28, 42.26, 37.94, 39.38, 44.78, 39.74, 37.94, 25.88, 34.52, 39.92, 42.62, 46.58, 38.84, 33.44, 43.52, 44.6, 37.04, 31.82, 35.6, 39.56, 37.04, 32.9, 31.64, 38.48, 42.26, 46.76, 43.7, 40.1, 41.36, 50.54, 57.02, 60.44, 62.06, 42.62, 33.62, 37.22, 37.04, 44.6, 55.4, 57.38, 57.38, 57.2, 50.36, 60.26, 52.34, 38.66, 33.98, 43.52, 54.14, 57.92, 59.9, 49.82, 44.96, 44.96, 54.32, 49.46, 50.18, 56.84, 56.12, 57.74, 57.92, 46.4, 51.98, 57.02, 60.26, 52.88, 41.9, 48.38, 59.36, 64.22, 55.58, 57.56, 61.88, 60.98, 60.44, 46.76, 39.38, 45.14, 59.36, 62.6, 47.84, 49.46, 51.08, 44.42, 47.12, 50.18, 62.24, 55.22, 61.16, 50.9, 63.5, 57.38, 54.14, 66.74, 50.18, 48.56, 59.54, 59.0, 53.78, 50.0, 65.12, 74.48, 64.4, 67.28, 72.5, 77.18, 60.44, 61.88, 66.92, 73.76, 69.98, 70.16, 69.8, 75.74, 70.34, 69.44, 67.46, 64.94, 65.66, 72.86, 75.92, 73.76, 72.86, 71.78, 69.26, 70.16, 74.84, 76.64, 74.66, 69.26, 61.88, 62.24, 60.08, 67.46, 70.88, 78.8, 83.84, 83.84, 75.56, 60.08, 64.4, 66.92, 72.86, 70.52, 67.46, 65.12, 71.06, 58.46, 57.92, 61.88, 68.72, 58.46, 59.54, 46.58, 41.54, 55.4, 64.22, 58.64, 52.16, 58.1, 60.26, 61.34, 59.72, 71.6, 72.14, 69.08, 56.12, 59.72, 55.94, 43.16, 47.12, 47.12, 55.94, 57.2, 52.52, 57.74, 50.9, 48.2, 51.98, 59.72, 54.86, 44.24, 46.22, 49.46, 56.48, 59.9, 61.52, 58.64, 46.76, 53.06, 47.84, 52.52, 41.9, 36.86, 35.6, 34.88, 38.12, 35.42, 35.6, 39.02, 46.04, 33.44, 33.98, 45.14, 48.92, 51.62, 54.5, 55.04, 60.08, 56.48, 55.58, 50.72, 46.04, 48.02, 46.94, 48.74, 48.74, 33.08, 33.26, 41.0, 44.96, 44.06, 39.56, 39.02, 34.34, 29.66, 26.6, 28.58, 41.9, 25.34, 25.16, 39.74, 48.74, 43.7, 46.94, 37.4, 31.46, 39.74, 47.3, 50.54, 39.56, 36.14, 28.94, 24.44, 31.64, 41.36, 37.94, 32.0, 30.92, 27.14, 23.18, 21.02, 20.48, 23.0, 21.74, 26.78, 31.82, 31.64, 35.6, 30.56, 33.8, 26.42, 32.18, 36.32, 32.9, 35.78, 33.98, 33.26, 34.88, 39.2, 21.92, 29.3, 28.4, 28.22, 22.28, 26.96, 19.4, 26.42, 36.32, 29.12, 14.18, 27.5, 35.42, 37.94, 38.12, 36.14, 25.7, 19.04, 34.88, 34.16, 34.88, 41.54, 44.24, 44.6, 41.54, 28.76, 34.52, 31.1, 28.94, 35.78, 33.44, 19.4, 28.94, 31.46, 30.74, 32.54, 39.38, 41.72, 33.98, 35.6, 40.46, 44.96, 38.84, 34.16, 31.64, 26.96, 21.92, 8.78, 19.58, 19.58, 20.12, 20.12, 22.1, 21.02, 28.22, 31.82, 26.6, 25.16, 20.48, 14.0, 22.82, 22.28, 18.5, 23.72, 21.02, 25.88, 29.48, 29.3, 35.24, 30.02, 27.68, 21.02, 19.58, 27.32, 28.4, 32.9, 31.1, 20.48, 22.82, 31.82, 33.8, 29.66, 23.9, 32.9, 37.22, 41.72, 41.18, 44.6, 47.48, 44.42, 48.38, 45.32, 33.98, 34.88, 39.2, 35.42, 34.52, 35.24, 32.54, 37.04, 39.2, 39.56, 40.64, 43.16, 40.1, 40.82, 34.52, 39.56, 41.18, 35.06, 32.9, 34.52, 35.96, 39.74, 30.74, 36.32, 34.7, 42.44, 54.32, 56.84, 38.48, 40.28, 49.46, 52.7, 44.06, 51.98, 43.34, 42.44, 32.36, 35.06, 34.34, 40.28, 41.36, 50.36, 55.04, 53.06, 49.64, 50.9, 48.2, 46.58, 53.78, 60.44, 60.98, 58.64, 55.4, 46.04, 42.62, 36.5, 46.04, 42.98, 38.48, 38.12, 36.86, 46.22, 40.82, 44.24, 48.2, 44.24, 49.46, 49.28, 57.02, 58.46, 60.08, 63.68, 60.08, 58.28, 61.16, 41.9, 36.14, 42.44, 52.16, 61.7, 61.88, 69.08, 63.86, 60.98, 62.24, 63.14, 60.8, 59.54, 52.7, 36.32, 37.4, 53.06, 47.84, 55.76, 56.84, 58.28, 51.26, 56.84, 61.16, 60.98, 60.8, 57.38, 51.8, 58.28, 66.2, 66.2, 58.28, 58.82, 64.04, 68.18, 70.88, 73.76, 68.54, 64.58, 63.5, 56.84, 61.34, 61.16, 54.32, 59.36, 69.98, 75.92, 71.78, 59.36, 66.74, 73.22, 66.2, 65.84, 68.0, 71.42, 73.94, 73.76, 66.2, 68.36, 69.98, 71.78, 75.2, 72.68, 67.82, 68.18, 57.2, 53.06, 59.0, 63.68, 64.76, 61.52, 59.9, 57.02, 68.36, 69.44, 75.74, 73.94, 54.5, 63.32, 69.62, 56.12, 59.36, 66.02, 75.56, 64.22, 66.74, 72.14, 71.96, 68.0, 74.12, 70.34, 75.56, 63.14, 64.58, 50.18, 47.84, 46.94, 47.84, 59.9, 60.98, 64.76, 63.5, 53.42, 44.96, 41.36, 40.64, 42.26, 48.02, 55.04, 52.88, 55.22, 50.36, 53.96, 48.2, 30.74, 28.22, 31.1, 29.66, 38.84, 39.38, 33.62, 37.58, 48.56, 53.6, 45.14, 23.54, 32.18, 45.86, 49.28, 50.0, 40.46, 53.96, 53.24, 46.76, 34.52, 31.64, 31.46, 38.66, 46.58, 35.24, 50.0, 51.98, 29.48, 20.66, 28.04, 17.24, 31.1, 42.98, 35.96, 49.46, 42.8, 45.14, 51.98, 41.36, 49.28, 55.04, 51.8, 42.98, 45.68, 46.94, 39.56, 51.8, 45.86, 38.48, 46.58, 47.66, 42.44, 28.04, 37.58, 36.5, 46.58, 38.3, 22.1, 16.52, 21.38, 25.16, 16.34, 23.18, 29.3, 34.7, 37.76, 37.22, 38.12, 36.32, 33.62, 30.74, 28.94, 33.44, 33.62, 31.46, 25.34, 23.72, 21.2, 24.44, 32.18, 34.7, 34.16, 38.3, 36.86, 39.38, 33.08, 22.64, 22.46, 23.36, 22.28, 28.58, 30.74, 27.86, 36.68, 33.62, 29.66, 36.86, 33.98, 25.34, 30.92, 34.34, 28.04, 17.96, 24.44, 24.98, 21.92, 18.32, 18.5, 20.12, 24.98, 17.96, 27.14, 37.94, 35.24, 30.56, 33.08, 39.02, 33.8, 33.8, 35.06, 31.28, 31.1, 34.7, 37.94, 41.18, 42.8, 24.98, 15.08, 21.2, 33.8, 34.16, 36.32, 31.1, 25.34, 24.44, 37.22, 27.32, 41.18, 26.24, 30.56, 26.6, 19.4, 20.66, 30.38, 37.04, 39.74, 40.82, 36.68, 22.46, 35.78, 37.94, 41.54, 43.16, 34.34, 23.18, 39.02, 39.74, 36.14, 43.52, 43.34, 40.46, 30.56, 29.48, 37.94, 41.54, 30.2, 35.78, 27.68, 34.16, 39.38, 41.54, 37.04, 39.56, 38.3, 40.46, 42.26, 37.76, 30.56, 26.6, 28.04, 29.3, 38.66, 35.78, 32.54, 27.86, 26.42]}, {\"boxpoints\": \"outliers\", \"jitter\": 0.2, \"name\": \"TMIN (degF)\", \"type\": \"box\", \"whiskerwidth\": 0.5, \"y\": [18.32, 23.0, 29.3, 29.66, 33.26, 22.64, 27.5, 30.02, 21.38, 14.54, 24.8, 23.54, 24.44, 27.32, 29.12, 25.16, 28.58, 26.42, 15.44, 9.5, 7.52, 14.18, 13.64, 26.06, 17.42, 16.16, 19.4, 29.12, 32.54, 18.68, 15.08, 15.08, 29.66, 31.28, 32.0, 23.72, 24.44, 31.82, 32.0, 17.24, 9.5, 16.52, 0.86, 5.9, 16.88, 13.82, 17.78, 21.2, -4.18, -16.06, -16.42, -3.82, -4.9, -9.76, 10.76, 12.38, -4.36, -6.52, 15.62, 18.5, 15.26, 3.74, 2.12, 13.82, 11.48, 19.22, 27.68, 17.06, 12.2, 23.72, 20.48, 34.16, 24.62, 21.2, 20.66, 20.48, 12.92, 14.54, 15.08, 27.86, 23.9, 20.66, 10.76, 6.98, 1.58, 21.56, 19.94, 17.96, 30.56, 23.18, 22.82, 8.78, 10.76, 27.68, 32.0, 32.0, 28.94, 26.24, 19.94, 32.36, 27.86, 19.4, 11.66, 29.3, 30.74, 18.68, 13.28, 12.38, 22.1, 19.58, 22.82, 17.6, 18.86, 22.82, 31.28, 31.28, 38.12, 28.4, 27.86, 23.9, 22.46, 28.76, 27.68, 36.68, 36.5, 34.34, 33.26, 31.28, 31.1, 29.3, 28.58, 31.28, 31.46, 31.28, 35.06, 36.32, 34.52, 32.36, 31.28, 35.24, 37.04, 34.7, 37.4, 37.4, 36.5, 34.7, 35.78, 35.06, 32.54, 35.78, 32.18, 27.32, 32.36, 42.44, 33.26, 32.54, 34.88, 38.3, 35.96, 29.66, 27.14, 30.2, 28.76, 38.3, 32.72, 31.28, 35.06, 35.6, 41.9, 40.28, 39.02, 41.36, 39.02, 35.06, 37.94, 33.98, 30.92, 38.3, 38.3, 34.16, 35.24, 43.88, 31.64, 30.92, 33.44, 49.82, 52.88, 43.16, 40.46, 46.4, 39.74, 37.04, 39.2, 42.26, 45.14, 42.8, 47.66, 45.32, 44.96, 40.64, 41.36, 38.12, 35.42, 43.34, 48.56, 45.32, 44.96, 43.7, 44.6, 44.6, 46.58, 53.96, 47.48, 43.34, 39.2, 35.42, 37.58, 41.9, 43.16, 49.1, 53.78, 56.3, 44.06, 39.02, 37.4, 38.48, 46.58, 51.26, 45.5, 42.98, 44.42, 39.92, 37.4, 40.1, 41.0, 36.14, 35.24, 38.66, 32.18, 31.28, 38.66, 39.2, 35.24, 33.44, 34.34, 39.2, 35.06, 42.44, 46.58, 44.24, 37.22, 37.04, 34.34, 29.66, 29.12, 30.74, 30.74, 37.4, 30.74, 30.92, 31.46, 29.48, 27.86, 36.86, 39.38, 27.32, 25.16, 27.32, 31.28, 37.94, 35.06, 39.74, 34.34, 42.44, 38.3, 26.06, 28.58, 23.72, 29.84, 24.98, 23.54, 31.1, 29.66, 23.9, 23.9, 17.78, 13.46, 22.1, 27.5, 32.18, 30.74, 32.36, 37.4, 37.04, 34.7, 35.96, 32.36, 28.94, 40.1, 36.32, 28.76, 26.6, 22.46, 25.7, 34.88, 28.94, 27.32, 27.5, 24.62, 18.5, 11.3, 9.14, 13.82, 9.32, 7.52, 11.12, 27.86, 32.0, 24.44, 25.52, 12.56, 16.52, 24.08, 30.56, 33.08, 25.7, 22.28, 9.68, 11.48, 24.08, 29.66, 24.8, 16.16, 17.6, 11.66, 11.12, 1.4, 1.58, 2.48, 2.3, 12.2, 15.44, 17.6, 14.36, 15.62, 10.76, 17.6, 24.44, 22.1, 29.12, 27.5, 26.96, 21.74, 21.92, 6.62, 2.48, 23.54, 15.98, 2.66, 3.2, 12.92, 4.1, 26.6, 12.56, -3.28, -3.1, 19.22, 26.78, 30.02, 25.16, 19.04, 6.44, 10.22, 30.02, 16.52, 16.52, 24.8, 20.48, 26.6, 24.8, 26.06, 25.7, 17.78, 27.5, 19.22, 9.14, 4.28, 24.26, 13.46, 17.78, 22.82, 22.82, 8.06, 10.76, 16.88, 23.54, 29.66, 31.1, 23.36, 18.86, 5.18, -9.04, -9.4, 9.14, 14.36, 6.26, 11.66, 17.78, 20.84, 21.92, 9.5, 7.52, 7.52, 7.34, 3.74, 12.38, -4.0, -4.9, 16.34, 17.96, 18.14, 5.18, 28.94, 4.46, 7.34, -1.48, -3.28, 10.58, 21.02, 26.6, 3.02, -1.66, -1.48, 1.4, 5.18, 14.9, 3.2, -0.58, 18.68, 16.88, 19.4, 16.34, 22.82, 29.12, 25.7, 26.6, 30.2, 18.32, 20.12, 21.2, 21.02, 18.68, 17.06, 12.74, 19.94, 24.8, 30.38, 31.1, 32.9, 24.44, 17.06, 33.44, 32.54, 25.34, 22.64, 26.06, 25.34, 19.94, 21.92, 19.22, 27.68, 29.66, 29.12, 37.76, 30.74, 27.86, 24.44, 37.4, 26.96, 21.74, 28.94, 19.22, 14.36, 11.12, 16.16, 14.0, 26.24, 27.86, 28.4, 31.46, 32.54, 31.64, 33.08, 29.84, 27.14, 33.62, 35.24, 37.22, 36.14, 32.9, 34.52, 32.72, 31.46, 33.98, 33.98, 32.0, 32.9, 29.84, 32.18, 33.98, 33.08, 32.54, 37.04, 37.94, 35.42, 35.96, 35.96, 36.5, 37.22, 32.72, 35.42, 29.84, 24.26, 25.88, 25.7, 37.4, 36.68, 38.66, 41.18, 38.48, 35.96, 37.04, 38.84, 37.22, 30.38, 29.48, 29.3, 29.3, 32.36, 31.64, 33.62, 35.78, 32.18, 32.0, 33.44, 36.5, 39.2, 37.22, 35.06, 35.06, 37.4, 41.9, 37.22, 35.42, 33.26, 45.68, 42.8, 46.22, 47.84, 43.7, 42.44, 39.2, 39.02, 39.02, 31.28, 31.1, 36.14, 50.36, 49.82, 38.66, 36.32, 46.58, 47.3, 42.8, 45.32, 46.58, 45.86, 44.78, 45.32, 42.44, 45.5, 47.12, 50.36, 47.48, 50.18, 44.06, 42.44, 38.12, 35.96, 41.0, 43.88, 41.0, 38.12, 38.66, 40.1, 45.68, 46.76, 46.94, 39.74, 37.22, 46.4, 36.5, 34.52, 36.14, 45.5, 50.72, 45.86, 46.58, 45.5, 43.16, 48.02, 44.06, 50.36, 42.8, 40.46, 36.5, 37.4, 32.9, 34.7, 32.36, 45.86, 43.7, 41.18, 34.7, 32.72, 33.98, 34.34, 34.34, 32.54, 36.32, 34.7, 36.68, 31.1, 34.7, 28.94, 25.7, 18.32, 18.5, 21.02, 15.26, 31.28, 26.24, 22.1, 20.12, 32.36, 21.56, 10.94, 7.34, 19.76, 28.22, 30.92, 27.5, 31.28, 43.16, 30.38, 28.04, 25.16, 21.02, 28.04, 30.74, 21.38, 21.38, 29.48, 18.86, 7.88, 7.16, -5.98, 4.28, 21.02, 17.06, 24.8, 28.04, 26.78, 29.84, 25.34, 26.24, 33.98, 35.78, 25.34, 18.86, 30.2, 24.98, 26.06, 31.46, 24.62, 33.44, 30.38, 25.7, 17.96, 17.78, 20.3, 22.1, 17.24, 15.26, 3.02, 14.18, 5.9, 5.72, 2.84, 19.04, 22.82, 24.08, 19.4, 18.5, 30.56, 28.76, 18.32, 11.3, 15.98, 27.5, 23.54, 8.6, 7.7, 0.14, -1.84, 13.82, 19.4, 25.88, 32.36, 33.98, 32.72, 11.3, 5.54, 3.02, 3.38, 4.1, 17.24, 25.16, 16.34, 26.42, 21.74, 20.12, 28.58, 11.84, 15.98, 19.22, 27.86, 17.6, 9.68, 1.76, 17.06, 12.56, 12.56, -0.94, -1.84, 17.6, 1.58, 17.6, 20.12, 29.12, 19.04, 21.2, 31.64, 18.86, 18.68, 17.78, 22.46, 18.86, 12.38, 10.04, 34.7, 24.8, 9.14, -4.18, 2.48, 21.02, 31.1, 28.94, 18.5, 13.28, 12.56, 11.84, 12.56, 14.18, 16.7, 18.86, 15.26, -1.12, -2.56, -1.3, 14.54, 18.14, 23.0, 17.78, 6.08, 4.1, 16.34, 15.98, 25.7, 13.28, 6.62, 12.02, 26.42, 22.64, 32.36, 38.48, 11.66, 8.78, 10.76, 8.42, 20.84, 8.96, 12.92, 22.64, 21.74, 17.6, 19.76, 15.26, 14.18, 17.78, 15.98, 13.28, 23.72, 13.82, 7.34, 8.6, 13.64, 21.02, 27.86, 24.26, 10.22, 6.26]}, {\"boxpoints\": \"outliers\", \"jitter\": 0.2, \"name\": \"TOBS (degF)\", \"type\": \"box\", \"whiskerwidth\": 0.5, \"y\": [22.64, 22.82, 38.48, 30.02, 37.4, 33.8, 31.28, 34.88, 31.46, 21.38, 24.98, 28.04, 24.44, 28.22, 29.66, 36.5, 31.28, 38.3, 26.42, 18.68, 15.62, 23.36, 16.34, 27.5, 26.24, 18.14, 19.4, 30.74, 37.04, 37.4, 19.58, 15.26, 34.16, 32.36, 35.96, 32.18, 24.98, 33.98, 38.48, 32.54, 17.24, 23.0, 16.7, 6.44, 30.02, 18.32, 17.96, 23.54, 22.64, -1.66, -14.98, 8.42, 7.16, -2.38, 15.98, 12.56, 15.98, -4.36, 17.6, 18.5, 24.26, 15.62, 3.92, 17.96, 15.98, 19.04, 30.92, 30.92, 17.96, 28.94, 23.9, 34.88, 35.06, 24.8, 22.28, 20.84, 21.56, 17.96, 15.08, 28.04, 35.42, 24.44, 26.42, 10.76, 9.14, 23.9, 27.68, 20.12, 31.46, 31.46, 23.36, 25.88, 15.26, 28.76, 33.08, 33.98, 37.58, 29.12, 26.24, 42.26, 32.54, 31.64, 19.4, 32.18, 33.08, 32.72, 19.22, 13.64, 26.06, 24.44, 32.9, 22.82, 25.34, 27.5, 41.0, 32.18, 41.0, 38.12, 30.02, 28.04, 29.12, 30.74, 30.02, 38.3, 36.68, 40.1, 34.34, 33.8, 42.26, 31.1, 29.66, 33.44, 33.44, 33.44, 36.68, 37.58, 36.86, 38.12, 32.54, 36.32, 38.84, 37.4, 38.84, 37.94, 37.76, 40.28, 40.1, 36.5, 35.06, 38.12, 38.12, 32.54, 36.68, 44.06, 44.96, 33.44, 36.86, 42.44, 38.3, 42.08, 30.02, 31.64, 30.56, 47.66, 38.48, 32.72, 35.78, 36.5, 42.08, 42.98, 40.46, 44.42, 43.16, 39.02, 41.0, 55.76, 33.98, 41.0, 41.9, 39.38, 40.82, 46.76, 45.86, 31.64, 34.7, 50.0, 58.46, 53.42, 43.16, 48.92, 48.2, 39.74, 41.72, 46.58, 50.0, 45.14, 50.0, 47.84, 50.18, 44.96, 51.26, 41.54, 38.12, 44.78, 51.44, 48.92, 46.94, 46.4, 48.38, 47.48, 47.48, 55.76, 54.5, 48.38, 43.52, 39.38, 40.46, 42.44, 44.96, 50.0, 55.76, 58.64, 56.3, 44.06, 40.82, 41.36, 48.02, 52.34, 53.24, 45.5, 46.22, 49.1, 39.92, 42.08, 43.88, 46.4, 36.14, 42.62, 39.2, 32.36, 40.46, 43.52, 39.2, 35.24, 36.68, 40.46, 39.2, 43.52, 57.56, 46.58, 53.6, 37.4, 45.32, 34.34, 29.66, 31.28, 30.74, 48.2, 41.0, 31.1, 35.24, 31.46, 30.02, 38.66, 54.14, 39.38, 27.32, 30.02, 32.0, 39.74, 38.3, 50.54, 39.74, 42.8, 46.4, 39.2, 41.18, 28.58, 34.88, 30.02, 24.98, 35.06, 31.1, 29.66, 23.9, 33.26, 17.78, 23.0, 28.94, 32.9, 32.9, 33.8, 37.94, 44.96, 37.04, 38.84, 35.96, 34.52, 44.78, 40.82, 48.38, 28.76, 27.68, 25.88, 36.14, 41.36, 28.94, 38.66, 27.5, 26.96, 18.5, 11.48, 14.36, 25.34, 9.32, 11.12, 29.12, 41.18, 32.0, 36.86, 25.52, 17.78, 24.08, 34.16, 39.38, 34.52, 25.88, 22.28, 14.72, 24.26, 37.04, 29.84, 25.34, 19.76, 22.28, 19.22, 11.66, 1.76, 11.12, 4.1, 16.7, 21.92, 18.14, 26.06, 15.98, 26.42, 17.78, 31.82, 24.8, 31.64, 31.64, 28.58, 26.96, 34.52, 21.92, 6.62, 24.62, 27.14, 19.94, 3.74, 18.86, 13.46, 26.42, 28.94, 12.56, -3.1, 20.3, 33.62, 37.04, 33.26, 25.34, 19.04, 10.04, 33.08, 32.9, 17.42, 28.4, 26.42, 28.76, 28.58, 26.24, 30.56, 26.42, 28.4, 27.86, 19.22, 9.14, 27.86, 24.44, 17.78, 23.36, 30.56, 22.82, 15.8, 18.14, 24.08, 35.24, 33.8, 31.1, 26.6, 21.74, 8.24, -8.32, 10.94, 14.54, 20.12, 11.66, 20.84, 21.02, 23.36, 26.6, 11.3, 7.7, 12.92, 7.52, 15.62, 12.38, -3.82, 17.96, 18.86, 20.12, 19.4, 29.12, 29.66, 13.1, 7.7, -1.3, 16.34, 21.74, 28.04, 30.92, 3.2, -0.4, 2.66, 7.88, 29.48, 15.08, 3.92, 23.9, 19.04, 21.38, 20.12, 23.18, 32.0, 29.66, 31.64, 32.36, 30.38, 19.76, 32.9, 21.2, 25.88, 18.68, 20.3, 21.38, 25.34, 31.28, 31.28, 34.16, 33.98, 24.44, 33.98, 36.5, 32.54, 25.34, 26.6, 26.06, 27.86, 30.74, 22.28, 29.12, 31.64, 29.84, 43.52, 37.76, 30.92, 28.76, 41.54, 41.36, 26.96, 41.18, 28.94, 19.4, 14.54, 23.9, 16.16, 27.68, 28.94, 33.08, 35.96, 36.86, 33.26, 35.42, 34.7, 29.84, 34.52, 38.84, 40.46, 38.48, 37.76, 39.92, 34.52, 33.08, 36.32, 34.34, 33.98, 34.16, 32.9, 35.42, 34.52, 36.5, 33.26, 40.28, 37.76, 39.2, 38.84, 37.76, 38.48, 40.1, 37.22, 36.68, 39.74, 29.84, 25.7, 29.66, 39.02, 37.58, 39.38, 45.68, 41.18, 38.48, 39.02, 41.18, 40.1, 38.3, 30.38, 32.0, 31.82, 44.24, 32.54, 34.52, 43.16, 42.62, 32.36, 34.7, 39.2, 40.64, 42.98, 37.22, 39.92, 39.2, 46.76, 41.9, 37.22, 37.4, 55.76, 45.68, 47.84, 49.1, 48.38, 43.7, 45.32, 40.1, 50.54, 39.02, 34.16, 37.04, 56.48, 50.54, 51.26, 38.66, 47.12, 50.9, 54.5, 47.84, 46.76, 46.58, 46.4, 52.34, 45.5, 47.66, 57.2, 51.26, 52.16, 52.16, 52.7, 44.06, 46.94, 38.12, 42.08, 44.78, 45.68, 41.18, 42.26, 45.5, 46.4, 47.3, 50.36, 46.94, 39.74, 54.32, 51.26, 36.5, 39.2, 46.58, 54.68, 51.08, 47.66, 48.92, 46.58, 49.46, 48.02, 52.88, 50.36, 42.8, 47.12, 38.12, 38.66, 37.58, 34.7, 49.1, 45.86, 57.92, 41.54, 34.7, 37.4, 35.24, 34.7, 36.32, 36.5, 41.36, 45.68, 36.68, 39.56, 35.6, 30.38, 25.7, 19.22, 21.74, 21.02, 34.7, 32.0, 26.24, 22.28, 42.44, 44.24, 21.56, 10.94, 19.94, 29.66, 31.1, 38.66, 31.64, 45.5, 46.76, 31.1, 30.92, 25.16, 29.84, 37.4, 31.46, 21.56, 41.18, 29.48, 18.86, 10.22, 7.16, 4.82, 27.68, 21.02, 24.98, 31.28, 28.04, 35.96, 31.28, 26.42, 34.7, 44.06, 38.84, 25.34, 39.2, 30.38, 26.24, 45.5, 31.46, 36.32, 35.24, 41.36, 25.7, 18.32, 21.92, 23.36, 37.58, 17.96, 15.26, 14.36, 20.12, 6.08, 7.34, 19.58, 28.58, 24.62, 25.16, 19.94, 36.14, 32.18, 29.12, 18.68, 16.16, 27.86, 30.38, 23.72, 12.74, 12.56, 0.32, 19.04, 31.46, 26.24, 33.98, 36.5, 35.6, 32.9, 11.48, 6.08, 5.54, 5.54, 17.96, 28.4, 25.16, 26.78, 32.9, 24.44, 29.3, 33.62, 17.42, 19.58, 29.66, 27.86, 17.96, 9.68, 22.46, 17.78, 12.56, 18.32, -0.94, 20.12, 17.6, 17.6, 21.02, 33.98, 29.66, 22.46, 32.18, 32.0, 19.04, 32.18, 24.26, 30.74, 19.4, 28.22, 37.04, 39.56, 24.8, 9.32, 10.58, 21.02, 33.62, 32.72, 31.28, 18.5, 16.16, 12.56, 23.36, 14.18, 25.88, 20.3, 26.24, 16.88, -0.76, -0.94, 14.9, 30.38, 23.9, 28.76, 17.96, 6.8, 31.64, 16.52, 32.18, 34.7, 15.44, 17.06, 32.18, 33.08, 32.0, 40.64, 40.28, 11.66, 23.0, 12.02, 33.44, 20.84, 13.64, 26.6, 25.34, 23.72, 19.94, 28.58, 18.32, 21.74, 17.96, 16.34, 34.7, 23.9, 16.16, 11.84, 14.72, 22.28, 29.66, 29.66, 24.26, 10.76]}],\n",
              "                        {\"autosize\": false, \"height\": 500, \"margin\": {\"b\": 8, \"l\": 20, \"r\": 20, \"t\": 2}, \"paper_bgcolor\": \"LightSteelBlue\", \"template\": {\"data\": {\"bar\": [{\"error_x\": {\"color\": \"#2a3f5f\"}, \"error_y\": {\"color\": \"#2a3f5f\"}, \"marker\": {\"line\": {\"color\": \"#E5ECF6\", \"width\": 0.5}}, \"type\": \"bar\"}], \"barpolar\": [{\"marker\": {\"line\": {\"color\": \"#E5ECF6\", \"width\": 0.5}}, \"type\": \"barpolar\"}], \"carpet\": [{\"aaxis\": {\"endlinecolor\": \"#2a3f5f\", \"gridcolor\": \"white\", \"linecolor\": \"white\", \"minorgridcolor\": \"white\", \"startlinecolor\": \"#2a3f5f\"}, \"baxis\": {\"endlinecolor\": \"#2a3f5f\", \"gridcolor\": \"white\", \"linecolor\": \"white\", \"minorgridcolor\": \"white\", \"startlinecolor\": \"#2a3f5f\"}, \"type\": \"carpet\"}], \"choropleth\": [{\"colorbar\": {\"outlinewidth\": 0, \"ticks\": \"\"}, \"type\": \"choropleth\"}], \"contour\": [{\"colorbar\": {\"outlinewidth\": 0, \"ticks\": \"\"}, \"colorscale\": [[0.0, \"#0d0887\"], [0.1111111111111111, \"#46039f\"], [0.2222222222222222, \"#7201a8\"], [0.3333333333333333, \"#9c179e\"], [0.4444444444444444, \"#bd3786\"], [0.5555555555555556, \"#d8576b\"], [0.6666666666666666, \"#ed7953\"], [0.7777777777777778, \"#fb9f3a\"], [0.8888888888888888, \"#fdca26\"], [1.0, \"#f0f921\"]], \"type\": \"contour\"}], \"contourcarpet\": [{\"colorbar\": {\"outlinewidth\": 0, \"ticks\": \"\"}, \"type\": \"contourcarpet\"}], \"heatmap\": [{\"colorbar\": {\"outlinewidth\": 0, \"ticks\": \"\"}, \"colorscale\": [[0.0, \"#0d0887\"], [0.1111111111111111, \"#46039f\"], [0.2222222222222222, \"#7201a8\"], [0.3333333333333333, \"#9c179e\"], [0.4444444444444444, \"#bd3786\"], [0.5555555555555556, \"#d8576b\"], [0.6666666666666666, \"#ed7953\"], [0.7777777777777778, \"#fb9f3a\"], [0.8888888888888888, \"#fdca26\"], [1.0, \"#f0f921\"]], \"type\": \"heatmap\"}], \"heatmapgl\": [{\"colorbar\": {\"outlinewidth\": 0, \"ticks\": \"\"}, \"colorscale\": [[0.0, \"#0d0887\"], [0.1111111111111111, \"#46039f\"], [0.2222222222222222, \"#7201a8\"], [0.3333333333333333, \"#9c179e\"], [0.4444444444444444, \"#bd3786\"], [0.5555555555555556, \"#d8576b\"], [0.6666666666666666, \"#ed7953\"], [0.7777777777777778, \"#fb9f3a\"], [0.8888888888888888, \"#fdca26\"], [1.0, \"#f0f921\"]], \"type\": \"heatmapgl\"}], \"histogram\": [{\"marker\": {\"colorbar\": {\"outlinewidth\": 0, \"ticks\": \"\"}}, \"type\": \"histogram\"}], \"histogram2d\": [{\"colorbar\": {\"outlinewidth\": 0, \"ticks\": \"\"}, \"colorscale\": [[0.0, \"#0d0887\"], [0.1111111111111111, \"#46039f\"], [0.2222222222222222, \"#7201a8\"], [0.3333333333333333, \"#9c179e\"], [0.4444444444444444, \"#bd3786\"], [0.5555555555555556, \"#d8576b\"], [0.6666666666666666, \"#ed7953\"], [0.7777777777777778, \"#fb9f3a\"], [0.8888888888888888, \"#fdca26\"], [1.0, \"#f0f921\"]], \"type\": \"histogram2d\"}], \"histogram2dcontour\": [{\"colorbar\": {\"outlinewidth\": 0, \"ticks\": \"\"}, \"colorscale\": [[0.0, \"#0d0887\"], [0.1111111111111111, \"#46039f\"], [0.2222222222222222, \"#7201a8\"], [0.3333333333333333, \"#9c179e\"], [0.4444444444444444, \"#bd3786\"], [0.5555555555555556, \"#d8576b\"], [0.6666666666666666, \"#ed7953\"], [0.7777777777777778, \"#fb9f3a\"], [0.8888888888888888, \"#fdca26\"], [1.0, \"#f0f921\"]], \"type\": \"histogram2dcontour\"}], \"mesh3d\": [{\"colorbar\": {\"outlinewidth\": 0, \"ticks\": \"\"}, \"type\": \"mesh3d\"}], \"parcoords\": [{\"line\": {\"colorbar\": {\"outlinewidth\": 0, \"ticks\": \"\"}}, \"type\": \"parcoords\"}], \"pie\": [{\"automargin\": true, \"type\": \"pie\"}], \"scatter\": [{\"marker\": {\"colorbar\": {\"outlinewidth\": 0, \"ticks\": \"\"}}, \"type\": \"scatter\"}], \"scatter3d\": [{\"line\": {\"colorbar\": {\"outlinewidth\": 0, \"ticks\": \"\"}}, \"marker\": {\"colorbar\": {\"outlinewidth\": 0, \"ticks\": \"\"}}, \"type\": \"scatter3d\"}], \"scattercarpet\": [{\"marker\": {\"colorbar\": {\"outlinewidth\": 0, \"ticks\": \"\"}}, \"type\": \"scattercarpet\"}], \"scattergeo\": [{\"marker\": {\"colorbar\": {\"outlinewidth\": 0, \"ticks\": \"\"}}, \"type\": \"scattergeo\"}], \"scattergl\": [{\"marker\": {\"colorbar\": {\"outlinewidth\": 0, \"ticks\": \"\"}}, \"type\": \"scattergl\"}], \"scattermapbox\": [{\"marker\": {\"colorbar\": {\"outlinewidth\": 0, \"ticks\": \"\"}}, \"type\": \"scattermapbox\"}], \"scatterpolar\": [{\"marker\": {\"colorbar\": {\"outlinewidth\": 0, \"ticks\": \"\"}}, \"type\": \"scatterpolar\"}], \"scatterpolargl\": [{\"marker\": {\"colorbar\": {\"outlinewidth\": 0, \"ticks\": \"\"}}, \"type\": \"scatterpolargl\"}], \"scatterternary\": [{\"marker\": {\"colorbar\": {\"outlinewidth\": 0, \"ticks\": \"\"}}, \"type\": \"scatterternary\"}], \"surface\": [{\"colorbar\": {\"outlinewidth\": 0, \"ticks\": \"\"}, \"colorscale\": [[0.0, \"#0d0887\"], [0.1111111111111111, \"#46039f\"], [0.2222222222222222, \"#7201a8\"], [0.3333333333333333, \"#9c179e\"], [0.4444444444444444, \"#bd3786\"], [0.5555555555555556, \"#d8576b\"], [0.6666666666666666, \"#ed7953\"], [0.7777777777777778, \"#fb9f3a\"], [0.8888888888888888, \"#fdca26\"], [1.0, \"#f0f921\"]], \"type\": \"surface\"}], \"table\": [{\"cells\": {\"fill\": {\"color\": \"#EBF0F8\"}, \"line\": {\"color\": \"white\"}}, \"header\": {\"fill\": {\"color\": \"#C8D4E3\"}, \"line\": {\"color\": \"white\"}}, \"type\": \"table\"}]}, \"layout\": {\"annotationdefaults\": {\"arrowcolor\": \"#2a3f5f\", \"arrowhead\": 0, \"arrowwidth\": 1}, \"coloraxis\": {\"colorbar\": {\"outlinewidth\": 0, \"ticks\": \"\"}}, \"colorscale\": {\"diverging\": [[0, \"#8e0152\"], [0.1, \"#c51b7d\"], [0.2, \"#de77ae\"], [0.3, \"#f1b6da\"], [0.4, \"#fde0ef\"], [0.5, \"#f7f7f7\"], [0.6, \"#e6f5d0\"], [0.7, \"#b8e186\"], [0.8, \"#7fbc41\"], [0.9, \"#4d9221\"], [1, \"#276419\"]], \"sequential\": [[0.0, \"#0d0887\"], [0.1111111111111111, \"#46039f\"], [0.2222222222222222, \"#7201a8\"], [0.3333333333333333, \"#9c179e\"], [0.4444444444444444, \"#bd3786\"], [0.5555555555555556, \"#d8576b\"], [0.6666666666666666, \"#ed7953\"], [0.7777777777777778, \"#fb9f3a\"], [0.8888888888888888, \"#fdca26\"], [1.0, \"#f0f921\"]], \"sequentialminus\": [[0.0, \"#0d0887\"], [0.1111111111111111, \"#46039f\"], [0.2222222222222222, \"#7201a8\"], [0.3333333333333333, \"#9c179e\"], [0.4444444444444444, \"#bd3786\"], [0.5555555555555556, \"#d8576b\"], [0.6666666666666666, \"#ed7953\"], [0.7777777777777778, \"#fb9f3a\"], [0.8888888888888888, \"#fdca26\"], [1.0, \"#f0f921\"]]}, \"colorway\": [\"#636efa\", \"#EF553B\", \"#00cc96\", \"#ab63fa\", \"#FFA15A\", \"#19d3f3\", \"#FF6692\", \"#B6E880\", \"#FF97FF\", \"#FECB52\"], \"font\": {\"color\": \"#2a3f5f\"}, \"geo\": {\"bgcolor\": \"white\", \"lakecolor\": \"white\", \"landcolor\": \"#E5ECF6\", \"showlakes\": true, \"showland\": true, \"subunitcolor\": \"white\"}, \"hoverlabel\": {\"align\": \"left\"}, \"hovermode\": \"closest\", \"mapbox\": {\"style\": \"light\"}, \"paper_bgcolor\": \"white\", \"plot_bgcolor\": \"#E5ECF6\", \"polar\": {\"angularaxis\": {\"gridcolor\": \"white\", \"linecolor\": \"white\", \"ticks\": \"\"}, \"bgcolor\": \"#E5ECF6\", \"radialaxis\": {\"gridcolor\": \"white\", \"linecolor\": \"white\", \"ticks\": \"\"}}, \"scene\": {\"xaxis\": {\"backgroundcolor\": \"#E5ECF6\", \"gridcolor\": \"white\", \"gridwidth\": 2, \"linecolor\": \"white\", \"showbackground\": true, \"ticks\": \"\", \"zerolinecolor\": \"white\"}, \"yaxis\": {\"backgroundcolor\": \"#E5ECF6\", \"gridcolor\": \"white\", \"gridwidth\": 2, \"linecolor\": \"white\", \"showbackground\": true, \"ticks\": \"\", \"zerolinecolor\": \"white\"}, \"zaxis\": {\"backgroundcolor\": \"#E5ECF6\", \"gridcolor\": \"white\", \"gridwidth\": 2, \"linecolor\": \"white\", \"showbackground\": true, \"ticks\": \"\", \"zerolinecolor\": \"white\"}}, \"shapedefaults\": {\"line\": {\"color\": \"#2a3f5f\"}}, \"ternary\": {\"aaxis\": {\"gridcolor\": \"white\", \"linecolor\": \"white\", \"ticks\": \"\"}, \"baxis\": {\"gridcolor\": \"white\", \"linecolor\": \"white\", \"ticks\": \"\"}, \"bgcolor\": \"#E5ECF6\", \"caxis\": {\"gridcolor\": \"white\", \"linecolor\": \"white\", \"ticks\": \"\"}}, \"title\": {\"x\": 0.05}, \"xaxis\": {\"automargin\": true, \"gridcolor\": \"white\", \"linecolor\": \"white\", \"ticks\": \"\", \"title\": {\"standoff\": 15}, \"zerolinecolor\": \"white\", \"zerolinewidth\": 2}, \"yaxis\": {\"automargin\": true, \"gridcolor\": \"white\", \"linecolor\": \"white\", \"ticks\": \"\", \"title\": {\"standoff\": 15}, \"zerolinecolor\": \"white\", \"zerolinewidth\": 2}}}, \"title\": {\"x\": 0.45, \"xanchor\": \"center\", \"y\": 0.98, \"yanchor\": \"top\"}, \"width\": 1200},\n",
              "                        {\"responsive\": true}\n",
              "                    ).then(function(){\n",
              "                            \n",
              "var gd = document.getElementById('9ed83600-2c7f-4263-b083-0ebba8b45e3d');\n",
              "var x = new MutationObserver(function (mutations, observer) {{\n",
              "        var display = window.getComputedStyle(gd).display;\n",
              "        if (!display || display === 'none') {{\n",
              "            console.log([gd, 'removed!']);\n",
              "            Plotly.purge(gd);\n",
              "            observer.disconnect();\n",
              "        }}\n",
              "}});\n",
              "\n",
              "// Listen for the removal of the full notebook cells\n",
              "var notebookContainer = gd.closest('#notebook-container');\n",
              "if (notebookContainer) {{\n",
              "    x.observe(notebookContainer, {childList: true});\n",
              "}}\n",
              "\n",
              "// Listen for the clearing of the current output cell\n",
              "var outputEl = gd.closest('.output');\n",
              "if (outputEl) {{\n",
              "    x.observe(outputEl, {childList: true});\n",
              "}}\n",
              "\n",
              "                        })\n",
              "                };\n",
              "                \n",
              "            </script>\n",
              "        </div>\n",
              "</body>\n",
              "</html>"
            ]
          },
          "metadata": {
            "tags": []
          }
        }
      ]
    },
    {
      "cell_type": "code",
      "metadata": {
        "id": "YywnYkWh4-K6"
      },
      "source": [
        "bla = logicalTests(['401:OR:SNTL'],'04/01/2021', '04/13/2021')"
      ],
      "execution_count": null,
      "outputs": []
    },
    {
      "cell_type": "code",
      "metadata": {
        "colab": {
          "base_uri": "https://localhost:8080/",
          "height": 817
        },
        "id": "5xiFB0ZFknr2",
        "outputId": "d7e118ed-522b-4a0b-8056-e57f4ba92794"
      },
      "source": [
        "bla.plots()"
      ],
      "execution_count": null,
      "outputs": [
        {
          "output_type": "display_data",
          "data": {
            "text/html": [
              "<html>\n",
              "<head><meta charset=\"utf-8\" /></head>\n",
              "<body>\n",
              "    <div>\n",
              "            <script src=\"https://cdnjs.cloudflare.com/ajax/libs/mathjax/2.7.5/MathJax.js?config=TeX-AMS-MML_SVG\"></script><script type=\"text/javascript\">if (window.MathJax) {MathJax.Hub.Config({SVG: {font: \"STIX-Web\"}});}</script>\n",
              "                <script type=\"text/javascript\">window.PlotlyConfig = {MathJaxConfig: 'local'};</script>\n",
              "        <script src=\"https://cdn.plot.ly/plotly-latest.min.js\"></script>    \n",
              "            <div id=\"4b2c766f-ddb7-4dee-9882-bca9439e271b\" class=\"plotly-graph-div\" style=\"height:800px; width:1100px;\"></div>\n",
              "            <script type=\"text/javascript\">\n",
              "                \n",
              "                    window.PLOTLYENV=window.PLOTLYENV || {};\n",
              "                    \n",
              "                if (document.getElementById(\"4b2c766f-ddb7-4dee-9882-bca9439e271b\")) {\n",
              "                    Plotly.newPlot(\n",
              "                        '4b2c766f-ddb7-4dee-9882-bca9439e271b',\n",
              "                        [{\"hovertext\": [12.7, 12.5, 12.4, 12.1, 11.9, 11.9, 11.8, 11.6, 11.8, 11.7, 11.8, 11.9, 11.7], \"mode\": \"lines\", \"name\": \"WTEQ (in)\", \"type\": \"scatter\", \"x\": [\"2021-04-02\", \"2021-04-03\", \"2021-04-04\", \"2021-04-05\", \"2021-04-06\", \"2021-04-07\", \"2021-04-08\", \"2021-04-09\", \"2021-04-10\", \"2021-04-11\", \"2021-04-12\", \"2021-04-13\", \"2021-04-14\"], \"y\": [12.7, 12.5, 12.4, 12.1, 11.9, 11.9, 11.8, 11.6, 11.8, 11.7, 11.8, 11.9, 11.7]}, {\"hovertext\": [28.8, 28.9, 28.9, 28.9, 28.9, 28.9, 28.9, 28.9, 28.9, 29.0, 29.0, 29.0, 29.1], \"mode\": \"lines\", \"name\": \"PREC (in)\", \"type\": \"scatter\", \"x\": [\"2021-04-02\", \"2021-04-03\", \"2021-04-04\", \"2021-04-05\", \"2021-04-06\", \"2021-04-07\", \"2021-04-08\", \"2021-04-09\", \"2021-04-10\", \"2021-04-11\", \"2021-04-12\", \"2021-04-13\", \"2021-04-14\"], \"y\": [28.8, 28.9, 28.9, 28.9, 28.9, 28.9, 28.9, 28.9, 28.9, 29.0, 29.0, 29.0, 29.1]}, {\"hovertext\": [37.0, 36.0, 35.0, 34.0, 33.0, 33.0, 32.0, 32.0, 32.0, 32.0, 31.0, 31.0, 31.0], \"mode\": \"lines\", \"name\": \"SNWD (in)\", \"type\": \"scatter\", \"x\": [\"2021-04-02\", \"2021-04-03\", \"2021-04-04\", \"2021-04-05\", \"2021-04-06\", \"2021-04-07\", \"2021-04-08\", \"2021-04-09\", \"2021-04-10\", \"2021-04-11\", \"2021-04-12\", \"2021-04-13\", \"2021-04-14\"], \"y\": [37.0, 36.0, 35.0, 34.0, 33.0, 33.0, 32.0, 32.0, 32.0, 32.0, 31.0, 31.0, 31.0]}],\n",
              "                        {\"height\": 800, \"template\": {\"data\": {\"bar\": [{\"error_x\": {\"color\": \"#2a3f5f\"}, \"error_y\": {\"color\": \"#2a3f5f\"}, \"marker\": {\"line\": {\"color\": \"#E5ECF6\", \"width\": 0.5}}, \"type\": \"bar\"}], \"barpolar\": [{\"marker\": {\"line\": {\"color\": \"#E5ECF6\", \"width\": 0.5}}, \"type\": \"barpolar\"}], \"carpet\": [{\"aaxis\": {\"endlinecolor\": \"#2a3f5f\", \"gridcolor\": \"white\", \"linecolor\": \"white\", \"minorgridcolor\": \"white\", \"startlinecolor\": \"#2a3f5f\"}, \"baxis\": {\"endlinecolor\": \"#2a3f5f\", \"gridcolor\": \"white\", \"linecolor\": \"white\", \"minorgridcolor\": \"white\", \"startlinecolor\": \"#2a3f5f\"}, \"type\": \"carpet\"}], \"choropleth\": [{\"colorbar\": {\"outlinewidth\": 0, \"ticks\": \"\"}, \"type\": \"choropleth\"}], \"contour\": [{\"colorbar\": {\"outlinewidth\": 0, \"ticks\": \"\"}, \"colorscale\": [[0.0, \"#0d0887\"], [0.1111111111111111, \"#46039f\"], [0.2222222222222222, \"#7201a8\"], [0.3333333333333333, \"#9c179e\"], [0.4444444444444444, \"#bd3786\"], [0.5555555555555556, \"#d8576b\"], [0.6666666666666666, \"#ed7953\"], [0.7777777777777778, \"#fb9f3a\"], [0.8888888888888888, \"#fdca26\"], [1.0, \"#f0f921\"]], \"type\": \"contour\"}], \"contourcarpet\": [{\"colorbar\": {\"outlinewidth\": 0, \"ticks\": \"\"}, \"type\": \"contourcarpet\"}], \"heatmap\": [{\"colorbar\": {\"outlinewidth\": 0, \"ticks\": \"\"}, \"colorscale\": [[0.0, \"#0d0887\"], [0.1111111111111111, \"#46039f\"], [0.2222222222222222, \"#7201a8\"], [0.3333333333333333, \"#9c179e\"], [0.4444444444444444, \"#bd3786\"], [0.5555555555555556, \"#d8576b\"], [0.6666666666666666, \"#ed7953\"], [0.7777777777777778, \"#fb9f3a\"], [0.8888888888888888, \"#fdca26\"], [1.0, \"#f0f921\"]], \"type\": \"heatmap\"}], \"heatmapgl\": [{\"colorbar\": {\"outlinewidth\": 0, \"ticks\": \"\"}, \"colorscale\": [[0.0, \"#0d0887\"], [0.1111111111111111, \"#46039f\"], [0.2222222222222222, \"#7201a8\"], [0.3333333333333333, \"#9c179e\"], [0.4444444444444444, \"#bd3786\"], [0.5555555555555556, \"#d8576b\"], [0.6666666666666666, \"#ed7953\"], [0.7777777777777778, \"#fb9f3a\"], [0.8888888888888888, \"#fdca26\"], [1.0, \"#f0f921\"]], \"type\": \"heatmapgl\"}], \"histogram\": [{\"marker\": {\"colorbar\": {\"outlinewidth\": 0, \"ticks\": \"\"}}, \"type\": \"histogram\"}], \"histogram2d\": [{\"colorbar\": {\"outlinewidth\": 0, \"ticks\": \"\"}, \"colorscale\": [[0.0, \"#0d0887\"], [0.1111111111111111, \"#46039f\"], [0.2222222222222222, \"#7201a8\"], [0.3333333333333333, \"#9c179e\"], [0.4444444444444444, \"#bd3786\"], [0.5555555555555556, \"#d8576b\"], [0.6666666666666666, \"#ed7953\"], [0.7777777777777778, \"#fb9f3a\"], [0.8888888888888888, \"#fdca26\"], [1.0, \"#f0f921\"]], \"type\": \"histogram2d\"}], \"histogram2dcontour\": [{\"colorbar\": {\"outlinewidth\": 0, \"ticks\": \"\"}, \"colorscale\": [[0.0, \"#0d0887\"], [0.1111111111111111, \"#46039f\"], [0.2222222222222222, \"#7201a8\"], [0.3333333333333333, \"#9c179e\"], [0.4444444444444444, \"#bd3786\"], [0.5555555555555556, \"#d8576b\"], [0.6666666666666666, \"#ed7953\"], [0.7777777777777778, \"#fb9f3a\"], [0.8888888888888888, \"#fdca26\"], [1.0, \"#f0f921\"]], \"type\": \"histogram2dcontour\"}], \"mesh3d\": [{\"colorbar\": {\"outlinewidth\": 0, \"ticks\": \"\"}, \"type\": \"mesh3d\"}], \"parcoords\": [{\"line\": {\"colorbar\": {\"outlinewidth\": 0, \"ticks\": \"\"}}, \"type\": \"parcoords\"}], \"pie\": [{\"automargin\": true, \"type\": \"pie\"}], \"scatter\": [{\"marker\": {\"colorbar\": {\"outlinewidth\": 0, \"ticks\": \"\"}}, \"type\": \"scatter\"}], \"scatter3d\": [{\"line\": {\"colorbar\": {\"outlinewidth\": 0, \"ticks\": \"\"}}, \"marker\": {\"colorbar\": {\"outlinewidth\": 0, \"ticks\": \"\"}}, \"type\": \"scatter3d\"}], \"scattercarpet\": [{\"marker\": {\"colorbar\": {\"outlinewidth\": 0, \"ticks\": \"\"}}, \"type\": \"scattercarpet\"}], \"scattergeo\": [{\"marker\": {\"colorbar\": {\"outlinewidth\": 0, \"ticks\": \"\"}}, \"type\": \"scattergeo\"}], \"scattergl\": [{\"marker\": {\"colorbar\": {\"outlinewidth\": 0, \"ticks\": \"\"}}, \"type\": \"scattergl\"}], \"scattermapbox\": [{\"marker\": {\"colorbar\": {\"outlinewidth\": 0, \"ticks\": \"\"}}, \"type\": \"scattermapbox\"}], \"scatterpolar\": [{\"marker\": {\"colorbar\": {\"outlinewidth\": 0, \"ticks\": \"\"}}, \"type\": \"scatterpolar\"}], \"scatterpolargl\": [{\"marker\": {\"colorbar\": {\"outlinewidth\": 0, \"ticks\": \"\"}}, \"type\": \"scatterpolargl\"}], \"scatterternary\": [{\"marker\": {\"colorbar\": {\"outlinewidth\": 0, \"ticks\": \"\"}}, \"type\": \"scatterternary\"}], \"surface\": [{\"colorbar\": {\"outlinewidth\": 0, \"ticks\": \"\"}, \"colorscale\": [[0.0, \"#0d0887\"], [0.1111111111111111, \"#46039f\"], [0.2222222222222222, \"#7201a8\"], [0.3333333333333333, \"#9c179e\"], [0.4444444444444444, \"#bd3786\"], [0.5555555555555556, \"#d8576b\"], [0.6666666666666666, \"#ed7953\"], [0.7777777777777778, \"#fb9f3a\"], [0.8888888888888888, \"#fdca26\"], [1.0, \"#f0f921\"]], \"type\": \"surface\"}], \"table\": [{\"cells\": {\"fill\": {\"color\": \"#EBF0F8\"}, \"line\": {\"color\": \"white\"}}, \"header\": {\"fill\": {\"color\": \"#C8D4E3\"}, \"line\": {\"color\": \"white\"}}, \"type\": \"table\"}]}, \"layout\": {\"annotationdefaults\": {\"arrowcolor\": \"#2a3f5f\", \"arrowhead\": 0, \"arrowwidth\": 1}, \"coloraxis\": {\"colorbar\": {\"outlinewidth\": 0, \"ticks\": \"\"}}, \"colorscale\": {\"diverging\": [[0, \"#8e0152\"], [0.1, \"#c51b7d\"], [0.2, \"#de77ae\"], [0.3, \"#f1b6da\"], [0.4, \"#fde0ef\"], [0.5, \"#f7f7f7\"], [0.6, \"#e6f5d0\"], [0.7, \"#b8e186\"], [0.8, \"#7fbc41\"], [0.9, \"#4d9221\"], [1, \"#276419\"]], \"sequential\": [[0.0, \"#0d0887\"], [0.1111111111111111, \"#46039f\"], [0.2222222222222222, \"#7201a8\"], [0.3333333333333333, \"#9c179e\"], [0.4444444444444444, \"#bd3786\"], [0.5555555555555556, \"#d8576b\"], [0.6666666666666666, \"#ed7953\"], [0.7777777777777778, \"#fb9f3a\"], [0.8888888888888888, \"#fdca26\"], [1.0, \"#f0f921\"]], \"sequentialminus\": [[0.0, \"#0d0887\"], [0.1111111111111111, \"#46039f\"], [0.2222222222222222, \"#7201a8\"], [0.3333333333333333, \"#9c179e\"], [0.4444444444444444, \"#bd3786\"], [0.5555555555555556, \"#d8576b\"], [0.6666666666666666, \"#ed7953\"], [0.7777777777777778, \"#fb9f3a\"], [0.8888888888888888, \"#fdca26\"], [1.0, \"#f0f921\"]]}, \"colorway\": [\"#636efa\", \"#EF553B\", \"#00cc96\", \"#ab63fa\", \"#FFA15A\", \"#19d3f3\", \"#FF6692\", \"#B6E880\", \"#FF97FF\", \"#FECB52\"], \"font\": {\"color\": \"#2a3f5f\"}, \"geo\": {\"bgcolor\": \"white\", \"lakecolor\": \"white\", \"landcolor\": \"#E5ECF6\", \"showlakes\": true, \"showland\": true, \"subunitcolor\": \"white\"}, \"hoverlabel\": {\"align\": \"left\"}, \"hovermode\": \"closest\", \"mapbox\": {\"style\": \"light\"}, \"paper_bgcolor\": \"white\", \"plot_bgcolor\": \"#E5ECF6\", \"polar\": {\"angularaxis\": {\"gridcolor\": \"white\", \"linecolor\": \"white\", \"ticks\": \"\"}, \"bgcolor\": \"#E5ECF6\", \"radialaxis\": {\"gridcolor\": \"white\", \"linecolor\": \"white\", \"ticks\": \"\"}}, \"scene\": {\"xaxis\": {\"backgroundcolor\": \"#E5ECF6\", \"gridcolor\": \"white\", \"gridwidth\": 2, \"linecolor\": \"white\", \"showbackground\": true, \"ticks\": \"\", \"zerolinecolor\": \"white\"}, \"yaxis\": {\"backgroundcolor\": \"#E5ECF6\", \"gridcolor\": \"white\", \"gridwidth\": 2, \"linecolor\": \"white\", \"showbackground\": true, \"ticks\": \"\", \"zerolinecolor\": \"white\"}, \"zaxis\": {\"backgroundcolor\": \"#E5ECF6\", \"gridcolor\": \"white\", \"gridwidth\": 2, \"linecolor\": \"white\", \"showbackground\": true, \"ticks\": \"\", \"zerolinecolor\": \"white\"}}, \"shapedefaults\": {\"line\": {\"color\": \"#2a3f5f\"}}, \"ternary\": {\"aaxis\": {\"gridcolor\": \"white\", \"linecolor\": \"white\", \"ticks\": \"\"}, \"baxis\": {\"gridcolor\": \"white\", \"linecolor\": \"white\", \"ticks\": \"\"}, \"bgcolor\": \"#E5ECF6\", \"caxis\": {\"gridcolor\": \"white\", \"linecolor\": \"white\", \"ticks\": \"\"}}, \"title\": {\"x\": 0.05}, \"xaxis\": {\"automargin\": true, \"gridcolor\": \"white\", \"linecolor\": \"white\", \"ticks\": \"\", \"title\": {\"standoff\": 15}, \"zerolinecolor\": \"white\", \"zerolinewidth\": 2}, \"yaxis\": {\"automargin\": true, \"gridcolor\": \"white\", \"linecolor\": \"white\", \"ticks\": \"\", \"title\": {\"standoff\": 15}, \"zerolinecolor\": \"white\", \"zerolinewidth\": 2}}}, \"width\": 1100, \"xaxis\": {\"title\": {\"text\": \"Date\"}}},\n",
              "                        {\"responsive\": true}\n",
              "                    ).then(function(){\n",
              "                            \n",
              "var gd = document.getElementById('4b2c766f-ddb7-4dee-9882-bca9439e271b');\n",
              "var x = new MutationObserver(function (mutations, observer) {{\n",
              "        var display = window.getComputedStyle(gd).display;\n",
              "        if (!display || display === 'none') {{\n",
              "            console.log([gd, 'removed!']);\n",
              "            Plotly.purge(gd);\n",
              "            observer.disconnect();\n",
              "        }}\n",
              "}});\n",
              "\n",
              "// Listen for the removal of the full notebook cells\n",
              "var notebookContainer = gd.closest('#notebook-container');\n",
              "if (notebookContainer) {{\n",
              "    x.observe(notebookContainer, {childList: true});\n",
              "}}\n",
              "\n",
              "// Listen for the clearing of the current output cell\n",
              "var outputEl = gd.closest('.output');\n",
              "if (outputEl) {{\n",
              "    x.observe(outputEl, {childList: true});\n",
              "}}\n",
              "\n",
              "                        })\n",
              "                };\n",
              "                \n",
              "            </script>\n",
              "        </div>\n",
              "</body>\n",
              "</html>"
            ]
          },
          "metadata": {
            "tags": []
          }
        }
      ]
    },
    {
      "cell_type": "code",
      "metadata": {
        "colab": {
          "base_uri": "https://localhost:8080/",
          "height": 76
        },
        "id": "5qJu6zjKFQ6F",
        "outputId": "742597f9-7524-4340-9b93-5904c7017174"
      },
      "source": [
        "bla.precipitationLessThanZero()"
      ],
      "execution_count": null,
      "outputs": [
        {
          "output_type": "execute_result",
          "data": {
            "text/html": [
              "<div>\n",
              "<style scoped>\n",
              "    .dataframe tbody tr th:only-of-type {\n",
              "        vertical-align: middle;\n",
              "    }\n",
              "\n",
              "    .dataframe tbody tr th {\n",
              "        vertical-align: top;\n",
              "    }\n",
              "\n",
              "    .dataframe thead th {\n",
              "        text-align: right;\n",
              "    }\n",
              "</style>\n",
              "<table border=\"1\" class=\"dataframe\">\n",
              "  <thead>\n",
              "    <tr style=\"text-align: right;\">\n",
              "      <th></th>\n",
              "      <th>401:OR:SNTL</th>\n",
              "    </tr>\n",
              "    <tr>\n",
              "      <th>Date</th>\n",
              "      <th></th>\n",
              "    </tr>\n",
              "  </thead>\n",
              "  <tbody>\n",
              "  </tbody>\n",
              "</table>\n",
              "</div>"
            ],
            "text/plain": [
              "Empty DataFrame\n",
              "Columns: [401:OR:SNTL]\n",
              "Index: []"
            ]
          },
          "metadata": {
            "tags": []
          },
          "execution_count": 10
        }
      ]
    },
    {
      "cell_type": "code",
      "metadata": {
        "colab": {
          "base_uri": "https://localhost:8080/",
          "height": 76
        },
        "id": "AyxZpuPHyMY2",
        "outputId": "338c6e9d-402a-47cb-ef9e-2d8b8881c40b"
      },
      "source": [
        "bla.WTEQvsPREC_table(0.5,0.2)"
      ],
      "execution_count": null,
      "outputs": [
        {
          "output_type": "execute_result",
          "data": {
            "text/html": [
              "<div>\n",
              "<style scoped>\n",
              "    .dataframe tbody tr th:only-of-type {\n",
              "        vertical-align: middle;\n",
              "    }\n",
              "\n",
              "    .dataframe tbody tr th {\n",
              "        vertical-align: top;\n",
              "    }\n",
              "\n",
              "    .dataframe thead th {\n",
              "        text-align: right;\n",
              "    }\n",
              "</style>\n",
              "<table border=\"1\" class=\"dataframe\">\n",
              "  <thead>\n",
              "    <tr style=\"text-align: right;\">\n",
              "      <th></th>\n",
              "      <th>WTEQ (in)</th>\n",
              "      <th>PREC (in)</th>\n",
              "      <th>water_year</th>\n",
              "      <th>Precip Increment - Calculated (in)</th>\n",
              "      <th>WTEQ - Increment (in)</th>\n",
              "    </tr>\n",
              "    <tr>\n",
              "      <th>Date</th>\n",
              "      <th></th>\n",
              "      <th></th>\n",
              "      <th></th>\n",
              "      <th></th>\n",
              "      <th></th>\n",
              "    </tr>\n",
              "  </thead>\n",
              "  <tbody>\n",
              "  </tbody>\n",
              "</table>\n",
              "</div>"
            ],
            "text/plain": [
              "Empty DataFrame\n",
              "Columns: [WTEQ (in), PREC (in), water_year, Precip Increment - Calculated (in), WTEQ - Increment (in)]\n",
              "Index: []"
            ]
          },
          "metadata": {
            "tags": []
          },
          "execution_count": 11
        }
      ]
    },
    {
      "cell_type": "code",
      "metadata": {
        "colab": {
          "base_uri": "https://localhost:8080/",
          "height": 817
        },
        "id": "juW6qKhi70Jx",
        "outputId": "1edeb581-d2fd-448d-9a15-1011223586ea"
      },
      "source": [
        "bla.WTEQvsPREC()"
      ],
      "execution_count": null,
      "outputs": [
        {
          "output_type": "display_data",
          "data": {
            "text/html": [
              "<html>\n",
              "<head><meta charset=\"utf-8\" /></head>\n",
              "<body>\n",
              "    <div>\n",
              "            <script src=\"https://cdnjs.cloudflare.com/ajax/libs/mathjax/2.7.5/MathJax.js?config=TeX-AMS-MML_SVG\"></script><script type=\"text/javascript\">if (window.MathJax) {MathJax.Hub.Config({SVG: {font: \"STIX-Web\"}});}</script>\n",
              "                <script type=\"text/javascript\">window.PlotlyConfig = {MathJaxConfig: 'local'};</script>\n",
              "        <script src=\"https://cdn.plot.ly/plotly-latest.min.js\"></script>    \n",
              "            <div id=\"d97e2349-773d-4b24-a7bc-61851a659261\" class=\"plotly-graph-div\" style=\"height:800px; width:1100px;\"></div>\n",
              "            <script type=\"text/javascript\">\n",
              "                \n",
              "                    window.PLOTLYENV=window.PLOTLYENV || {};\n",
              "                    \n",
              "                if (document.getElementById(\"d97e2349-773d-4b24-a7bc-61851a659261\")) {\n",
              "                    Plotly.newPlot(\n",
              "                        'd97e2349-773d-4b24-a7bc-61851a659261',\n",
              "                        [{\"hoverlabel\": {\"namelength\": 0}, \"hovertemplate\": \"<b>%{hovertext}</b><br><br>water_year=2021<br>PREC (in)=%{x}<br>WTEQ (in)=%{y}\", \"hovertext\": [\"2021-04-02\", \"2021-04-03\", \"2021-04-04\", \"2021-04-05\", \"2021-04-06\", \"2021-04-07\", \"2021-04-08\", \"2021-04-09\", \"2021-04-10\", \"2021-04-11\", \"2021-04-12\", \"2021-04-13\", \"2021-04-14\"], \"legendgroup\": \"water_year=2021\", \"line\": {\"color\": \"#636efa\", \"dash\": \"solid\"}, \"mode\": \"lines\", \"name\": \"water_year=2021\", \"showlegend\": true, \"type\": \"scatter\", \"x\": [28.8, 28.9, 28.9, 28.9, 28.9, 28.9, 28.9, 28.9, 28.9, 29.0, 29.0, 29.0, 29.1], \"xaxis\": \"x\", \"y\": [12.7, 12.5, 12.4, 12.1, 11.9, 11.9, 11.8, 11.6, 11.8, 11.7, 11.8, 11.9, 11.7], \"yaxis\": \"y\"}],\n",
              "                        {\"height\": 800, \"legend\": {\"tracegroupgap\": 0}, \"margin\": {\"t\": 60}, \"template\": {\"data\": {\"bar\": [{\"error_x\": {\"color\": \"#2a3f5f\"}, \"error_y\": {\"color\": \"#2a3f5f\"}, \"marker\": {\"line\": {\"color\": \"#E5ECF6\", \"width\": 0.5}}, \"type\": \"bar\"}], \"barpolar\": [{\"marker\": {\"line\": {\"color\": \"#E5ECF6\", \"width\": 0.5}}, \"type\": \"barpolar\"}], \"carpet\": [{\"aaxis\": {\"endlinecolor\": \"#2a3f5f\", \"gridcolor\": \"white\", \"linecolor\": \"white\", \"minorgridcolor\": \"white\", \"startlinecolor\": \"#2a3f5f\"}, \"baxis\": {\"endlinecolor\": \"#2a3f5f\", \"gridcolor\": \"white\", \"linecolor\": \"white\", \"minorgridcolor\": \"white\", \"startlinecolor\": \"#2a3f5f\"}, \"type\": \"carpet\"}], \"choropleth\": [{\"colorbar\": {\"outlinewidth\": 0, \"ticks\": \"\"}, \"type\": \"choropleth\"}], \"contour\": [{\"colorbar\": {\"outlinewidth\": 0, \"ticks\": \"\"}, \"colorscale\": [[0.0, \"#0d0887\"], [0.1111111111111111, \"#46039f\"], [0.2222222222222222, \"#7201a8\"], [0.3333333333333333, \"#9c179e\"], [0.4444444444444444, \"#bd3786\"], [0.5555555555555556, \"#d8576b\"], [0.6666666666666666, \"#ed7953\"], [0.7777777777777778, \"#fb9f3a\"], [0.8888888888888888, \"#fdca26\"], [1.0, \"#f0f921\"]], \"type\": \"contour\"}], \"contourcarpet\": [{\"colorbar\": {\"outlinewidth\": 0, \"ticks\": \"\"}, \"type\": \"contourcarpet\"}], \"heatmap\": [{\"colorbar\": {\"outlinewidth\": 0, \"ticks\": \"\"}, \"colorscale\": [[0.0, \"#0d0887\"], [0.1111111111111111, \"#46039f\"], [0.2222222222222222, \"#7201a8\"], [0.3333333333333333, \"#9c179e\"], [0.4444444444444444, \"#bd3786\"], [0.5555555555555556, \"#d8576b\"], [0.6666666666666666, \"#ed7953\"], [0.7777777777777778, \"#fb9f3a\"], [0.8888888888888888, \"#fdca26\"], [1.0, \"#f0f921\"]], \"type\": \"heatmap\"}], \"heatmapgl\": [{\"colorbar\": {\"outlinewidth\": 0, \"ticks\": \"\"}, \"colorscale\": [[0.0, \"#0d0887\"], [0.1111111111111111, \"#46039f\"], [0.2222222222222222, \"#7201a8\"], [0.3333333333333333, \"#9c179e\"], [0.4444444444444444, \"#bd3786\"], [0.5555555555555556, \"#d8576b\"], [0.6666666666666666, \"#ed7953\"], [0.7777777777777778, \"#fb9f3a\"], [0.8888888888888888, \"#fdca26\"], [1.0, \"#f0f921\"]], \"type\": \"heatmapgl\"}], \"histogram\": [{\"marker\": {\"colorbar\": {\"outlinewidth\": 0, \"ticks\": \"\"}}, \"type\": \"histogram\"}], \"histogram2d\": [{\"colorbar\": {\"outlinewidth\": 0, \"ticks\": \"\"}, \"colorscale\": [[0.0, \"#0d0887\"], [0.1111111111111111, \"#46039f\"], [0.2222222222222222, \"#7201a8\"], [0.3333333333333333, \"#9c179e\"], [0.4444444444444444, \"#bd3786\"], [0.5555555555555556, \"#d8576b\"], [0.6666666666666666, \"#ed7953\"], [0.7777777777777778, \"#fb9f3a\"], [0.8888888888888888, \"#fdca26\"], [1.0, \"#f0f921\"]], \"type\": \"histogram2d\"}], \"histogram2dcontour\": [{\"colorbar\": {\"outlinewidth\": 0, \"ticks\": \"\"}, \"colorscale\": [[0.0, \"#0d0887\"], [0.1111111111111111, \"#46039f\"], [0.2222222222222222, \"#7201a8\"], [0.3333333333333333, \"#9c179e\"], [0.4444444444444444, \"#bd3786\"], [0.5555555555555556, \"#d8576b\"], [0.6666666666666666, \"#ed7953\"], [0.7777777777777778, \"#fb9f3a\"], [0.8888888888888888, \"#fdca26\"], [1.0, \"#f0f921\"]], \"type\": \"histogram2dcontour\"}], \"mesh3d\": [{\"colorbar\": {\"outlinewidth\": 0, \"ticks\": \"\"}, \"type\": \"mesh3d\"}], \"parcoords\": [{\"line\": {\"colorbar\": {\"outlinewidth\": 0, \"ticks\": \"\"}}, \"type\": \"parcoords\"}], \"pie\": [{\"automargin\": true, \"type\": \"pie\"}], \"scatter\": [{\"marker\": {\"colorbar\": {\"outlinewidth\": 0, \"ticks\": \"\"}}, \"type\": \"scatter\"}], \"scatter3d\": [{\"line\": {\"colorbar\": {\"outlinewidth\": 0, \"ticks\": \"\"}}, \"marker\": {\"colorbar\": {\"outlinewidth\": 0, \"ticks\": \"\"}}, \"type\": \"scatter3d\"}], \"scattercarpet\": [{\"marker\": {\"colorbar\": {\"outlinewidth\": 0, \"ticks\": \"\"}}, \"type\": \"scattercarpet\"}], \"scattergeo\": [{\"marker\": {\"colorbar\": {\"outlinewidth\": 0, \"ticks\": \"\"}}, \"type\": \"scattergeo\"}], \"scattergl\": [{\"marker\": {\"colorbar\": {\"outlinewidth\": 0, \"ticks\": \"\"}}, \"type\": \"scattergl\"}], \"scattermapbox\": [{\"marker\": {\"colorbar\": {\"outlinewidth\": 0, \"ticks\": \"\"}}, \"type\": \"scattermapbox\"}], \"scatterpolar\": [{\"marker\": {\"colorbar\": {\"outlinewidth\": 0, \"ticks\": \"\"}}, \"type\": \"scatterpolar\"}], \"scatterpolargl\": [{\"marker\": {\"colorbar\": {\"outlinewidth\": 0, \"ticks\": \"\"}}, \"type\": \"scatterpolargl\"}], \"scatterternary\": [{\"marker\": {\"colorbar\": {\"outlinewidth\": 0, \"ticks\": \"\"}}, \"type\": \"scatterternary\"}], \"surface\": [{\"colorbar\": {\"outlinewidth\": 0, \"ticks\": \"\"}, \"colorscale\": [[0.0, \"#0d0887\"], [0.1111111111111111, \"#46039f\"], [0.2222222222222222, \"#7201a8\"], [0.3333333333333333, \"#9c179e\"], [0.4444444444444444, \"#bd3786\"], [0.5555555555555556, \"#d8576b\"], [0.6666666666666666, \"#ed7953\"], [0.7777777777777778, \"#fb9f3a\"], [0.8888888888888888, \"#fdca26\"], [1.0, \"#f0f921\"]], \"type\": \"surface\"}], \"table\": [{\"cells\": {\"fill\": {\"color\": \"#EBF0F8\"}, \"line\": {\"color\": \"white\"}}, \"header\": {\"fill\": {\"color\": \"#C8D4E3\"}, \"line\": {\"color\": \"white\"}}, \"type\": \"table\"}]}, \"layout\": {\"annotationdefaults\": {\"arrowcolor\": \"#2a3f5f\", \"arrowhead\": 0, \"arrowwidth\": 1}, \"coloraxis\": {\"colorbar\": {\"outlinewidth\": 0, \"ticks\": \"\"}}, \"colorscale\": {\"diverging\": [[0, \"#8e0152\"], [0.1, \"#c51b7d\"], [0.2, \"#de77ae\"], [0.3, \"#f1b6da\"], [0.4, \"#fde0ef\"], [0.5, \"#f7f7f7\"], [0.6, \"#e6f5d0\"], [0.7, \"#b8e186\"], [0.8, \"#7fbc41\"], [0.9, \"#4d9221\"], [1, \"#276419\"]], \"sequential\": [[0.0, \"#0d0887\"], [0.1111111111111111, \"#46039f\"], [0.2222222222222222, \"#7201a8\"], [0.3333333333333333, \"#9c179e\"], [0.4444444444444444, \"#bd3786\"], [0.5555555555555556, \"#d8576b\"], [0.6666666666666666, \"#ed7953\"], [0.7777777777777778, \"#fb9f3a\"], [0.8888888888888888, \"#fdca26\"], [1.0, \"#f0f921\"]], \"sequentialminus\": [[0.0, \"#0d0887\"], [0.1111111111111111, \"#46039f\"], [0.2222222222222222, \"#7201a8\"], [0.3333333333333333, \"#9c179e\"], [0.4444444444444444, \"#bd3786\"], [0.5555555555555556, \"#d8576b\"], [0.6666666666666666, \"#ed7953\"], [0.7777777777777778, \"#fb9f3a\"], [0.8888888888888888, \"#fdca26\"], [1.0, \"#f0f921\"]]}, \"colorway\": [\"#636efa\", \"#EF553B\", \"#00cc96\", \"#ab63fa\", \"#FFA15A\", \"#19d3f3\", \"#FF6692\", \"#B6E880\", \"#FF97FF\", \"#FECB52\"], \"font\": {\"color\": \"#2a3f5f\"}, \"geo\": {\"bgcolor\": \"white\", \"lakecolor\": \"white\", \"landcolor\": \"#E5ECF6\", \"showlakes\": true, \"showland\": true, \"subunitcolor\": \"white\"}, \"hoverlabel\": {\"align\": \"left\"}, \"hovermode\": \"closest\", \"mapbox\": {\"style\": \"light\"}, \"paper_bgcolor\": \"white\", \"plot_bgcolor\": \"#E5ECF6\", \"polar\": {\"angularaxis\": {\"gridcolor\": \"white\", \"linecolor\": \"white\", \"ticks\": \"\"}, \"bgcolor\": \"#E5ECF6\", \"radialaxis\": {\"gridcolor\": \"white\", \"linecolor\": \"white\", \"ticks\": \"\"}}, \"scene\": {\"xaxis\": {\"backgroundcolor\": \"#E5ECF6\", \"gridcolor\": \"white\", \"gridwidth\": 2, \"linecolor\": \"white\", \"showbackground\": true, \"ticks\": \"\", \"zerolinecolor\": \"white\"}, \"yaxis\": {\"backgroundcolor\": \"#E5ECF6\", \"gridcolor\": \"white\", \"gridwidth\": 2, \"linecolor\": \"white\", \"showbackground\": true, \"ticks\": \"\", \"zerolinecolor\": \"white\"}, \"zaxis\": {\"backgroundcolor\": \"#E5ECF6\", \"gridcolor\": \"white\", \"gridwidth\": 2, \"linecolor\": \"white\", \"showbackground\": true, \"ticks\": \"\", \"zerolinecolor\": \"white\"}}, \"shapedefaults\": {\"line\": {\"color\": \"#2a3f5f\"}}, \"ternary\": {\"aaxis\": {\"gridcolor\": \"white\", \"linecolor\": \"white\", \"ticks\": \"\"}, \"baxis\": {\"gridcolor\": \"white\", \"linecolor\": \"white\", \"ticks\": \"\"}, \"bgcolor\": \"#E5ECF6\", \"caxis\": {\"gridcolor\": \"white\", \"linecolor\": \"white\", \"ticks\": \"\"}}, \"title\": {\"x\": 0.05}, \"xaxis\": {\"automargin\": true, \"gridcolor\": \"white\", \"linecolor\": \"white\", \"ticks\": \"\", \"title\": {\"standoff\": 15}, \"zerolinecolor\": \"white\", \"zerolinewidth\": 2}, \"yaxis\": {\"automargin\": true, \"gridcolor\": \"white\", \"linecolor\": \"white\", \"ticks\": \"\", \"title\": {\"standoff\": 15}, \"zerolinecolor\": \"white\", \"zerolinewidth\": 2}}}, \"width\": 1100, \"xaxis\": {\"anchor\": \"y\", \"domain\": [0.0, 1.0], \"title\": {\"text\": \"PREC (in)\"}}, \"yaxis\": {\"anchor\": \"x\", \"domain\": [0.0, 1.0], \"scaleanchor\": \"x\", \"scaleratio\": 1, \"title\": {\"text\": \"WTEQ (in)\"}}},\n",
              "                        {\"responsive\": true}\n",
              "                    ).then(function(){\n",
              "                            \n",
              "var gd = document.getElementById('d97e2349-773d-4b24-a7bc-61851a659261');\n",
              "var x = new MutationObserver(function (mutations, observer) {{\n",
              "        var display = window.getComputedStyle(gd).display;\n",
              "        if (!display || display === 'none') {{\n",
              "            console.log([gd, 'removed!']);\n",
              "            Plotly.purge(gd);\n",
              "            observer.disconnect();\n",
              "        }}\n",
              "}});\n",
              "\n",
              "// Listen for the removal of the full notebook cells\n",
              "var notebookContainer = gd.closest('#notebook-container');\n",
              "if (notebookContainer) {{\n",
              "    x.observe(notebookContainer, {childList: true});\n",
              "}}\n",
              "\n",
              "// Listen for the clearing of the current output cell\n",
              "var outputEl = gd.closest('.output');\n",
              "if (outputEl) {{\n",
              "    x.observe(outputEl, {childList: true});\n",
              "}}\n",
              "\n",
              "                        })\n",
              "                };\n",
              "                \n",
              "            </script>\n",
              "        </div>\n",
              "</body>\n",
              "</html>"
            ]
          },
          "metadata": {
            "tags": []
          }
        }
      ]
    },
    {
      "cell_type": "code",
      "metadata": {
        "colab": {
          "base_uri": "https://localhost:8080/",
          "height": 817
        },
        "id": "fYZnX-3J70HQ",
        "outputId": "41b30a4e-6508-4c52-9b6a-04e4ee6e2252"
      },
      "source": [
        "bla.SWEvsSNWD()"
      ],
      "execution_count": null,
      "outputs": [
        {
          "output_type": "display_data",
          "data": {
            "text/html": [
              "<html>\n",
              "<head><meta charset=\"utf-8\" /></head>\n",
              "<body>\n",
              "    <div>\n",
              "            <script src=\"https://cdnjs.cloudflare.com/ajax/libs/mathjax/2.7.5/MathJax.js?config=TeX-AMS-MML_SVG\"></script><script type=\"text/javascript\">if (window.MathJax) {MathJax.Hub.Config({SVG: {font: \"STIX-Web\"}});}</script>\n",
              "                <script type=\"text/javascript\">window.PlotlyConfig = {MathJaxConfig: 'local'};</script>\n",
              "        <script src=\"https://cdn.plot.ly/plotly-latest.min.js\"></script>    \n",
              "            <div id=\"39a7ca1a-b6f2-4cc0-94ca-915d56f15b5c\" class=\"plotly-graph-div\" style=\"height:800px; width:1100px;\"></div>\n",
              "            <script type=\"text/javascript\">\n",
              "                \n",
              "                    window.PLOTLYENV=window.PLOTLYENV || {};\n",
              "                    \n",
              "                if (document.getElementById(\"39a7ca1a-b6f2-4cc0-94ca-915d56f15b5c\")) {\n",
              "                    Plotly.newPlot(\n",
              "                        '39a7ca1a-b6f2-4cc0-94ca-915d56f15b5c',\n",
              "                        [{\"hoverlabel\": {\"namelength\": 0}, \"hovertemplate\": \"<b>%{hovertext}</b><br><br>water_year=2021<br>WTEQ (in)=%{x}<br>SNWD (in)=%{y}\", \"hovertext\": [\"2021-04-02\", \"2021-04-03\", \"2021-04-04\", \"2021-04-05\", \"2021-04-06\", \"2021-04-07\", \"2021-04-08\", \"2021-04-09\", \"2021-04-10\", \"2021-04-11\", \"2021-04-12\", \"2021-04-13\", \"2021-04-14\"], \"legendgroup\": \"water_year=2021\", \"line\": {\"color\": \"#636efa\", \"dash\": \"solid\"}, \"mode\": \"lines\", \"name\": \"water_year=2021\", \"showlegend\": true, \"type\": \"scatter\", \"x\": [12.7, 12.5, 12.4, 12.1, 11.9, 11.9, 11.8, 11.6, 11.8, 11.7, 11.8, 11.9, 11.7], \"xaxis\": \"x\", \"y\": [37.0, 36.0, 35.0, 34.0, 33.0, 33.0, 32.0, 32.0, 32.0, 32.0, 31.0, 31.0, 31.0], \"yaxis\": \"y\"}],\n",
              "                        {\"height\": 800, \"legend\": {\"tracegroupgap\": 0}, \"margin\": {\"t\": 60}, \"template\": {\"data\": {\"bar\": [{\"error_x\": {\"color\": \"#2a3f5f\"}, \"error_y\": {\"color\": \"#2a3f5f\"}, \"marker\": {\"line\": {\"color\": \"#E5ECF6\", \"width\": 0.5}}, \"type\": \"bar\"}], \"barpolar\": [{\"marker\": {\"line\": {\"color\": \"#E5ECF6\", \"width\": 0.5}}, \"type\": \"barpolar\"}], \"carpet\": [{\"aaxis\": {\"endlinecolor\": \"#2a3f5f\", \"gridcolor\": \"white\", \"linecolor\": \"white\", \"minorgridcolor\": \"white\", \"startlinecolor\": \"#2a3f5f\"}, \"baxis\": {\"endlinecolor\": \"#2a3f5f\", \"gridcolor\": \"white\", \"linecolor\": \"white\", \"minorgridcolor\": \"white\", \"startlinecolor\": \"#2a3f5f\"}, \"type\": \"carpet\"}], \"choropleth\": [{\"colorbar\": {\"outlinewidth\": 0, \"ticks\": \"\"}, \"type\": \"choropleth\"}], \"contour\": [{\"colorbar\": {\"outlinewidth\": 0, \"ticks\": \"\"}, \"colorscale\": [[0.0, \"#0d0887\"], [0.1111111111111111, \"#46039f\"], [0.2222222222222222, \"#7201a8\"], [0.3333333333333333, \"#9c179e\"], [0.4444444444444444, \"#bd3786\"], [0.5555555555555556, \"#d8576b\"], [0.6666666666666666, \"#ed7953\"], [0.7777777777777778, \"#fb9f3a\"], [0.8888888888888888, \"#fdca26\"], [1.0, \"#f0f921\"]], \"type\": \"contour\"}], \"contourcarpet\": [{\"colorbar\": {\"outlinewidth\": 0, \"ticks\": \"\"}, \"type\": \"contourcarpet\"}], \"heatmap\": [{\"colorbar\": {\"outlinewidth\": 0, \"ticks\": \"\"}, \"colorscale\": [[0.0, \"#0d0887\"], [0.1111111111111111, \"#46039f\"], [0.2222222222222222, \"#7201a8\"], [0.3333333333333333, \"#9c179e\"], [0.4444444444444444, \"#bd3786\"], [0.5555555555555556, \"#d8576b\"], [0.6666666666666666, \"#ed7953\"], [0.7777777777777778, \"#fb9f3a\"], [0.8888888888888888, \"#fdca26\"], [1.0, \"#f0f921\"]], \"type\": \"heatmap\"}], \"heatmapgl\": [{\"colorbar\": {\"outlinewidth\": 0, \"ticks\": \"\"}, \"colorscale\": [[0.0, \"#0d0887\"], [0.1111111111111111, \"#46039f\"], [0.2222222222222222, \"#7201a8\"], [0.3333333333333333, \"#9c179e\"], [0.4444444444444444, \"#bd3786\"], [0.5555555555555556, \"#d8576b\"], [0.6666666666666666, \"#ed7953\"], [0.7777777777777778, \"#fb9f3a\"], [0.8888888888888888, \"#fdca26\"], [1.0, \"#f0f921\"]], \"type\": \"heatmapgl\"}], \"histogram\": [{\"marker\": {\"colorbar\": {\"outlinewidth\": 0, \"ticks\": \"\"}}, \"type\": \"histogram\"}], \"histogram2d\": [{\"colorbar\": {\"outlinewidth\": 0, \"ticks\": \"\"}, \"colorscale\": [[0.0, \"#0d0887\"], [0.1111111111111111, \"#46039f\"], [0.2222222222222222, \"#7201a8\"], [0.3333333333333333, \"#9c179e\"], [0.4444444444444444, \"#bd3786\"], [0.5555555555555556, \"#d8576b\"], [0.6666666666666666, \"#ed7953\"], [0.7777777777777778, \"#fb9f3a\"], [0.8888888888888888, \"#fdca26\"], [1.0, \"#f0f921\"]], \"type\": \"histogram2d\"}], \"histogram2dcontour\": [{\"colorbar\": {\"outlinewidth\": 0, \"ticks\": \"\"}, \"colorscale\": [[0.0, \"#0d0887\"], [0.1111111111111111, \"#46039f\"], [0.2222222222222222, \"#7201a8\"], [0.3333333333333333, \"#9c179e\"], [0.4444444444444444, \"#bd3786\"], [0.5555555555555556, \"#d8576b\"], [0.6666666666666666, \"#ed7953\"], [0.7777777777777778, \"#fb9f3a\"], [0.8888888888888888, \"#fdca26\"], [1.0, \"#f0f921\"]], \"type\": \"histogram2dcontour\"}], \"mesh3d\": [{\"colorbar\": {\"outlinewidth\": 0, \"ticks\": \"\"}, \"type\": \"mesh3d\"}], \"parcoords\": [{\"line\": {\"colorbar\": {\"outlinewidth\": 0, \"ticks\": \"\"}}, \"type\": \"parcoords\"}], \"pie\": [{\"automargin\": true, \"type\": \"pie\"}], \"scatter\": [{\"marker\": {\"colorbar\": {\"outlinewidth\": 0, \"ticks\": \"\"}}, \"type\": \"scatter\"}], \"scatter3d\": [{\"line\": {\"colorbar\": {\"outlinewidth\": 0, \"ticks\": \"\"}}, \"marker\": {\"colorbar\": {\"outlinewidth\": 0, \"ticks\": \"\"}}, \"type\": \"scatter3d\"}], \"scattercarpet\": [{\"marker\": {\"colorbar\": {\"outlinewidth\": 0, \"ticks\": \"\"}}, \"type\": \"scattercarpet\"}], \"scattergeo\": [{\"marker\": {\"colorbar\": {\"outlinewidth\": 0, \"ticks\": \"\"}}, \"type\": \"scattergeo\"}], \"scattergl\": [{\"marker\": {\"colorbar\": {\"outlinewidth\": 0, \"ticks\": \"\"}}, \"type\": \"scattergl\"}], \"scattermapbox\": [{\"marker\": {\"colorbar\": {\"outlinewidth\": 0, \"ticks\": \"\"}}, \"type\": \"scattermapbox\"}], \"scatterpolar\": [{\"marker\": {\"colorbar\": {\"outlinewidth\": 0, \"ticks\": \"\"}}, \"type\": \"scatterpolar\"}], \"scatterpolargl\": [{\"marker\": {\"colorbar\": {\"outlinewidth\": 0, \"ticks\": \"\"}}, \"type\": \"scatterpolargl\"}], \"scatterternary\": [{\"marker\": {\"colorbar\": {\"outlinewidth\": 0, \"ticks\": \"\"}}, \"type\": \"scatterternary\"}], \"surface\": [{\"colorbar\": {\"outlinewidth\": 0, \"ticks\": \"\"}, \"colorscale\": [[0.0, \"#0d0887\"], [0.1111111111111111, \"#46039f\"], [0.2222222222222222, \"#7201a8\"], [0.3333333333333333, \"#9c179e\"], [0.4444444444444444, \"#bd3786\"], [0.5555555555555556, \"#d8576b\"], [0.6666666666666666, \"#ed7953\"], [0.7777777777777778, \"#fb9f3a\"], [0.8888888888888888, \"#fdca26\"], [1.0, \"#f0f921\"]], \"type\": \"surface\"}], \"table\": [{\"cells\": {\"fill\": {\"color\": \"#EBF0F8\"}, \"line\": {\"color\": \"white\"}}, \"header\": {\"fill\": {\"color\": \"#C8D4E3\"}, \"line\": {\"color\": \"white\"}}, \"type\": \"table\"}]}, \"layout\": {\"annotationdefaults\": {\"arrowcolor\": \"#2a3f5f\", \"arrowhead\": 0, \"arrowwidth\": 1}, \"coloraxis\": {\"colorbar\": {\"outlinewidth\": 0, \"ticks\": \"\"}}, \"colorscale\": {\"diverging\": [[0, \"#8e0152\"], [0.1, \"#c51b7d\"], [0.2, \"#de77ae\"], [0.3, \"#f1b6da\"], [0.4, \"#fde0ef\"], [0.5, \"#f7f7f7\"], [0.6, \"#e6f5d0\"], [0.7, \"#b8e186\"], [0.8, \"#7fbc41\"], [0.9, \"#4d9221\"], [1, \"#276419\"]], \"sequential\": [[0.0, \"#0d0887\"], [0.1111111111111111, \"#46039f\"], [0.2222222222222222, \"#7201a8\"], [0.3333333333333333, \"#9c179e\"], [0.4444444444444444, \"#bd3786\"], [0.5555555555555556, \"#d8576b\"], [0.6666666666666666, \"#ed7953\"], [0.7777777777777778, \"#fb9f3a\"], [0.8888888888888888, \"#fdca26\"], [1.0, \"#f0f921\"]], \"sequentialminus\": [[0.0, \"#0d0887\"], [0.1111111111111111, \"#46039f\"], [0.2222222222222222, \"#7201a8\"], [0.3333333333333333, \"#9c179e\"], [0.4444444444444444, \"#bd3786\"], [0.5555555555555556, \"#d8576b\"], [0.6666666666666666, \"#ed7953\"], [0.7777777777777778, \"#fb9f3a\"], [0.8888888888888888, \"#fdca26\"], [1.0, \"#f0f921\"]]}, \"colorway\": [\"#636efa\", \"#EF553B\", \"#00cc96\", \"#ab63fa\", \"#FFA15A\", \"#19d3f3\", \"#FF6692\", \"#B6E880\", \"#FF97FF\", \"#FECB52\"], \"font\": {\"color\": \"#2a3f5f\"}, \"geo\": {\"bgcolor\": \"white\", \"lakecolor\": \"white\", \"landcolor\": \"#E5ECF6\", \"showlakes\": true, \"showland\": true, \"subunitcolor\": \"white\"}, \"hoverlabel\": {\"align\": \"left\"}, \"hovermode\": \"closest\", \"mapbox\": {\"style\": \"light\"}, \"paper_bgcolor\": \"white\", \"plot_bgcolor\": \"#E5ECF6\", \"polar\": {\"angularaxis\": {\"gridcolor\": \"white\", \"linecolor\": \"white\", \"ticks\": \"\"}, \"bgcolor\": \"#E5ECF6\", \"radialaxis\": {\"gridcolor\": \"white\", \"linecolor\": \"white\", \"ticks\": \"\"}}, \"scene\": {\"xaxis\": {\"backgroundcolor\": \"#E5ECF6\", \"gridcolor\": \"white\", \"gridwidth\": 2, \"linecolor\": \"white\", \"showbackground\": true, \"ticks\": \"\", \"zerolinecolor\": \"white\"}, \"yaxis\": {\"backgroundcolor\": \"#E5ECF6\", \"gridcolor\": \"white\", \"gridwidth\": 2, \"linecolor\": \"white\", \"showbackground\": true, \"ticks\": \"\", \"zerolinecolor\": \"white\"}, \"zaxis\": {\"backgroundcolor\": \"#E5ECF6\", \"gridcolor\": \"white\", \"gridwidth\": 2, \"linecolor\": \"white\", \"showbackground\": true, \"ticks\": \"\", \"zerolinecolor\": \"white\"}}, \"shapedefaults\": {\"line\": {\"color\": \"#2a3f5f\"}}, \"ternary\": {\"aaxis\": {\"gridcolor\": \"white\", \"linecolor\": \"white\", \"ticks\": \"\"}, \"baxis\": {\"gridcolor\": \"white\", \"linecolor\": \"white\", \"ticks\": \"\"}, \"bgcolor\": \"#E5ECF6\", \"caxis\": {\"gridcolor\": \"white\", \"linecolor\": \"white\", \"ticks\": \"\"}}, \"title\": {\"x\": 0.05}, \"xaxis\": {\"automargin\": true, \"gridcolor\": \"white\", \"linecolor\": \"white\", \"ticks\": \"\", \"title\": {\"standoff\": 15}, \"zerolinecolor\": \"white\", \"zerolinewidth\": 2}, \"yaxis\": {\"automargin\": true, \"gridcolor\": \"white\", \"linecolor\": \"white\", \"ticks\": \"\", \"title\": {\"standoff\": 15}, \"zerolinecolor\": \"white\", \"zerolinewidth\": 2}}}, \"width\": 1100, \"xaxis\": {\"anchor\": \"y\", \"domain\": [0.0, 1.0], \"title\": {\"text\": \"WTEQ (in)\"}}, \"yaxis\": {\"anchor\": \"x\", \"domain\": [0.0, 1.0], \"scaleanchor\": \"x\", \"scaleratio\": 1, \"title\": {\"text\": \"SNWD (in)\"}}},\n",
              "                        {\"responsive\": true}\n",
              "                    ).then(function(){\n",
              "                            \n",
              "var gd = document.getElementById('39a7ca1a-b6f2-4cc0-94ca-915d56f15b5c');\n",
              "var x = new MutationObserver(function (mutations, observer) {{\n",
              "        var display = window.getComputedStyle(gd).display;\n",
              "        if (!display || display === 'none') {{\n",
              "            console.log([gd, 'removed!']);\n",
              "            Plotly.purge(gd);\n",
              "            observer.disconnect();\n",
              "        }}\n",
              "}});\n",
              "\n",
              "// Listen for the removal of the full notebook cells\n",
              "var notebookContainer = gd.closest('#notebook-container');\n",
              "if (notebookContainer) {{\n",
              "    x.observe(notebookContainer, {childList: true});\n",
              "}}\n",
              "\n",
              "// Listen for the clearing of the current output cell\n",
              "var outputEl = gd.closest('.output');\n",
              "if (outputEl) {{\n",
              "    x.observe(outputEl, {childList: true});\n",
              "}}\n",
              "\n",
              "                        })\n",
              "                };\n",
              "                \n",
              "            </script>\n",
              "        </div>\n",
              "</body>\n",
              "</html>"
            ]
          },
          "metadata": {
            "tags": []
          }
        }
      ]
    },
    {
      "cell_type": "code",
      "metadata": {
        "id": "-C2Ex3FF70Eh"
      },
      "source": [
        ""
      ],
      "execution_count": null,
      "outputs": []
    },
    {
      "cell_type": "code",
      "metadata": {
        "id": "UwbG0rQ40LnT"
      },
      "source": [
        "OR401 = errorChecking(['401:OR:SNTL'],'01/01/2018', '04/01/2020')"
      ],
      "execution_count": null,
      "outputs": []
    },
    {
      "cell_type": "code",
      "metadata": {
        "colab": {
          "base_uri": "https://localhost:8080/",
          "height": 282
        },
        "id": "TaQ0tfm8nxYk",
        "outputId": "b4fb0b5d-8317-4d29-9cc9-3bbb7c7adabb"
      },
      "source": [
        "OR401.logicalTests.WTEQvsPREC()"
      ],
      "execution_count": null,
      "outputs": [
        {
          "output_type": "error",
          "ename": "NameError",
          "evalue": "ignored",
          "traceback": [
            "\u001b[0;31m---------------------------------------------------------------------------\u001b[0m",
            "\u001b[0;31mNameError\u001b[0m                                 Traceback (most recent call last)",
            "\u001b[0;32m<ipython-input-9-293f881e7942>\u001b[0m in \u001b[0;36m<module>\u001b[0;34m()\u001b[0m\n\u001b[0;32m----> 1\u001b[0;31m \u001b[0mOR401\u001b[0m\u001b[0;34m.\u001b[0m\u001b[0mlogicalTests\u001b[0m\u001b[0;34m.\u001b[0m\u001b[0mWTEQvsPREC\u001b[0m\u001b[0;34m(\u001b[0m\u001b[0;34m)\u001b[0m\u001b[0;34m\u001b[0m\u001b[0;34m\u001b[0m\u001b[0m\n\u001b[0m",
            "\u001b[0;32m<ipython-input-7-58eaf07a9908>\u001b[0m in \u001b[0;36mWTEQvsPREC\u001b[0;34m()\u001b[0m\n\u001b[1;32m     36\u001b[0m       \u001b[0mfig\u001b[0m \u001b[0;34m=\u001b[0m \u001b[0mgo\u001b[0m\u001b[0;34m.\u001b[0m\u001b[0mFigure\u001b[0m\u001b[0;34m(\u001b[0m\u001b[0;34m)\u001b[0m\u001b[0;34m\u001b[0m\u001b[0;34m\u001b[0m\u001b[0m\n\u001b[1;32m     37\u001b[0m \u001b[0;34m\u001b[0m\u001b[0m\n\u001b[0;32m---> 38\u001b[0;31m       \u001b[0mfig\u001b[0m \u001b[0;34m=\u001b[0m \u001b[0mpx\u001b[0m\u001b[0;34m.\u001b[0m\u001b[0mline\u001b[0m\u001b[0;34m(\u001b[0m\u001b[0mdf2\u001b[0m\u001b[0;34m,\u001b[0m \u001b[0mx\u001b[0m\u001b[0;34m=\u001b[0m\u001b[0;34m\"PREC (in)\"\u001b[0m\u001b[0;34m,\u001b[0m \u001b[0my\u001b[0m\u001b[0;34m=\u001b[0m\u001b[0;34m\"WTEQ (in)\"\u001b[0m\u001b[0;34m,\u001b[0m \u001b[0mhover_name\u001b[0m\u001b[0;34m=\u001b[0m\u001b[0mdf2\u001b[0m\u001b[0;34m[\u001b[0m\u001b[0;34m'Date'\u001b[0m\u001b[0;34m]\u001b[0m\u001b[0;34m,\u001b[0m \u001b[0mcolor\u001b[0m\u001b[0;34m=\u001b[0m\u001b[0;34m'water_year'\u001b[0m\u001b[0;34m)\u001b[0m\u001b[0;34m\u001b[0m\u001b[0;34m\u001b[0m\u001b[0m\n\u001b[0m\u001b[1;32m     39\u001b[0m \u001b[0;34m\u001b[0m\u001b[0m\n\u001b[1;32m     40\u001b[0m       fig.update_layout(\n",
            "\u001b[0;31mNameError\u001b[0m: name 'df2' is not defined"
          ]
        }
      ]
    },
    {
      "cell_type": "code",
      "metadata": {
        "colab": {
          "base_uri": "https://localhost:8080/",
          "height": 435
        },
        "id": "JlphVNhk7ils",
        "outputId": "a8e7dad0-a808-4d28-bebb-f67d91d73e09"
      },
      "source": [
        "OR401.logicalTests.WTEQvsPREC_table(0.2,0.5)"
      ],
      "execution_count": null,
      "outputs": [
        {
          "output_type": "execute_result",
          "data": {
            "text/html": [
              "<div>\n",
              "<style scoped>\n",
              "    .dataframe tbody tr th:only-of-type {\n",
              "        vertical-align: middle;\n",
              "    }\n",
              "\n",
              "    .dataframe tbody tr th {\n",
              "        vertical-align: top;\n",
              "    }\n",
              "\n",
              "    .dataframe thead th {\n",
              "        text-align: right;\n",
              "    }\n",
              "</style>\n",
              "<table border=\"1\" class=\"dataframe\">\n",
              "  <thead>\n",
              "    <tr style=\"text-align: right;\">\n",
              "      <th></th>\n",
              "      <th>WTEQ (in)</th>\n",
              "      <th>PREC (in)</th>\n",
              "      <th>water_year</th>\n",
              "      <th>Precip Increment - Calculated (in)</th>\n",
              "      <th>WTEQ - Increment (in)</th>\n",
              "    </tr>\n",
              "    <tr>\n",
              "      <th>Date</th>\n",
              "      <th></th>\n",
              "      <th></th>\n",
              "      <th></th>\n",
              "      <th></th>\n",
              "      <th></th>\n",
              "    </tr>\n",
              "  </thead>\n",
              "  <tbody>\n",
              "    <tr>\n",
              "      <th>2020-01-12</th>\n",
              "      <td>1.5</td>\n",
              "      <td>10.5</td>\n",
              "      <td>2020</td>\n",
              "      <td>0.4</td>\n",
              "      <td>0.9</td>\n",
              "    </tr>\n",
              "    <tr>\n",
              "      <th>2018-02-27</th>\n",
              "      <td>3.6</td>\n",
              "      <td>23.8</td>\n",
              "      <td>2018</td>\n",
              "      <td>0.3</td>\n",
              "      <td>0.8</td>\n",
              "    </tr>\n",
              "    <tr>\n",
              "      <th>2019-03-14</th>\n",
              "      <td>11.8</td>\n",
              "      <td>26.0</td>\n",
              "      <td>2019</td>\n",
              "      <td>0.4</td>\n",
              "      <td>0.7</td>\n",
              "    </tr>\n",
              "    <tr>\n",
              "      <th>2018-03-25</th>\n",
              "      <td>5.9</td>\n",
              "      <td>27.4</td>\n",
              "      <td>2018</td>\n",
              "      <td>0.5</td>\n",
              "      <td>0.6</td>\n",
              "    </tr>\n",
              "    <tr>\n",
              "      <th>2019-02-14</th>\n",
              "      <td>6.7</td>\n",
              "      <td>20.8</td>\n",
              "      <td>2019</td>\n",
              "      <td>0.4</td>\n",
              "      <td>0.6</td>\n",
              "    </tr>\n",
              "    <tr>\n",
              "      <th>...</th>\n",
              "      <td>...</td>\n",
              "      <td>...</td>\n",
              "      <td>...</td>\n",
              "      <td>...</td>\n",
              "      <td>...</td>\n",
              "    </tr>\n",
              "    <tr>\n",
              "      <th>2018-02-18</th>\n",
              "      <td>0.9</td>\n",
              "      <td>21.7</td>\n",
              "      <td>2018</td>\n",
              "      <td>0.1</td>\n",
              "      <td>0.2</td>\n",
              "    </tr>\n",
              "    <tr>\n",
              "      <th>2018-01-23</th>\n",
              "      <td>0.9</td>\n",
              "      <td>18.2</td>\n",
              "      <td>2018</td>\n",
              "      <td>0.1</td>\n",
              "      <td>0.2</td>\n",
              "    </tr>\n",
              "    <tr>\n",
              "      <th>2018-02-19</th>\n",
              "      <td>1.1</td>\n",
              "      <td>22.0</td>\n",
              "      <td>2018</td>\n",
              "      <td>0.3</td>\n",
              "      <td>0.2</td>\n",
              "    </tr>\n",
              "    <tr>\n",
              "      <th>2020-01-08</th>\n",
              "      <td>0.5</td>\n",
              "      <td>9.8</td>\n",
              "      <td>2020</td>\n",
              "      <td>0.3</td>\n",
              "      <td>0.2</td>\n",
              "    </tr>\n",
              "    <tr>\n",
              "      <th>2018-02-15</th>\n",
              "      <td>0.2</td>\n",
              "      <td>21.4</td>\n",
              "      <td>2018</td>\n",
              "      <td>0.0</td>\n",
              "      <td>0.2</td>\n",
              "    </tr>\n",
              "  </tbody>\n",
              "</table>\n",
              "<p>62 rows × 5 columns</p>\n",
              "</div>"
            ],
            "text/plain": [
              "            WTEQ (in)  ...  WTEQ - Increment (in)\n",
              "Date                   ...                       \n",
              "2020-01-12        1.5  ...                    0.9\n",
              "2018-02-27        3.6  ...                    0.8\n",
              "2019-03-14       11.8  ...                    0.7\n",
              "2018-03-25        5.9  ...                    0.6\n",
              "2019-02-14        6.7  ...                    0.6\n",
              "...               ...  ...                    ...\n",
              "2018-02-18        0.9  ...                    0.2\n",
              "2018-01-23        0.9  ...                    0.2\n",
              "2018-02-19        1.1  ...                    0.2\n",
              "2020-01-08        0.5  ...                    0.2\n",
              "2018-02-15        0.2  ...                    0.2\n",
              "\n",
              "[62 rows x 5 columns]"
            ]
          },
          "metadata": {
            "tags": []
          },
          "execution_count": 57
        }
      ]
    },
    {
      "cell_type": "code",
      "metadata": {
        "colab": {
          "base_uri": "https://localhost:8080/",
          "height": 77
        },
        "id": "TpZ0m1eq7qf-",
        "outputId": "1dfe11f7-0547-426b-a3fa-7651a713b6be"
      },
      "source": [
        "OR401.logicalTests.precipitationLessThanZero()"
      ],
      "execution_count": null,
      "outputs": [
        {
          "output_type": "execute_result",
          "data": {
            "text/html": [
              "<div>\n",
              "<style scoped>\n",
              "    .dataframe tbody tr th:only-of-type {\n",
              "        vertical-align: middle;\n",
              "    }\n",
              "\n",
              "    .dataframe tbody tr th {\n",
              "        vertical-align: top;\n",
              "    }\n",
              "\n",
              "    .dataframe thead th {\n",
              "        text-align: right;\n",
              "    }\n",
              "</style>\n",
              "<table border=\"1\" class=\"dataframe\">\n",
              "  <thead>\n",
              "    <tr style=\"text-align: right;\">\n",
              "      <th></th>\n",
              "      <th>401:OR:SNTL</th>\n",
              "    </tr>\n",
              "    <tr>\n",
              "      <th>Date</th>\n",
              "      <th></th>\n",
              "    </tr>\n",
              "  </thead>\n",
              "  <tbody>\n",
              "  </tbody>\n",
              "</table>\n",
              "</div>"
            ],
            "text/plain": [
              "Empty DataFrame\n",
              "Columns: [401:OR:SNTL]\n",
              "Index: []"
            ]
          },
          "metadata": {
            "tags": []
          },
          "execution_count": 58
        }
      ]
    },
    {
      "cell_type": "code",
      "metadata": {
        "colab": {
          "base_uri": "https://localhost:8080/",
          "height": 645
        },
        "id": "hMlWWstWcxwN",
        "outputId": "060837e2-23fa-4a7c-92ea-161ac03e415b"
      },
      "source": [
        "OR401.WTEQvsPREC_table(0.3,0.2)"
      ],
      "execution_count": null,
      "outputs": [
        {
          "output_type": "execute_result",
          "data": {
            "text/html": [
              "<div>\n",
              "<style scoped>\n",
              "    .dataframe tbody tr th:only-of-type {\n",
              "        vertical-align: middle;\n",
              "    }\n",
              "\n",
              "    .dataframe tbody tr th {\n",
              "        vertical-align: top;\n",
              "    }\n",
              "\n",
              "    .dataframe thead th {\n",
              "        text-align: right;\n",
              "    }\n",
              "</style>\n",
              "<table border=\"1\" class=\"dataframe\">\n",
              "  <thead>\n",
              "    <tr style=\"text-align: right;\">\n",
              "      <th></th>\n",
              "      <th>WTEQ (in)</th>\n",
              "      <th>PREC (in)</th>\n",
              "      <th>water_year</th>\n",
              "      <th>Precip Increment - Calculated (in)</th>\n",
              "      <th>WTEQ - Increment (in)</th>\n",
              "    </tr>\n",
              "    <tr>\n",
              "      <th>Date</th>\n",
              "      <th></th>\n",
              "      <th></th>\n",
              "      <th></th>\n",
              "      <th></th>\n",
              "      <th></th>\n",
              "    </tr>\n",
              "  </thead>\n",
              "  <tbody>\n",
              "    <tr>\n",
              "      <th>2014-12-29</th>\n",
              "      <td>0.8</td>\n",
              "      <td>18.9</td>\n",
              "      <td>2015</td>\n",
              "      <td>0.2</td>\n",
              "      <td>0.6</td>\n",
              "    </tr>\n",
              "    <tr>\n",
              "      <th>2020-02-17</th>\n",
              "      <td>5.0</td>\n",
              "      <td>20.0</td>\n",
              "      <td>2020</td>\n",
              "      <td>0.2</td>\n",
              "      <td>0.5</td>\n",
              "    </tr>\n",
              "    <tr>\n",
              "      <th>2014-02-22</th>\n",
              "      <td>7.0</td>\n",
              "      <td>20.7</td>\n",
              "      <td>2014</td>\n",
              "      <td>0.2</td>\n",
              "      <td>0.5</td>\n",
              "    </tr>\n",
              "    <tr>\n",
              "      <th>2018-04-14</th>\n",
              "      <td>4.9</td>\n",
              "      <td>30.2</td>\n",
              "      <td>2018</td>\n",
              "      <td>0.2</td>\n",
              "      <td>0.5</td>\n",
              "    </tr>\n",
              "    <tr>\n",
              "      <th>2014-02-21</th>\n",
              "      <td>6.5</td>\n",
              "      <td>20.5</td>\n",
              "      <td>2014</td>\n",
              "      <td>0.2</td>\n",
              "      <td>0.4</td>\n",
              "    </tr>\n",
              "    <tr>\n",
              "      <th>2017-03-02</th>\n",
              "      <td>15.3</td>\n",
              "      <td>32.3</td>\n",
              "      <td>2017</td>\n",
              "      <td>0.2</td>\n",
              "      <td>0.4</td>\n",
              "    </tr>\n",
              "    <tr>\n",
              "      <th>2015-01-06</th>\n",
              "      <td>2.7</td>\n",
              "      <td>20.4</td>\n",
              "      <td>2015</td>\n",
              "      <td>0.2</td>\n",
              "      <td>0.4</td>\n",
              "    </tr>\n",
              "    <tr>\n",
              "      <th>2017-11-19</th>\n",
              "      <td>1.3</td>\n",
              "      <td>8.8</td>\n",
              "      <td>2018</td>\n",
              "      <td>0.1</td>\n",
              "      <td>0.4</td>\n",
              "    </tr>\n",
              "    <tr>\n",
              "      <th>2019-02-18</th>\n",
              "      <td>7.6</td>\n",
              "      <td>21.6</td>\n",
              "      <td>2019</td>\n",
              "      <td>0.1</td>\n",
              "      <td>0.4</td>\n",
              "    </tr>\n",
              "    <tr>\n",
              "      <th>2017-01-03</th>\n",
              "      <td>8.4</td>\n",
              "      <td>20.4</td>\n",
              "      <td>2017</td>\n",
              "      <td>0.2</td>\n",
              "      <td>0.3</td>\n",
              "    </tr>\n",
              "    <tr>\n",
              "      <th>2017-01-23</th>\n",
              "      <td>11.0</td>\n",
              "      <td>24.2</td>\n",
              "      <td>2017</td>\n",
              "      <td>0.2</td>\n",
              "      <td>0.3</td>\n",
              "    </tr>\n",
              "    <tr>\n",
              "      <th>2017-02-21</th>\n",
              "      <td>14.0</td>\n",
              "      <td>30.7</td>\n",
              "      <td>2017</td>\n",
              "      <td>0.2</td>\n",
              "      <td>0.3</td>\n",
              "    </tr>\n",
              "    <tr>\n",
              "      <th>2019-02-22</th>\n",
              "      <td>8.3</td>\n",
              "      <td>22.2</td>\n",
              "      <td>2019</td>\n",
              "      <td>0.2</td>\n",
              "      <td>0.3</td>\n",
              "    </tr>\n",
              "    <tr>\n",
              "      <th>2019-02-24</th>\n",
              "      <td>8.4</td>\n",
              "      <td>22.4</td>\n",
              "      <td>2019</td>\n",
              "      <td>0.2</td>\n",
              "      <td>0.3</td>\n",
              "    </tr>\n",
              "    <tr>\n",
              "      <th>2019-03-09</th>\n",
              "      <td>11.0</td>\n",
              "      <td>25.3</td>\n",
              "      <td>2019</td>\n",
              "      <td>0.1</td>\n",
              "      <td>0.3</td>\n",
              "    </tr>\n",
              "    <tr>\n",
              "      <th>2016-12-03</th>\n",
              "      <td>1.6</td>\n",
              "      <td>13.0</td>\n",
              "      <td>2017</td>\n",
              "      <td>0.2</td>\n",
              "      <td>0.3</td>\n",
              "    </tr>\n",
              "    <tr>\n",
              "      <th>2018-01-27</th>\n",
              "      <td>1.7</td>\n",
              "      <td>19.4</td>\n",
              "      <td>2018</td>\n",
              "      <td>0.1</td>\n",
              "      <td>0.3</td>\n",
              "    </tr>\n",
              "    <tr>\n",
              "      <th>2014-02-08</th>\n",
              "      <td>1.8</td>\n",
              "      <td>13.0</td>\n",
              "      <td>2014</td>\n",
              "      <td>0.2</td>\n",
              "      <td>0.3</td>\n",
              "    </tr>\n",
              "    <tr>\n",
              "      <th>2020-01-10</th>\n",
              "      <td>0.6</td>\n",
              "      <td>10.0</td>\n",
              "      <td>2020</td>\n",
              "      <td>0.2</td>\n",
              "      <td>0.3</td>\n",
              "    </tr>\n",
              "  </tbody>\n",
              "</table>\n",
              "</div>"
            ],
            "text/plain": [
              "            WTEQ (in)  ...  WTEQ - Increment (in)\n",
              "Date                   ...                       \n",
              "2014-12-29        0.8  ...                    0.6\n",
              "2020-02-17        5.0  ...                    0.5\n",
              "2014-02-22        7.0  ...                    0.5\n",
              "2018-04-14        4.9  ...                    0.5\n",
              "2014-02-21        6.5  ...                    0.4\n",
              "2017-03-02       15.3  ...                    0.4\n",
              "2015-01-06        2.7  ...                    0.4\n",
              "2017-11-19        1.3  ...                    0.4\n",
              "2019-02-18        7.6  ...                    0.4\n",
              "2017-01-03        8.4  ...                    0.3\n",
              "2017-01-23       11.0  ...                    0.3\n",
              "2017-02-21       14.0  ...                    0.3\n",
              "2019-02-22        8.3  ...                    0.3\n",
              "2019-02-24        8.4  ...                    0.3\n",
              "2019-03-09       11.0  ...                    0.3\n",
              "2016-12-03        1.6  ...                    0.3\n",
              "2018-01-27        1.7  ...                    0.3\n",
              "2014-02-08        1.8  ...                    0.3\n",
              "2020-01-10        0.6  ...                    0.3\n",
              "\n",
              "[19 rows x 5 columns]"
            ]
          },
          "metadata": {
            "tags": []
          },
          "execution_count": 21
        }
      ]
    },
    {
      "cell_type": "code",
      "metadata": {
        "id": "TTDTfPIeilK-"
      },
      "source": [
        ""
      ],
      "execution_count": null,
      "outputs": []
    }
  ]
}